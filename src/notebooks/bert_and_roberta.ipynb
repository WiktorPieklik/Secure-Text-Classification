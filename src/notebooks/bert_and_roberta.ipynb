{
  "cells": [
    {
      "cell_type": "markdown",
      "metadata": {
        "id": "37Q65edino34"
      },
      "source": [
        "#Loading dataset"
      ]
    },
    {
      "cell_type": "code",
      "source": [
        "from google.colab import drive\n",
        "drive.mount('/content/drive')"
      ],
      "metadata": {
        "colab": {
          "base_uri": "https://localhost:8080/"
        },
        "id": "eDNtfUNqWCCu",
        "outputId": "383c1f5e-092f-4d39-80fd-0cf41d3dc907"
      },
      "execution_count": 2,
      "outputs": [
        {
          "output_type": "stream",
          "name": "stdout",
          "text": [
            "Mounted at /content/drive\n"
          ]
        }
      ]
    },
    {
      "cell_type": "code",
      "execution_count": 3,
      "metadata": {
        "colab": {
          "base_uri": "https://localhost:8080/",
          "height": 1000,
          "referenced_widgets": [
            "09748a95fa2646309bdf823920109152",
            "095a0ee5fbfc49ed90eafb2370bd7a1b",
            "13cc599e7d3e474eb4341acce04a278f",
            "6276bab44ab242b3bc66b794074d560d",
            "d7f6e356f0e84e28a8c0375675e3b167",
            "cc891aad4c69406f95487196411aa68b",
            "7f6d6e4773d3470c8b22b1051715a0f5",
            "7172ac3c47b14d71a0f6afcdfb7c3842",
            "a11615c30747415c884c06cefb2e6178",
            "befcaee8c1ec4b9e8da9571fc73191ee",
            "362af4d0241b42eeb8ed6a8983ea0fef",
            "90205f0032c84455817c2898a3f4b416",
            "8bd37e4f05da4a2d8af6de6c0c0b0e10",
            "fe1f5cf5d6bb4b0ba863b9749757bdee",
            "9da25b171f7f4e218596a1871f7d0251",
            "ef6a246a8efb466dab0add1779fb5f5a",
            "71f26c6b9e0a4284856e9d85b534298e",
            "2bbf00aad0184a8dbd550364e67303d1",
            "40ff7af6be7c4a709185f3410cbd2175",
            "28b363e10fb74abe85b8f887583f1e4b",
            "ffd3cddf042e4f568c55ed1ec443b1cb",
            "dd6c98f15d2e4cd98a625a7f5b084918",
            "671ebbdfccfb420783bdb46cdcd1cdae",
            "12c0137974f749e58eb8c303adc36478",
            "af61ffebc0db4ce6a18741f8b0f16fb5",
            "f5877f5745a14fb1aad169162541b485",
            "562c94f941fe44cfb1ebeb364c837b95",
            "dd6ef78537d0445eb244541c27492d8c",
            "c798232e76d94ac9a904652877f44226",
            "4c854aa377094e199b51f4ce68330110",
            "74be11a71ace4db0ab971afe1025bf1c",
            "64719a86872347cea651f68dd0a50b89",
            "834bdfd7dbbb480db327e0cdac48b110"
          ]
        },
        "id": "B0iqx_LwbDA3",
        "outputId": "6b59d50f-9d46-4ff1-d65c-d8a5c8bbdb8c"
      },
      "outputs": [
        {
          "output_type": "stream",
          "name": "stdout",
          "text": [
            "Looking in indexes: https://pypi.org/simple, https://us-python.pkg.dev/colab-wheels/public/simple/\n",
            "Collecting transformers\n",
            "  Downloading transformers-4.26.0-py3-none-any.whl (6.3 MB)\n",
            "\u001b[2K     \u001b[90m━━━━━━━━━━━━━━━━━━━━━━━━━━━━━━━━━━━━━━━━\u001b[0m \u001b[32m6.3/6.3 MB\u001b[0m \u001b[31m27.7 MB/s\u001b[0m eta \u001b[36m0:00:00\u001b[0m\n",
            "\u001b[?25hCollecting huggingface-hub<1.0,>=0.11.0\n",
            "  Downloading huggingface_hub-0.12.0-py3-none-any.whl (190 kB)\n",
            "\u001b[2K     \u001b[90m━━━━━━━━━━━━━━━━━━━━━━━━━━━━━━━━━━━━━━\u001b[0m \u001b[32m190.3/190.3 KB\u001b[0m \u001b[31m24.0 MB/s\u001b[0m eta \u001b[36m0:00:00\u001b[0m\n",
            "\u001b[?25hRequirement already satisfied: tqdm>=4.27 in /usr/local/lib/python3.8/dist-packages (from transformers) (4.64.1)\n",
            "Requirement already satisfied: filelock in /usr/local/lib/python3.8/dist-packages (from transformers) (3.9.0)\n",
            "Requirement already satisfied: requests in /usr/local/lib/python3.8/dist-packages (from transformers) (2.25.1)\n",
            "Requirement already satisfied: pyyaml>=5.1 in /usr/local/lib/python3.8/dist-packages (from transformers) (6.0)\n",
            "Requirement already satisfied: regex!=2019.12.17 in /usr/local/lib/python3.8/dist-packages (from transformers) (2022.6.2)\n",
            "Collecting tokenizers!=0.11.3,<0.14,>=0.11.1\n",
            "  Downloading tokenizers-0.13.2-cp38-cp38-manylinux_2_17_x86_64.manylinux2014_x86_64.whl (7.6 MB)\n",
            "\u001b[2K     \u001b[90m━━━━━━━━━━━━━━━━━━━━━━━━━━━━━━━━━━━━━━━━\u001b[0m \u001b[32m7.6/7.6 MB\u001b[0m \u001b[31m114.5 MB/s\u001b[0m eta \u001b[36m0:00:00\u001b[0m\n",
            "\u001b[?25hRequirement already satisfied: packaging>=20.0 in /usr/local/lib/python3.8/dist-packages (from transformers) (21.3)\n",
            "Requirement already satisfied: numpy>=1.17 in /usr/local/lib/python3.8/dist-packages (from transformers) (1.21.6)\n",
            "Requirement already satisfied: typing-extensions>=3.7.4.3 in /usr/local/lib/python3.8/dist-packages (from huggingface-hub<1.0,>=0.11.0->transformers) (4.4.0)\n",
            "Requirement already satisfied: pyparsing!=3.0.5,>=2.0.2 in /usr/local/lib/python3.8/dist-packages (from packaging>=20.0->transformers) (3.0.9)\n",
            "Requirement already satisfied: certifi>=2017.4.17 in /usr/local/lib/python3.8/dist-packages (from requests->transformers) (2022.12.7)\n",
            "Requirement already satisfied: idna<3,>=2.5 in /usr/local/lib/python3.8/dist-packages (from requests->transformers) (2.10)\n",
            "Requirement already satisfied: chardet<5,>=3.0.2 in /usr/local/lib/python3.8/dist-packages (from requests->transformers) (4.0.0)\n",
            "Requirement already satisfied: urllib3<1.27,>=1.21.1 in /usr/local/lib/python3.8/dist-packages (from requests->transformers) (1.24.3)\n",
            "Installing collected packages: tokenizers, huggingface-hub, transformers\n",
            "Successfully installed huggingface-hub-0.12.0 tokenizers-0.13.2 transformers-4.26.0\n",
            "Looking in indexes: https://pypi.org/simple, https://us-python.pkg.dev/colab-wheels/public/simple/\n",
            "Requirement already satisfied: jax in /usr/local/lib/python3.8/dist-packages (0.3.25)\n",
            "Requirement already satisfied: typing-extensions in /usr/local/lib/python3.8/dist-packages (from jax) (4.4.0)\n",
            "Requirement already satisfied: opt-einsum in /usr/local/lib/python3.8/dist-packages (from jax) (3.3.0)\n",
            "Requirement already satisfied: scipy>=1.5 in /usr/local/lib/python3.8/dist-packages (from jax) (1.7.3)\n",
            "Requirement already satisfied: numpy>=1.20 in /usr/local/lib/python3.8/dist-packages (from jax) (1.21.6)\n"
          ]
        },
        {
          "output_type": "display_data",
          "data": {
            "text/plain": [
              "Downloading (…)solve/main/vocab.txt:   0%|          | 0.00/213k [00:00<?, ?B/s]"
            ],
            "application/vnd.jupyter.widget-view+json": {
              "version_major": 2,
              "version_minor": 0,
              "model_id": "09748a95fa2646309bdf823920109152"
            }
          },
          "metadata": {}
        },
        {
          "output_type": "display_data",
          "data": {
            "text/plain": [
              "Downloading (…)okenizer_config.json:   0%|          | 0.00/29.0 [00:00<?, ?B/s]"
            ],
            "application/vnd.jupyter.widget-view+json": {
              "version_major": 2,
              "version_minor": 0,
              "model_id": "90205f0032c84455817c2898a3f4b416"
            }
          },
          "metadata": {}
        },
        {
          "output_type": "display_data",
          "data": {
            "text/plain": [
              "Downloading (…)lve/main/config.json:   0%|          | 0.00/570 [00:00<?, ?B/s]"
            ],
            "application/vnd.jupyter.widget-view+json": {
              "version_major": 2,
              "version_minor": 0,
              "model_id": "671ebbdfccfb420783bdb46cdcd1cdae"
            }
          },
          "metadata": {}
        },
        {
          "output_type": "display_data",
          "data": {
            "text/plain": [
              "<Figure size 432x288 with 1 Axes>"
            ],
            "image/png": "[encoded data removed]"
          },
          "metadata": {
            "needs_background": "light"
          }
        }
      ],
      "source": [
        "!pip install transformers\n",
        "!pip install jax\n",
        "import pandas as pd\n",
        "import torch\n",
        "import numpy as np\n",
        "from transformers import BertTokenizer, BertModel\n",
        "from torch import nn\n",
        "from torch.optim import Adam\n",
        "from tqdm import tqdm\n",
        "\n",
        "bert_checkpoint = 'bert-base-cased'\n",
        "roberta_checkpoint = 'roberta-base'\n",
        "\n",
        "checkpoint = bert_checkpoint\n",
        "\n",
        "datapath = \"/content/drive/MyDrive/Colab Notebooks/bbc_train.csv\"\n",
        "df = pd.read_csv(datapath)\n",
        "df.groupby(['category']).size().plot.bar()\n",
        "tokenizer = BertTokenizer.from_pretrained(checkpoint)\n",
        "\n",
        "labels = {'business':0,\n",
        "          'sport':1,\n",
        "          'politics':2\n",
        "          # 'entertainment':3,\n",
        "          # 'tech':4,\n",
        "          }"
      ]
    },
    {
      "cell_type": "code",
      "execution_count": 4,
      "metadata": {
        "colab": {
          "base_uri": "https://localhost:8080/",
          "height": 206
        },
        "id": "UZKJQkKA87rt",
        "outputId": "67d6cb5b-fc33-4be2-f6cb-71ece6e71f08"
      },
      "outputs": [
        {
          "output_type": "execute_result",
          "data": {
            "text/plain": [
              "   id                                title  \\\n",
              "0   0  Ad sales boost Time Warner profit\\n   \n",
              "1   1   Dollar gains on Greenspan speech\\n   \n",
              "2   2  Yukos unit buyer faces loan claim\\n   \n",
              "3   3  High fuel prices hit BA's profits\\n   \n",
              "4   4  Pernod takeover talk lifts Domecq\\n   \n",
              "\n",
              "                                                text  category  \n",
              "0  Quarterly profits at US media giant TimeWarner...  business  \n",
              "1  The dollar has hit its highest level against t...  business  \n",
              "2  The owners of embattled Russian oil giant Yuko...  business  \n",
              "3  British Airways has blamed high fuel prices fo...  business  \n",
              "4  Shares in UK drinks and food firm Allied Domec...  business  "
            ],
            "text/html": [
              "\n",
              "  <div id=\"df-e77c58e4-6891-4346-906e-e1666508a841\">\n",
              "    <div class=\"colab-df-container\">\n",
              "      <div>\n",
              "<style scoped>\n",
              "    .dataframe tbody tr th:only-of-type {\n",
              "        vertical-align: middle;\n",
              "    }\n",
              "\n",
              "    .dataframe tbody tr th {\n",
              "        vertical-align: top;\n",
              "    }\n",
              "\n",
              "    .dataframe thead th {\n",
              "        text-align: right;\n",
              "    }\n",
              "</style>\n",
              "<table border=\"1\" class=\"dataframe\">\n",
              "  <thead>\n",
              "    <tr style=\"text-align: right;\">\n",
              "      <th></th>\n",
              "      <th>id</th>\n",
              "      <th>title</th>\n",
              "      <th>text</th>\n",
              "      <th>category</th>\n",
              "    </tr>\n",
              "  </thead>\n",
              "  <tbody>\n",
              "    <tr>\n",
              "      <th>0</th>\n",
              "      <td>0</td>\n",
              "      <td>Ad sales boost Time Warner profit\\n</td>\n",
              "      <td>Quarterly profits at US media giant TimeWarner...</td>\n",
              "      <td>business</td>\n",
              "    </tr>\n",
              "    <tr>\n",
              "      <th>1</th>\n",
              "      <td>1</td>\n",
              "      <td>Dollar gains on Greenspan speech\\n</td>\n",
              "      <td>The dollar has hit its highest level against t...</td>\n",
              "      <td>business</td>\n",
              "    </tr>\n",
              "    <tr>\n",
              "      <th>2</th>\n",
              "      <td>2</td>\n",
              "      <td>Yukos unit buyer faces loan claim\\n</td>\n",
              "      <td>The owners of embattled Russian oil giant Yuko...</td>\n",
              "      <td>business</td>\n",
              "    </tr>\n",
              "    <tr>\n",
              "      <th>3</th>\n",
              "      <td>3</td>\n",
              "      <td>High fuel prices hit BA's profits\\n</td>\n",
              "      <td>British Airways has blamed high fuel prices fo...</td>\n",
              "      <td>business</td>\n",
              "    </tr>\n",
              "    <tr>\n",
              "      <th>4</th>\n",
              "      <td>4</td>\n",
              "      <td>Pernod takeover talk lifts Domecq\\n</td>\n",
              "      <td>Shares in UK drinks and food firm Allied Domec...</td>\n",
              "      <td>business</td>\n",
              "    </tr>\n",
              "  </tbody>\n",
              "</table>\n",
              "</div>\n",
              "      <button class=\"colab-df-convert\" onclick=\"convertToInteractive('df-e77c58e4-6891-4346-906e-e1666508a841')\"\n",
              "              title=\"Convert this dataframe to an interactive table.\"\n",
              "              style=\"display:none;\">\n",
              "        \n",
              "  <svg xmlns=\"http://www.w3.org/2000/svg\" height=\"24px\"viewBox=\"0 0 24 24\"\n",
              "       width=\"24px\">\n",
              "    <path d=\"M0 0h24v24H0V0z\" fill=\"none\"/>\n",
              "    <path d=\"M18.56 5.44l.94 2.06.94-2.06 2.06-.94-2.06-.94-.94-2.06-.94 2.06-2.06.94zm-11 1L8.5 8.5l.94-2.06 2.06-.94-2.06-.94L8.5 2.5l-.94 2.06-2.06.94zm10 10l.94 2.06.94-2.06 2.06-.94-2.06-.94-.94-2.06-.94 2.06-2.06.94z\"/><path d=\"M17.41 7.96l-1.37-1.37c-.4-.4-.92-.59-1.43-.59-.52 0-1.04.2-1.43.59L10.3 9.45l-7.72 7.72c-.78.78-.78 2.05 0 2.83L4 21.41c.39.39.9.59 1.41.59.51 0 1.02-.2 1.41-.59l7.78-7.78 2.81-2.81c.8-.78.8-2.07 0-2.86zM5.41 20L4 18.59l7.72-7.72 1.47 1.35L5.41 20z\"/>\n",
              "  </svg>\n",
              "      </button>\n",
              "      \n",
              "  <style>\n",
              "    .colab-df-container {\n",
              "      display:flex;\n",
              "      flex-wrap:wrap;\n",
              "      gap: 12px;\n",
              "    }\n",
              "\n",
              "    .colab-df-convert {\n",
              "      background-color: #E8F0FE;\n",
              "      border: none;\n",
              "      border-radius: 50%;\n",
              "      cursor: pointer;\n",
              "      display: none;\n",
              "      fill: #1967D2;\n",
              "      height: 32px;\n",
              "      padding: 0 0 0 0;\n",
              "      width: 32px;\n",
              "    }\n",
              "\n",
              "    .colab-df-convert:hover {\n",
              "      background-color: #E2EBFA;\n",
              "      box-shadow: 0px 1px 2px rgba(60, 64, 67, 0.3), 0px 1px 3px 1px rgba(60, 64, 67, 0.15);\n",
              "      fill: #174EA6;\n",
              "    }\n",
              "\n",
              "    [theme=dark] .colab-df-convert {\n",
              "      background-color: #3B4455;\n",
              "      fill: #D2E3FC;\n",
              "    }\n",
              "\n",
              "    [theme=dark] .colab-df-convert:hover {\n",
              "      background-color: #434B5C;\n",
              "      box-shadow: 0px 1px 3px 1px rgba(0, 0, 0, 0.15);\n",
              "      filter: drop-shadow(0px 1px 2px rgba(0, 0, 0, 0.3));\n",
              "      fill: #FFFFFF;\n",
              "    }\n",
              "  </style>\n",
              "\n",
              "      <script>\n",
              "        const buttonEl =\n",
              "          document.querySelector('#df-e77c58e4-6891-4346-906e-e1666508a841 button.colab-df-convert');\n",
              "        buttonEl.style.display =\n",
              "          google.colab.kernel.accessAllowed ? 'block' : 'none';\n",
              "\n",
              "        async function convertToInteractive(key) {\n",
              "          const element = document.querySelector('#df-e77c58e4-6891-4346-906e-e1666508a841');\n",
              "          const dataTable =\n",
              "            await google.colab.kernel.invokeFunction('convertToInteractive',\n",
              "                                                     [key], {});\n",
              "          if (!dataTable) return;\n",
              "\n",
              "          const docLinkHtml = 'Like what you see? Visit the ' +\n",
              "            '<a target=\"_blank\" href=https://colab.research.google.com/notebooks/data_table.ipynb>data table notebook</a>'\n",
              "            + ' to learn more about interactive tables.';\n",
              "          element.innerHTML = '';\n",
              "          dataTable['output_type'] = 'display_data';\n",
              "          await google.colab.output.renderOutput(dataTable, element);\n",
              "          const docLink = document.createElement('div');\n",
              "          docLink.innerHTML = docLinkHtml;\n",
              "          element.appendChild(docLink);\n",
              "        }\n",
              "      </script>\n",
              "    </div>\n",
              "  </div>\n",
              "  "
            ]
          },
          "metadata": {},
          "execution_count": 4
        }
      ],
      "source": [
        "df.head()"
      ]
    },
    {
      "cell_type": "markdown",
      "metadata": {
        "id": "MxyiogPVnmDk"
      },
      "source": [
        "#Dataset class"
      ]
    },
    {
      "cell_type": "code",
      "execution_count": 5,
      "metadata": {
        "id": "_jQmrfsmqgfl"
      },
      "outputs": [],
      "source": [
        "class Dataset(torch.utils.data.Dataset):\n",
        "\n",
        "    def __init__(self, df):\n",
        "\n",
        "        self.labels = [labels[label] for label in df['category']]\n",
        "        self.texts = [tokenizer(text, \n",
        "                               padding='max_length', max_length = 256, truncation=True,\n",
        "                                return_tensors=\"pt\") for text in df['text']]\n",
        "\n",
        "    def classes(self):\n",
        "        return self.labels\n",
        "\n",
        "    def __len__(self):\n",
        "        return len(self.labels)\n",
        "\n",
        "    def get_batch_labels(self, idx):\n",
        "        # Fetch a batch of labels\n",
        "        return np.array(self.labels[idx])\n",
        "\n",
        "    def get_batch_texts(self, idx):\n",
        "        # Fetch a batch of inputs\n",
        "        return self.texts[idx]\n",
        "\n",
        "    def __getitem__(self, idx):\n",
        "\n",
        "        batch_texts = self.get_batch_texts(idx)\n",
        "        batch_y = self.get_batch_labels(idx)\n",
        "\n",
        "        return batch_texts, batch_y\n"
      ]
    },
    {
      "cell_type": "code",
      "execution_count": 6,
      "metadata": {
        "colab": {
          "base_uri": "https://localhost:8080/"
        },
        "id": "aFT7hscwN3_3",
        "outputId": "f9f9f52b-d29a-432d-dda7-b25d927cfc9d"
      },
      "outputs": [
        {
          "output_type": "stream",
          "name": "stdout",
          "text": [
            "Looking in indexes: https://pypi.org/simple, https://us-python.pkg.dev/colab-wheels/public/simple/\n",
            "Collecting torchmetrics\n",
            "  Downloading torchmetrics-0.11.1-py3-none-any.whl (517 kB)\n",
            "\u001b[2K     \u001b[90m━━━━━━━━━━━━━━━━━━━━━━━━━━━━━━━━━━━━━━\u001b[0m \u001b[32m517.2/517.2 KB\u001b[0m \u001b[31m30.9 MB/s\u001b[0m eta \u001b[36m0:00:00\u001b[0m\n",
            "\u001b[?25hRequirement already satisfied: numpy>=1.17.2 in /usr/local/lib/python3.8/dist-packages (from torchmetrics) (1.21.6)\n",
            "Requirement already satisfied: torch>=1.8.1 in /usr/local/lib/python3.8/dist-packages (from torchmetrics) (1.13.1+cu116)\n",
            "Requirement already satisfied: packaging in /usr/local/lib/python3.8/dist-packages (from torchmetrics) (21.3)\n",
            "Requirement already satisfied: typing-extensions in /usr/local/lib/python3.8/dist-packages (from torchmetrics) (4.4.0)\n",
            "Requirement already satisfied: pyparsing!=3.0.5,>=2.0.2 in /usr/local/lib/python3.8/dist-packages (from packaging->torchmetrics) (3.0.9)\n",
            "Installing collected packages: torchmetrics\n",
            "Successfully installed torchmetrics-0.11.1\n"
          ]
        }
      ],
      "source": [
        "!pip install torchmetrics"
      ]
    },
    {
      "cell_type": "markdown",
      "metadata": {
        "id": "WtX6AlPAnP50"
      },
      "source": [
        "#Model definition + train and eval functions definition"
      ]
    },
    {
      "cell_type": "code",
      "execution_count": 7,
      "metadata": {
        "id": "7pecW3opo6k3"
      },
      "outputs": [],
      "source": [
        "from transformers import BertTokenizer, BertModel, AutoModelForSequenceClassification\n",
        "from torch import nn\n",
        "import torch.nn.functional as F\n",
        "from torchmetrics.classification import MulticlassF1Score, MulticlassAUROC, MulticlassRecall, MulticlassPrecision\n",
        "class TextClassifier(nn.Module): \n",
        "\n",
        "    def __init__(self, checkpoint, num_of_classes, dropout=0.5):\n",
        "\n",
        "        super(TextClassifier, self).__init__()\n",
        "\n",
        "        self.bert = AutoModelForSequenceClassification.from_pretrained(checkpoint,\n",
        "                                                                     num_labels=num_of_classes)\n",
        "        self.num_of_labels = num_of_classes\n",
        "\n",
        "    def forward(self, input_id, mask, labels):\n",
        "\n",
        "        pooled_output = self.bert(input_ids=input_id, attention_mask=mask,\n",
        "                                  labels=labels, return_dict=True)\n",
        "\n",
        "        return pooled_output"
      ]
    },
    {
      "cell_type": "code",
      "source": [
        "def train(model, train_data, val_data, learning_rate, epochs, train_batch_size, val_batch_size):\n",
        "\n",
        "    train, val = Dataset(train_data), Dataset(val_data)\n",
        "\n",
        "    train_dataloader = torch.utils.data.DataLoader(train, batch_size=train_batch_size, shuffle=True)\n",
        "\n",
        "    val_dataloader = torch.utils.data.DataLoader(val, batch_size=val_batch_size, shuffle=True)\n",
        "\n",
        "    use_cuda = torch.cuda.is_available()\n",
        "    device = torch.device(\"cuda\" if use_cuda else \"cpu\")\n",
        "\n",
        "    criterion = nn.CrossEntropyLoss()\n",
        "    optimizer = Adam(model.parameters(), lr= learning_rate)\n",
        "\n",
        "    if use_cuda:\n",
        "\n",
        "            model = model.cuda()\n",
        "            criterion = criterion.cuda()\n",
        "\n",
        "    for epoch_num in range(epochs):\n",
        "\n",
        "            total_acc_train = 0\n",
        "            total_loss_train = 0\n",
        "            total_auc_train = 0\n",
        "            total_recall_train = 0\n",
        "            total_precision_train = 0\n",
        "            total_f1_train = 0\n",
        "            probabilities_list = []\n",
        "            logits_list = []\n",
        "            train_label_list=[]\n",
        "\n",
        "            for train_input, train_label in tqdm(train_dataloader):\n",
        "\n",
        "                train_label = train_label.to(device)\n",
        "                train_label_list.append(train_label)\n",
        "\n",
        "                mask = train_input['attention_mask'].to(device)\n",
        "                input_id = train_input['input_ids'].squeeze(1).to(device)\n",
        "\n",
        "                output = model(input_id, mask, train_label)\n",
        "             \n",
        "                logits_list.append(output.logits)\n",
        "                probabilities = F.softmax(output.logits, dim=1)\n",
        "                probabilities_list.append(probabilities)\n",
        "\n",
        "                loss = criterion(probabilities, train_label.long())\n",
        "                \n",
        "                (predictions, predictions_indicies) = torch.max(probabilities,dim=1)\n",
        "\n",
        "                metric_aucroc = MulticlassAUROC(num_classes=model.num_of_labels).to(device)\n",
        "                auroc = metric_aucroc(preds=probabilities, target=train_label,)\n",
        "\n",
        "                metric_recall = MulticlassRecall(num_classes=model.num_of_labels).to(device)\n",
        "                recall = metric_recall(preds=probabilities, target=train_label)\n",
        "                \n",
        "                metric_precision = MulticlassPrecision(num_classes=model.num_of_labels).to(device)\n",
        "                precision = metric_precision(preds=probabilities, target=train_label)\n",
        "               \n",
        "                total_loss_train += loss\n",
        "              \n",
        "                acc = (predictions_indicies == train_label).sum().item()\n",
        "                total_acc_train += acc/train_label.size(dim=0)\n",
        "\n",
        "                total_auc_train += auroc\n",
        "                total_recall_train += recall\n",
        "                total_precision_train += precision\n",
        "          \n",
        "\n",
        "                model.zero_grad()\n",
        "                loss.backward()\n",
        "                optimizer.step()\n",
        "            \n",
        "            total_acc_val = 0\n",
        "            total_loss_val = 0\n",
        "            total_recall_val = 0\n",
        "            total_precision_val = 0\n",
        "            total_auc_val = 0\n",
        "\n",
        "            with torch.no_grad():\n",
        "\n",
        "                for val_input, val_label in val_dataloader:\n",
        "\n",
        "                    val_label = val_label.to(device)\n",
        "                    mask = val_input['attention_mask'].to(device)\n",
        "                    input_id = val_input['input_ids'].squeeze(1).to(device)\n",
        "\n",
        "                    output = model(input_id, mask, val_label)\n",
        "                   \n",
        "                    probabilities = F.softmax(output.logits, dim=1)\n",
        "\n",
        "                    loss = criterion(probabilities, val_label.long())\n",
        "                   \n",
        "                    (predictions, predictions_indicies) = torch.max(probabilities, dim=1)\n",
        "\n",
        "                    metric_aucroc = MulticlassAUROC(num_classes=model.num_of_labels).to(device)\n",
        "                    auroc = metric_aucroc(preds=probabilities, target=val_label)\n",
        "\n",
        "                    metric_recall = MulticlassRecall(num_classes=model.num_of_labels).to(device)\n",
        "                    recall = metric_recall(preds=probabilities, target=val_label)\n",
        "                  \n",
        "                    metric_precision = MulticlassPrecision(num_classes=model.num_of_labels).to(device)\n",
        "                    precision = metric_precision(preds=probabilities, target=val_label)\n",
        "\n",
        "                    total_loss_val += loss\n",
        "                  \n",
        "                    acc = (predictions_indicies == val_label).sum().item()\n",
        "                    total_acc_val += acc/val_label.size(dim=0)\n",
        "\n",
        "                    total_auc_val += auroc\n",
        "                    total_recall_val += recall\n",
        "                    total_precision_val += precision\n",
        "              \n",
        "\n",
        "            print(f\"Epochs: {epoch_num + 1} | Train Accuracy: {total_acc_train / len(train_dataloader): .3f} | Train Loss: {total_loss_train / len(train_dataloader): .3f} | Train Recall: {total_recall_train / len(train_dataloader): .3f} | Train Precision: {total_precision_train / len(train_dataloader): .3f} | Train AUC: {total_auc_train/ len(train_dataloader): .3f} | Val Accuracy: {total_acc_val / len(val_dataloader): .3f} | Val Loss: {total_loss_val / len(val_dataloader): .3f} | Val Recall: {total_recall_val / len(val_dataloader): .3f} | Val Precision: {total_precision_val / len(val_dataloader): .3f} | Val AUC: {total_auc_val/ len(val_dataloader): .3f} \")\n",
        "          \n",
        "    return probabilities_list, logits_list, train_label_list"
      ],
      "metadata": {
        "id": "l31MqedSAloM"
      },
      "execution_count": 8,
      "outputs": []
    },
    {
      "cell_type": "code",
      "source": [
        "def evaluate(model, test_data, test_batch_size):\n",
        "\n",
        "    test = Dataset(test_data)\n",
        "\n",
        "    test_dataloader = torch.utils.data.DataLoader(test, batch_size=test_batch_size, shuffle=True)\n",
        "    use_cuda = torch.cuda.is_available()\n",
        "    device = torch.device(\"cuda\" if use_cuda else \"cpu\")\n",
        "\n",
        "    if use_cuda:\n",
        "\n",
        "        model = model.cuda()\n",
        "\n",
        "    total_acc_test = 0\n",
        "    total_auc_test = 0\n",
        "    total_recall_test = 0\n",
        "    total_precision_test = 0\n",
        "\n",
        "    probabilities_list = []\n",
        "    logits_list = []\n",
        "    test_label_list=[]\n",
        "    with torch.no_grad():\n",
        "\n",
        "        for test_input, test_label in test_dataloader:\n",
        "\n",
        "              test_label = test_label.to(device)\n",
        "              test_label_list.append(test_label)\n",
        "              mask = test_input['attention_mask'].to(device)\n",
        "              input_id = test_input['input_ids'].squeeze(1).to(device)\n",
        "\n",
        "              output = model(input_id, mask, test_label)\n",
        "              \n",
        "              logits_list.append(output.logits)\n",
        "              probabilities = F.softmax(output.logits, dim=1)\n",
        "              probabilities_list.append(probabilities)\n",
        "           \n",
        "              (predictions, predictions_indicies) = torch.max(probabilities,dim=1)\n",
        "\n",
        "              metric_aucroc = MulticlassAUROC(num_classes=model.num_of_labels).to(device)\n",
        "              auroc = metric_aucroc(preds=probabilities, target=test_label)\n",
        "\n",
        "              metric_recall = MulticlassRecall(num_classes=model.num_of_labels).to(device)\n",
        "              recall = metric_recall(preds=probabilities, target=test_label)\n",
        "            \n",
        "              metric_precision = MulticlassPrecision(num_classes=model.num_of_labels).to(device)\n",
        "              precision = metric_precision(preds=probabilities, target=test_label)\n",
        "\n",
        "              acc = (predictions_indicies == test_label).sum().item()\n",
        "              total_acc_test += acc/test_label.size(dim=0)\n",
        "\n",
        "              total_auc_test += auroc\n",
        "              total_recall_test += recall\n",
        "              total_precision_test += precision\n",
        "  \n",
        "        print(f\"Test Accuracy: {total_acc_test / len(test_label_list): .3f} | Test Recall: {total_recall_test / len(test_dataloader): .3f} | Test Precision: {total_precision_test / len(test_dataloader): .3f} |Test AUC: {total_auc_test/ len(test_dataloader): .3f}\")\n",
        "  \n",
        "    return probabilities_list, logits_list, test_label_list"
      ],
      "metadata": {
        "id": "73PUVP9wAjCu"
      },
      "execution_count": 9,
      "outputs": []
    },
    {
      "cell_type": "code",
      "execution_count": 10,
      "metadata": {
        "colab": {
          "base_uri": "https://localhost:8080/"
        },
        "id": "jVJrQ_uJKfVc",
        "outputId": "63abbc2e-858e-454d-f983-df8e9fdac1e9"
      },
      "outputs": [
        {
          "output_type": "stream",
          "name": "stdout",
          "text": [
            "1150 144 144\n"
          ]
        }
      ],
      "source": [
        "np.random.seed(42)\n",
        "df_train, df_val, df_test = np.split(df.sample(frac=1, random_state=420), \n",
        "                                     [int(.8*len(df)), int(.9*len(df))])\n",
        "\n",
        "print(len(df_train), len(df_val), len(df_test))"
      ]
    },
    {
      "cell_type": "code",
      "source": [
        "df_train.groupby(['category']).size().plot.bar()"
      ],
      "metadata": {
        "colab": {
          "base_uri": "https://localhost:8080/",
          "height": 330
        },
        "id": "oFFA_nsLOgFC",
        "outputId": "341b17ec-8891-4ec7-9670-46a11148c64e"
      },
      "execution_count": 11,
      "outputs": [
        {
          "output_type": "execute_result",
          "data": {
            "text/plain": [
              "<matplotlib.axes._subplots.AxesSubplot at 0x7f0ad1d44160>"
            ]
          },
          "metadata": {},
          "execution_count": 11
        },
        {
          "output_type": "display_data",
          "data": {
            "text/plain": [
              "<Figure size 432x288 with 1 Axes>"
            ],
            "image/png": "[encoded data removed]"
          },
          "metadata": {
            "needs_background": "light"
          }
        }
      ]
    },
    {
      "cell_type": "code",
      "source": [
        "df_val.groupby(['category']).size().plot.bar()"
      ],
      "metadata": {
        "colab": {
          "base_uri": "https://localhost:8080/",
          "height": 330
        },
        "id": "mzUjY0jBOlRj",
        "outputId": "9d0b2067-db0e-4024-b905-c87d737d5619"
      },
      "execution_count": 12,
      "outputs": [
        {
          "output_type": "execute_result",
          "data": {
            "text/plain": [
              "<matplotlib.axes._subplots.AxesSubplot at 0x7f0acf5b1430>"
            ]
          },
          "metadata": {},
          "execution_count": 12
        },
        {
          "output_type": "display_data",
          "data": {
            "text/plain": [
              "<Figure size 432x288 with 1 Axes>"
            ],
            "image/png": "[encoded data removed]"
          },
          "metadata": {
            "needs_background": "light"
          }
        }
      ]
    },
    {
      "cell_type": "code",
      "source": [
        "df_test.groupby(['category']).size().plot.bar()"
      ],
      "metadata": {
        "colab": {
          "base_uri": "https://localhost:8080/",
          "height": 330
        },
        "id": "EQ_XVyo8OlVe",
        "outputId": "b56bfb27-de10-454a-e8d4-d0afb64b8334"
      },
      "execution_count": 13,
      "outputs": [
        {
          "output_type": "execute_result",
          "data": {
            "text/plain": [
              "<matplotlib.axes._subplots.AxesSubplot at 0x7f0acf5904f0>"
            ]
          },
          "metadata": {},
          "execution_count": 13
        },
        {
          "output_type": "display_data",
          "data": {
            "text/plain": [
              "<Figure size 432x288 with 1 Axes>"
            ],
            "image/png": "[encoded data removed]"
          },
          "metadata": {
            "needs_background": "light"
          }
        }
      ]
    },
    {
      "cell_type": "markdown",
      "metadata": {
        "id": "BZrtc9kjmwJ1"
      },
      "source": [
        "#Build model"
      ]
    },
    {
      "cell_type": "code",
      "execution_count": 14,
      "metadata": {
        "colab": {
          "base_uri": "https://localhost:8080/",
          "height": 184,
          "referenced_widgets": [
            "a09e11d0e16d458cba273fcd53543f57",
            "d4f42ed9f8394d5d8e5fdeb8a24a7560",
            "e8ff5c3bdf5845be93cb821ee203090f",
            "1d55115fae494c5db3e4773700eae4b8",
            "7d0e6c60821744b3b060d6a1580f8e82",
            "ebf4a99565484657b854bff786153fa1",
            "358de9fe18414ca5aa376ef6b8839057",
            "af5fef984e9b44a39c312a2ffabcaead",
            "cc74383ebde1414faa05003cfb7f623b",
            "d1d3e28c3a844bedb7136d67b0dab1b6",
            "989425ea1e84495986560369b850be63"
          ]
        },
        "id": "quVJK_YPKheS",
        "outputId": "b28e42da-cd35-49dc-b3eb-693ae2fe7a17"
      },
      "outputs": [
        {
          "output_type": "display_data",
          "data": {
            "text/plain": [
              "Downloading (…)\"pytorch_model.bin\";:   0%|          | 0.00/436M [00:00<?, ?B/s]"
            ],
            "application/vnd.jupyter.widget-view+json": {
              "version_major": 2,
              "version_minor": 0,
              "model_id": "a09e11d0e16d458cba273fcd53543f57"
            }
          },
          "metadata": {}
        },
        {
          "output_type": "stream",
          "name": "stderr",
          "text": [
            "Some weights of the model checkpoint at bert-base-cased were not used when initializing BertForSequenceClassification: ['cls.predictions.transform.LayerNorm.weight', 'cls.predictions.transform.dense.weight', 'cls.predictions.transform.LayerNorm.bias', 'cls.seq_relationship.weight', 'cls.predictions.transform.dense.bias', 'cls.seq_relationship.bias', 'cls.predictions.bias', 'cls.predictions.decoder.weight']\n",
            "- This IS expected if you are initializing BertForSequenceClassification from the checkpoint of a model trained on another task or with another architecture (e.g. initializing a BertForSequenceClassification model from a BertForPreTraining model).\n",
            "- This IS NOT expected if you are initializing BertForSequenceClassification from the checkpoint of a model that you expect to be exactly identical (initializing a BertForSequenceClassification model from a BertForSequenceClassification model).\n",
            "Some weights of BertForSequenceClassification were not initialized from the model checkpoint at bert-base-cased and are newly initialized: ['classifier.weight', 'classifier.bias']\n",
            "You should probably TRAIN this model on a down-stream task to be able to use it for predictions and inference.\n"
          ]
        }
      ],
      "source": [
        "num_of_classes=3\n",
        "model = TextClassifier(checkpoint, num_of_classes=num_of_classes)"
      ]
    },
    {
      "cell_type": "code",
      "source": [
        "model"
      ],
      "metadata": {
        "colab": {
          "base_uri": "https://localhost:8080/"
        },
        "id": "JRs-O21hUUCC",
        "outputId": "e5b98d3a-b17a-44f5-adfc-17b6286a15c9"
      },
      "execution_count": 15,
      "outputs": [
        {
          "output_type": "execute_result",
          "data": {
            "text/plain": [
              "TextClassifier(\n",
              "  (bert): BertForSequenceClassification(\n",
              "    (bert): BertModel(\n",
              "      (embeddings): BertEmbeddings(\n",
              "        (word_embeddings): Embedding(28996, 768, padding_idx=0)\n",
              "        (position_embeddings): Embedding(512, 768)\n",
              "        (token_type_embeddings): Embedding(2, 768)\n",
              "        (LayerNorm): LayerNorm((768,), eps=1e-12, elementwise_affine=True)\n",
              "        (dropout): Dropout(p=0.1, inplace=False)\n",
              "      )\n",
              "      (encoder): BertEncoder(\n",
              "        (layer): ModuleList(\n",
              "          (0): BertLayer(\n",
              "            (attention): BertAttention(\n",
              "              (self): BertSelfAttention(\n",
              "                (query): Linear(in_features=768, out_features=768, bias=True)\n",
              "                (key): Linear(in_features=768, out_features=768, bias=True)\n",
              "                (value): Linear(in_features=768, out_features=768, bias=True)\n",
              "                (dropout): Dropout(p=0.1, inplace=False)\n",
              "              )\n",
              "              (output): BertSelfOutput(\n",
              "                (dense): Linear(in_features=768, out_features=768, bias=True)\n",
              "                (LayerNorm): LayerNorm((768,), eps=1e-12, elementwise_affine=True)\n",
              "                (dropout): Dropout(p=0.1, inplace=False)\n",
              "              )\n",
              "            )\n",
              "            (intermediate): BertIntermediate(\n",
              "              (dense): Linear(in_features=768, out_features=3072, bias=True)\n",
              "              (intermediate_act_fn): GELUActivation()\n",
              "            )\n",
              "            (output): BertOutput(\n",
              "              (dense): Linear(in_features=3072, out_features=768, bias=True)\n",
              "              (LayerNorm): LayerNorm((768,), eps=1e-12, elementwise_affine=True)\n",
              "              (dropout): Dropout(p=0.1, inplace=False)\n",
              "            )\n",
              "          )\n",
              "          (1): BertLayer(\n",
              "            (attention): BertAttention(\n",
              "              (self): BertSelfAttention(\n",
              "                (query): Linear(in_features=768, out_features=768, bias=True)\n",
              "                (key): Linear(in_features=768, out_features=768, bias=True)\n",
              "                (value): Linear(in_features=768, out_features=768, bias=True)\n",
              "                (dropout): Dropout(p=0.1, inplace=False)\n",
              "              )\n",
              "              (output): BertSelfOutput(\n",
              "                (dense): Linear(in_features=768, out_features=768, bias=True)\n",
              "                (LayerNorm): LayerNorm((768,), eps=1e-12, elementwise_affine=True)\n",
              "                (dropout): Dropout(p=0.1, inplace=False)\n",
              "              )\n",
              "            )\n",
              "            (intermediate): BertIntermediate(\n",
              "              (dense): Linear(in_features=768, out_features=3072, bias=True)\n",
              "              (intermediate_act_fn): GELUActivation()\n",
              "            )\n",
              "            (output): BertOutput(\n",
              "              (dense): Linear(in_features=3072, out_features=768, bias=True)\n",
              "              (LayerNorm): LayerNorm((768,), eps=1e-12, elementwise_affine=True)\n",
              "              (dropout): Dropout(p=0.1, inplace=False)\n",
              "            )\n",
              "          )\n",
              "          (2): BertLayer(\n",
              "            (attention): BertAttention(\n",
              "              (self): BertSelfAttention(\n",
              "                (query): Linear(in_features=768, out_features=768, bias=True)\n",
              "                (key): Linear(in_features=768, out_features=768, bias=True)\n",
              "                (value): Linear(in_features=768, out_features=768, bias=True)\n",
              "                (dropout): Dropout(p=0.1, inplace=False)\n",
              "              )\n",
              "              (output): BertSelfOutput(\n",
              "                (dense): Linear(in_features=768, out_features=768, bias=True)\n",
              "                (LayerNorm): LayerNorm((768,), eps=1e-12, elementwise_affine=True)\n",
              "                (dropout): Dropout(p=0.1, inplace=False)\n",
              "              )\n",
              "            )\n",
              "            (intermediate): BertIntermediate(\n",
              "              (dense): Linear(in_features=768, out_features=3072, bias=True)\n",
              "              (intermediate_act_fn): GELUActivation()\n",
              "            )\n",
              "            (output): BertOutput(\n",
              "              (dense): Linear(in_features=3072, out_features=768, bias=True)\n",
              "              (LayerNorm): LayerNorm((768,), eps=1e-12, elementwise_affine=True)\n",
              "              (dropout): Dropout(p=0.1, inplace=False)\n",
              "            )\n",
              "          )\n",
              "          (3): BertLayer(\n",
              "            (attention): BertAttention(\n",
              "              (self): BertSelfAttention(\n",
              "                (query): Linear(in_features=768, out_features=768, bias=True)\n",
              "                (key): Linear(in_features=768, out_features=768, bias=True)\n",
              "                (value): Linear(in_features=768, out_features=768, bias=True)\n",
              "                (dropout): Dropout(p=0.1, inplace=False)\n",
              "              )\n",
              "              (output): BertSelfOutput(\n",
              "                (dense): Linear(in_features=768, out_features=768, bias=True)\n",
              "                (LayerNorm): LayerNorm((768,), eps=1e-12, elementwise_affine=True)\n",
              "                (dropout): Dropout(p=0.1, inplace=False)\n",
              "              )\n",
              "            )\n",
              "            (intermediate): BertIntermediate(\n",
              "              (dense): Linear(in_features=768, out_features=3072, bias=True)\n",
              "              (intermediate_act_fn): GELUActivation()\n",
              "            )\n",
              "            (output): BertOutput(\n",
              "              (dense): Linear(in_features=3072, out_features=768, bias=True)\n",
              "              (LayerNorm): LayerNorm((768,), eps=1e-12, elementwise_affine=True)\n",
              "              (dropout): Dropout(p=0.1, inplace=False)\n",
              "            )\n",
              "          )\n",
              "          (4): BertLayer(\n",
              "            (attention): BertAttention(\n",
              "              (self): BertSelfAttention(\n",
              "                (query): Linear(in_features=768, out_features=768, bias=True)\n",
              "                (key): Linear(in_features=768, out_features=768, bias=True)\n",
              "                (value): Linear(in_features=768, out_features=768, bias=True)\n",
              "                (dropout): Dropout(p=0.1, inplace=False)\n",
              "              )\n",
              "              (output): BertSelfOutput(\n",
              "                (dense): Linear(in_features=768, out_features=768, bias=True)\n",
              "                (LayerNorm): LayerNorm((768,), eps=1e-12, elementwise_affine=True)\n",
              "                (dropout): Dropout(p=0.1, inplace=False)\n",
              "              )\n",
              "            )\n",
              "            (intermediate): BertIntermediate(\n",
              "              (dense): Linear(in_features=768, out_features=3072, bias=True)\n",
              "              (intermediate_act_fn): GELUActivation()\n",
              "            )\n",
              "            (output): BertOutput(\n",
              "              (dense): Linear(in_features=3072, out_features=768, bias=True)\n",
              "              (LayerNorm): LayerNorm((768,), eps=1e-12, elementwise_affine=True)\n",
              "              (dropout): Dropout(p=0.1, inplace=False)\n",
              "            )\n",
              "          )\n",
              "          (5): BertLayer(\n",
              "            (attention): BertAttention(\n",
              "              (self): BertSelfAttention(\n",
              "                (query): Linear(in_features=768, out_features=768, bias=True)\n",
              "                (key): Linear(in_features=768, out_features=768, bias=True)\n",
              "                (value): Linear(in_features=768, out_features=768, bias=True)\n",
              "                (dropout): Dropout(p=0.1, inplace=False)\n",
              "              )\n",
              "              (output): BertSelfOutput(\n",
              "                (dense): Linear(in_features=768, out_features=768, bias=True)\n",
              "                (LayerNorm): LayerNorm((768,), eps=1e-12, elementwise_affine=True)\n",
              "                (dropout): Dropout(p=0.1, inplace=False)\n",
              "              )\n",
              "            )\n",
              "            (intermediate): BertIntermediate(\n",
              "              (dense): Linear(in_features=768, out_features=3072, bias=True)\n",
              "              (intermediate_act_fn): GELUActivation()\n",
              "            )\n",
              "            (output): BertOutput(\n",
              "              (dense): Linear(in_features=3072, out_features=768, bias=True)\n",
              "              (LayerNorm): LayerNorm((768,), eps=1e-12, elementwise_affine=True)\n",
              "              (dropout): Dropout(p=0.1, inplace=False)\n",
              "            )\n",
              "          )\n",
              "          (6): BertLayer(\n",
              "            (attention): BertAttention(\n",
              "              (self): BertSelfAttention(\n",
              "                (query): Linear(in_features=768, out_features=768, bias=True)\n",
              "                (key): Linear(in_features=768, out_features=768, bias=True)\n",
              "                (value): Linear(in_features=768, out_features=768, bias=True)\n",
              "                (dropout): Dropout(p=0.1, inplace=False)\n",
              "              )\n",
              "              (output): BertSelfOutput(\n",
              "                (dense): Linear(in_features=768, out_features=768, bias=True)\n",
              "                (LayerNorm): LayerNorm((768,), eps=1e-12, elementwise_affine=True)\n",
              "                (dropout): Dropout(p=0.1, inplace=False)\n",
              "              )\n",
              "            )\n",
              "            (intermediate): BertIntermediate(\n",
              "              (dense): Linear(in_features=768, out_features=3072, bias=True)\n",
              "              (intermediate_act_fn): GELUActivation()\n",
              "            )\n",
              "            (output): BertOutput(\n",
              "              (dense): Linear(in_features=3072, out_features=768, bias=True)\n",
              "              (LayerNorm): LayerNorm((768,), eps=1e-12, elementwise_affine=True)\n",
              "              (dropout): Dropout(p=0.1, inplace=False)\n",
              "            )\n",
              "          )\n",
              "          (7): BertLayer(\n",
              "            (attention): BertAttention(\n",
              "              (self): BertSelfAttention(\n",
              "                (query): Linear(in_features=768, out_features=768, bias=True)\n",
              "                (key): Linear(in_features=768, out_features=768, bias=True)\n",
              "                (value): Linear(in_features=768, out_features=768, bias=True)\n",
              "                (dropout): Dropout(p=0.1, inplace=False)\n",
              "              )\n",
              "              (output): BertSelfOutput(\n",
              "                (dense): Linear(in_features=768, out_features=768, bias=True)\n",
              "                (LayerNorm): LayerNorm((768,), eps=1e-12, elementwise_affine=True)\n",
              "                (dropout): Dropout(p=0.1, inplace=False)\n",
              "              )\n",
              "            )\n",
              "            (intermediate): BertIntermediate(\n",
              "              (dense): Linear(in_features=768, out_features=3072, bias=True)\n",
              "              (intermediate_act_fn): GELUActivation()\n",
              "            )\n",
              "            (output): BertOutput(\n",
              "              (dense): Linear(in_features=3072, out_features=768, bias=True)\n",
              "              (LayerNorm): LayerNorm((768,), eps=1e-12, elementwise_affine=True)\n",
              "              (dropout): Dropout(p=0.1, inplace=False)\n",
              "            )\n",
              "          )\n",
              "          (8): BertLayer(\n",
              "            (attention): BertAttention(\n",
              "              (self): BertSelfAttention(\n",
              "                (query): Linear(in_features=768, out_features=768, bias=True)\n",
              "                (key): Linear(in_features=768, out_features=768, bias=True)\n",
              "                (value): Linear(in_features=768, out_features=768, bias=True)\n",
              "                (dropout): Dropout(p=0.1, inplace=False)\n",
              "              )\n",
              "              (output): BertSelfOutput(\n",
              "                (dense): Linear(in_features=768, out_features=768, bias=True)\n",
              "                (LayerNorm): LayerNorm((768,), eps=1e-12, elementwise_affine=True)\n",
              "                (dropout): Dropout(p=0.1, inplace=False)\n",
              "              )\n",
              "            )\n",
              "            (intermediate): BertIntermediate(\n",
              "              (dense): Linear(in_features=768, out_features=3072, bias=True)\n",
              "              (intermediate_act_fn): GELUActivation()\n",
              "            )\n",
              "            (output): BertOutput(\n",
              "              (dense): Linear(in_features=3072, out_features=768, bias=True)\n",
              "              (LayerNorm): LayerNorm((768,), eps=1e-12, elementwise_affine=True)\n",
              "              (dropout): Dropout(p=0.1, inplace=False)\n",
              "            )\n",
              "          )\n",
              "          (9): BertLayer(\n",
              "            (attention): BertAttention(\n",
              "              (self): BertSelfAttention(\n",
              "                (query): Linear(in_features=768, out_features=768, bias=True)\n",
              "                (key): Linear(in_features=768, out_features=768, bias=True)\n",
              "                (value): Linear(in_features=768, out_features=768, bias=True)\n",
              "                (dropout): Dropout(p=0.1, inplace=False)\n",
              "              )\n",
              "              (output): BertSelfOutput(\n",
              "                (dense): Linear(in_features=768, out_features=768, bias=True)\n",
              "                (LayerNorm): LayerNorm((768,), eps=1e-12, elementwise_affine=True)\n",
              "                (dropout): Dropout(p=0.1, inplace=False)\n",
              "              )\n",
              "            )\n",
              "            (intermediate): BertIntermediate(\n",
              "              (dense): Linear(in_features=768, out_features=3072, bias=True)\n",
              "              (intermediate_act_fn): GELUActivation()\n",
              "            )\n",
              "            (output): BertOutput(\n",
              "              (dense): Linear(in_features=3072, out_features=768, bias=True)\n",
              "              (LayerNorm): LayerNorm((768,), eps=1e-12, elementwise_affine=True)\n",
              "              (dropout): Dropout(p=0.1, inplace=False)\n",
              "            )\n",
              "          )\n",
              "          (10): BertLayer(\n",
              "            (attention): BertAttention(\n",
              "              (self): BertSelfAttention(\n",
              "                (query): Linear(in_features=768, out_features=768, bias=True)\n",
              "                (key): Linear(in_features=768, out_features=768, bias=True)\n",
              "                (value): Linear(in_features=768, out_features=768, bias=True)\n",
              "                (dropout): Dropout(p=0.1, inplace=False)\n",
              "              )\n",
              "              (output): BertSelfOutput(\n",
              "                (dense): Linear(in_features=768, out_features=768, bias=True)\n",
              "                (LayerNorm): LayerNorm((768,), eps=1e-12, elementwise_affine=True)\n",
              "                (dropout): Dropout(p=0.1, inplace=False)\n",
              "              )\n",
              "            )\n",
              "            (intermediate): BertIntermediate(\n",
              "              (dense): Linear(in_features=768, out_features=3072, bias=True)\n",
              "              (intermediate_act_fn): GELUActivation()\n",
              "            )\n",
              "            (output): BertOutput(\n",
              "              (dense): Linear(in_features=3072, out_features=768, bias=True)\n",
              "              (LayerNorm): LayerNorm((768,), eps=1e-12, elementwise_affine=True)\n",
              "              (dropout): Dropout(p=0.1, inplace=False)\n",
              "            )\n",
              "          )\n",
              "          (11): BertLayer(\n",
              "            (attention): BertAttention(\n",
              "              (self): BertSelfAttention(\n",
              "                (query): Linear(in_features=768, out_features=768, bias=True)\n",
              "                (key): Linear(in_features=768, out_features=768, bias=True)\n",
              "                (value): Linear(in_features=768, out_features=768, bias=True)\n",
              "                (dropout): Dropout(p=0.1, inplace=False)\n",
              "              )\n",
              "              (output): BertSelfOutput(\n",
              "                (dense): Linear(in_features=768, out_features=768, bias=True)\n",
              "                (LayerNorm): LayerNorm((768,), eps=1e-12, elementwise_affine=True)\n",
              "                (dropout): Dropout(p=0.1, inplace=False)\n",
              "              )\n",
              "            )\n",
              "            (intermediate): BertIntermediate(\n",
              "              (dense): Linear(in_features=768, out_features=3072, bias=True)\n",
              "              (intermediate_act_fn): GELUActivation()\n",
              "            )\n",
              "            (output): BertOutput(\n",
              "              (dense): Linear(in_features=3072, out_features=768, bias=True)\n",
              "              (LayerNorm): LayerNorm((768,), eps=1e-12, elementwise_affine=True)\n",
              "              (dropout): Dropout(p=0.1, inplace=False)\n",
              "            )\n",
              "          )\n",
              "        )\n",
              "      )\n",
              "      (pooler): BertPooler(\n",
              "        (dense): Linear(in_features=768, out_features=768, bias=True)\n",
              "        (activation): Tanh()\n",
              "      )\n",
              "    )\n",
              "    (dropout): Dropout(p=0.1, inplace=False)\n",
              "    (classifier): Linear(in_features=768, out_features=3, bias=True)\n",
              "  )\n",
              ")"
            ]
          },
          "metadata": {},
          "execution_count": 15
        }
      ]
    },
    {
      "cell_type": "markdown",
      "metadata": {
        "id": "Fp8b7CPumeb3"
      },
      "source": [
        "# Parameters"
      ]
    },
    {
      "cell_type": "code",
      "execution_count": 16,
      "metadata": {
        "id": "3fE2LX_IGhVb"
      },
      "outputs": [],
      "source": [
        "EPOCHS = 12\n",
        "LR = 1e-6\n",
        "train_batch_size = 32\n",
        "val_batch_size = 32"
      ]
    },
    {
      "cell_type": "markdown",
      "metadata": {
        "id": "0gWfgmiimqWW"
      },
      "source": [
        "# Train model"
      ]
    },
    {
      "cell_type": "code",
      "execution_count": 17,
      "metadata": {
        "id": "_XvHb-REmpeu",
        "colab": {
          "base_uri": "https://localhost:8080/"
        },
        "outputId": "8a4b0244-3423-477e-e54b-939d3cb9711d"
      },
      "outputs": [
        {
          "metadata": {
            "tags": null
          },
          "name": "stderr",
          "output_type": "stream",
          "text": [
            "100%|██████████| 36/36 [00:46<00:00,  1.29s/it]\n"
          ]
        },
        {
          "metadata": {
            "tags": null
          },
          "name": "stdout",
          "output_type": "stream",
          "text": [
            "Epochs: 1 | Train Accuracy:  0.539 | Train Loss:  1.080 | Train Recall:  0.526 | Train Precision:  0.510 | Train AUC:  0.706 | Val Accuracy:  0.644 | Val Loss:  1.059 | Val Recall:  0.615 | Val Precision:  0.625 | Val AUC:  0.813 \n"
          ]
        },
        {
          "metadata": {
            "tags": null
          },
          "name": "stderr",
          "output_type": "stream",
          "text": [
            "100%|██████████| 36/36 [00:45<00:00,  1.25s/it]\n"
          ]
        },
        {
          "metadata": {
            "tags": null
          },
          "name": "stdout",
          "output_type": "stream",
          "text": [
            "Epochs: 2 | Train Accuracy:  0.733 | Train Loss:  1.034 | Train Recall:  0.698 | Train Precision:  0.752 | Train AUC:  0.870 | Val Accuracy:  0.706 | Val Loss:  1.017 | Val Recall:  0.688 | Val Precision:  0.551 | Val AUC:  0.887 \n"
          ]
        },
        {
          "metadata": {
            "tags": null
          },
          "name": "stderr",
          "output_type": "stream",
          "text": [
            "100%|██████████| 36/36 [00:46<00:00,  1.28s/it]\n"
          ]
        },
        {
          "metadata": {
            "tags": null
          },
          "name": "stdout",
          "output_type": "stream",
          "text": [
            "Epochs: 3 | Train Accuracy:  0.756 | Train Loss:  0.987 | Train Recall:  0.718 | Train Precision:  0.765 | Train AUC:  0.944 | Val Accuracy:  0.713 | Val Loss:  0.974 | Val Recall:  0.707 | Val Precision:  0.747 | Val AUC:  0.971 \n"
          ]
        },
        {
          "metadata": {
            "tags": null
          },
          "name": "stderr",
          "output_type": "stream",
          "text": [
            "100%|██████████| 36/36 [00:47<00:00,  1.31s/it]\n"
          ]
        },
        {
          "metadata": {
            "tags": null
          },
          "name": "stdout",
          "output_type": "stream",
          "text": [
            "Epochs: 4 | Train Accuracy:  0.789 | Train Loss:  0.933 | Train Recall:  0.752 | Train Precision:  0.795 | Train AUC:  0.982 | Val Accuracy:  0.769 | Val Loss:  0.915 | Val Recall:  0.756 | Val Precision:  0.770 | Val AUC:  0.997 \n"
          ]
        },
        {
          "metadata": {
            "tags": null
          },
          "name": "stderr",
          "output_type": "stream",
          "text": [
            "100%|██████████| 36/36 [00:47<00:00,  1.32s/it]\n"
          ]
        },
        {
          "metadata": {
            "tags": null
          },
          "name": "stdout",
          "output_type": "stream",
          "text": [
            "Epochs: 5 | Train Accuracy:  0.894 | Train Loss:  0.868 | Train Recall:  0.876 | Train Precision:  0.914 | Train AUC:  0.994 | Val Accuracy:  0.863 | Val Loss:  0.846 | Val Recall:  0.856 | Val Precision:  0.908 | Val AUC:  0.998 \n"
          ]
        },
        {
          "metadata": {
            "tags": null
          },
          "name": "stderr",
          "output_type": "stream",
          "text": [
            "100%|██████████| 36/36 [00:47<00:00,  1.32s/it]\n"
          ]
        },
        {
          "metadata": {
            "tags": null
          },
          "name": "stdout",
          "output_type": "stream",
          "text": [
            "Epochs: 6 | Train Accuracy:  0.952 | Train Loss:  0.793 | Train Recall:  0.949 | Train Precision:  0.957 | Train AUC:  0.996 | Val Accuracy:  0.944 | Val Loss:  0.770 | Val Recall:  0.941 | Val Precision:  0.942 | Val AUC:  0.998 \n"
          ]
        },
        {
          "metadata": {
            "tags": null
          },
          "name": "stderr",
          "output_type": "stream",
          "text": [
            "100%|██████████| 36/36 [00:47<00:00,  1.32s/it]\n"
          ]
        },
        {
          "metadata": {
            "tags": null
          },
          "name": "stdout",
          "output_type": "stream",
          "text": [
            "Epochs: 7 | Train Accuracy:  0.976 | Train Loss:  0.732 | Train Recall:  0.973 | Train Precision:  0.975 | Train AUC:  0.998 | Val Accuracy:  0.981 | Val Loss:  0.711 | Val Recall:  0.976 | Val Precision:  0.980 | Val AUC:  1.000 \n"
          ]
        },
        {
          "metadata": {
            "tags": null
          },
          "name": "stderr",
          "output_type": "stream",
          "text": [
            "100%|██████████| 36/36 [00:47<00:00,  1.32s/it]\n"
          ]
        },
        {
          "metadata": {
            "tags": null
          },
          "name": "stdout",
          "output_type": "stream",
          "text": [
            "Epochs: 8 | Train Accuracy:  0.982 | Train Loss:  0.683 | Train Recall:  0.981 | Train Precision:  0.982 | Train AUC:  0.998 | Val Accuracy:  0.975 | Val Loss:  0.669 | Val Recall:  0.974 | Val Precision:  0.975 | Val AUC:  0.999 \n"
          ]
        },
        {
          "metadata": {
            "tags": null
          },
          "name": "stderr",
          "output_type": "stream",
          "text": [
            "100%|██████████| 36/36 [00:47<00:00,  1.32s/it]\n"
          ]
        },
        {
          "metadata": {
            "tags": null
          },
          "name": "stdout",
          "output_type": "stream",
          "text": [
            "Epochs: 9 | Train Accuracy:  0.985 | Train Loss:  0.649 | Train Recall:  0.986 | Train Precision:  0.984 | Train AUC:  0.999 | Val Accuracy:  0.975 | Val Loss:  0.650 | Val Recall:  0.981 | Val Precision:  0.980 | Val AUC:  0.999 \n"
          ]
        },
        {
          "metadata": {
            "tags": null
          },
          "name": "stderr",
          "output_type": "stream",
          "text": [
            "100%|██████████| 36/36 [00:47<00:00,  1.32s/it]\n"
          ]
        },
        {
          "metadata": {
            "tags": null
          },
          "name": "stdout",
          "output_type": "stream",
          "text": [
            "Epochs: 10 | Train Accuracy:  0.988 | Train Loss:  0.627 | Train Recall:  0.988 | Train Precision:  0.987 | Train AUC:  1.000 | Val Accuracy:  0.988 | Val Loss:  0.627 | Val Recall:  0.988 | Val Precision:  0.989 | Val AUC:  0.999 \n"
          ]
        },
        {
          "metadata": {
            "tags": null
          },
          "name": "stderr",
          "output_type": "stream",
          "text": [
            "100%|██████████| 36/36 [00:47<00:00,  1.32s/it]\n"
          ]
        },
        {
          "metadata": {
            "tags": null
          },
          "name": "stdout",
          "output_type": "stream",
          "text": [
            "Epochs: 11 | Train Accuracy:  0.991 | Train Loss:  0.613 | Train Recall:  0.991 | Train Precision:  0.990 | Train AUC:  0.999 | Val Accuracy:  0.981 | Val Loss:  0.619 | Val Recall:  0.979 | Val Precision:  0.984 | Val AUC:  1.000 \n"
          ]
        },
        {
          "metadata": {
            "tags": null
          },
          "name": "stderr",
          "output_type": "stream",
          "text": [
            "100%|██████████| 36/36 [00:47<00:00,  1.32s/it]\n"
          ]
        },
        {
          "metadata": {
            "tags": null
          },
          "name": "stdout",
          "output_type": "stream",
          "text": [
            "Epochs: 12 | Train Accuracy:  0.994 | Train Loss:  0.602 | Train Recall:  0.994 | Train Precision:  0.994 | Train AUC:  1.000 | Val Accuracy:  0.981 | Val Loss:  0.609 | Val Recall:  0.985 | Val Precision:  0.982 | Val AUC:  1.000 \n"
          ]
        }
      ],
      "source": [
        "probabilities_list_train, logits_list_train, train_label_list = train(model, df_train, df_val, LR, EPOCHS, train_batch_size, val_batch_size)"
      ]
    },
    {
      "cell_type": "markdown",
      "metadata": {
        "id": "4hHyonplmzlg"
      },
      "source": [
        "#Test model"
      ]
    },
    {
      "cell_type": "code",
      "execution_count": 18,
      "metadata": {
        "id": "EKIL-imZFrff",
        "colab": {
          "base_uri": "https://localhost:8080/"
        },
        "outputId": "8d8c7487-beb6-40c3-9322-affae6dfcf32"
      },
      "outputs": [
        {
          "metadata": {
            "tags": null
          },
          "name": "stdout",
          "output_type": "stream",
          "text": [
            "Test Accuracy:  0.986 | Test Recall:  0.988 | Test Precision:  0.985 |Test AUC:  1.000\n"
          ]
        }
      ],
      "source": [
        "test_batch_size = 12\n",
        "probabilities_list, logits_list, test_label_list = evaluate(model, df_test, test_batch_size)"
      ]
    },
    {
      "cell_type": "markdown",
      "source": [
        "#ROC"
      ],
      "metadata": {
        "id": "7Zl3_D2GFwi7"
      }
    },
    {
      "cell_type": "code",
      "source": [
        "#probabilities_list, test_label_list\n",
        "predictions_indicies_list = []\n",
        "for probability in probabilities_list:\n",
        "    (predictions, predictions_indicies) = torch.max(probability, dim=1)\n",
        "    predictions_indicies_list.append(predictions_indicies.numpy(force=True))"
      ],
      "metadata": {
        "id": "cT04hyna9owh"
      },
      "execution_count": 104,
      "outputs": []
    },
    {
      "cell_type": "code",
      "source": [
        "from torchmetrics.classification import MulticlassROC\n",
        "\n",
        "use_cuda = torch.cuda.is_available()\n",
        "device = torch.device(\"cuda\" if use_cuda else \"cpu\")\n",
        "\n",
        "fpr_list, tpr_list, thresholds_list = [], [], []\n",
        "\n",
        "for prediction, test_label in zip(predictions_indicies_list, test_label_list):\n",
        "\n",
        "    metric_roc = MulticlassROC(num_classes=3, thresholds=15).to(device)\n",
        "    fpr, tpr, thresholds = metric_roc(probability, test_label)\n",
        "\n",
        "    fpr_list.append(fpr)\n",
        "    tpr_list.append(tpr)\n",
        "    thresholds_list.append(thresholds)\n",
        "\n",
        "    # metric_aucroc = MulticlassAUROC(num_classes=model.num_of_labels).to(device)\n",
        "    # auroc = metric_aucroc(preds=probabilities_list[0], target=test_label_list[0])\n",
        "\n",
        "#print(f\"AUC: {auroc}\\n, FPR: {fpr}\\n, TPR: {tpr}\\n, thresholds: {thresholds}\")"
      ],
      "metadata": {
        "id": "5XQLjJmxFwKL"
      },
      "execution_count": 123,
      "outputs": []
    },
    {
      "cell_type": "code",
      "source": [
        "tpr_list_0 = [item.numpy(force=True) for elem in fpr_list for item in elem[0]]\n",
        "tpr_list_1 = [item.numpy(force=True) for elem in fpr_list for item in elem[1]]\n",
        "tpr_list_2 = [item.numpy(force=True) for elem in fpr_list for item in elem[2]]"
      ],
      "metadata": {
        "id": "f2kx9CRj5KXD"
      },
      "execution_count": 124,
      "outputs": []
    },
    {
      "cell_type": "code",
      "source": [
        "fpr_list_0 =  [item.numpy(force=True) for elem in fpr_list for item in elem[0]]\n",
        "fpr_list_1 = [item.numpy(force=True) for elem in fpr_list for item in elem[1]]\n",
        "fpr_list_2 = [item.numpy(force=True) for elem in fpr_list for item in elem[2]]"
      ],
      "metadata": {
        "id": "QOb3N3QK44bG"
      },
      "execution_count": 125,
      "outputs": []
    },
    {
      "cell_type": "code",
      "source": [
        "import matplotlib.pyplot as plt\n",
        "plt.title('Receiver Operating Characteristic')\n",
        "plt.plot(fpr_list_0, tpr_list_0, 'b')\n",
        "plt.plot(fpr_list_1, tpr_list_1, 'r')\n",
        "plt.plot(fpr_list_2, tpr_list_2, 'g')\n",
        "plt.legend(loc = 'lower right')\n",
        "plt.plot([0, 1], [0, 1],'k--', label=\"chance level (AUC = 0.5)\")\n",
        "plt.xlim([0, 1])\n",
        "plt.ylim([0, 1])\n",
        "plt.ylabel('True Positive Rate')\n",
        "plt.xlabel('False Positive Rate')\n",
        "plt.show()"
      ],
      "metadata": {
        "colab": {
          "base_uri": "https://localhost:8080/",
          "height": 312
        },
        "id": "voZbxeW32kfT",
        "outputId": "7b018d47-a135-4753-c1ab-3f3d6e73f9bf"
      },
      "execution_count": 122,
      "outputs": [
        {
          "output_type": "stream",
          "name": "stderr",
          "text": [
            "WARNING:matplotlib.legend:No handles with labels found to put in legend.\n"
          ]
        },
        {
          "output_type": "display_data",
          "data": {
            "text/plain": [
              "<Figure size 432x288 with 1 Axes>"
            ],
            "image/png": "[encoded data removed]"
          },
          "metadata": {
            "needs_background": "light"
          }
        }
      ]
    },
    {
      "cell_type": "markdown",
      "metadata": {
        "id": "d2LWjUQ4m3E9"
      },
      "source": [
        "#Save model"
      ]
    },
    {
      "cell_type": "code",
      "execution_count": 20,
      "metadata": {
        "id": "acTGl1gqfKtx"
      },
      "outputs": [],
      "source": [
        "PATH_TO_SAVE_MODEL = \"/content/drive/MyDrive/Colab Notebooks/model_save\"\n",
        "#model.save_model(PATH_TO_SAVE_MODEL)\n",
        "torch.save(model.state_dict(), PATH_TO_SAVE_MODEL)"
      ]
    },
    {
      "cell_type": "markdown",
      "metadata": {
        "id": "0qJr4JKcm7xm"
      },
      "source": [
        "#Save softmax result"
      ]
    },
    {
      "cell_type": "code",
      "source": [
        "torch.save(probabilities_list, '/content/drive/MyDrive/Colab Notebooks/probabilities_list.pt')"
      ],
      "metadata": {
        "id": "dEpw9wNodIuv"
      },
      "execution_count": 21,
      "outputs": []
    },
    {
      "cell_type": "markdown",
      "metadata": {
        "id": "6WVM7knnm-0t"
      },
      "source": [
        "#Save logits result"
      ]
    },
    {
      "cell_type": "code",
      "source": [
        "torch.save(logits_list, '/content/drive/MyDrive/Colab Notebooks/logits_list.pt')"
      ],
      "metadata": {
        "id": "h2N--flHdRNS"
      },
      "execution_count": null,
      "outputs": []
    },
    {
      "cell_type": "markdown",
      "source": [
        "#Save test labels\n"
      ],
      "metadata": {
        "id": "TG7Yu_zBYLjV"
      }
    },
    {
      "cell_type": "code",
      "source": [
        "torch.save(test_label_list, '/content/drive/MyDrive/Colab Notebooks/test_label_list.pt')"
      ],
      "metadata": {
        "id": "at4qDm1RdTbg"
      },
      "execution_count": 23,
      "outputs": []
    },
    {
      "cell_type": "markdown",
      "source": [
        "# Out-Of-Distribution data"
      ],
      "metadata": {
        "id": "4issJbXIWayh"
      }
    },
    {
      "cell_type": "code",
      "source": [
        "datapath = \"/content/drive/MyDrive/Colab Notebooks/bbc_test.csv\"\n",
        "df_outside = pd.read_csv(datapath)\n",
        "df_outside.groupby(['category']).size().plot.bar()\n",
        "labels = {\n",
        "          'entertainment':0,\n",
        "          'tech':1,\n",
        "          }"
      ],
      "metadata": {
        "colab": {
          "base_uri": "https://localhost:8080/",
          "height": 341
        },
        "id": "3r9tBp9TNGpe",
        "outputId": "1eda28d0-1e6e-44af-ec00-c497246d3214"
      },
      "execution_count": 24,
      "outputs": [
        {
          "output_type": "display_data",
          "data": {
            "text/plain": [
              "<Figure size 432x288 with 1 Axes>"
            ],
            "image/png": "[encoded data removed]"
          },
          "metadata": {
            "needs_background": "light"
          }
        }
      ]
    },
    {
      "cell_type": "markdown",
      "source": [
        "#Out-Of-Distribution data evaluation"
      ],
      "metadata": {
        "id": "dtwCifsvYGMv"
      }
    },
    {
      "cell_type": "code",
      "source": [
        "test_batch_size = 12\n",
        "probabilities_list_outside, logits_list_outside, test_label_list_outside = evaluate(model, df_outside, test_batch_size)"
      ],
      "metadata": {
        "id": "FrAEFj99NP4V"
      },
      "execution_count": null,
      "outputs": []
    },
    {
      "cell_type": "markdown",
      "source": [
        "#Save Out-Of-Distribution softmax result"
      ],
      "metadata": {
        "id": "c6n8AMialnfq"
      }
    },
    {
      "cell_type": "code",
      "source": [
        "torch.save(probabilities_list_outside, '/content/drive/MyDrive/Colab Notebooks/probabilities_list_outside.pt')"
      ],
      "metadata": {
        "id": "pZ5PpwNQlmxE"
      },
      "execution_count": 26,
      "outputs": []
    },
    {
      "cell_type": "markdown",
      "source": [
        "#Save Out-Of-Distribution logits result"
      ],
      "metadata": {
        "id": "-AMHz6KcloPg"
      }
    },
    {
      "cell_type": "code",
      "source": [
        "torch.save(logits_list_outside, '/content/drive/MyDrive/Colab Notebooks/logits_list_outside.pt')"
      ],
      "metadata": {
        "id": "vqVCRM_oloZz"
      },
      "execution_count": null,
      "outputs": []
    },
    {
      "cell_type": "markdown",
      "source": [
        "#Save Out-Of-Distribution test labels result"
      ],
      "metadata": {
        "id": "N9udWJL8lom4"
      }
    },
    {
      "cell_type": "code",
      "source": [
        "torch.save(test_label_list_outside, '/content/drive/MyDrive/Colab Notebooks/test_label_list_outside.pt')"
      ],
      "metadata": {
        "id": "vYwsGMOKloxs"
      },
      "execution_count": null,
      "outputs": []
    },
    {
      "cell_type": "markdown",
      "source": [
        "## Loading trained model"
      ],
      "metadata": {
        "id": "iJ9MwIZEn_KP"
      }
    },
    {
      "cell_type": "code",
      "source": [
        "# model = AutoModelForSequenceClassification()\n"
      ],
      "metadata": {
        "id": "ve7qdvyNn_UP"
      },
      "execution_count": null,
      "outputs": []
    },
    {
      "cell_type": "code",
      "source": [
        "# probabilities_list = torch.load('/content/drive/MyDrive/Colab Notebooks/probabilities_list.pt')\n",
        "# logits_list = torch.load('/content/drive/MyDrive/Colab Notebooks/logits_list.pt')\n",
        "# test_label_list = torch.load('/content/drive/MyDrive/Colab Notebooks/test_label_list.pt')"
      ],
      "metadata": {
        "id": "MviOKF1fpV5-"
      },
      "execution_count": null,
      "outputs": []
    },
    {
      "cell_type": "markdown",
      "source": [
        " "
      ],
      "metadata": {
        "id": "50NEPVh-rHDz"
      }
    },
    {
      "cell_type": "code",
      "source": [
        "# probabilities_list_outside = torch.load('/content/drive/MyDrive/Colab Notebooks/probabilities_list_outside.pt')\n",
        "# logits_list_outside = torch.load('/content/drive/MyDrive/Colab Notebooks/logits_list_outside.pt')\n",
        "# test_label_list_outside = torch.load('/content/drive/MyDrive/Colab Notebooks/test_label_list_outside.pt')"
      ],
      "metadata": {
        "id": "VHYzoq0rpOMD"
      },
      "execution_count": null,
      "outputs": []
    },
    {
      "cell_type": "markdown",
      "source": [
        "#Histogram - max(softmax)"
      ],
      "metadata": {
        "id": "EAUp8DUfX8Ra"
      }
    },
    {
      "cell_type": "code",
      "source": [
        "import matplotlib.pyplot as plt"
      ],
      "metadata": {
        "id": "R6RjuzTrDt4J"
      },
      "execution_count": 128,
      "outputs": []
    },
    {
      "cell_type": "code",
      "source": [
        "def get_hist_data_softmax(probabilities_list):\n",
        "  hist_prob = []\n",
        "  for i in range(len(probabilities_list)):\n",
        "    probabilities_list[i] = probabilities_list[i].numpy(force=True)\n",
        "    for j in range(len(probabilities_list[i])):\n",
        "      hist_prob.append(probabilities_list[i][j].max())\n",
        "  return hist_prob"
      ],
      "metadata": {
        "id": "1DHkhmRAH6q4"
      },
      "execution_count": 129,
      "outputs": []
    },
    {
      "cell_type": "code",
      "source": [
        "hist_norm_softmax = get_hist_data_softmax(probabilities_list)\n",
        "print(f\"Seen elements histograms length: {len(hist_norm_softmax)}\")"
      ],
      "metadata": {
        "id": "dg94FSerOfly",
        "colab": {
          "base_uri": "https://localhost:8080/"
        },
        "outputId": "57c96ebe-81a6-493f-a9bc-58d10ccf128d"
      },
      "execution_count": 130,
      "outputs": [
        {
          "output_type": "stream",
          "name": "stdout",
          "text": [
            "Seen elements histograms length: 144\n"
          ]
        }
      ]
    },
    {
      "cell_type": "code",
      "source": [
        "def get_hist_data_ood_softmax(probabilities_list):\n",
        "  hist_prob = []\n",
        "  for i in range(len(probabilities_list)):\n",
        "    probabilities_list[i] = probabilities_list[i].numpy(force=True)\n",
        "    for j in range(len(probabilities_list[i])):\n",
        "      hist_prob.append(probabilities_list[i][j].max())\n",
        "  return hist_prob"
      ],
      "metadata": {
        "id": "Bi57jIQJs7iB"
      },
      "execution_count": 131,
      "outputs": []
    },
    {
      "cell_type": "code",
      "source": [
        "hist_outside_softmax = get_hist_data_ood_softmax(probabilities_list_outside)\n",
        "print(f\"Unseen elements histograms length: {len(hist_outside_softmax)}\")"
      ],
      "metadata": {
        "colab": {
          "base_uri": "https://localhost:8080/"
        },
        "id": "qk2tPedAs3AX",
        "outputId": "4e5d6c21-e5e1-45bc-cfa5-35b2bfa3c4b9"
      },
      "execution_count": 132,
      "outputs": [
        {
          "output_type": "stream",
          "name": "stdout",
          "text": [
            "Unseen elements histograms length: 787\n"
          ]
        }
      ]
    },
    {
      "cell_type": "code",
      "source": [
        "hist_outside_softmax"
      ],
      "metadata": {
        "id": "Zl8Qk35-swcy"
      },
      "execution_count": null,
      "outputs": []
    },
    {
      "cell_type": "code",
      "source": [
        "plt.hist(hist_norm_softmax, bins='auto')\n",
        "plt.hist(hist_outside_softmax, bins='auto', alpha=0.7)"
      ],
      "metadata": {
        "colab": {
          "base_uri": "https://localhost:8080/",
          "height": 352
        },
        "id": "-ggVV0mFFLDl",
        "outputId": "beb685ee-af5a-4ebc-b201-9b037f170c50"
      },
      "execution_count": 134,
      "outputs": [
        {
          "output_type": "execute_result",
          "data": {
            "text/plain": [
              "(array([ 21.,  57.,  62.,  54.,  47.,  47.,  40.,  60.,  62.,  73., 264.]),\n",
              " array([0.34504935, 0.40039113, 0.45573288, 0.51107466, 0.56641644,\n",
              "        0.62175816, 0.67709994, 0.7324417 , 0.7877835 , 0.8431252 ,\n",
              "        0.898467  , 0.9538088 ], dtype=float32),\n",
              " <a list of 11 Patch objects>)"
            ]
          },
          "metadata": {},
          "execution_count": 134
        },
        {
          "output_type": "display_data",
          "data": {
            "text/plain": [
              "<Figure size 432x288 with 1 Axes>"
            ],
            "image/png": "[encoded data removed]"
          },
          "metadata": {
            "needs_background": "light"
          }
        }
      ]
    },
    {
      "cell_type": "markdown",
      "source": [
        "#Histogram - max(logits)"
      ],
      "metadata": {
        "id": "jlf8Q6U1X25P"
      }
    },
    {
      "cell_type": "code",
      "source": [
        "def get_hist_data_logit(logits_list):\n",
        "  hist_prob = []\n",
        "  for i in range(len(logits_list)):\n",
        "    logits_list[i] = logits_list[i].numpy(force=True)\n",
        "    for j in range(len(logits_list[i])):\n",
        "      hist_prob.append(logits_list[i][j].max())\n",
        "  return hist_prob"
      ],
      "metadata": {
        "id": "DrYh2WAkFPYb"
      },
      "execution_count": 135,
      "outputs": []
    },
    {
      "cell_type": "code",
      "source": [
        "hist_norm_logit = get_hist_data_logit(logits_list)\n",
        "hist_outside_logit = get_hist_data_logit(logits_list_outside)\n",
        "print(f\"Seen elements histograms length: {len(hist_norm_logit)}\")\n",
        "print(f\"Unseen elements histograms length: {len(hist_outside_logit)}\")"
      ],
      "metadata": {
        "id": "X69pxuRnXLa4",
        "colab": {
          "base_uri": "https://localhost:8080/"
        },
        "outputId": "35dbc0a9-2c08-4958-bfa9-716a53a12548"
      },
      "execution_count": 136,
      "outputs": [
        {
          "output_type": "stream",
          "name": "stdout",
          "text": [
            "Seen elements histograms length: 144\n",
            "Unseen elements histograms length: 787\n"
          ]
        }
      ]
    },
    {
      "cell_type": "code",
      "source": [
        "plt.hist(hist_norm_logit, bins='auto')\n",
        "plt.hist(hist_outside_logit, bins='auto', alpha=0.7)"
      ],
      "metadata": {
        "colab": {
          "base_uri": "https://localhost:8080/",
          "height": 352
        },
        "id": "uWK-L-HMXbSi",
        "outputId": "e6c902a9-4ad7-47d9-fda6-0c1bfbb81b59"
      },
      "execution_count": 137,
      "outputs": [
        {
          "output_type": "execute_result",
          "data": {
            "text/plain": [
              "(array([ 32.,  62.,  64.,  85.,  64.,  46.,  63.,  66.,  51., 103., 151.]),\n",
              " array([0.4510663 , 0.66114753, 0.87122875, 1.0813099 , 1.2913913 ,\n",
              "        1.5014725 , 1.7115537 , 1.9216349 , 2.131716  , 2.3417974 ,\n",
              "        2.5518785 , 2.7619598 ], dtype=float32),\n",
              " <a list of 11 Patch objects>)"
            ]
          },
          "metadata": {},
          "execution_count": 137
        },
        {
          "output_type": "display_data",
          "data": {
            "text/plain": [
              "<Figure size 432x288 with 1 Axes>"
            ],
            "image/png": "[encoded data removed]"
          },
          "metadata": {
            "needs_background": "light"
          }
        }
      ]
    },
    {
      "cell_type": "markdown",
      "source": [
        "#Gaussian Discrete Analysis + Mahalanobis/Eucledian distance"
      ],
      "metadata": {
        "id": "GplD8R3_d5pK"
      }
    },
    {
      "cell_type": "code",
      "source": [
        "def confidence(features: np.ndarray,\n",
        "               means: np.ndarray,\n",
        "               distance_type: str,\n",
        "               cov: np.ndarray = None) -> np.ndarray:\n",
        "    \"\"\"\n",
        "    Calculate mahalanobis or euclidean based confidence score for each class.\n",
        "    Params:\n",
        "        - features: shape (num_samples, num_features)\n",
        "        - means: shape (num_classes, num_features)\n",
        "        - cov: shape (num_features, num_features) or None (if use euclidean distance)\n",
        "    \n",
        "    Returns:\n",
        "        - confidence: shape (num_samples, num_classes)\n",
        "    \"\"\"\n",
        "    assert distance_type in (\"euclidean\", \"mahalanobis\")\n",
        "\n",
        "    num_samples = features.shape[0]\n",
        "    num_features = features.shape[1]\n",
        "    num_classes = means.shape[0]\n",
        "    if distance_type == \"euclidean\":\n",
        "        cov = np.identity(num_features)\n",
        "    \n",
        "    features = features.reshape(num_samples, 1, num_features).repeat(num_classes, axis=1)  # (num_samples, num_classes, num_features)\n",
        "    means = means.reshape(1, num_classes, num_features).repeat(num_samples, axis=0)  # (num_samples, num_classes, num_features)\n",
        "    vectors = features - means  # (num_samples, num_classes, num_features)\n",
        "    cov_inv = np.linalg.inv(cov)\n",
        "    bef_sqrt = np.matmul(np.matmul(vectors.reshape(num_samples, num_classes, 1, num_features), cov_inv),\n",
        "                         vectors.reshape(num_samples, num_classes, num_features, 1)).squeeze()\n",
        "    result = np.sqrt(bef_sqrt)\n",
        "    result[np.isnan(result)] = 1e12  # solve nan\n",
        "    return result"
      ],
      "metadata": {
        "id": "WJ6KZP7Ce8Sd"
      },
      "execution_count": 138,
      "outputs": []
    },
    {
      "cell_type": "code",
      "source": [
        "def tensor_to_list(logits_list):\n",
        "    for i in range(len(logits_list)):\n",
        "      logits_list[i] = logits_list[i].numpy(force=True)\n",
        "  \n",
        "    return logits_list"
      ],
      "metadata": {
        "id": "rn9B_NfpuEbW"
      },
      "execution_count": 139,
      "outputs": []
    },
    {
      "cell_type": "code",
      "source": [
        "feature_train_list = logits_list.copy()\n",
        "feature_test_list = logits_list_outside.copy()\n",
        "y_train_seen_list = tensor_to_list(test_label_list)"
      ],
      "metadata": {
        "id": "5cYinKorjthR"
      },
      "execution_count": 140,
      "outputs": []
    },
    {
      "cell_type": "code",
      "source": [
        "def get_good_pred_indicies(true_label, predictions):\n",
        "    result = []\n",
        "    for i in range(len(true_label)):\n",
        "        if true_label[i] == predictions[i]:\n",
        "            result.append(i)\n",
        "    return result"
      ],
      "metadata": {
        "id": "ZAjr6fYPF6N3"
      },
      "execution_count": 148,
      "outputs": []
    },
    {
      "cell_type": "code",
      "source": [
        "#training LinearDiscriminantAnalysis\n",
        "from sklearn.discriminant_analysis import LinearDiscriminantAnalysis\n",
        "\n",
        "solver = \"lsqr\"\n",
        "distance_type = \"mahalanobis\" # \"euclidean\"\n",
        "assert solver in (\"lsqr\")\n",
        "assert distance_type in (\"mahalanobis\", \"euclidean\")\n",
        "\n",
        "threshold = 2.0\n",
        "false_unseen = 0\n",
        "false_seen = 0\n",
        "\n",
        "for feature_train, feature_test, y_train in zip(feature_train_list, feature_test_list, y_train_seen_list):\n",
        "    \n",
        "    gda = LinearDiscriminantAnalysis(solver=solver, shrinkage=None, store_covariance=True)\n",
        "    gda.fit(feature_train, y_train)\n",
        "\n",
        "    y_pred = gda.predict(feature_test)\n",
        "    gda_result_test = confidence(feature_test, gda.means_, distance_type, gda.covariance_)\n",
        "    y_pred_score = pd.Series(gda_result_test.min(axis=1))\n",
        "\n",
        "    y_pred_score[y_pred_score[y_pred_score > threshold].index] = 'unseen'\n",
        "    #_, train_ind, pred_good_ind = np.intersect1d(y_train, y_pred, return_indices=True)\n",
        "    pred_good_ind = get_good_pred_indicies(y_train, y_pred)\n",
        "\n",
        "    for idx in range(len(y_pred)):\n",
        "\n",
        "        if idx in pred_good_ind and y_pred_score[idx] == 'unseen':\n",
        "            false_unseen += 1\n",
        "\n",
        "        if idx not in pred_good_ind and y_pred_score[idx] != 'unseen'                                 :\n",
        "            false_seen += 1\n",
        "\n",
        "    false_unseen = false_unseen/y_pred.size\n",
        "    false_seen = false_seen/y_pred.size\n"
      ],
      "metadata": {
        "id": "fUivo6RnjgQ-",
        "colab": {
          "base_uri": "https://localhost:8080/"
        },
        "outputId": "9352c863-4bb7-4202-9fea-3c4763b9183c"
      },
      "execution_count": 163,
      "outputs": [
        {
          "output_type": "stream",
          "name": "stderr",
          "text": [
            "/usr/local/lib/python3.8/dist-packages/sklearn/covariance/_empirical_covariance.py:86: UserWarning: Only one sample available. You may want to reshape your data array\n",
            "  warnings.warn(\n"
          ]
        }
      ]
    },
    {
      "cell_type": "code",
      "source": [
        "print(f'false unseen: {false_unseen}')\n",
        "print(f'false seen: {false_seen}')"
      ],
      "metadata": {
        "colab": {
          "base_uri": "https://localhost:8080/"
        },
        "id": "kHLjfG1WtmoN",
        "outputId": "b3500261-97d8-4158-87aa-fa997bc5594f"
      },
      "execution_count": 164,
      "outputs": [
        {
          "output_type": "stream",
          "name": "stdout",
          "text": [
            "false unseen: 0.0986914503353445\n",
            "false seen: 0.3483799746218174\n"
          ]
        }
      ]
    },
    {
      "cell_type": "markdown",
      "source": [
        "#LOF"
      ],
      "metadata": {
        "id": "77Z5KqU0men_"
      }
    },
    {
      "cell_type": "code",
      "source": [
        "y_pred = gda.predict(feature_test)\n",
        "gda_result_test = confidence(feature_test, gda.means_, distance_type, gda.covariance_)\n",
        "y_pred_score = pd.Series(gda_result_test.min(axis=1))"
      ],
      "metadata": {
        "id": "2tZ3HYPX02rK"
      },
      "execution_count": 144,
      "outputs": []
    },
    {
      "cell_type": "code",
      "source": [
        "from sklearn.neighbors import LocalOutlierFactor\n",
        "\n",
        "\n",
        "false_unseen = 0\n",
        "false_seen = 0\n",
        "\n",
        "for feature_train, feature_test, y_train in zip(feature_train_list, feature_test_list, y_train_seen_list):\n",
        "    \n",
        "    lof = LocalOutlierFactor(n_neighbors=10, contamination=0.05, novelty=True, n_jobs=-1)\n",
        "    lof.fit(feature_train)\n",
        "  \n",
        "    y_pred_lof = lof.predict(feature_test)\n",
        "    y_pred_score = pd.Series(y_pred_lof)\n",
        "\n",
        "  \n",
        "    pred_good_ind = get_good_pred_indicies(y_train, y_pred_lof)\n",
        "    y_pred_score[y_pred_score[y_pred_lof==-1].index]='unseen'\n",
        "    for idx in range(len(y_pred)):\n",
        "\n",
        "        if idx in pred_good_ind and y_pred_lof[idx] == 'unseen':\n",
        "            false_unseen += 1\n",
        "\n",
        "        if idx not in pred_good_ind and y_pred_lof[idx] != 'unseen'                                 :\n",
        "            false_seen += 1\n",
        "\n",
        "    false_unseen = false_unseen/y_pred.size\n",
        "    false_seen = false_seen/y_pred.size\n",
        "    "
      ],
      "metadata": {
        "id": "fezWogcfmfdA"
      },
      "execution_count": 165,
      "outputs": []
    },
    {
      "cell_type": "code",
      "source": [
        "print(f'false unseen: {false_unseen}')\n",
        "print(f'false seen: {false_seen}')"
      ],
      "metadata": {
        "colab": {
          "base_uri": "https://localhost:8080/"
        },
        "id": "MDi5puZ6xfJo",
        "outputId": "3584f475-c67c-42d8-f839-759eb169c318"
      },
      "execution_count": 166,
      "outputs": [
        {
          "output_type": "stream",
          "name": "stdout",
          "text": [
            "false unseen: 0.0\n",
            "false seen: 0.5478310394498099\n"
          ]
        }
      ]
    },
    {
      "cell_type": "code",
      "source": [],
      "metadata": {
        "id": "RhROkQQ_1tQY"
      },
      "execution_count": 152,
      "outputs": []
    }
  ],
  "metadata": {
    "accelerator": "GPU",
    "colab": {
      "provenance": []
    },
    "gpuClass": "standard",
    "kernelspec": {
      "display_name": "Python 3",
      "name": "python3"
    },
    "language_info": {
      "name": "python"
    },
    "widgets": {
      "application/vnd.jupyter.widget-state+json": {
        "09748a95fa2646309bdf823920109152": {
          "model_module": "@jupyter-widgets/controls",
          "model_name": "HBoxModel",
          "model_module_version": "1.5.0",
          "state": {
            "_dom_classes": [],
            "_model_module": "@jupyter-widgets/controls",
            "_model_module_version": "1.5.0",
            "_model_name": "HBoxModel",
            "_view_count": null,
            "_view_module": "@jupyter-widgets/controls",
            "_view_module_version": "1.5.0",
            "_view_name": "HBoxView",
            "box_style": "",
            "children": [
              "IPY_MODEL_095a0ee5fbfc49ed90eafb2370bd7a1b",
              "IPY_MODEL_13cc599e7d3e474eb4341acce04a278f",
              "IPY_MODEL_6276bab44ab242b3bc66b794074d560d"
            ],
            "layout": "IPY_MODEL_d7f6e356f0e84e28a8c0375675e3b167"
          }
        },
        "095a0ee5fbfc49ed90eafb2370bd7a1b": {
          "model_module": "@jupyter-widgets/controls",
          "model_name": "HTMLModel",
          "model_module_version": "1.5.0",
          "state": {
            "_dom_classes": [],
            "_model_module": "@jupyter-widgets/controls",
            "_model_module_version": "1.5.0",
            "_model_name": "HTMLModel",
            "_view_count": null,
            "_view_module": "@jupyter-widgets/controls",
            "_view_module_version": "1.5.0",
            "_view_name": "HTMLView",
            "description": "",
            "description_tooltip": null,
            "layout": "IPY_MODEL_cc891aad4c69406f95487196411aa68b",
            "placeholder": "​",
            "style": "IPY_MODEL_7f6d6e4773d3470c8b22b1051715a0f5",
            "value": "Downloading (…)solve/main/vocab.txt: 100%"
          }
        },
        "13cc599e7d3e474eb4341acce04a278f": {
          "model_module": "@jupyter-widgets/controls",
          "model_name": "FloatProgressModel",
          "model_module_version": "1.5.0",
          "state": {
            "_dom_classes": [],
            "_model_module": "@jupyter-widgets/controls",
            "_model_module_version": "1.5.0",
            "_model_name": "FloatProgressModel",
            "_view_count": null,
            "_view_module": "@jupyter-widgets/controls",
            "_view_module_version": "1.5.0",
            "_view_name": "ProgressView",
            "bar_style": "success",
            "description": "",
            "description_tooltip": null,
            "layout": "IPY_MODEL_7172ac3c47b14d71a0f6afcdfb7c3842",
            "max": 213450,
            "min": 0,
            "orientation": "horizontal",
            "style": "IPY_MODEL_a11615c30747415c884c06cefb2e6178",
            "value": 213450
          }
        },
        "6276bab44ab242b3bc66b794074d560d": {
          "model_module": "@jupyter-widgets/controls",
          "model_name": "HTMLModel",
          "model_module_version": "1.5.0",
          "state": {
            "_dom_classes": [],
            "_model_module": "@jupyter-widgets/controls",
            "_model_module_version": "1.5.0",
            "_model_name": "HTMLModel",
            "_view_count": null,
            "_view_module": "@jupyter-widgets/controls",
            "_view_module_version": "1.5.0",
            "_view_name": "HTMLView",
            "description": "",
            "description_tooltip": null,
            "layout": "IPY_MODEL_befcaee8c1ec4b9e8da9571fc73191ee",
            "placeholder": "​",
            "style": "IPY_MODEL_362af4d0241b42eeb8ed6a8983ea0fef",
            "value": " 213k/213k [00:00&lt;00:00, 322kB/s]"
          }
        },
        "d7f6e356f0e84e28a8c0375675e3b167": {
          "model_module": "@jupyter-widgets/base",
          "model_name": "LayoutModel",
          "model_module_version": "1.2.0",
          "state": {
            "_model_module": "@jupyter-widgets/base",
            "_model_module_version": "1.2.0",
            "_model_name": "LayoutModel",
            "_view_count": null,
            "_view_module": "@jupyter-widgets/base",
            "_view_module_version": "1.2.0",
            "_view_name": "LayoutView",
            "align_content": null,
            "align_items": null,
            "align_self": null,
            "border": null,
            "bottom": null,
            "display": null,
            "flex": null,
            "flex_flow": null,
            "grid_area": null,
            "grid_auto_columns": null,
            "grid_auto_flow": null,
            "grid_auto_rows": null,
            "grid_column": null,
            "grid_gap": null,
            "grid_row": null,
            "grid_template_areas": null,
            "grid_template_columns": null,
            "grid_template_rows": null,
            "height": null,
            "justify_content": null,
            "justify_items": null,
            "left": null,
            "margin": null,
            "max_height": null,
            "max_width": null,
            "min_height": null,
            "min_width": null,
            "object_fit": null,
            "object_position": null,
            "order": null,
            "overflow": null,
            "overflow_x": null,
            "overflow_y": null,
            "padding": null,
            "right": null,
            "top": null,
            "visibility": null,
            "width": null
          }
        },
        "cc891aad4c69406f95487196411aa68b": {
          "model_module": "@jupyter-widgets/base",
          "model_name": "LayoutModel",
          "model_module_version": "1.2.0",
          "state": {
            "_model_module": "@jupyter-widgets/base",
            "_model_module_version": "1.2.0",
            "_model_name": "LayoutModel",
            "_view_count": null,
            "_view_module": "@jupyter-widgets/base",
            "_view_module_version": "1.2.0",
            "_view_name": "LayoutView",
            "align_content": null,
            "align_items": null,
            "align_self": null,
            "border": null,
            "bottom": null,
            "display": null,
            "flex": null,
            "flex_flow": null,
            "grid_area": null,
            "grid_auto_columns": null,
            "grid_auto_flow": null,
            "grid_auto_rows": null,
            "grid_column": null,
            "grid_gap": null,
            "grid_row": null,
            "grid_template_areas": null,
            "grid_template_columns": null,
            "grid_template_rows": null,
            "height": null,
            "justify_content": null,
            "justify_items": null,
            "left": null,
            "margin": null,
            "max_height": null,
            "max_width": null,
            "min_height": null,
            "min_width": null,
            "object_fit": null,
            "object_position": null,
            "order": null,
            "overflow": null,
            "overflow_x": null,
            "overflow_y": null,
            "padding": null,
            "right": null,
            "top": null,
            "visibility": null,
            "width": null
          }
        },
        "7f6d6e4773d3470c8b22b1051715a0f5": {
          "model_module": "@jupyter-widgets/controls",
          "model_name": "DescriptionStyleModel",
          "model_module_version": "1.5.0",
          "state": {
            "_model_module": "@jupyter-widgets/controls",
            "_model_module_version": "1.5.0",
            "_model_name": "DescriptionStyleModel",
            "_view_count": null,
            "_view_module": "@jupyter-widgets/base",
            "_view_module_version": "1.2.0",
            "_view_name": "StyleView",
            "description_width": ""
          }
        },
        "7172ac3c47b14d71a0f6afcdfb7c3842": {
          "model_module": "@jupyter-widgets/base",
          "model_name": "LayoutModel",
          "model_module_version": "1.2.0",
          "state": {
            "_model_module": "@jupyter-widgets/base",
            "_model_module_version": "1.2.0",
            "_model_name": "LayoutModel",
            "_view_count": null,
            "_view_module": "@jupyter-widgets/base",
            "_view_module_version": "1.2.0",
            "_view_name": "LayoutView",
            "align_content": null,
            "align_items": null,
            "align_self": null,
            "border": null,
            "bottom": null,
            "display": null,
            "flex": null,
            "flex_flow": null,
            "grid_area": null,
            "grid_auto_columns": null,
            "grid_auto_flow": null,
            "grid_auto_rows": null,
            "grid_column": null,
            "grid_gap": null,
            "grid_row": null,
            "grid_template_areas": null,
            "grid_template_columns": null,
            "grid_template_rows": null,
            "height": null,
            "justify_content": null,
            "justify_items": null,
            "left": null,
            "margin": null,
            "max_height": null,
            "max_width": null,
            "min_height": null,
            "min_width": null,
            "object_fit": null,
            "object_position": null,
            "order": null,
            "overflow": null,
            "overflow_x": null,
            "overflow_y": null,
            "padding": null,
            "right": null,
            "top": null,
            "visibility": null,
            "width": null
          }
        },
        "a11615c30747415c884c06cefb2e6178": {
          "model_module": "@jupyter-widgets/controls",
          "model_name": "ProgressStyleModel",
          "model_module_version": "1.5.0",
          "state": {
            "_model_module": "@jupyter-widgets/controls",
            "_model_module_version": "1.5.0",
            "_model_name": "ProgressStyleModel",
            "_view_count": null,
            "_view_module": "@jupyter-widgets/base",
            "_view_module_version": "1.2.0",
            "_view_name": "StyleView",
            "bar_color": null,
            "description_width": ""
          }
        },
        "befcaee8c1ec4b9e8da9571fc73191ee": {
          "model_module": "@jupyter-widgets/base",
          "model_name": "LayoutModel",
          "model_module_version": "1.2.0",
          "state": {
            "_model_module": "@jupyter-widgets/base",
            "_model_module_version": "1.2.0",
            "_model_name": "LayoutModel",
            "_view_count": null,
            "_view_module": "@jupyter-widgets/base",
            "_view_module_version": "1.2.0",
            "_view_name": "LayoutView",
            "align_content": null,
            "align_items": null,
            "align_self": null,
            "border": null,
            "bottom": null,
            "display": null,
            "flex": null,
            "flex_flow": null,
            "grid_area": null,
            "grid_auto_columns": null,
            "grid_auto_flow": null,
            "grid_auto_rows": null,
            "grid_column": null,
            "grid_gap": null,
            "grid_row": null,
            "grid_template_areas": null,
            "grid_template_columns": null,
            "grid_template_rows": null,
            "height": null,
            "justify_content": null,
            "justify_items": null,
            "left": null,
            "margin": null,
            "max_height": null,
            "max_width": null,
            "min_height": null,
            "min_width": null,
            "object_fit": null,
            "object_position": null,
            "order": null,
            "overflow": null,
            "overflow_x": null,
            "overflow_y": null,
            "padding": null,
            "right": null,
            "top": null,
            "visibility": null,
            "width": null
          }
        },
        "362af4d0241b42eeb8ed6a8983ea0fef": {
          "model_module": "@jupyter-widgets/controls",
          "model_name": "DescriptionStyleModel",
          "model_module_version": "1.5.0",
          "state": {
            "_model_module": "@jupyter-widgets/controls",
            "_model_module_version": "1.5.0",
            "_model_name": "DescriptionStyleModel",
            "_view_count": null,
            "_view_module": "@jupyter-widgets/base",
            "_view_module_version": "1.2.0",
            "_view_name": "StyleView",
            "description_width": ""
          }
        },
        "90205f0032c84455817c2898a3f4b416": {
          "model_module": "@jupyter-widgets/controls",
          "model_name": "HBoxModel",
          "model_module_version": "1.5.0",
          "state": {
            "_dom_classes": [],
            "_model_module": "@jupyter-widgets/controls",
            "_model_module_version": "1.5.0",
            "_model_name": "HBoxModel",
            "_view_count": null,
            "_view_module": "@jupyter-widgets/controls",
            "_view_module_version": "1.5.0",
            "_view_name": "HBoxView",
            "box_style": "",
            "children": [
              "IPY_MODEL_8bd37e4f05da4a2d8af6de6c0c0b0e10",
              "IPY_MODEL_fe1f5cf5d6bb4b0ba863b9749757bdee",
              "IPY_MODEL_9da25b171f7f4e218596a1871f7d0251"
            ],
            "layout": "IPY_MODEL_ef6a246a8efb466dab0add1779fb5f5a"
          }
        },
        "8bd37e4f05da4a2d8af6de6c0c0b0e10": {
          "model_module": "@jupyter-widgets/controls",
          "model_name": "HTMLModel",
          "model_module_version": "1.5.0",
          "state": {
            "_dom_classes": [],
            "_model_module": "@jupyter-widgets/controls",
            "_model_module_version": "1.5.0",
            "_model_name": "HTMLModel",
            "_view_count": null,
            "_view_module": "@jupyter-widgets/controls",
            "_view_module_version": "1.5.0",
            "_view_name": "HTMLView",
            "description": "",
            "description_tooltip": null,
            "layout": "IPY_MODEL_71f26c6b9e0a4284856e9d85b534298e",
            "placeholder": "​",
            "style": "IPY_MODEL_2bbf00aad0184a8dbd550364e67303d1",
            "value": "Downloading (…)okenizer_config.json: 100%"
          }
        },
        "fe1f5cf5d6bb4b0ba863b9749757bdee": {
          "model_module": "@jupyter-widgets/controls",
          "model_name": "FloatProgressModel",
          "model_module_version": "1.5.0",
          "state": {
            "_dom_classes": [],
            "_model_module": "@jupyter-widgets/controls",
            "_model_module_version": "1.5.0",
            "_model_name": "FloatProgressModel",
            "_view_count": null,
            "_view_module": "@jupyter-widgets/controls",
            "_view_module_version": "1.5.0",
            "_view_name": "ProgressView",
            "bar_style": "success",
            "description": "",
            "description_tooltip": null,
            "layout": "IPY_MODEL_40ff7af6be7c4a709185f3410cbd2175",
            "max": 29,
            "min": 0,
            "orientation": "horizontal",
            "style": "IPY_MODEL_28b363e10fb74abe85b8f887583f1e4b",
            "value": 29
          }
        },
        "9da25b171f7f4e218596a1871f7d0251": {
          "model_module": "@jupyter-widgets/controls",
          "model_name": "HTMLModel",
          "model_module_version": "1.5.0",
          "state": {
            "_dom_classes": [],
            "_model_module": "@jupyter-widgets/controls",
            "_model_module_version": "1.5.0",
            "_model_name": "HTMLModel",
            "_view_count": null,
            "_view_module": "@jupyter-widgets/controls",
            "_view_module_version": "1.5.0",
            "_view_name": "HTMLView",
            "description": "",
            "description_tooltip": null,
            "layout": "IPY_MODEL_ffd3cddf042e4f568c55ed1ec443b1cb",
            "placeholder": "​",
            "style": "IPY_MODEL_dd6c98f15d2e4cd98a625a7f5b084918",
            "value": " 29.0/29.0 [00:00&lt;00:00, 1.48kB/s]"
          }
        },
        "ef6a246a8efb466dab0add1779fb5f5a": {
          "model_module": "@jupyter-widgets/base",
          "model_name": "LayoutModel",
          "model_module_version": "1.2.0",
          "state": {
            "_model_module": "@jupyter-widgets/base",
            "_model_module_version": "1.2.0",
            "_model_name": "LayoutModel",
            "_view_count": null,
            "_view_module": "@jupyter-widgets/base",
            "_view_module_version": "1.2.0",
            "_view_name": "LayoutView",
            "align_content": null,
            "align_items": null,
            "align_self": null,
            "border": null,
            "bottom": null,
            "display": null,
            "flex": null,
            "flex_flow": null,
            "grid_area": null,
            "grid_auto_columns": null,
            "grid_auto_flow": null,
            "grid_auto_rows": null,
            "grid_column": null,
            "grid_gap": null,
            "grid_row": null,
            "grid_template_areas": null,
            "grid_template_columns": null,
            "grid_template_rows": null,
            "height": null,
            "justify_content": null,
            "justify_items": null,
            "left": null,
            "margin": null,
            "max_height": null,
            "max_width": null,
            "min_height": null,
            "min_width": null,
            "object_fit": null,
            "object_position": null,
            "order": null,
            "overflow": null,
            "overflow_x": null,
            "overflow_y": null,
            "padding": null,
            "right": null,
            "top": null,
            "visibility": null,
            "width": null
          }
        },
        "71f26c6b9e0a4284856e9d85b534298e": {
          "model_module": "@jupyter-widgets/base",
          "model_name": "LayoutModel",
          "model_module_version": "1.2.0",
          "state": {
            "_model_module": "@jupyter-widgets/base",
            "_model_module_version": "1.2.0",
            "_model_name": "LayoutModel",
            "_view_count": null,
            "_view_module": "@jupyter-widgets/base",
            "_view_module_version": "1.2.0",
            "_view_name": "LayoutView",
            "align_content": null,
            "align_items": null,
            "align_self": null,
            "border": null,
            "bottom": null,
            "display": null,
            "flex": null,
            "flex_flow": null,
            "grid_area": null,
            "grid_auto_columns": null,
            "grid_auto_flow": null,
            "grid_auto_rows": null,
            "grid_column": null,
            "grid_gap": null,
            "grid_row": null,
            "grid_template_areas": null,
            "grid_template_columns": null,
            "grid_template_rows": null,
            "height": null,
            "justify_content": null,
            "justify_items": null,
            "left": null,
            "margin": null,
            "max_height": null,
            "max_width": null,
            "min_height": null,
            "min_width": null,
            "object_fit": null,
            "object_position": null,
            "order": null,
            "overflow": null,
            "overflow_x": null,
            "overflow_y": null,
            "padding": null,
            "right": null,
            "top": null,
            "visibility": null,
            "width": null
          }
        },
        "2bbf00aad0184a8dbd550364e67303d1": {
          "model_module": "@jupyter-widgets/controls",
          "model_name": "DescriptionStyleModel",
          "model_module_version": "1.5.0",
          "state": {
            "_model_module": "@jupyter-widgets/controls",
            "_model_module_version": "1.5.0",
            "_model_name": "DescriptionStyleModel",
            "_view_count": null,
            "_view_module": "@jupyter-widgets/base",
            "_view_module_version": "1.2.0",
            "_view_name": "StyleView",
            "description_width": ""
          }
        },
        "40ff7af6be7c4a709185f3410cbd2175": {
          "model_module": "@jupyter-widgets/base",
          "model_name": "LayoutModel",
          "model_module_version": "1.2.0",
          "state": {
            "_model_module": "@jupyter-widgets/base",
            "_model_module_version": "1.2.0",
            "_model_name": "LayoutModel",
            "_view_count": null,
            "_view_module": "@jupyter-widgets/base",
            "_view_module_version": "1.2.0",
            "_view_name": "LayoutView",
            "align_content": null,
            "align_items": null,
            "align_self": null,
            "border": null,
            "bottom": null,
            "display": null,
            "flex": null,
            "flex_flow": null,
            "grid_area": null,
            "grid_auto_columns": null,
            "grid_auto_flow": null,
            "grid_auto_rows": null,
            "grid_column": null,
            "grid_gap": null,
            "grid_row": null,
            "grid_template_areas": null,
            "grid_template_columns": null,
            "grid_template_rows": null,
            "height": null,
            "justify_content": null,
            "justify_items": null,
            "left": null,
            "margin": null,
            "max_height": null,
            "max_width": null,
            "min_height": null,
            "min_width": null,
            "object_fit": null,
            "object_position": null,
            "order": null,
            "overflow": null,
            "overflow_x": null,
            "overflow_y": null,
            "padding": null,
            "right": null,
            "top": null,
            "visibility": null,
            "width": null
          }
        },
        "28b363e10fb74abe85b8f887583f1e4b": {
          "model_module": "@jupyter-widgets/controls",
          "model_name": "ProgressStyleModel",
          "model_module_version": "1.5.0",
          "state": {
            "_model_module": "@jupyter-widgets/controls",
            "_model_module_version": "1.5.0",
            "_model_name": "ProgressStyleModel",
            "_view_count": null,
            "_view_module": "@jupyter-widgets/base",
            "_view_module_version": "1.2.0",
            "_view_name": "StyleView",
            "bar_color": null,
            "description_width": ""
          }
        },
        "ffd3cddf042e4f568c55ed1ec443b1cb": {
          "model_module": "@jupyter-widgets/base",
          "model_name": "LayoutModel",
          "model_module_version": "1.2.0",
          "state": {
            "_model_module": "@jupyter-widgets/base",
            "_model_module_version": "1.2.0",
            "_model_name": "LayoutModel",
            "_view_count": null,
            "_view_module": "@jupyter-widgets/base",
            "_view_module_version": "1.2.0",
            "_view_name": "LayoutView",
            "align_content": null,
            "align_items": null,
            "align_self": null,
            "border": null,
            "bottom": null,
            "display": null,
            "flex": null,
            "flex_flow": null,
            "grid_area": null,
            "grid_auto_columns": null,
            "grid_auto_flow": null,
            "grid_auto_rows": null,
            "grid_column": null,
            "grid_gap": null,
            "grid_row": null,
            "grid_template_areas": null,
            "grid_template_columns": null,
            "grid_template_rows": null,
            "height": null,
            "justify_content": null,
            "justify_items": null,
            "left": null,
            "margin": null,
            "max_height": null,
            "max_width": null,
            "min_height": null,
            "min_width": null,
            "object_fit": null,
            "object_position": null,
            "order": null,
            "overflow": null,
            "overflow_x": null,
            "overflow_y": null,
            "padding": null,
            "right": null,
            "top": null,
            "visibility": null,
            "width": null
          }
        },
        "dd6c98f15d2e4cd98a625a7f5b084918": {
          "model_module": "@jupyter-widgets/controls",
          "model_name": "DescriptionStyleModel",
          "model_module_version": "1.5.0",
          "state": {
            "_model_module": "@jupyter-widgets/controls",
            "_model_module_version": "1.5.0",
            "_model_name": "DescriptionStyleModel",
            "_view_count": null,
            "_view_module": "@jupyter-widgets/base",
            "_view_module_version": "1.2.0",
            "_view_name": "StyleView",
            "description_width": ""
          }
        },
        "671ebbdfccfb420783bdb46cdcd1cdae": {
          "model_module": "@jupyter-widgets/controls",
          "model_name": "HBoxModel",
          "model_module_version": "1.5.0",
          "state": {
            "_dom_classes": [],
            "_model_module": "@jupyter-widgets/controls",
            "_model_module_version": "1.5.0",
            "_model_name": "HBoxModel",
            "_view_count": null,
            "_view_module": "@jupyter-widgets/controls",
            "_view_module_version": "1.5.0",
            "_view_name": "HBoxView",
            "box_style": "",
            "children": [
              "IPY_MODEL_12c0137974f749e58eb8c303adc36478",
              "IPY_MODEL_af61ffebc0db4ce6a18741f8b0f16fb5",
              "IPY_MODEL_f5877f5745a14fb1aad169162541b485"
            ],
            "layout": "IPY_MODEL_562c94f941fe44cfb1ebeb364c837b95"
          }
        },
        "12c0137974f749e58eb8c303adc36478": {
          "model_module": "@jupyter-widgets/controls",
          "model_name": "HTMLModel",
          "model_module_version": "1.5.0",
          "state": {
            "_dom_classes": [],
            "_model_module": "@jupyter-widgets/controls",
            "_model_module_version": "1.5.0",
            "_model_name": "HTMLModel",
            "_view_count": null,
            "_view_module": "@jupyter-widgets/controls",
            "_view_module_version": "1.5.0",
            "_view_name": "HTMLView",
            "description": "",
            "description_tooltip": null,
            "layout": "IPY_MODEL_dd6ef78537d0445eb244541c27492d8c",
            "placeholder": "​",
            "style": "IPY_MODEL_c798232e76d94ac9a904652877f44226",
            "value": "Downloading (…)lve/main/config.json: 100%"
          }
        },
        "af61ffebc0db4ce6a18741f8b0f16fb5": {
          "model_module": "@jupyter-widgets/controls",
          "model_name": "FloatProgressModel",
          "model_module_version": "1.5.0",
          "state": {
            "_dom_classes": [],
            "_model_module": "@jupyter-widgets/controls",
            "_model_module_version": "1.5.0",
            "_model_name": "FloatProgressModel",
            "_view_count": null,
            "_view_module": "@jupyter-widgets/controls",
            "_view_module_version": "1.5.0",
            "_view_name": "ProgressView",
            "bar_style": "success",
            "description": "",
            "description_tooltip": null,
            "layout": "IPY_MODEL_4c854aa377094e199b51f4ce68330110",
            "max": 570,
            "min": 0,
            "orientation": "horizontal",
            "style": "IPY_MODEL_74be11a71ace4db0ab971afe1025bf1c",
            "value": 570
          }
        },
        "f5877f5745a14fb1aad169162541b485": {
          "model_module": "@jupyter-widgets/controls",
          "model_name": "HTMLModel",
          "model_module_version": "1.5.0",
          "state": {
            "_dom_classes": [],
            "_model_module": "@jupyter-widgets/controls",
            "_model_module_version": "1.5.0",
            "_model_name": "HTMLModel",
            "_view_count": null,
            "_view_module": "@jupyter-widgets/controls",
            "_view_module_version": "1.5.0",
            "_view_name": "HTMLView",
            "description": "",
            "description_tooltip": null,
            "layout": "IPY_MODEL_64719a86872347cea651f68dd0a50b89",
            "placeholder": "​",
            "style": "IPY_MODEL_834bdfd7dbbb480db327e0cdac48b110",
            "value": " 570/570 [00:00&lt;00:00, 38.6kB/s]"
          }
        },
        "562c94f941fe44cfb1ebeb364c837b95": {
          "model_module": "@jupyter-widgets/base",
          "model_name": "LayoutModel",
          "model_module_version": "1.2.0",
          "state": {
            "_model_module": "@jupyter-widgets/base",
            "_model_module_version": "1.2.0",
            "_model_name": "LayoutModel",
            "_view_count": null,
            "_view_module": "@jupyter-widgets/base",
            "_view_module_version": "1.2.0",
            "_view_name": "LayoutView",
            "align_content": null,
            "align_items": null,
            "align_self": null,
            "border": null,
            "bottom": null,
            "display": null,
            "flex": null,
            "flex_flow": null,
            "grid_area": null,
            "grid_auto_columns": null,
            "grid_auto_flow": null,
            "grid_auto_rows": null,
            "grid_column": null,
            "grid_gap": null,
            "grid_row": null,
            "grid_template_areas": null,
            "grid_template_columns": null,
            "grid_template_rows": null,
            "height": null,
            "justify_content": null,
            "justify_items": null,
            "left": null,
            "margin": null,
            "max_height": null,
            "max_width": null,
            "min_height": null,
            "min_width": null,
            "object_fit": null,
            "object_position": null,
            "order": null,
            "overflow": null,
            "overflow_x": null,
            "overflow_y": null,
            "padding": null,
            "right": null,
            "top": null,
            "visibility": null,
            "width": null
          }
        },
        "dd6ef78537d0445eb244541c27492d8c": {
          "model_module": "@jupyter-widgets/base",
          "model_name": "LayoutModel",
          "model_module_version": "1.2.0",
          "state": {
            "_model_module": "@jupyter-widgets/base",
            "_model_module_version": "1.2.0",
            "_model_name": "LayoutModel",
            "_view_count": null,
            "_view_module": "@jupyter-widgets/base",
            "_view_module_version": "1.2.0",
            "_view_name": "LayoutView",
            "align_content": null,
            "align_items": null,
            "align_self": null,
            "border": null,
            "bottom": null,
            "display": null,
            "flex": null,
            "flex_flow": null,
            "grid_area": null,
            "grid_auto_columns": null,
            "grid_auto_flow": null,
            "grid_auto_rows": null,
            "grid_column": null,
            "grid_gap": null,
            "grid_row": null,
            "grid_template_areas": null,
            "grid_template_columns": null,
            "grid_template_rows": null,
            "height": null,
            "justify_content": null,
            "justify_items": null,
            "left": null,
            "margin": null,
            "max_height": null,
            "max_width": null,
            "min_height": null,
            "min_width": null,
            "object_fit": null,
            "object_position": null,
            "order": null,
            "overflow": null,
            "overflow_x": null,
            "overflow_y": null,
            "padding": null,
            "right": null,
            "top": null,
            "visibility": null,
            "width": null
          }
        },
        "c798232e76d94ac9a904652877f44226": {
          "model_module": "@jupyter-widgets/controls",
          "model_name": "DescriptionStyleModel",
          "model_module_version": "1.5.0",
          "state": {
            "_model_module": "@jupyter-widgets/controls",
            "_model_module_version": "1.5.0",
            "_model_name": "DescriptionStyleModel",
            "_view_count": null,
            "_view_module": "@jupyter-widgets/base",
            "_view_module_version": "1.2.0",
            "_view_name": "StyleView",
            "description_width": ""
          }
        },
        "4c854aa377094e199b51f4ce68330110": {
          "model_module": "@jupyter-widgets/base",
          "model_name": "LayoutModel",
          "model_module_version": "1.2.0",
          "state": {
            "_model_module": "@jupyter-widgets/base",
            "_model_module_version": "1.2.0",
            "_model_name": "LayoutModel",
            "_view_count": null,
            "_view_module": "@jupyter-widgets/base",
            "_view_module_version": "1.2.0",
            "_view_name": "LayoutView",
            "align_content": null,
            "align_items": null,
            "align_self": null,
            "border": null,
            "bottom": null,
            "display": null,
            "flex": null,
            "flex_flow": null,
            "grid_area": null,
            "grid_auto_columns": null,
            "grid_auto_flow": null,
            "grid_auto_rows": null,
            "grid_column": null,
            "grid_gap": null,
            "grid_row": null,
            "grid_template_areas": null,
            "grid_template_columns": null,
            "grid_template_rows": null,
            "height": null,
            "justify_content": null,
            "justify_items": null,
            "left": null,
            "margin": null,
            "max_height": null,
            "max_width": null,
            "min_height": null,
            "min_width": null,
            "object_fit": null,
            "object_position": null,
            "order": null,
            "overflow": null,
            "overflow_x": null,
            "overflow_y": null,
            "padding": null,
            "right": null,
            "top": null,
            "visibility": null,
            "width": null
          }
        },
        "74be11a71ace4db0ab971afe1025bf1c": {
          "model_module": "@jupyter-widgets/controls",
          "model_name": "ProgressStyleModel",
          "model_module_version": "1.5.0",
          "state": {
            "_model_module": "@jupyter-widgets/controls",
            "_model_module_version": "1.5.0",
            "_model_name": "ProgressStyleModel",
            "_view_count": null,
            "_view_module": "@jupyter-widgets/base",
            "_view_module_version": "1.2.0",
            "_view_name": "StyleView",
            "bar_color": null,
            "description_width": ""
          }
        },
        "64719a86872347cea651f68dd0a50b89": {
          "model_module": "@jupyter-widgets/base",
          "model_name": "LayoutModel",
          "model_module_version": "1.2.0",
          "state": {
            "_model_module": "@jupyter-widgets/base",
            "_model_module_version": "1.2.0",
            "_model_name": "LayoutModel",
            "_view_count": null,
            "_view_module": "@jupyter-widgets/base",
            "_view_module_version": "1.2.0",
            "_view_name": "LayoutView",
            "align_content": null,
            "align_items": null,
            "align_self": null,
            "border": null,
            "bottom": null,
            "display": null,
            "flex": null,
            "flex_flow": null,
            "grid_area": null,
            "grid_auto_columns": null,
            "grid_auto_flow": null,
            "grid_auto_rows": null,
            "grid_column": null,
            "grid_gap": null,
            "grid_row": null,
            "grid_template_areas": null,
            "grid_template_columns": null,
            "grid_template_rows": null,
            "height": null,
            "justify_content": null,
            "justify_items": null,
            "left": null,
            "margin": null,
            "max_height": null,
            "max_width": null,
            "min_height": null,
            "min_width": null,
            "object_fit": null,
            "object_position": null,
            "order": null,
            "overflow": null,
            "overflow_x": null,
            "overflow_y": null,
            "padding": null,
            "right": null,
            "top": null,
            "visibility": null,
            "width": null
          }
        },
        "834bdfd7dbbb480db327e0cdac48b110": {
          "model_module": "@jupyter-widgets/controls",
          "model_name": "DescriptionStyleModel",
          "model_module_version": "1.5.0",
          "state": {
            "_model_module": "@jupyter-widgets/controls",
            "_model_module_version": "1.5.0",
            "_model_name": "DescriptionStyleModel",
            "_view_count": null,
            "_view_module": "@jupyter-widgets/base",
            "_view_module_version": "1.2.0",
            "_view_name": "StyleView",
            "description_width": ""
          }
        },
        "a09e11d0e16d458cba273fcd53543f57": {
          "model_module": "@jupyter-widgets/controls",
          "model_name": "HBoxModel",
          "model_module_version": "1.5.0",
          "state": {
            "_dom_classes": [],
            "_model_module": "@jupyter-widgets/controls",
            "_model_module_version": "1.5.0",
            "_model_name": "HBoxModel",
            "_view_count": null,
            "_view_module": "@jupyter-widgets/controls",
            "_view_module_version": "1.5.0",
            "_view_name": "HBoxView",
            "box_style": "",
            "children": [
              "IPY_MODEL_d4f42ed9f8394d5d8e5fdeb8a24a7560",
              "IPY_MODEL_e8ff5c3bdf5845be93cb821ee203090f",
              "IPY_MODEL_1d55115fae494c5db3e4773700eae4b8"
            ],
            "layout": "IPY_MODEL_7d0e6c60821744b3b060d6a1580f8e82"
          }
        },
        "d4f42ed9f8394d5d8e5fdeb8a24a7560": {
          "model_module": "@jupyter-widgets/controls",
          "model_name": "HTMLModel",
          "model_module_version": "1.5.0",
          "state": {
            "_dom_classes": [],
            "_model_module": "@jupyter-widgets/controls",
            "_model_module_version": "1.5.0",
            "_model_name": "HTMLModel",
            "_view_count": null,
            "_view_module": "@jupyter-widgets/controls",
            "_view_module_version": "1.5.0",
            "_view_name": "HTMLView",
            "description": "",
            "description_tooltip": null,
            "layout": "IPY_MODEL_ebf4a99565484657b854bff786153fa1",
            "placeholder": "​",
            "style": "IPY_MODEL_358de9fe18414ca5aa376ef6b8839057",
            "value": "Downloading (…)&quot;pytorch_model.bin&quot;;: 100%"
          }
        },
        "e8ff5c3bdf5845be93cb821ee203090f": {
          "model_module": "@jupyter-widgets/controls",
          "model_name": "FloatProgressModel",
          "model_module_version": "1.5.0",
          "state": {
            "_dom_classes": [],
            "_model_module": "@jupyter-widgets/controls",
            "_model_module_version": "1.5.0",
            "_model_name": "FloatProgressModel",
            "_view_count": null,
            "_view_module": "@jupyter-widgets/controls",
            "_view_module_version": "1.5.0",
            "_view_name": "ProgressView",
            "bar_style": "success",
            "description": "",
            "description_tooltip": null,
            "layout": "IPY_MODEL_af5fef984e9b44a39c312a2ffabcaead",
            "max": 435779157,
            "min": 0,
            "orientation": "horizontal",
            "style": "IPY_MODEL_cc74383ebde1414faa05003cfb7f623b",
            "value": 435779157
          }
        },
        "1d55115fae494c5db3e4773700eae4b8": {
          "model_module": "@jupyter-widgets/controls",
          "model_name": "HTMLModel",
          "model_module_version": "1.5.0",
          "state": {
            "_dom_classes": [],
            "_model_module": "@jupyter-widgets/controls",
            "_model_module_version": "1.5.0",
            "_model_name": "HTMLModel",
            "_view_count": null,
            "_view_module": "@jupyter-widgets/controls",
            "_view_module_version": "1.5.0",
            "_view_name": "HTMLView",
            "description": "",
            "description_tooltip": null,
            "layout": "IPY_MODEL_d1d3e28c3a844bedb7136d67b0dab1b6",
            "placeholder": "​",
            "style": "IPY_MODEL_989425ea1e84495986560369b850be63",
            "value": " 436M/436M [00:05&lt;00:00, 89.1MB/s]"
          }
        },
        "7d0e6c60821744b3b060d6a1580f8e82": {
          "model_module": "@jupyter-widgets/base",
          "model_name": "LayoutModel",
          "model_module_version": "1.2.0",
          "state": {
            "_model_module": "@jupyter-widgets/base",
            "_model_module_version": "1.2.0",
            "_model_name": "LayoutModel",
            "_view_count": null,
            "_view_module": "@jupyter-widgets/base",
            "_view_module_version": "1.2.0",
            "_view_name": "LayoutView",
            "align_content": null,
            "align_items": null,
            "align_self": null,
            "border": null,
            "bottom": null,
            "display": null,
            "flex": null,
            "flex_flow": null,
            "grid_area": null,
            "grid_auto_columns": null,
            "grid_auto_flow": null,
            "grid_auto_rows": null,
            "grid_column": null,
            "grid_gap": null,
            "grid_row": null,
            "grid_template_areas": null,
            "grid_template_columns": null,
            "grid_template_rows": null,
            "height": null,
            "justify_content": null,
            "justify_items": null,
            "left": null,
            "margin": null,
            "max_height": null,
            "max_width": null,
            "min_height": null,
            "min_width": null,
            "object_fit": null,
            "object_position": null,
            "order": null,
            "overflow": null,
            "overflow_x": null,
            "overflow_y": null,
            "padding": null,
            "right": null,
            "top": null,
            "visibility": null,
            "width": null
          }
        },
        "ebf4a99565484657b854bff786153fa1": {
          "model_module": "@jupyter-widgets/base",
          "model_name": "LayoutModel",
          "model_module_version": "1.2.0",
          "state": {
            "_model_module": "@jupyter-widgets/base",
            "_model_module_version": "1.2.0",
            "_model_name": "LayoutModel",
            "_view_count": null,
            "_view_module": "@jupyter-widgets/base",
            "_view_module_version": "1.2.0",
            "_view_name": "LayoutView",
            "align_content": null,
            "align_items": null,
            "align_self": null,
            "border": null,
            "bottom": null,
            "display": null,
            "flex": null,
            "flex_flow": null,
            "grid_area": null,
            "grid_auto_columns": null,
            "grid_auto_flow": null,
            "grid_auto_rows": null,
            "grid_column": null,
            "grid_gap": null,
            "grid_row": null,
            "grid_template_areas": null,
            "grid_template_columns": null,
            "grid_template_rows": null,
            "height": null,
            "justify_content": null,
            "justify_items": null,
            "left": null,
            "margin": null,
            "max_height": null,
            "max_width": null,
            "min_height": null,
            "min_width": null,
            "object_fit": null,
            "object_position": null,
            "order": null,
            "overflow": null,
            "overflow_x": null,
            "overflow_y": null,
            "padding": null,
            "right": null,
            "top": null,
            "visibility": null,
            "width": null
          }
        },
        "358de9fe18414ca5aa376ef6b8839057": {
          "model_module": "@jupyter-widgets/controls",
          "model_name": "DescriptionStyleModel",
          "model_module_version": "1.5.0",
          "state": {
            "_model_module": "@jupyter-widgets/controls",
            "_model_module_version": "1.5.0",
            "_model_name": "DescriptionStyleModel",
            "_view_count": null,
            "_view_module": "@jupyter-widgets/base",
            "_view_module_version": "1.2.0",
            "_view_name": "StyleView",
            "description_width": ""
          }
        },
        "af5fef984e9b44a39c312a2ffabcaead": {
          "model_module": "@jupyter-widgets/base",
          "model_name": "LayoutModel",
          "model_module_version": "1.2.0",
          "state": {
            "_model_module": "@jupyter-widgets/base",
            "_model_module_version": "1.2.0",
            "_model_name": "LayoutModel",
            "_view_count": null,
            "_view_module": "@jupyter-widgets/base",
            "_view_module_version": "1.2.0",
            "_view_name": "LayoutView",
            "align_content": null,
            "align_items": null,
            "align_self": null,
            "border": null,
            "bottom": null,
            "display": null,
            "flex": null,
            "flex_flow": null,
            "grid_area": null,
            "grid_auto_columns": null,
            "grid_auto_flow": null,
            "grid_auto_rows": null,
            "grid_column": null,
            "grid_gap": null,
            "grid_row": null,
            "grid_template_areas": null,
            "grid_template_columns": null,
            "grid_template_rows": null,
            "height": null,
            "justify_content": null,
            "justify_items": null,
            "left": null,
            "margin": null,
            "max_height": null,
            "max_width": null,
            "min_height": null,
            "min_width": null,
            "object_fit": null,
            "object_position": null,
            "order": null,
            "overflow": null,
            "overflow_x": null,
            "overflow_y": null,
            "padding": null,
            "right": null,
            "top": null,
            "visibility": null,
            "width": null
          }
        },
        "cc74383ebde1414faa05003cfb7f623b": {
          "model_module": "@jupyter-widgets/controls",
          "model_name": "ProgressStyleModel",
          "model_module_version": "1.5.0",
          "state": {
            "_model_module": "@jupyter-widgets/controls",
            "_model_module_version": "1.5.0",
            "_model_name": "ProgressStyleModel",
            "_view_count": null,
            "_view_module": "@jupyter-widgets/base",
            "_view_module_version": "1.2.0",
            "_view_name": "StyleView",
            "bar_color": null,
            "description_width": ""
          }
        },
        "d1d3e28c3a844bedb7136d67b0dab1b6": {
          "model_module": "@jupyter-widgets/base",
          "model_name": "LayoutModel",
          "model_module_version": "1.2.0",
          "state": {
            "_model_module": "@jupyter-widgets/base",
            "_model_module_version": "1.2.0",
            "_model_name": "LayoutModel",
            "_view_count": null,
            "_view_module": "@jupyter-widgets/base",
            "_view_module_version": "1.2.0",
            "_view_name": "LayoutView",
            "align_content": null,
            "align_items": null,
            "align_self": null,
            "border": null,
            "bottom": null,
            "display": null,
            "flex": null,
            "flex_flow": null,
            "grid_area": null,
            "grid_auto_columns": null,
            "grid_auto_flow": null,
            "grid_auto_rows": null,
            "grid_column": null,
            "grid_gap": null,
            "grid_row": null,
            "grid_template_areas": null,
            "grid_template_columns": null,
            "grid_template_rows": null,
            "height": null,
            "justify_content": null,
            "justify_items": null,
            "left": null,
            "margin": null,
            "max_height": null,
            "max_width": null,
            "min_height": null,
            "min_width": null,
            "object_fit": null,
            "object_position": null,
            "order": null,
            "overflow": null,
            "overflow_x": null,
            "overflow_y": null,
            "padding": null,
            "right": null,
            "top": null,
            "visibility": null,
            "width": null
          }
        },
        "989425ea1e84495986560369b850be63": {
          "model_module": "@jupyter-widgets/controls",
          "model_name": "DescriptionStyleModel",
          "model_module_version": "1.5.0",
          "state": {
            "_model_module": "@jupyter-widgets/controls",
            "_model_module_version": "1.5.0",
            "_model_name": "DescriptionStyleModel",
            "_view_count": null,
            "_view_module": "@jupyter-widgets/base",
            "_view_module_version": "1.2.0",
            "_view_name": "StyleView",
            "description_width": ""
          }
        }
      }
    }
  },
  "nbformat": 4,
  "nbformat_minor": 0
}