{
 "cells": [
  {
   "cell_type": "markdown",
   "metadata": {
    "id": "37Q65edino34",
    "pycharm": {
     "name": "#%% md\n"
    }
   },
   "source": [
    "#Loading dataset"
   ]
  },
  {
   "cell_type": "code",
   "source": [
    "from google.colab import drive\n",
    "drive.mount('/content/drive')"
   ],
   "metadata": {
    "colab": {
     "base_uri": "https://localhost:8080/"
    },
    "id": "eDNtfUNqWCCu",
    "outputId": "57651d51-fa6e-4727-e792-1a921a4a991e",
    "pycharm": {
     "name": "#%%\n"
    }
   },
   "execution_count": 1,
   "outputs": [
    {
     "output_type": "stream",
     "name": "stdout",
     "text": [
      "Mounted at /content/drive\n"
     ]
    }
   ]
  },
  {
   "cell_type": "code",
   "execution_count": 2,
   "metadata": {
    "colab": {
     "base_uri": "https://localhost:8080/",
     "height": 947,
     "referenced_widgets": [
      "857d50228ab64702a3d524dab8b5febf",
      "4a6271acafce4a849bded10a220c2a65",
      "1017fe38604a4850bceb5fee1b6e7273",
      "62ea93e691f84180be93f88301631650",
      "cdb732ce8ea24c3d83920f873ad2b090",
      "890ba5f82b4347f6bf3868b1b22b79c9",
      "09c8cd560b784d889b90bf2dba0d0c8e",
      "369caddf36d246c68ac79c1d549c0fa3",
      "c6716814ff0c408299a15e02a7857609",
      "11dd59cc19a3426da62e070d49104235",
      "869e11a6bddc474e8dbdf20654cae7d1",
      "415c6551dfa1493c9ee60201f2932666",
      "f5490ee4ef9847f3962a1d33312fae60",
      "75d1fa1c126d48438576ec8daaaf66ec",
      "1c596187803c4074b6f57523feff8d00",
      "6f9b38525967474fa2803af454a35b10",
      "05e199bcbe9d4714a3f54380bdce75dc",
      "28b6c7e3afcf4d4a9634f69c996f158a",
      "fe9835cd6008420cabbf863d4b8c9123",
      "7a4d1a7e82b24ab99f5f750f2896b1c2",
      "f35b8e3a71d64082875651f29b9b43e1",
      "2d6230232e594708ae8895f668e4316e",
      "a904c8ef5e114839892301f17e235ba4",
      "3e48fffeec6f45c5839e6d2974ecfdcc",
      "2f62f526f510495c982a20d4a4053b69",
      "b9b80d4f95ed44d38ea5dd64e4c5f529",
      "0035c79cacf04ec2b7f70e119fce1b73",
      "3fbadbdfa9fc4c4f9cee674d9a058bc6",
      "de33d290adc4451db421159331d151ea",
      "6bf442cda848455c95b5b75ee6d4c01c",
      "c1abc0f1eaef454dbfe74e127b324c85",
      "f449c3bde4c8461eb4e297b916d7d080",
      "bd724ac4693645e79610b1b2bf110708"
     ]
    },
    "id": "B0iqx_LwbDA3",
    "outputId": "b63d8310-64d9-40a8-9c19-87bdcc4f1578",
    "pycharm": {
     "name": "#%%\n"
    }
   },
   "outputs": [
    {
     "output_type": "stream",
     "name": "stdout",
     "text": [
      "Looking in indexes: https://pypi.org/simple, https://us-python.pkg.dev/colab-wheels/public/simple/\n",
      "Collecting transformers\n",
      "  Downloading transformers-4.26.0-py3-none-any.whl (6.3 MB)\n",
      "\u001B[2K     \u001B[90m━━━━━━━━━━━━━━━━━━━━━━━━━━━━━━━━━━━━━━━━\u001B[0m \u001B[32m6.3/6.3 MB\u001B[0m \u001B[31m83.0 MB/s\u001B[0m eta \u001B[36m0:00:00\u001B[0m\n",
      "\u001B[?25hCollecting tokenizers!=0.11.3,<0.14,>=0.11.1\n",
      "  Downloading tokenizers-0.13.2-cp38-cp38-manylinux_2_17_x86_64.manylinux2014_x86_64.whl (7.6 MB)\n",
      "\u001B[2K     \u001B[90m━━━━━━━━━━━━━━━━━━━━━━━━━━━━━━━━━━━━━━━━\u001B[0m \u001B[32m7.6/7.6 MB\u001B[0m \u001B[31m111.4 MB/s\u001B[0m eta \u001B[36m0:00:00\u001B[0m\n",
      "\u001B[?25hCollecting huggingface-hub<1.0,>=0.11.0\n",
      "  Downloading huggingface_hub-0.12.0-py3-none-any.whl (190 kB)\n",
      "\u001B[2K     \u001B[90m━━━━━━━━━━━━━━━━━━━━━━━━━━━━━━━━━━━━━━\u001B[0m \u001B[32m190.3/190.3 KB\u001B[0m \u001B[31m27.2 MB/s\u001B[0m eta \u001B[36m0:00:00\u001B[0m\n",
      "\u001B[?25hRequirement already satisfied: packaging>=20.0 in /usr/local/lib/python3.8/dist-packages (from transformers) (21.3)\n",
      "Requirement already satisfied: requests in /usr/local/lib/python3.8/dist-packages (from transformers) (2.25.1)\n",
      "Requirement already satisfied: tqdm>=4.27 in /usr/local/lib/python3.8/dist-packages (from transformers) (4.64.1)\n",
      "Requirement already satisfied: numpy>=1.17 in /usr/local/lib/python3.8/dist-packages (from transformers) (1.21.6)\n",
      "Requirement already satisfied: regex!=2019.12.17 in /usr/local/lib/python3.8/dist-packages (from transformers) (2022.6.2)\n",
      "Requirement already satisfied: pyyaml>=5.1 in /usr/local/lib/python3.8/dist-packages (from transformers) (6.0)\n",
      "Requirement already satisfied: filelock in /usr/local/lib/python3.8/dist-packages (from transformers) (3.9.0)\n",
      "Requirement already satisfied: typing-extensions>=3.7.4.3 in /usr/local/lib/python3.8/dist-packages (from huggingface-hub<1.0,>=0.11.0->transformers) (4.4.0)\n",
      "Requirement already satisfied: pyparsing!=3.0.5,>=2.0.2 in /usr/local/lib/python3.8/dist-packages (from packaging>=20.0->transformers) (3.0.9)\n",
      "Requirement already satisfied: idna<3,>=2.5 in /usr/local/lib/python3.8/dist-packages (from requests->transformers) (2.10)\n",
      "Requirement already satisfied: urllib3<1.27,>=1.21.1 in /usr/local/lib/python3.8/dist-packages (from requests->transformers) (1.24.3)\n",
      "Requirement already satisfied: certifi>=2017.4.17 in /usr/local/lib/python3.8/dist-packages (from requests->transformers) (2022.12.7)\n",
      "Requirement already satisfied: chardet<5,>=3.0.2 in /usr/local/lib/python3.8/dist-packages (from requests->transformers) (4.0.0)\n",
      "Installing collected packages: tokenizers, huggingface-hub, transformers\n",
      "Successfully installed huggingface-hub-0.12.0 tokenizers-0.13.2 transformers-4.26.0\n",
      "Looking in indexes: https://pypi.org/simple, https://us-python.pkg.dev/colab-wheels/public/simple/\n",
      "Requirement already satisfied: jax in /usr/local/lib/python3.8/dist-packages (0.3.25)\n",
      "Requirement already satisfied: numpy>=1.20 in /usr/local/lib/python3.8/dist-packages (from jax) (1.21.6)\n",
      "Requirement already satisfied: opt-einsum in /usr/local/lib/python3.8/dist-packages (from jax) (3.3.0)\n",
      "Requirement already satisfied: scipy>=1.5 in /usr/local/lib/python3.8/dist-packages (from jax) (1.7.3)\n",
      "Requirement already satisfied: typing-extensions in /usr/local/lib/python3.8/dist-packages (from jax) (4.4.0)\n"
     ]
    },
    {
     "output_type": "display_data",
     "data": {
      "text/plain": [
       "Downloading (…)solve/main/vocab.txt:   0%|          | 0.00/213k [00:00<?, ?B/s]"
      ],
      "application/vnd.jupyter.widget-view+json": {
       "version_major": 2,
       "version_minor": 0,
       "model_id": "857d50228ab64702a3d524dab8b5febf"
      }
     },
     "metadata": {}
    },
    {
     "output_type": "display_data",
     "data": {
      "text/plain": [
       "Downloading (…)okenizer_config.json:   0%|          | 0.00/29.0 [00:00<?, ?B/s]"
      ],
      "application/vnd.jupyter.widget-view+json": {
       "version_major": 2,
       "version_minor": 0,
       "model_id": "415c6551dfa1493c9ee60201f2932666"
      }
     },
     "metadata": {}
    },
    {
     "output_type": "display_data",
     "data": {
      "text/plain": [
       "Downloading (…)lve/main/config.json:   0%|          | 0.00/570 [00:00<?, ?B/s]"
      ],
      "application/vnd.jupyter.widget-view+json": {
       "version_major": 2,
       "version_minor": 0,
       "model_id": "a904c8ef5e114839892301f17e235ba4"
      }
     },
     "metadata": {}
    },
    {
     "output_type": "display_data",
     "data": {
      "text/plain": [
       "<Figure size 432x288 with 1 Axes>"
      ],
      "image/png": "[encoded data removed]"
     },
     "metadata": {
      "needs_background": "light"
     }
    }
   ],
   "source": [
    "!pip install transformers\n",
    "!pip install jax\n",
    "import pandas as pd\n",
    "import torch\n",
    "import numpy as np\n",
    "from transformers import BertTokenizer, BertModel\n",
    "from torch import nn\n",
    "from torch.optim import Adam\n",
    "from tqdm import tqdm\n",
    "\n",
    "bert_checkpoint = 'bert-base-cased'\n",
    "roberta_checkpoint = 'roberta-base'\n",
    "\n",
    "checkpoint = bert_checkpoint\n",
    "\n",
    "datapath = \"/content/drive/MyDrive/Colab Notebooks/bbc_train.csv\"\n",
    "df = pd.read_csv(datapath)\n",
    "df.groupby(['category']).size().plot.bar()\n",
    "tokenizer = BertTokenizer.from_pretrained(checkpoint)\n",
    "\n",
    "labels = {'business':0,\n",
    "          'sport':1,\n",
    "          'politics':2\n",
    "          # 'entertainment':3,\n",
    "          # 'tech':4,\n",
    "          }"
   ]
  },
  {
   "cell_type": "code",
   "execution_count": 3,
   "metadata": {
    "colab": {
     "base_uri": "https://localhost:8080/",
     "height": 206
    },
    "id": "UZKJQkKA87rt",
    "outputId": "8065dcbf-5dbe-46a2-90da-e89a769d5813",
    "pycharm": {
     "name": "#%%\n"
    }
   },
   "outputs": [
    {
     "output_type": "execute_result",
     "data": {
      "text/plain": [
       "   id                                title  \\\n",
       "0   0  Ad sales boost Time Warner profit\\n   \n",
       "1   1   Dollar gains on Greenspan speech\\n   \n",
       "2   2  Yukos unit buyer faces loan claim\\n   \n",
       "3   3  High fuel prices hit BA's profits\\n   \n",
       "4   4  Pernod takeover talk lifts Domecq\\n   \n",
       "\n",
       "                                                text  category  \n",
       "0  Quarterly profits at US media giant TimeWarner...  business  \n",
       "1  The dollar has hit its highest level against t...  business  \n",
       "2  The owners of embattled Russian oil giant Yuko...  business  \n",
       "3  British Airways has blamed high fuel prices fo...  business  \n",
       "4  Shares in UK drinks and food firm Allied Domec...  business  "
      ],
      "text/html": [
       "\n",
       "  <div id=\"df-c2ff33e5-f6b7-4884-bce4-26e38b1783fa\">\n",
       "    <div class=\"colab-df-container\">\n",
       "      <div>\n",
       "<style scoped>\n",
       "    .dataframe tbody tr th:only-of-type {\n",
       "        vertical-align: middle;\n",
       "    }\n",
       "\n",
       "    .dataframe tbody tr th {\n",
       "        vertical-align: top;\n",
       "    }\n",
       "\n",
       "    .dataframe thead th {\n",
       "        text-align: right;\n",
       "    }\n",
       "</style>\n",
       "<table border=\"1\" class=\"dataframe\">\n",
       "  <thead>\n",
       "    <tr style=\"text-align: right;\">\n",
       "      <th></th>\n",
       "      <th>id</th>\n",
       "      <th>title</th>\n",
       "      <th>text</th>\n",
       "      <th>category</th>\n",
       "    </tr>\n",
       "  </thead>\n",
       "  <tbody>\n",
       "    <tr>\n",
       "      <th>0</th>\n",
       "      <td>0</td>\n",
       "      <td>Ad sales boost Time Warner profit\\n</td>\n",
       "      <td>Quarterly profits at US media giant TimeWarner...</td>\n",
       "      <td>business</td>\n",
       "    </tr>\n",
       "    <tr>\n",
       "      <th>1</th>\n",
       "      <td>1</td>\n",
       "      <td>Dollar gains on Greenspan speech\\n</td>\n",
       "      <td>The dollar has hit its highest level against t...</td>\n",
       "      <td>business</td>\n",
       "    </tr>\n",
       "    <tr>\n",
       "      <th>2</th>\n",
       "      <td>2</td>\n",
       "      <td>Yukos unit buyer faces loan claim\\n</td>\n",
       "      <td>The owners of embattled Russian oil giant Yuko...</td>\n",
       "      <td>business</td>\n",
       "    </tr>\n",
       "    <tr>\n",
       "      <th>3</th>\n",
       "      <td>3</td>\n",
       "      <td>High fuel prices hit BA's profits\\n</td>\n",
       "      <td>British Airways has blamed high fuel prices fo...</td>\n",
       "      <td>business</td>\n",
       "    </tr>\n",
       "    <tr>\n",
       "      <th>4</th>\n",
       "      <td>4</td>\n",
       "      <td>Pernod takeover talk lifts Domecq\\n</td>\n",
       "      <td>Shares in UK drinks and food firm Allied Domec...</td>\n",
       "      <td>business</td>\n",
       "    </tr>\n",
       "  </tbody>\n",
       "</table>\n",
       "</div>\n",
       "      <button class=\"colab-df-convert\" onclick=\"convertToInteractive('df-c2ff33e5-f6b7-4884-bce4-26e38b1783fa')\"\n",
       "              title=\"Convert this dataframe to an interactive table.\"\n",
       "              style=\"display:none;\">\n",
       "        \n",
       "  <svg xmlns=\"http://www.w3.org/2000/svg\" height=\"24px\"viewBox=\"0 0 24 24\"\n",
       "       width=\"24px\">\n",
       "    <path d=\"M0 0h24v24H0V0z\" fill=\"none\"/>\n",
       "    <path d=\"M18.56 5.44l.94 2.06.94-2.06 2.06-.94-2.06-.94-.94-2.06-.94 2.06-2.06.94zm-11 1L8.5 8.5l.94-2.06 2.06-.94-2.06-.94L8.5 2.5l-.94 2.06-2.06.94zm10 10l.94 2.06.94-2.06 2.06-.94-2.06-.94-.94-2.06-.94 2.06-2.06.94z\"/><path d=\"M17.41 7.96l-1.37-1.37c-.4-.4-.92-.59-1.43-.59-.52 0-1.04.2-1.43.59L10.3 9.45l-7.72 7.72c-.78.78-.78 2.05 0 2.83L4 21.41c.39.39.9.59 1.41.59.51 0 1.02-.2 1.41-.59l7.78-7.78 2.81-2.81c.8-.78.8-2.07 0-2.86zM5.41 20L4 18.59l7.72-7.72 1.47 1.35L5.41 20z\"/>\n",
       "  </svg>\n",
       "      </button>\n",
       "      \n",
       "  <style>\n",
       "    .colab-df-container {\n",
       "      display:flex;\n",
       "      flex-wrap:wrap;\n",
       "      gap: 12px;\n",
       "    }\n",
       "\n",
       "    .colab-df-convert {\n",
       "      background-color: #E8F0FE;\n",
       "      border: none;\n",
       "      border-radius: 50%;\n",
       "      cursor: pointer;\n",
       "      display: none;\n",
       "      fill: #1967D2;\n",
       "      height: 32px;\n",
       "      padding: 0 0 0 0;\n",
       "      width: 32px;\n",
       "    }\n",
       "\n",
       "    .colab-df-convert:hover {\n",
       "      background-color: #E2EBFA;\n",
       "      box-shadow: 0px 1px 2px rgba(60, 64, 67, 0.3), 0px 1px 3px 1px rgba(60, 64, 67, 0.15);\n",
       "      fill: #174EA6;\n",
       "    }\n",
       "\n",
       "    [theme=dark] .colab-df-convert {\n",
       "      background-color: #3B4455;\n",
       "      fill: #D2E3FC;\n",
       "    }\n",
       "\n",
       "    [theme=dark] .colab-df-convert:hover {\n",
       "      background-color: #434B5C;\n",
       "      box-shadow: 0px 1px 3px 1px rgba(0, 0, 0, 0.15);\n",
       "      filter: drop-shadow(0px 1px 2px rgba(0, 0, 0, 0.3));\n",
       "      fill: #FFFFFF;\n",
       "    }\n",
       "  </style>\n",
       "\n",
       "      <script>\n",
       "        const buttonEl =\n",
       "          document.querySelector('#df-c2ff33e5-f6b7-4884-bce4-26e38b1783fa button.colab-df-convert');\n",
       "        buttonEl.style.display =\n",
       "          google.colab.kernel.accessAllowed ? 'block' : 'none';\n",
       "\n",
       "        async function convertToInteractive(key) {\n",
       "          const element = document.querySelector('#df-c2ff33e5-f6b7-4884-bce4-26e38b1783fa');\n",
       "          const dataTable =\n",
       "            await google.colab.kernel.invokeFunction('convertToInteractive',\n",
       "                                                     [key], {});\n",
       "          if (!dataTable) return;\n",
       "\n",
       "          const docLinkHtml = 'Like what you see? Visit the ' +\n",
       "            '<a target=\"_blank\" href=https://colab.research.google.com/notebooks/data_table.ipynb>data table notebook</a>'\n",
       "            + ' to learn more about interactive tables.';\n",
       "          element.innerHTML = '';\n",
       "          dataTable['output_type'] = 'display_data';\n",
       "          await google.colab.output.renderOutput(dataTable, element);\n",
       "          const docLink = document.createElement('div');\n",
       "          docLink.innerHTML = docLinkHtml;\n",
       "          element.appendChild(docLink);\n",
       "        }\n",
       "      </script>\n",
       "    </div>\n",
       "  </div>\n",
       "  "
      ]
     },
     "metadata": {},
     "execution_count": 3
    }
   ],
   "source": [
    "df.head()"
   ]
  },
  {
   "cell_type": "markdown",
   "metadata": {
    "id": "MxyiogPVnmDk",
    "pycharm": {
     "name": "#%% md\n"
    }
   },
   "source": [
    "#Dataset class"
   ]
  },
  {
   "cell_type": "code",
   "execution_count": 4,
   "metadata": {
    "id": "_jQmrfsmqgfl",
    "pycharm": {
     "name": "#%%\n"
    }
   },
   "outputs": [],
   "source": [
    "class Dataset(torch.utils.data.Dataset):\n",
    "\n",
    "    def __init__(self, df):\n",
    "\n",
    "        self.labels = [labels[label] for label in df['category']]\n",
    "        self.texts = [tokenizer(text, \n",
    "                               padding='max_length', max_length = 256, truncation=True,\n",
    "                                return_tensors=\"pt\") for text in df['text']]\n",
    "\n",
    "    def classes(self):\n",
    "        return self.labels\n",
    "\n",
    "    def __len__(self):\n",
    "        return len(self.labels)\n",
    "\n",
    "    def get_batch_labels(self, idx):\n",
    "        # Fetch a batch of labels\n",
    "        return np.array(self.labels[idx])\n",
    "\n",
    "    def get_batch_texts(self, idx):\n",
    "        # Fetch a batch of inputs\n",
    "        return self.texts[idx]\n",
    "\n",
    "    def __getitem__(self, idx):\n",
    "\n",
    "        batch_texts = self.get_batch_texts(idx)\n",
    "        batch_y = self.get_batch_labels(idx)\n",
    "\n",
    "        return batch_texts, batch_y\n"
   ]
  },
  {
   "cell_type": "code",
   "execution_count": 5,
   "metadata": {
    "colab": {
     "base_uri": "https://localhost:8080/"
    },
    "id": "aFT7hscwN3_3",
    "outputId": "dbe3bd2e-2d23-4b23-d50e-c4ee368fcf3e",
    "pycharm": {
     "name": "#%%\n"
    }
   },
   "outputs": [
    {
     "output_type": "stream",
     "name": "stdout",
     "text": [
      "Looking in indexes: https://pypi.org/simple, https://us-python.pkg.dev/colab-wheels/public/simple/\n",
      "Collecting torchmetrics\n",
      "  Downloading torchmetrics-0.11.1-py3-none-any.whl (517 kB)\n",
      "\u001B[2K     \u001B[90m━━━━━━━━━━━━━━━━━━━━━━━━━━━━━━━━━━━━━━\u001B[0m \u001B[32m517.2/517.2 KB\u001B[0m \u001B[31m22.5 MB/s\u001B[0m eta \u001B[36m0:00:00\u001B[0m\n",
      "\u001B[?25hRequirement already satisfied: typing-extensions in /usr/local/lib/python3.8/dist-packages (from torchmetrics) (4.4.0)\n",
      "Requirement already satisfied: torch>=1.8.1 in /usr/local/lib/python3.8/dist-packages (from torchmetrics) (1.13.1+cu116)\n",
      "Requirement already satisfied: packaging in /usr/local/lib/python3.8/dist-packages (from torchmetrics) (21.3)\n",
      "Requirement already satisfied: numpy>=1.17.2 in /usr/local/lib/python3.8/dist-packages (from torchmetrics) (1.21.6)\n",
      "Requirement already satisfied: pyparsing!=3.0.5,>=2.0.2 in /usr/local/lib/python3.8/dist-packages (from packaging->torchmetrics) (3.0.9)\n",
      "Installing collected packages: torchmetrics\n",
      "Successfully installed torchmetrics-0.11.1\n"
     ]
    }
   ],
   "source": [
    "!pip install torchmetrics"
   ]
  },
  {
   "cell_type": "markdown",
   "metadata": {
    "id": "WtX6AlPAnP50",
    "pycharm": {
     "name": "#%% md\n"
    }
   },
   "source": [
    "#Model definition + train and eval functions definition"
   ]
  },
  {
   "cell_type": "code",
   "execution_count": 6,
   "metadata": {
    "id": "7pecW3opo6k3",
    "pycharm": {
     "name": "#%%\n"
    }
   },
   "outputs": [],
   "source": [
    "from transformers import BertTokenizer, BertModel, AutoModelForSequenceClassification\n",
    "from torch import nn\n",
    "import torch.nn.functional as F\n",
    "from torchmetrics.classification import MulticlassF1Score, MulticlassAUROC, MulticlassRecall, MulticlassPrecision\n",
    "class TextClassifier(nn.Module): \n",
    "\n",
    "    def __init__(self, checkpoint, num_of_classes, dropout=0.5):\n",
    "\n",
    "        super(TextClassifier, self).__init__()\n",
    "\n",
    "        self.bert = AutoModelForSequenceClassification.from_pretrained(checkpoint,\n",
    "                                                                     num_labels=num_of_classes)\n",
    "        self.num_of_labels = num_of_classes\n",
    "\n",
    "    def forward(self, input_id, mask, labels):\n",
    "\n",
    "        pooled_output = self.bert(input_ids=input_id, attention_mask=mask,\n",
    "                                  labels=labels, return_dict=True)\n",
    "\n",
    "        return pooled_output"
   ]
  },
  {
   "cell_type": "code",
   "source": [
    "def train(model, train_data, val_data, learning_rate, epochs, train_batch_size, val_batch_size):\n",
    "\n",
    "    train, val = Dataset(train_data), Dataset(val_data)\n",
    "\n",
    "    train_dataloader = torch.utils.data.DataLoader(train, batch_size=train_batch_size, shuffle=True)\n",
    "\n",
    "    val_dataloader = torch.utils.data.DataLoader(val, batch_size=val_batch_size, shuffle=True)\n",
    "\n",
    "    use_cuda = torch.cuda.is_available()\n",
    "    device = torch.device(\"cuda\" if use_cuda else \"cpu\")\n",
    "\n",
    "    criterion = nn.CrossEntropyLoss()\n",
    "    optimizer = Adam(model.parameters(), lr= learning_rate)\n",
    "\n",
    "    if use_cuda:\n",
    "\n",
    "            model = model.cuda()\n",
    "            criterion = criterion.cuda()\n",
    "\n",
    "    for epoch_num in range(epochs):\n",
    "\n",
    "            total_acc_train = 0\n",
    "            total_loss_train = 0\n",
    "            total_auc_train = 0\n",
    "            total_recall_train = 0\n",
    "            total_precision_train = 0\n",
    "            total_f1_train = 0\n",
    "            probabilities_list = []\n",
    "            logits_list = []\n",
    "            train_label_list=[]\n",
    "\n",
    "            for train_input, train_label in tqdm(train_dataloader):\n",
    "\n",
    "                train_label = train_label.to(device)\n",
    "                train_label_list.append(train_label)\n",
    "\n",
    "                mask = train_input['attention_mask'].to(device)\n",
    "                input_id = train_input['input_ids'].squeeze(1).to(device)\n",
    "\n",
    "                output = model(input_id, mask, train_label)\n",
    "             \n",
    "                logits_list.append(output.logits)\n",
    "                probabilities = F.softmax(output.logits, dim=1)\n",
    "                probabilities_list.append(probabilities)\n",
    "\n",
    "                loss = criterion(probabilities, train_label.long())\n",
    "                \n",
    "                (predictions, predictions_indicies) = torch.max(probabilities,dim=1)\n",
    "\n",
    "                metric_aucroc = MulticlassAUROC(num_classes=model.num_of_labels).to(device)\n",
    "                auroc = metric_aucroc(preds=probabilities, target=train_label,)\n",
    "\n",
    "                metric_recall = MulticlassRecall(num_classes=model.num_of_labels).to(device)\n",
    "                recall = metric_recall(preds=probabilities, target=train_label)\n",
    "                \n",
    "                metric_precision = MulticlassPrecision(num_classes=model.num_of_labels).to(device)\n",
    "                precision = metric_precision(preds=probabilities, target=train_label)\n",
    "               \n",
    "                total_loss_train += loss\n",
    "              \n",
    "                acc = (predictions_indicies == train_label).sum().item()\n",
    "                total_acc_train += acc/train_label.size(dim=0)\n",
    "\n",
    "                total_auc_train += auroc\n",
    "                total_recall_train += recall\n",
    "                total_precision_train += precision\n",
    "          \n",
    "\n",
    "                model.zero_grad()\n",
    "                loss.backward()\n",
    "                optimizer.step()\n",
    "            \n",
    "            total_acc_val = 0\n",
    "            total_loss_val = 0\n",
    "            total_recall_val = 0\n",
    "            total_precision_val = 0\n",
    "            total_auc_val = 0\n",
    "\n",
    "            with torch.no_grad():\n",
    "\n",
    "                for val_input, val_label in val_dataloader:\n",
    "\n",
    "                    val_label = val_label.to(device)\n",
    "                    mask = val_input['attention_mask'].to(device)\n",
    "                    input_id = val_input['input_ids'].squeeze(1).to(device)\n",
    "\n",
    "                    output = model(input_id, mask, val_label)\n",
    "                   \n",
    "                    probabilities = F.softmax(output.logits, dim=1)\n",
    "\n",
    "                    loss = criterion(probabilities, val_label.long())\n",
    "                   \n",
    "                    (predictions, predictions_indicies) = torch.max(probabilities, dim=1)\n",
    "\n",
    "                    metric_aucroc = MulticlassAUROC(num_classes=model.num_of_labels).to(device)\n",
    "                    auroc = metric_aucroc(preds=probabilities, target=val_label)\n",
    "\n",
    "                    metric_recall = MulticlassRecall(num_classes=model.num_of_labels).to(device)\n",
    "                    recall = metric_recall(preds=probabilities, target=val_label)\n",
    "                  \n",
    "                    metric_precision = MulticlassPrecision(num_classes=model.num_of_labels).to(device)\n",
    "                    precision = metric_precision(preds=probabilities, target=val_label)\n",
    "\n",
    "                    total_loss_val += loss\n",
    "                  \n",
    "                    acc = (predictions_indicies == val_label).sum().item()\n",
    "                    total_acc_val += acc/val_label.size(dim=0)\n",
    "\n",
    "                    total_auc_val += auroc\n",
    "                    total_recall_val += recall\n",
    "                    total_precision_val += precision\n",
    "              \n",
    "\n",
    "            print(f\"Epochs: {epoch_num + 1} | Train Accuracy: {total_acc_train / len(train_dataloader): .3f} | Train Loss: {total_loss_train / len(train_dataloader): .3f} | Train Recall: {total_recall_train / len(train_dataloader): .3f} | Train Precision: {total_precision_train / len(train_dataloader): .3f} | Train AUC: {total_auc_train/ len(train_dataloader): .3f} | Val Accuracy: {total_acc_val / len(val_dataloader): .3f} | Val Loss: {total_loss_val / len(val_dataloader): .3f} | Val Recall: {total_recall_val / len(val_dataloader): .3f} | Val Precision: {total_precision_val / len(val_dataloader): .3f} | Val AUC: {total_auc_val/ len(val_dataloader): .3f} \")\n",
    "          \n",
    "    return probabilities_list, logits_list, train_label_list"
   ],
   "metadata": {
    "id": "l31MqedSAloM",
    "pycharm": {
     "name": "#%%\n"
    }
   },
   "execution_count": 7,
   "outputs": []
  },
  {
   "cell_type": "code",
   "source": [
    "def evaluate(model, test_data, test_batch_size):\n",
    "\n",
    "    test = Dataset(test_data)\n",
    "\n",
    "    test_dataloader = torch.utils.data.DataLoader(test, batch_size=test_batch_size, shuffle=True)\n",
    "    use_cuda = torch.cuda.is_available()\n",
    "    device = torch.device(\"cuda\" if use_cuda else \"cpu\")\n",
    "\n",
    "    if use_cuda:\n",
    "\n",
    "        model = model.cuda()\n",
    "\n",
    "    total_acc_test = 0\n",
    "    total_auc_test = 0\n",
    "    total_recall_test = 0\n",
    "    total_precision_test = 0\n",
    "\n",
    "    probabilities_list = []\n",
    "    logits_list = []\n",
    "    test_label_list=[]\n",
    "    with torch.no_grad():\n",
    "\n",
    "        for test_input, test_label in test_dataloader:\n",
    "\n",
    "              test_label = test_label.to(device)\n",
    "              test_label_list.append(test_label)\n",
    "              mask = test_input['attention_mask'].to(device)\n",
    "              input_id = test_input['input_ids'].squeeze(1).to(device)\n",
    "\n",
    "              output = model(input_id, mask, test_label)\n",
    "              \n",
    "              logits_list.append(output.logits)\n",
    "              probabilities = F.softmax(output.logits, dim=1)\n",
    "              probabilities_list.append(probabilities)\n",
    "           \n",
    "              (predictions, predictions_indicies) = torch.max(probabilities,dim=1)\n",
    "\n",
    "              metric_aucroc = MulticlassAUROC(num_classes=model.num_of_labels).to(device)\n",
    "              auroc = metric_aucroc(preds=probabilities, target=test_label)\n",
    "\n",
    "              metric_recall = MulticlassRecall(num_classes=model.num_of_labels).to(device)\n",
    "              recall = metric_recall(preds=probabilities, target=test_label)\n",
    "            \n",
    "              metric_precision = MulticlassPrecision(num_classes=model.num_of_labels).to(device)\n",
    "              precision = metric_precision(preds=probabilities, target=test_label)\n",
    "\n",
    "              acc = (predictions_indicies == test_label).sum().item()\n",
    "              total_acc_test += acc/test_label.size(dim=0)\n",
    "\n",
    "              total_auc_test += auroc\n",
    "              total_recall_test += recall\n",
    "              total_precision_test += precision\n",
    "  \n",
    "        print(f\"Test Accuracy: {total_acc_test / len(test_label_list): .3f} | Test Recall: {total_recall_test / len(test_dataloader): .3f} | Test Precision: {total_precision_test / len(test_dataloader): .3f} |Test AUC: {total_auc_test/ len(test_dataloader): .3f}\")\n",
    "  \n",
    "    return probabilities_list, logits_list, test_label_list"
   ],
   "metadata": {
    "id": "73PUVP9wAjCu",
    "pycharm": {
     "name": "#%%\n"
    }
   },
   "execution_count": 8,
   "outputs": []
  },
  {
   "cell_type": "code",
   "execution_count": 9,
   "metadata": {
    "colab": {
     "base_uri": "https://localhost:8080/"
    },
    "id": "jVJrQ_uJKfVc",
    "outputId": "ae3e55fc-9923-4cb7-e987-327943b6057b",
    "pycharm": {
     "name": "#%%\n"
    }
   },
   "outputs": [
    {
     "output_type": "stream",
     "name": "stdout",
     "text": [
      "1150 144 144\n"
     ]
    }
   ],
   "source": [
    "np.random.seed(42)\n",
    "df_train, df_val, df_test = np.split(df.sample(frac=1, random_state=420), \n",
    "                                     [int(.8*len(df)), int(.9*len(df))])\n",
    "\n",
    "print(len(df_train), len(df_val), len(df_test))"
   ]
  },
  {
   "cell_type": "code",
   "source": [
    "df_train.groupby(['category']).size().plot.bar()"
   ],
   "metadata": {
    "colab": {
     "base_uri": "https://localhost:8080/",
     "height": 330
    },
    "id": "oFFA_nsLOgFC",
    "outputId": "91135f16-e047-4e1c-f095-b0577aa5796e",
    "pycharm": {
     "name": "#%%\n"
    }
   },
   "execution_count": 10,
   "outputs": [
    {
     "output_type": "execute_result",
     "data": {
      "text/plain": [
       "<matplotlib.axes._subplots.AxesSubplot at 0x7f5e14c068b0>"
      ]
     },
     "metadata": {},
     "execution_count": 10
    },
    {
     "output_type": "display_data",
     "data": {
      "text/plain": [
       "<Figure size 432x288 with 1 Axes>"
      ],
      "image/png": "[encoded data removed]"
     },
     "metadata": {
      "needs_background": "light"
     }
    }
   ]
  },
  {
   "cell_type": "code",
   "source": [
    "df_val.groupby(['category']).size().plot.bar()"
   ],
   "metadata": {
    "colab": {
     "base_uri": "https://localhost:8080/",
     "height": 330
    },
    "id": "mzUjY0jBOlRj",
    "outputId": "de3a3432-83eb-4739-a126-7a9e4e7132f1",
    "pycharm": {
     "name": "#%%\n"
    }
   },
   "execution_count": 11,
   "outputs": [
    {
     "output_type": "execute_result",
     "data": {
      "text/plain": [
       "<matplotlib.axes._subplots.AxesSubplot at 0x7f5e14b77a00>"
      ]
     },
     "metadata": {},
     "execution_count": 11
    },
    {
     "output_type": "display_data",
     "data": {
      "text/plain": [
       "<Figure size 432x288 with 1 Axes>"
      ],
      "image/png": "[encoded data removed]"
     },
     "metadata": {
      "needs_background": "light"
     }
    }
   ]
  },
  {
   "cell_type": "code",
   "source": [
    "df_test.groupby(['category']).size().plot.bar()"
   ],
   "metadata": {
    "colab": {
     "base_uri": "https://localhost:8080/",
     "height": 330
    },
    "id": "EQ_XVyo8OlVe",
    "outputId": "203208da-0299-49e4-a43a-ee239031323e",
    "pycharm": {
     "name": "#%%\n"
    }
   },
   "execution_count": 12,
   "outputs": [
    {
     "output_type": "execute_result",
     "data": {
      "text/plain": [
       "<matplotlib.axes._subplots.AxesSubplot at 0x7f5e14b59280>"
      ]
     },
     "metadata": {},
     "execution_count": 12
    },
    {
     "output_type": "display_data",
     "data": {
      "text/plain": [
       "<Figure size 432x288 with 1 Axes>"
      ],
      "image/png": "[encoded data removed]"
     },
     "metadata": {
      "needs_background": "light"
     }
    }
   ]
  },
  {
   "cell_type": "markdown",
   "metadata": {
    "id": "BZrtc9kjmwJ1",
    "pycharm": {
     "name": "#%% md\n"
    }
   },
   "source": [
    "#Build model"
   ]
  },
  {
   "cell_type": "code",
   "execution_count": 13,
   "metadata": {
    "colab": {
     "base_uri": "https://localhost:8080/",
     "height": 156,
     "referenced_widgets": [
      "a2474d7d0ba3442092b2816a39dd90d2",
      "2f93b2adbb4d4bf8ab8741213766ed61",
      "e7ded29bf170412ea067a9946ddb5ee5",
      "f2f3bcc0c0874b01b531446845dc7940",
      "a736506b423a404db7a0592f38eee625",
      "76b4f248c45745a29a1a676fb4f50675",
      "533080fadf384679acc5ddc0b3f8a9d7",
      "9c4414d4609a4c4fbfe4ea23e2c28253",
      "bd3ac4b04e124e66a9375a2c110f9a2f",
      "0e90c8ff8c5b453793326ef913b6a867",
      "a4357c4ec41c4504a38e97a8b94945f8"
     ]
    },
    "id": "quVJK_YPKheS",
    "outputId": "0d733d42-6799-4f59-dae6-070c5167288b",
    "pycharm": {
     "name": "#%%\n"
    }
   },
   "outputs": [
    {
     "output_type": "display_data",
     "data": {
      "text/plain": [
       "Downloading (…)\"pytorch_model.bin\";:   0%|          | 0.00/436M [00:00<?, ?B/s]"
      ],
      "application/vnd.jupyter.widget-view+json": {
       "version_major": 2,
       "version_minor": 0,
       "model_id": "a2474d7d0ba3442092b2816a39dd90d2"
      }
     },
     "metadata": {}
    },
    {
     "output_type": "stream",
     "name": "stderr",
     "text": [
      "Some weights of the model checkpoint at bert-base-cased were not used when initializing BertForSequenceClassification: ['cls.predictions.bias', 'cls.seq_relationship.weight', 'cls.predictions.transform.LayerNorm.weight', 'cls.predictions.transform.dense.weight', 'cls.predictions.decoder.weight', 'cls.seq_relationship.bias', 'cls.predictions.transform.dense.bias', 'cls.predictions.transform.LayerNorm.bias']\n",
      "- This IS expected if you are initializing BertForSequenceClassification from the checkpoint of a model trained on another task or with another architecture (e.g. initializing a BertForSequenceClassification model from a BertForPreTraining model).\n",
      "- This IS NOT expected if you are initializing BertForSequenceClassification from the checkpoint of a model that you expect to be exactly identical (initializing a BertForSequenceClassification model from a BertForSequenceClassification model).\n",
      "Some weights of BertForSequenceClassification were not initialized from the model checkpoint at bert-base-cased and are newly initialized: ['classifier.bias', 'classifier.weight']\n",
      "You should probably TRAIN this model on a down-stream task to be able to use it for predictions and inference.\n"
     ]
    }
   ],
   "source": [
    "num_of_classes=3\n",
    "model = TextClassifier(checkpoint, num_of_classes=num_of_classes)"
   ]
  },
  {
   "cell_type": "code",
   "source": [
    "model"
   ],
   "metadata": {
    "colab": {
     "base_uri": "https://localhost:8080/"
    },
    "id": "JRs-O21hUUCC",
    "outputId": "1177416e-f7ab-4461-eabb-6bd624492447",
    "pycharm": {
     "name": "#%%\n"
    }
   },
   "execution_count": 14,
   "outputs": [
    {
     "output_type": "execute_result",
     "data": {
      "text/plain": [
       "TextClassifier(\n",
       "  (bert): BertForSequenceClassification(\n",
       "    (bert): BertModel(\n",
       "      (embeddings): BertEmbeddings(\n",
       "        (word_embeddings): Embedding(28996, 768, padding_idx=0)\n",
       "        (position_embeddings): Embedding(512, 768)\n",
       "        (token_type_embeddings): Embedding(2, 768)\n",
       "        (LayerNorm): LayerNorm((768,), eps=1e-12, elementwise_affine=True)\n",
       "        (dropout): Dropout(p=0.1, inplace=False)\n",
       "      )\n",
       "      (encoder): BertEncoder(\n",
       "        (layer): ModuleList(\n",
       "          (0): BertLayer(\n",
       "            (attention): BertAttention(\n",
       "              (self): BertSelfAttention(\n",
       "                (query): Linear(in_features=768, out_features=768, bias=True)\n",
       "                (key): Linear(in_features=768, out_features=768, bias=True)\n",
       "                (value): Linear(in_features=768, out_features=768, bias=True)\n",
       "                (dropout): Dropout(p=0.1, inplace=False)\n",
       "              )\n",
       "              (output): BertSelfOutput(\n",
       "                (dense): Linear(in_features=768, out_features=768, bias=True)\n",
       "                (LayerNorm): LayerNorm((768,), eps=1e-12, elementwise_affine=True)\n",
       "                (dropout): Dropout(p=0.1, inplace=False)\n",
       "              )\n",
       "            )\n",
       "            (intermediate): BertIntermediate(\n",
       "              (dense): Linear(in_features=768, out_features=3072, bias=True)\n",
       "              (intermediate_act_fn): GELUActivation()\n",
       "            )\n",
       "            (output): BertOutput(\n",
       "              (dense): Linear(in_features=3072, out_features=768, bias=True)\n",
       "              (LayerNorm): LayerNorm((768,), eps=1e-12, elementwise_affine=True)\n",
       "              (dropout): Dropout(p=0.1, inplace=False)\n",
       "            )\n",
       "          )\n",
       "          (1): BertLayer(\n",
       "            (attention): BertAttention(\n",
       "              (self): BertSelfAttention(\n",
       "                (query): Linear(in_features=768, out_features=768, bias=True)\n",
       "                (key): Linear(in_features=768, out_features=768, bias=True)\n",
       "                (value): Linear(in_features=768, out_features=768, bias=True)\n",
       "                (dropout): Dropout(p=0.1, inplace=False)\n",
       "              )\n",
       "              (output): BertSelfOutput(\n",
       "                (dense): Linear(in_features=768, out_features=768, bias=True)\n",
       "                (LayerNorm): LayerNorm((768,), eps=1e-12, elementwise_affine=True)\n",
       "                (dropout): Dropout(p=0.1, inplace=False)\n",
       "              )\n",
       "            )\n",
       "            (intermediate): BertIntermediate(\n",
       "              (dense): Linear(in_features=768, out_features=3072, bias=True)\n",
       "              (intermediate_act_fn): GELUActivation()\n",
       "            )\n",
       "            (output): BertOutput(\n",
       "              (dense): Linear(in_features=3072, out_features=768, bias=True)\n",
       "              (LayerNorm): LayerNorm((768,), eps=1e-12, elementwise_affine=True)\n",
       "              (dropout): Dropout(p=0.1, inplace=False)\n",
       "            )\n",
       "          )\n",
       "          (2): BertLayer(\n",
       "            (attention): BertAttention(\n",
       "              (self): BertSelfAttention(\n",
       "                (query): Linear(in_features=768, out_features=768, bias=True)\n",
       "                (key): Linear(in_features=768, out_features=768, bias=True)\n",
       "                (value): Linear(in_features=768, out_features=768, bias=True)\n",
       "                (dropout): Dropout(p=0.1, inplace=False)\n",
       "              )\n",
       "              (output): BertSelfOutput(\n",
       "                (dense): Linear(in_features=768, out_features=768, bias=True)\n",
       "                (LayerNorm): LayerNorm((768,), eps=1e-12, elementwise_affine=True)\n",
       "                (dropout): Dropout(p=0.1, inplace=False)\n",
       "              )\n",
       "            )\n",
       "            (intermediate): BertIntermediate(\n",
       "              (dense): Linear(in_features=768, out_features=3072, bias=True)\n",
       "              (intermediate_act_fn): GELUActivation()\n",
       "            )\n",
       "            (output): BertOutput(\n",
       "              (dense): Linear(in_features=3072, out_features=768, bias=True)\n",
       "              (LayerNorm): LayerNorm((768,), eps=1e-12, elementwise_affine=True)\n",
       "              (dropout): Dropout(p=0.1, inplace=False)\n",
       "            )\n",
       "          )\n",
       "          (3): BertLayer(\n",
       "            (attention): BertAttention(\n",
       "              (self): BertSelfAttention(\n",
       "                (query): Linear(in_features=768, out_features=768, bias=True)\n",
       "                (key): Linear(in_features=768, out_features=768, bias=True)\n",
       "                (value): Linear(in_features=768, out_features=768, bias=True)\n",
       "                (dropout): Dropout(p=0.1, inplace=False)\n",
       "              )\n",
       "              (output): BertSelfOutput(\n",
       "                (dense): Linear(in_features=768, out_features=768, bias=True)\n",
       "                (LayerNorm): LayerNorm((768,), eps=1e-12, elementwise_affine=True)\n",
       "                (dropout): Dropout(p=0.1, inplace=False)\n",
       "              )\n",
       "            )\n",
       "            (intermediate): BertIntermediate(\n",
       "              (dense): Linear(in_features=768, out_features=3072, bias=True)\n",
       "              (intermediate_act_fn): GELUActivation()\n",
       "            )\n",
       "            (output): BertOutput(\n",
       "              (dense): Linear(in_features=3072, out_features=768, bias=True)\n",
       "              (LayerNorm): LayerNorm((768,), eps=1e-12, elementwise_affine=True)\n",
       "              (dropout): Dropout(p=0.1, inplace=False)\n",
       "            )\n",
       "          )\n",
       "          (4): BertLayer(\n",
       "            (attention): BertAttention(\n",
       "              (self): BertSelfAttention(\n",
       "                (query): Linear(in_features=768, out_features=768, bias=True)\n",
       "                (key): Linear(in_features=768, out_features=768, bias=True)\n",
       "                (value): Linear(in_features=768, out_features=768, bias=True)\n",
       "                (dropout): Dropout(p=0.1, inplace=False)\n",
       "              )\n",
       "              (output): BertSelfOutput(\n",
       "                (dense): Linear(in_features=768, out_features=768, bias=True)\n",
       "                (LayerNorm): LayerNorm((768,), eps=1e-12, elementwise_affine=True)\n",
       "                (dropout): Dropout(p=0.1, inplace=False)\n",
       "              )\n",
       "            )\n",
       "            (intermediate): BertIntermediate(\n",
       "              (dense): Linear(in_features=768, out_features=3072, bias=True)\n",
       "              (intermediate_act_fn): GELUActivation()\n",
       "            )\n",
       "            (output): BertOutput(\n",
       "              (dense): Linear(in_features=3072, out_features=768, bias=True)\n",
       "              (LayerNorm): LayerNorm((768,), eps=1e-12, elementwise_affine=True)\n",
       "              (dropout): Dropout(p=0.1, inplace=False)\n",
       "            )\n",
       "          )\n",
       "          (5): BertLayer(\n",
       "            (attention): BertAttention(\n",
       "              (self): BertSelfAttention(\n",
       "                (query): Linear(in_features=768, out_features=768, bias=True)\n",
       "                (key): Linear(in_features=768, out_features=768, bias=True)\n",
       "                (value): Linear(in_features=768, out_features=768, bias=True)\n",
       "                (dropout): Dropout(p=0.1, inplace=False)\n",
       "              )\n",
       "              (output): BertSelfOutput(\n",
       "                (dense): Linear(in_features=768, out_features=768, bias=True)\n",
       "                (LayerNorm): LayerNorm((768,), eps=1e-12, elementwise_affine=True)\n",
       "                (dropout): Dropout(p=0.1, inplace=False)\n",
       "              )\n",
       "            )\n",
       "            (intermediate): BertIntermediate(\n",
       "              (dense): Linear(in_features=768, out_features=3072, bias=True)\n",
       "              (intermediate_act_fn): GELUActivation()\n",
       "            )\n",
       "            (output): BertOutput(\n",
       "              (dense): Linear(in_features=3072, out_features=768, bias=True)\n",
       "              (LayerNorm): LayerNorm((768,), eps=1e-12, elementwise_affine=True)\n",
       "              (dropout): Dropout(p=0.1, inplace=False)\n",
       "            )\n",
       "          )\n",
       "          (6): BertLayer(\n",
       "            (attention): BertAttention(\n",
       "              (self): BertSelfAttention(\n",
       "                (query): Linear(in_features=768, out_features=768, bias=True)\n",
       "                (key): Linear(in_features=768, out_features=768, bias=True)\n",
       "                (value): Linear(in_features=768, out_features=768, bias=True)\n",
       "                (dropout): Dropout(p=0.1, inplace=False)\n",
       "              )\n",
       "              (output): BertSelfOutput(\n",
       "                (dense): Linear(in_features=768, out_features=768, bias=True)\n",
       "                (LayerNorm): LayerNorm((768,), eps=1e-12, elementwise_affine=True)\n",
       "                (dropout): Dropout(p=0.1, inplace=False)\n",
       "              )\n",
       "            )\n",
       "            (intermediate): BertIntermediate(\n",
       "              (dense): Linear(in_features=768, out_features=3072, bias=True)\n",
       "              (intermediate_act_fn): GELUActivation()\n",
       "            )\n",
       "            (output): BertOutput(\n",
       "              (dense): Linear(in_features=3072, out_features=768, bias=True)\n",
       "              (LayerNorm): LayerNorm((768,), eps=1e-12, elementwise_affine=True)\n",
       "              (dropout): Dropout(p=0.1, inplace=False)\n",
       "            )\n",
       "          )\n",
       "          (7): BertLayer(\n",
       "            (attention): BertAttention(\n",
       "              (self): BertSelfAttention(\n",
       "                (query): Linear(in_features=768, out_features=768, bias=True)\n",
       "                (key): Linear(in_features=768, out_features=768, bias=True)\n",
       "                (value): Linear(in_features=768, out_features=768, bias=True)\n",
       "                (dropout): Dropout(p=0.1, inplace=False)\n",
       "              )\n",
       "              (output): BertSelfOutput(\n",
       "                (dense): Linear(in_features=768, out_features=768, bias=True)\n",
       "                (LayerNorm): LayerNorm((768,), eps=1e-12, elementwise_affine=True)\n",
       "                (dropout): Dropout(p=0.1, inplace=False)\n",
       "              )\n",
       "            )\n",
       "            (intermediate): BertIntermediate(\n",
       "              (dense): Linear(in_features=768, out_features=3072, bias=True)\n",
       "              (intermediate_act_fn): GELUActivation()\n",
       "            )\n",
       "            (output): BertOutput(\n",
       "              (dense): Linear(in_features=3072, out_features=768, bias=True)\n",
       "              (LayerNorm): LayerNorm((768,), eps=1e-12, elementwise_affine=True)\n",
       "              (dropout): Dropout(p=0.1, inplace=False)\n",
       "            )\n",
       "          )\n",
       "          (8): BertLayer(\n",
       "            (attention): BertAttention(\n",
       "              (self): BertSelfAttention(\n",
       "                (query): Linear(in_features=768, out_features=768, bias=True)\n",
       "                (key): Linear(in_features=768, out_features=768, bias=True)\n",
       "                (value): Linear(in_features=768, out_features=768, bias=True)\n",
       "                (dropout): Dropout(p=0.1, inplace=False)\n",
       "              )\n",
       "              (output): BertSelfOutput(\n",
       "                (dense): Linear(in_features=768, out_features=768, bias=True)\n",
       "                (LayerNorm): LayerNorm((768,), eps=1e-12, elementwise_affine=True)\n",
       "                (dropout): Dropout(p=0.1, inplace=False)\n",
       "              )\n",
       "            )\n",
       "            (intermediate): BertIntermediate(\n",
       "              (dense): Linear(in_features=768, out_features=3072, bias=True)\n",
       "              (intermediate_act_fn): GELUActivation()\n",
       "            )\n",
       "            (output): BertOutput(\n",
       "              (dense): Linear(in_features=3072, out_features=768, bias=True)\n",
       "              (LayerNorm): LayerNorm((768,), eps=1e-12, elementwise_affine=True)\n",
       "              (dropout): Dropout(p=0.1, inplace=False)\n",
       "            )\n",
       "          )\n",
       "          (9): BertLayer(\n",
       "            (attention): BertAttention(\n",
       "              (self): BertSelfAttention(\n",
       "                (query): Linear(in_features=768, out_features=768, bias=True)\n",
       "                (key): Linear(in_features=768, out_features=768, bias=True)\n",
       "                (value): Linear(in_features=768, out_features=768, bias=True)\n",
       "                (dropout): Dropout(p=0.1, inplace=False)\n",
       "              )\n",
       "              (output): BertSelfOutput(\n",
       "                (dense): Linear(in_features=768, out_features=768, bias=True)\n",
       "                (LayerNorm): LayerNorm((768,), eps=1e-12, elementwise_affine=True)\n",
       "                (dropout): Dropout(p=0.1, inplace=False)\n",
       "              )\n",
       "            )\n",
       "            (intermediate): BertIntermediate(\n",
       "              (dense): Linear(in_features=768, out_features=3072, bias=True)\n",
       "              (intermediate_act_fn): GELUActivation()\n",
       "            )\n",
       "            (output): BertOutput(\n",
       "              (dense): Linear(in_features=3072, out_features=768, bias=True)\n",
       "              (LayerNorm): LayerNorm((768,), eps=1e-12, elementwise_affine=True)\n",
       "              (dropout): Dropout(p=0.1, inplace=False)\n",
       "            )\n",
       "          )\n",
       "          (10): BertLayer(\n",
       "            (attention): BertAttention(\n",
       "              (self): BertSelfAttention(\n",
       "                (query): Linear(in_features=768, out_features=768, bias=True)\n",
       "                (key): Linear(in_features=768, out_features=768, bias=True)\n",
       "                (value): Linear(in_features=768, out_features=768, bias=True)\n",
       "                (dropout): Dropout(p=0.1, inplace=False)\n",
       "              )\n",
       "              (output): BertSelfOutput(\n",
       "                (dense): Linear(in_features=768, out_features=768, bias=True)\n",
       "                (LayerNorm): LayerNorm((768,), eps=1e-12, elementwise_affine=True)\n",
       "                (dropout): Dropout(p=0.1, inplace=False)\n",
       "              )\n",
       "            )\n",
       "            (intermediate): BertIntermediate(\n",
       "              (dense): Linear(in_features=768, out_features=3072, bias=True)\n",
       "              (intermediate_act_fn): GELUActivation()\n",
       "            )\n",
       "            (output): BertOutput(\n",
       "              (dense): Linear(in_features=3072, out_features=768, bias=True)\n",
       "              (LayerNorm): LayerNorm((768,), eps=1e-12, elementwise_affine=True)\n",
       "              (dropout): Dropout(p=0.1, inplace=False)\n",
       "            )\n",
       "          )\n",
       "          (11): BertLayer(\n",
       "            (attention): BertAttention(\n",
       "              (self): BertSelfAttention(\n",
       "                (query): Linear(in_features=768, out_features=768, bias=True)\n",
       "                (key): Linear(in_features=768, out_features=768, bias=True)\n",
       "                (value): Linear(in_features=768, out_features=768, bias=True)\n",
       "                (dropout): Dropout(p=0.1, inplace=False)\n",
       "              )\n",
       "              (output): BertSelfOutput(\n",
       "                (dense): Linear(in_features=768, out_features=768, bias=True)\n",
       "                (LayerNorm): LayerNorm((768,), eps=1e-12, elementwise_affine=True)\n",
       "                (dropout): Dropout(p=0.1, inplace=False)\n",
       "              )\n",
       "            )\n",
       "            (intermediate): BertIntermediate(\n",
       "              (dense): Linear(in_features=768, out_features=3072, bias=True)\n",
       "              (intermediate_act_fn): GELUActivation()\n",
       "            )\n",
       "            (output): BertOutput(\n",
       "              (dense): Linear(in_features=3072, out_features=768, bias=True)\n",
       "              (LayerNorm): LayerNorm((768,), eps=1e-12, elementwise_affine=True)\n",
       "              (dropout): Dropout(p=0.1, inplace=False)\n",
       "            )\n",
       "          )\n",
       "        )\n",
       "      )\n",
       "      (pooler): BertPooler(\n",
       "        (dense): Linear(in_features=768, out_features=768, bias=True)\n",
       "        (activation): Tanh()\n",
       "      )\n",
       "    )\n",
       "    (dropout): Dropout(p=0.1, inplace=False)\n",
       "    (classifier): Linear(in_features=768, out_features=3, bias=True)\n",
       "  )\n",
       ")"
      ]
     },
     "metadata": {},
     "execution_count": 14
    }
   ]
  },
  {
   "cell_type": "markdown",
   "metadata": {
    "id": "Fp8b7CPumeb3",
    "pycharm": {
     "name": "#%% md\n"
    }
   },
   "source": [
    "# Parameters"
   ]
  },
  {
   "cell_type": "code",
   "execution_count": 15,
   "metadata": {
    "id": "3fE2LX_IGhVb",
    "pycharm": {
     "name": "#%%\n"
    }
   },
   "outputs": [],
   "source": [
    "EPOCHS = 12\n",
    "LR = 1e-6\n",
    "train_batch_size = 32\n",
    "val_batch_size = 32"
   ]
  },
  {
   "cell_type": "markdown",
   "metadata": {
    "id": "0gWfgmiimqWW",
    "pycharm": {
     "name": "#%% md\n"
    }
   },
   "source": [
    "# Train model"
   ]
  },
  {
   "cell_type": "code",
   "execution_count": 16,
   "metadata": {
    "id": "_XvHb-REmpeu",
    "colab": {
     "base_uri": "https://localhost:8080/"
    },
    "outputId": "593b79c4-4565-49d1-acde-0cc90dd86aa0",
    "pycharm": {
     "name": "#%%\n"
    }
   },
   "outputs": [
    {
     "output_type": "stream",
     "name": "stderr",
     "text": [
      "100%|██████████| 36/36 [00:47<00:00,  1.31s/it]\n"
     ]
    },
    {
     "output_type": "stream",
     "name": "stdout",
     "text": [
      "Epochs: 1 | Train Accuracy:  0.351 | Train Loss:  1.092 | Train Recall:  0.334 | Train Precision:  0.126 | Train AUC:  0.619 | Val Accuracy:  0.388 | Val Loss:  1.084 | Val Recall:  0.333 | Val Precision:  0.129 | Val AUC:  0.751 \n"
     ]
    },
    {
     "output_type": "stream",
     "name": "stderr",
     "text": [
      "100%|██████████| 36/36 [00:45<00:00,  1.28s/it]\n"
     ]
    },
    {
     "output_type": "stream",
     "name": "stdout",
     "text": [
      "Epochs: 2 | Train Accuracy:  0.557 | Train Loss:  1.068 | Train Recall:  0.519 | Train Precision:  0.440 | Train AUC:  0.842 | Val Accuracy:  0.706 | Val Loss:  1.042 | Val Recall:  0.658 | Val Precision:  0.466 | Val AUC:  0.898 \n"
     ]
    },
    {
     "output_type": "stream",
     "name": "stderr",
     "text": [
      "100%|██████████| 36/36 [00:46<00:00,  1.28s/it]\n"
     ]
    },
    {
     "output_type": "stream",
     "name": "stdout",
     "text": [
      "Epochs: 3 | Train Accuracy:  0.707 | Train Loss:  1.014 | Train Recall:  0.659 | Train Precision:  0.474 | Train AUC:  0.936 | Val Accuracy:  0.706 | Val Loss:  0.984 | Val Recall:  0.667 | Val Precision:  0.472 | Val AUC:  0.968 \n"
     ]
    },
    {
     "output_type": "stream",
     "name": "stderr",
     "text": [
      "100%|██████████| 36/36 [00:46<00:00,  1.29s/it]\n",
      "/usr/local/lib/python3.8/dist-packages/torchmetrics/utilities/prints.py:36: UserWarning: No positive samples in targets, true positive value should be meaningless. Returning zero tensor in true positive score\n",
      "  warnings.warn(*args, **kwargs)\n"
     ]
    },
    {
     "output_type": "stream",
     "name": "stdout",
     "text": [
      "Epochs: 4 | Train Accuracy:  0.707 | Train Loss:  0.947 | Train Recall:  0.659 | Train Precision:  0.476 | Train AUC:  0.992 | Val Accuracy:  0.700 | Val Loss:  0.924 | Val Recall:  0.600 | Val Precision:  0.427 | Val AUC:  0.928 \n"
     ]
    },
    {
     "output_type": "stream",
     "name": "stderr",
     "text": [
      "100%|██████████| 36/36 [00:46<00:00,  1.29s/it]\n"
     ]
    },
    {
     "output_type": "stream",
     "name": "stdout",
     "text": [
      "Epochs: 5 | Train Accuracy:  0.837 | Train Loss:  0.874 | Train Recall:  0.814 | Train Precision:  0.819 | Train AUC:  0.996 | Val Accuracy:  0.938 | Val Loss:  0.847 | Val Recall:  0.932 | Val Precision:  0.942 | Val AUC:  0.996 \n"
     ]
    },
    {
     "output_type": "stream",
     "name": "stderr",
     "text": [
      "100%|██████████| 36/36 [00:46<00:00,  1.29s/it]\n"
     ]
    },
    {
     "output_type": "stream",
     "name": "stdout",
     "text": [
      "Epochs: 6 | Train Accuracy:  0.972 | Train Loss:  0.795 | Train Recall:  0.971 | Train Precision:  0.972 | Train AUC:  0.998 | Val Accuracy:  0.988 | Val Loss:  0.766 | Val Recall:  0.986 | Val Precision:  0.990 | Val AUC:  1.000 \n"
     ]
    },
    {
     "output_type": "stream",
     "name": "stderr",
     "text": [
      "100%|██████████| 36/36 [00:46<00:00,  1.29s/it]\n"
     ]
    },
    {
     "output_type": "stream",
     "name": "stdout",
     "text": [
      "Epochs: 7 | Train Accuracy:  0.983 | Train Loss:  0.724 | Train Recall:  0.981 | Train Precision:  0.984 | Train AUC:  0.999 | Val Accuracy:  0.988 | Val Loss:  0.706 | Val Recall:  0.990 | Val Precision:  0.988 | Val AUC:  1.000 \n"
     ]
    },
    {
     "output_type": "stream",
     "name": "stderr",
     "text": [
      "100%|██████████| 36/36 [00:46<00:00,  1.29s/it]\n"
     ]
    },
    {
     "output_type": "stream",
     "name": "stdout",
     "text": [
      "Epochs: 8 | Train Accuracy:  0.990 | Train Loss:  0.677 | Train Recall:  0.990 | Train Precision:  0.989 | Train AUC:  0.999 | Val Accuracy:  0.988 | Val Loss:  0.668 | Val Recall:  0.990 | Val Precision:  0.990 | Val AUC:  0.999 \n"
     ]
    },
    {
     "output_type": "stream",
     "name": "stderr",
     "text": [
      "100%|██████████| 36/36 [00:46<00:00,  1.29s/it]\n"
     ]
    },
    {
     "output_type": "stream",
     "name": "stdout",
     "text": [
      "Epochs: 9 | Train Accuracy:  0.992 | Train Loss:  0.646 | Train Recall:  0.993 | Train Precision:  0.990 | Train AUC:  1.000 | Val Accuracy:  0.994 | Val Loss:  0.644 | Val Recall:  0.996 | Val Precision:  0.993 | Val AUC:  0.999 \n"
     ]
    },
    {
     "output_type": "stream",
     "name": "stderr",
     "text": [
      "100%|██████████| 36/36 [00:46<00:00,  1.29s/it]\n"
     ]
    },
    {
     "output_type": "stream",
     "name": "stdout",
     "text": [
      "Epochs: 10 | Train Accuracy:  0.996 | Train Loss:  0.626 | Train Recall:  0.996 | Train Precision:  0.995 | Train AUC:  1.000 | Val Accuracy:  0.994 | Val Loss:  0.628 | Val Recall:  0.994 | Val Precision:  0.996 | Val AUC:  1.000 \n"
     ]
    },
    {
     "output_type": "stream",
     "name": "stderr",
     "text": [
      "100%|██████████| 36/36 [00:46<00:00,  1.29s/it]\n"
     ]
    },
    {
     "output_type": "stream",
     "name": "stdout",
     "text": [
      "Epochs: 11 | Train Accuracy:  0.997 | Train Loss:  0.612 | Train Recall:  0.996 | Train Precision:  0.996 | Train AUC:  1.000 | Val Accuracy:  0.988 | Val Loss:  0.616 | Val Recall:  0.987 | Val Precision:  0.991 | Val AUC:  1.000 \n"
     ]
    },
    {
     "output_type": "stream",
     "name": "stderr",
     "text": [
      "100%|██████████| 36/36 [00:46<00:00,  1.29s/it]\n"
     ]
    },
    {
     "output_type": "stream",
     "name": "stdout",
     "text": [
      "Epochs: 12 | Train Accuracy:  0.997 | Train Loss:  0.602 | Train Recall:  0.998 | Train Precision:  0.997 | Train AUC:  1.000 | Val Accuracy:  0.994 | Val Loss:  0.611 | Val Recall:  0.995 | Val Precision:  0.990 | Val AUC:  1.000 \n"
     ]
    }
   ],
   "source": [
    "probabilities_list_train, logits_list_train, train_label_list = train(model, df_train, df_val, LR, EPOCHS, train_batch_size, val_batch_size)"
   ]
  },
  {
   "cell_type": "markdown",
   "metadata": {
    "id": "4hHyonplmzlg",
    "pycharm": {
     "name": "#%% md\n"
    }
   },
   "source": [
    "#Test model"
   ]
  },
  {
   "cell_type": "code",
   "execution_count": 17,
   "metadata": {
    "id": "EKIL-imZFrff",
    "colab": {
     "base_uri": "https://localhost:8080/"
    },
    "outputId": "13770b99-7d3c-4b11-b23f-92e48e1f3a2e",
    "pycharm": {
     "name": "#%%\n"
    }
   },
   "outputs": [
    {
     "output_type": "stream",
     "name": "stdout",
     "text": [
      "Test Accuracy:  0.986 | Test Recall:  0.991 | Test Precision:  0.989 |Test AUC:  1.000\n"
     ]
    }
   ],
   "source": [
    "test_batch_size = 12\n",
    "probabilities_list, logits_list, test_label_list = evaluate(model, df_test, test_batch_size)"
   ]
  },
  {
   "cell_type": "markdown",
   "source": [
    "#ROC"
   ],
   "metadata": {
    "id": "7Zl3_D2GFwi7",
    "pycharm": {
     "name": "#%% md\n"
    }
   }
  },
  {
   "cell_type": "code",
   "source": [
    "#probabilities_list, test_label_list\n",
    "predictions_indicies_list = []\n",
    "for probability in probabilities_list:\n",
    "    (predictions, predictions_indicies) = torch.max(probability, dim=1)\n",
    "    predictions_indicies_list.append(predictions_indicies.numpy(force=True))"
   ],
   "metadata": {
    "id": "cT04hyna9owh",
    "pycharm": {
     "name": "#%%\n"
    }
   },
   "execution_count": 18,
   "outputs": []
  },
  {
   "cell_type": "code",
   "source": [
    "from torchmetrics.classification import MulticlassROC\n",
    "\n",
    "use_cuda = torch.cuda.is_available()\n",
    "device = torch.device(\"cuda\" if use_cuda else \"cpu\")\n",
    "\n",
    "fpr_list, tpr_list, thresholds_list = [], [], []\n",
    "\n",
    "for prediction, test_label in zip(predictions_indicies_list, test_label_list):\n",
    "\n",
    "    metric_roc = MulticlassROC(num_classes=3, thresholds=15).to(device)\n",
    "    fpr, tpr, thresholds = metric_roc(probability, test_label)\n",
    "\n",
    "    fpr_list.append(fpr)\n",
    "    tpr_list.append(tpr)\n",
    "    thresholds_list.append(thresholds)\n",
    "\n",
    "    # metric_aucroc = MulticlassAUROC(num_classes=model.num_of_labels).to(device)\n",
    "    # auroc = metric_aucroc(preds=probabilities_list[0], target=test_label_list[0])\n",
    "\n",
    "#print(f\"AUC: {auroc}\\n, FPR: {fpr}\\n, TPR: {tpr}\\n, thresholds: {thresholds}\")"
   ],
   "metadata": {
    "id": "5XQLjJmxFwKL",
    "pycharm": {
     "name": "#%%\n"
    }
   },
   "execution_count": 19,
   "outputs": []
  },
  {
   "cell_type": "code",
   "source": [
    "tpr_list_0 = [item.numpy(force=True) for elem in fpr_list for item in elem[0]]\n",
    "tpr_list_1 = [item.numpy(force=True) for elem in fpr_list for item in elem[1]]\n",
    "tpr_list_2 = [item.numpy(force=True) for elem in fpr_list for item in elem[2]]"
   ],
   "metadata": {
    "id": "f2kx9CRj5KXD",
    "pycharm": {
     "name": "#%%\n"
    }
   },
   "execution_count": 20,
   "outputs": []
  },
  {
   "cell_type": "code",
   "source": [
    "fpr_list_0 =  [item.numpy(force=True) for elem in fpr_list for item in elem[0]]\n",
    "fpr_list_1 = [item.numpy(force=True) for elem in fpr_list for item in elem[1]]\n",
    "fpr_list_2 = [item.numpy(force=True) for elem in fpr_list for item in elem[2]]"
   ],
   "metadata": {
    "id": "QOb3N3QK44bG",
    "pycharm": {
     "name": "#%%\n"
    }
   },
   "execution_count": 21,
   "outputs": []
  },
  {
   "cell_type": "code",
   "source": [
    "import matplotlib.pyplot as plt\n",
    "plt.title('Receiver Operating Characteristic')\n",
    "plt.plot(fpr_list_0, tpr_list_0, 'b')\n",
    "plt.plot(fpr_list_1, tpr_list_1, 'r')\n",
    "plt.plot(fpr_list_2, tpr_list_2, 'g')\n",
    "plt.legend(loc = 'lower right')\n",
    "plt.plot([0, 1], [0, 1],'k--', label=\"chance level (AUC = 0.5)\")\n",
    "plt.xlim([0, 1])\n",
    "plt.ylim([0, 1])\n",
    "plt.ylabel('True Positive Rate')\n",
    "plt.xlabel('False Positive Rate')\n",
    "plt.show()"
   ],
   "metadata": {
    "colab": {
     "base_uri": "https://localhost:8080/",
     "height": 312
    },
    "id": "voZbxeW32kfT",
    "outputId": "2728f5cb-217c-4c7c-8ae0-8eb22556be18",
    "pycharm": {
     "name": "#%%\n"
    }
   },
   "execution_count": 22,
   "outputs": [
    {
     "output_type": "stream",
     "name": "stderr",
     "text": [
      "WARNING:matplotlib.legend:No handles with labels found to put in legend.\n"
     ]
    },
    {
     "output_type": "display_data",
     "data": {
      "text/plain": [
       "<Figure size 432x288 with 1 Axes>"
      ],
      "image/png": "[encoded data removed]"
     },
     "metadata": {
      "needs_background": "light"
     }
    }
   ]
  },
  {
   "cell_type": "markdown",
   "metadata": {
    "id": "d2LWjUQ4m3E9",
    "pycharm": {
     "name": "#%% md\n"
    }
   },
   "source": [
    "#Save model"
   ]
  },
  {
   "cell_type": "code",
   "execution_count": 23,
   "metadata": {
    "id": "acTGl1gqfKtx",
    "pycharm": {
     "name": "#%%\n"
    }
   },
   "outputs": [],
   "source": [
    "PATH_TO_SAVE_MODEL = \"/content/drive/MyDrive/Colab Notebooks/model_save\"\n",
    "#model.save_model(PATH_TO_SAVE_MODEL)\n",
    "torch.save(model.state_dict(), PATH_TO_SAVE_MODEL)"
   ]
  },
  {
   "cell_type": "markdown",
   "metadata": {
    "id": "0qJr4JKcm7xm",
    "pycharm": {
     "name": "#%% md\n"
    }
   },
   "source": [
    "#Save softmax result"
   ]
  },
  {
   "cell_type": "code",
   "source": [
    "torch.save(probabilities_list, '/content/drive/MyDrive/Colab Notebooks/probabilities_list.pt')"
   ],
   "metadata": {
    "id": "dEpw9wNodIuv",
    "pycharm": {
     "name": "#%%\n"
    }
   },
   "execution_count": 24,
   "outputs": []
  },
  {
   "cell_type": "markdown",
   "metadata": {
    "id": "6WVM7knnm-0t",
    "pycharm": {
     "name": "#%% md\n"
    }
   },
   "source": [
    "#Save logits result"
   ]
  },
  {
   "cell_type": "code",
   "source": [
    "torch.save(logits_list, '/content/drive/MyDrive/Colab Notebooks/logits_list.pt')"
   ],
   "metadata": {
    "id": "h2N--flHdRNS",
    "pycharm": {
     "name": "#%%\n"
    }
   },
   "execution_count": 25,
   "outputs": []
  },
  {
   "cell_type": "markdown",
   "source": [
    "#Save test labels\n"
   ],
   "metadata": {
    "id": "TG7Yu_zBYLjV",
    "pycharm": {
     "name": "#%% md\n"
    }
   }
  },
  {
   "cell_type": "code",
   "source": [
    "torch.save(test_label_list, '/content/drive/MyDrive/Colab Notebooks/test_label_list.pt')"
   ],
   "metadata": {
    "id": "at4qDm1RdTbg",
    "pycharm": {
     "name": "#%%\n"
    }
   },
   "execution_count": 26,
   "outputs": []
  },
  {
   "cell_type": "markdown",
   "source": [
    "# Out-Of-Distribution data"
   ],
   "metadata": {
    "id": "4issJbXIWayh",
    "pycharm": {
     "name": "#%% md\n"
    }
   }
  },
  {
   "cell_type": "code",
   "source": [
    "datapath = \"/content/drive/MyDrive/Colab Notebooks/bbc_test.csv\"\n",
    "df_outside = pd.read_csv(datapath)\n",
    "df_outside.groupby(['category']).size().plot.bar()\n",
    "labels = {\n",
    "          'entertainment':0,\n",
    "          'tech':1,\n",
    "          }"
   ],
   "metadata": {
    "colab": {
     "base_uri": "https://localhost:8080/",
     "height": 341
    },
    "id": "3r9tBp9TNGpe",
    "outputId": "cc7bc2b9-18da-40ff-9c85-993a3468e44c",
    "pycharm": {
     "name": "#%%\n"
    }
   },
   "execution_count": 27,
   "outputs": [
    {
     "output_type": "display_data",
     "data": {
      "text/plain": [
       "<Figure size 432x288 with 1 Axes>"
      ],
      "image/png": "[encoded data removed]"
     },
     "metadata": {
      "needs_background": "light"
     }
    }
   ]
  },
  {
   "cell_type": "markdown",
   "source": [
    "#Out-Of-Distribution data evaluation"
   ],
   "metadata": {
    "id": "dtwCifsvYGMv",
    "pycharm": {
     "name": "#%% md\n"
    }
   }
  },
  {
   "cell_type": "code",
   "source": [
    "test_batch_size = 12\n",
    "probabilities_list_outside, logits_list_outside, test_label_list_outside = evaluate(model, df_outside, test_batch_size)"
   ],
   "metadata": {
    "id": "FrAEFj99NP4V",
    "colab": {
     "base_uri": "https://localhost:8080/"
    },
    "outputId": "eb983e55-cd5a-41e0-d715-42d6b802094d",
    "pycharm": {
     "name": "#%%\n"
    }
   },
   "execution_count": 28,
   "outputs": [
    {
     "output_type": "stream",
     "name": "stdout",
     "text": [
      "Test Accuracy:  0.159 | Test Recall:  0.105 | Test Precision:  0.093 |Test AUC:  0.064\n"
     ]
    }
   ]
  },
  {
   "cell_type": "markdown",
   "source": [
    "#Save Out-Of-Distribution softmax result"
   ],
   "metadata": {
    "id": "c6n8AMialnfq",
    "pycharm": {
     "name": "#%% md\n"
    }
   }
  },
  {
   "cell_type": "code",
   "source": [
    "torch.save(probabilities_list_outside, '/content/drive/MyDrive/Colab Notebooks/probabilities_list_outside.pt')"
   ],
   "metadata": {
    "id": "pZ5PpwNQlmxE",
    "pycharm": {
     "name": "#%%\n"
    }
   },
   "execution_count": 29,
   "outputs": []
  },
  {
   "cell_type": "markdown",
   "source": [
    "#Save Out-Of-Distribution logits result"
   ],
   "metadata": {
    "id": "-AMHz6KcloPg",
    "pycharm": {
     "name": "#%% md\n"
    }
   }
  },
  {
   "cell_type": "code",
   "source": [
    "torch.save(logits_list_outside, '/content/drive/MyDrive/Colab Notebooks/logits_list_outside.pt')"
   ],
   "metadata": {
    "id": "vqVCRM_oloZz",
    "pycharm": {
     "name": "#%%\n"
    }
   },
   "execution_count": 30,
   "outputs": []
  },
  {
   "cell_type": "markdown",
   "source": [
    "#Save Out-Of-Distribution test labels result"
   ],
   "metadata": {
    "id": "N9udWJL8lom4",
    "pycharm": {
     "name": "#%% md\n"
    }
   }
  },
  {
   "cell_type": "code",
   "source": [
    "torch.save(test_label_list_outside, '/content/drive/MyDrive/Colab Notebooks/test_label_list_outside.pt')"
   ],
   "metadata": {
    "id": "vYwsGMOKloxs",
    "pycharm": {
     "name": "#%%\n"
    }
   },
   "execution_count": 31,
   "outputs": []
  },
  {
   "cell_type": "markdown",
   "source": [
    "## Loading trained model"
   ],
   "metadata": {
    "id": "iJ9MwIZEn_KP",
    "pycharm": {
     "name": "#%% md\n"
    }
   }
  },
  {
   "cell_type": "code",
   "source": [
    "# model = AutoModelForSequenceClassification()\n"
   ],
   "metadata": {
    "id": "ve7qdvyNn_UP",
    "pycharm": {
     "name": "#%%\n"
    }
   },
   "execution_count": 32,
   "outputs": []
  },
  {
   "cell_type": "code",
   "source": [
    "# probabilities_list = torch.load('/content/drive/MyDrive/Colab Notebooks/probabilities_list.pt')\n",
    "# logits_list = torch.load('/content/drive/MyDrive/Colab Notebooks/logits_list.pt')\n",
    "# test_label_list = torch.load('/content/drive/MyDrive/Colab Notebooks/test_label_list.pt')"
   ],
   "metadata": {
    "id": "MviOKF1fpV5-",
    "pycharm": {
     "name": "#%%\n"
    }
   },
   "execution_count": 33,
   "outputs": []
  },
  {
   "cell_type": "markdown",
   "source": [
    " "
   ],
   "metadata": {
    "id": "50NEPVh-rHDz",
    "pycharm": {
     "name": "#%% md\n"
    }
   }
  },
  {
   "cell_type": "code",
   "source": [
    "# probabilities_list_outside = torch.load('/content/drive/MyDrive/Colab Notebooks/probabilities_list_outside.pt')\n",
    "# logits_list_outside = torch.load('/content/drive/MyDrive/Colab Notebooks/logits_list_outside.pt')\n",
    "# test_label_list_outside = torch.load('/content/drive/MyDrive/Colab Notebooks/test_label_list_outside.pt')"
   ],
   "metadata": {
    "id": "VHYzoq0rpOMD",
    "pycharm": {
     "name": "#%%\n"
    }
   },
   "execution_count": 34,
   "outputs": []
  },
  {
   "cell_type": "markdown",
   "source": [
    "#Histogram - max(softmax)"
   ],
   "metadata": {
    "id": "EAUp8DUfX8Ra",
    "pycharm": {
     "name": "#%% md\n"
    }
   }
  },
  {
   "cell_type": "code",
   "source": [
    "import matplotlib.pyplot as plt"
   ],
   "metadata": {
    "id": "R6RjuzTrDt4J",
    "pycharm": {
     "name": "#%%\n"
    }
   },
   "execution_count": 35,
   "outputs": []
  },
  {
   "cell_type": "code",
   "source": [
    "def get_hist_data_softmax(probabilities_list):\n",
    "  hist_prob = []\n",
    "  for i in range(len(probabilities_list)):\n",
    "    probabilities_list[i] = probabilities_list[i].numpy(force=True)\n",
    "    for j in range(len(probabilities_list[i])):\n",
    "      hist_prob.append(probabilities_list[i][j].max())\n",
    "  return hist_prob"
   ],
   "metadata": {
    "id": "1DHkhmRAH6q4",
    "pycharm": {
     "name": "#%%\n"
    }
   },
   "execution_count": 36,
   "outputs": []
  },
  {
   "cell_type": "code",
   "source": [
    "hist_norm_softmax = get_hist_data_softmax(probabilities_list)\n",
    "print(f\"Seen elements histograms length: {len(hist_norm_softmax)}\")"
   ],
   "metadata": {
    "id": "dg94FSerOfly",
    "colab": {
     "base_uri": "https://localhost:8080/"
    },
    "outputId": "8ea0a5d5-1c69-4fc5-d816-bbcb6d0811d4",
    "pycharm": {
     "name": "#%%\n"
    }
   },
   "execution_count": 37,
   "outputs": [
    {
     "output_type": "stream",
     "name": "stdout",
     "text": [
      "Seen elements histograms length: 144\n"
     ]
    }
   ]
  },
  {
   "cell_type": "code",
   "source": [
    "def get_hist_data_ood_softmax(probabilities_list):\n",
    "  hist_prob = []\n",
    "  for i in range(len(probabilities_list)):\n",
    "    probabilities_list[i] = probabilities_list[i].numpy(force=True)\n",
    "    for j in range(len(probabilities_list[i])):\n",
    "      hist_prob.append(probabilities_list[i][j].max())\n",
    "  return hist_prob"
   ],
   "metadata": {
    "id": "Bi57jIQJs7iB",
    "pycharm": {
     "name": "#%%\n"
    }
   },
   "execution_count": 38,
   "outputs": []
  },
  {
   "cell_type": "code",
   "source": [
    "hist_outside_softmax = get_hist_data_ood_softmax(probabilities_list_outside)\n",
    "print(f\"Unseen elements histograms length: {len(hist_outside_softmax)}\")"
   ],
   "metadata": {
    "colab": {
     "base_uri": "https://localhost:8080/"
    },
    "id": "qk2tPedAs3AX",
    "outputId": "703d3f70-6383-4c7f-f683-f243b613d81c",
    "pycharm": {
     "name": "#%%\n"
    }
   },
   "execution_count": 39,
   "outputs": [
    {
     "output_type": "stream",
     "name": "stdout",
     "text": [
      "Unseen elements histograms length: 787\n"
     ]
    }
   ]
  },
  {
   "cell_type": "code",
   "source": [
    "hist_outside_softmax"
   ],
   "metadata": {
    "id": "Zl8Qk35-swcy",
    "colab": {
     "base_uri": "https://localhost:8080/"
    },
    "outputId": "18957faf-a1e8-4bf9-d96f-f303eb98a354",
    "pycharm": {
     "name": "#%%\n"
    }
   },
   "execution_count": 40,
   "outputs": [
    {
     "output_type": "execute_result",
     "data": {
      "text/plain": [
       "[0.89700454,\n",
       " 0.6507914,\n",
       " 0.60104936,\n",
       " 0.72033274,\n",
       " 0.46043003,\n",
       " 0.7956374,\n",
       " 0.93592167,\n",
       " 0.53393114,\n",
       " 0.8627676,\n",
       " 0.5892896,\n",
       " 0.822639,\n",
       " 0.6333965,\n",
       " 0.8728899,\n",
       " 0.8000821,\n",
       " 0.90209466,\n",
       " 0.8803607,\n",
       " 0.45876938,\n",
       " 0.82101524,\n",
       " 0.8256186,\n",
       " 0.7137406,\n",
       " 0.9201296,\n",
       " 0.47290093,\n",
       " 0.7327205,\n",
       " 0.69566983,\n",
       " 0.6356994,\n",
       " 0.89482635,\n",
       " 0.88525283,\n",
       " 0.81144136,\n",
       " 0.4432638,\n",
       " 0.52321196,\n",
       " 0.6960277,\n",
       " 0.8021509,\n",
       " 0.904422,\n",
       " 0.80140036,\n",
       " 0.72234505,\n",
       " 0.74911964,\n",
       " 0.5294658,\n",
       " 0.9167078,\n",
       " 0.40088093,\n",
       " 0.69216156,\n",
       " 0.587526,\n",
       " 0.5000217,\n",
       " 0.92213494,\n",
       " 0.85992783,\n",
       " 0.4752284,\n",
       " 0.47372147,\n",
       " 0.5499029,\n",
       " 0.85893583,\n",
       " 0.76805496,\n",
       " 0.84688956,\n",
       " 0.7018973,\n",
       " 0.9124627,\n",
       " 0.5397211,\n",
       " 0.62579614,\n",
       " 0.7571243,\n",
       " 0.74256665,\n",
       " 0.55867517,\n",
       " 0.7836556,\n",
       " 0.87787825,\n",
       " 0.8463517,\n",
       " 0.54636574,\n",
       " 0.8130293,\n",
       " 0.92567414,\n",
       " 0.9294393,\n",
       " 0.92705786,\n",
       " 0.4431369,\n",
       " 0.92585546,\n",
       " 0.91570514,\n",
       " 0.5070701,\n",
       " 0.8779883,\n",
       " 0.73615843,\n",
       " 0.7398021,\n",
       " 0.87743706,\n",
       " 0.9108056,\n",
       " 0.8711548,\n",
       " 0.81397116,\n",
       " 0.4732639,\n",
       " 0.58467346,\n",
       " 0.93185043,\n",
       " 0.8960887,\n",
       " 0.4911156,\n",
       " 0.66285974,\n",
       " 0.5642224,\n",
       " 0.7275926,\n",
       " 0.8363722,\n",
       " 0.7047212,\n",
       " 0.67475694,\n",
       " 0.94009966,\n",
       " 0.4703723,\n",
       " 0.4084368,\n",
       " 0.5230489,\n",
       " 0.8603976,\n",
       " 0.89681,\n",
       " 0.53578514,\n",
       " 0.4997123,\n",
       " 0.7622842,\n",
       " 0.70288897,\n",
       " 0.89644384,\n",
       " 0.823092,\n",
       " 0.8416574,\n",
       " 0.5248916,\n",
       " 0.5042765,\n",
       " 0.9187057,\n",
       " 0.8627676,\n",
       " 0.9225837,\n",
       " 0.9382652,\n",
       " 0.87710184,\n",
       " 0.674011,\n",
       " 0.68193567,\n",
       " 0.7921208,\n",
       " 0.7459199,\n",
       " 0.5972194,\n",
       " 0.6065198,\n",
       " 0.7410971,\n",
       " 0.9136639,\n",
       " 0.91988724,\n",
       " 0.82903326,\n",
       " 0.5833754,\n",
       " 0.47888458,\n",
       " 0.8930609,\n",
       " 0.9171005,\n",
       " 0.92473704,\n",
       " 0.74838156,\n",
       " 0.89062357,\n",
       " 0.5202235,\n",
       " 0.7574838,\n",
       " 0.9192059,\n",
       " 0.79537314,\n",
       " 0.534606,\n",
       " 0.8119589,\n",
       " 0.66938776,\n",
       " 0.4288028,\n",
       " 0.61751044,\n",
       " 0.6824455,\n",
       " 0.9107424,\n",
       " 0.7535956,\n",
       " 0.7313926,\n",
       " 0.5901073,\n",
       " 0.9139184,\n",
       " 0.5928347,\n",
       " 0.5825582,\n",
       " 0.6280724,\n",
       " 0.92101943,\n",
       " 0.69298613,\n",
       " 0.8169804,\n",
       " 0.8433565,\n",
       " 0.56631273,\n",
       " 0.7953317,\n",
       " 0.71923745,\n",
       " 0.9106849,\n",
       " 0.3838607,\n",
       " 0.92141527,\n",
       " 0.92177,\n",
       " 0.43513468,\n",
       " 0.8833196,\n",
       " 0.93072635,\n",
       " 0.7743848,\n",
       " 0.64974374,\n",
       " 0.46704036,\n",
       " 0.7189295,\n",
       " 0.52850354,\n",
       " 0.66654253,\n",
       " 0.7170082,\n",
       " 0.93829566,\n",
       " 0.9231544,\n",
       " 0.55310845,\n",
       " 0.7617353,\n",
       " 0.89376295,\n",
       " 0.7821166,\n",
       " 0.4997123,\n",
       " 0.50804204,\n",
       " 0.550859,\n",
       " 0.85138935,\n",
       " 0.49669167,\n",
       " 0.5570911,\n",
       " 0.8852568,\n",
       " 0.66169107,\n",
       " 0.8855129,\n",
       " 0.8872664,\n",
       " 0.6302507,\n",
       " 0.85836965,\n",
       " 0.69126374,\n",
       " 0.5535355,\n",
       " 0.803342,\n",
       " 0.73713446,\n",
       " 0.71688485,\n",
       " 0.6869387,\n",
       " 0.6136836,\n",
       " 0.5569293,\n",
       " 0.93185043,\n",
       " 0.92121303,\n",
       " 0.61132616,\n",
       " 0.7517407,\n",
       " 0.7448874,\n",
       " 0.90375805,\n",
       " 0.5793985,\n",
       " 0.75660455,\n",
       " 0.73862594,\n",
       " 0.90322125,\n",
       " 0.7037353,\n",
       " 0.93169725,\n",
       " 0.76890886,\n",
       " 0.88857377,\n",
       " 0.7025508,\n",
       " 0.9221234,\n",
       " 0.70151794,\n",
       " 0.8557584,\n",
       " 0.93912214,\n",
       " 0.9202478,\n",
       " 0.75412416,\n",
       " 0.49044222,\n",
       " 0.45074943,\n",
       " 0.515878,\n",
       " 0.6824455,\n",
       " 0.58069146,\n",
       " 0.8540405,\n",
       " 0.6920798,\n",
       " 0.5816219,\n",
       " 0.9425233,\n",
       " 0.5228521,\n",
       " 0.8185588,\n",
       " 0.9072217,\n",
       " 0.5561505,\n",
       " 0.46135917,\n",
       " 0.7905114,\n",
       " 0.76195925,\n",
       " 0.7975522,\n",
       " 0.6356994,\n",
       " 0.92101943,\n",
       " 0.5702384,\n",
       " 0.43938833,\n",
       " 0.4291807,\n",
       " 0.93592167,\n",
       " 0.6209005,\n",
       " 0.93339664,\n",
       " 0.4164474,\n",
       " 0.5814351,\n",
       " 0.86326814,\n",
       " 0.62921727,\n",
       " 0.4431369,\n",
       " 0.8910286,\n",
       " 0.9391543,\n",
       " 0.66082126,\n",
       " 0.83512247,\n",
       " 0.8763391,\n",
       " 0.48402157,\n",
       " 0.9189317,\n",
       " 0.38933194,\n",
       " 0.87743706,\n",
       " 0.8320603,\n",
       " 0.6100527,\n",
       " 0.38103074,\n",
       " 0.50346464,\n",
       " 0.50887513,\n",
       " 0.6755221,\n",
       " 0.45444533,\n",
       " 0.73400456,\n",
       " 0.89084744,\n",
       " 0.7838562,\n",
       " 0.5949237,\n",
       " 0.71211857,\n",
       " 0.76533157,\n",
       " 0.48776403,\n",
       " 0.6800043,\n",
       " 0.7922834,\n",
       " 0.9354668,\n",
       " 0.8875126,\n",
       " 0.6532199,\n",
       " 0.7349539,\n",
       " 0.84084857,\n",
       " 0.92712617,\n",
       " 0.6280264,\n",
       " 0.64939827,\n",
       " 0.5182096,\n",
       " 0.9059103,\n",
       " 0.5892896,\n",
       " 0.90936357,\n",
       " 0.6960158,\n",
       " 0.76933897,\n",
       " 0.466269,\n",
       " 0.88301075,\n",
       " 0.5291897,\n",
       " 0.87241256,\n",
       " 0.9341017,\n",
       " 0.5659073,\n",
       " 0.9066007,\n",
       " 0.8672309,\n",
       " 0.7793079,\n",
       " 0.88458014,\n",
       " 0.48719802,\n",
       " 0.6895297,\n",
       " 0.67335945,\n",
       " 0.3810152,\n",
       " 0.67757696,\n",
       " 0.46875182,\n",
       " 0.8109155,\n",
       " 0.5186345,\n",
       " 0.86145794,\n",
       " 0.7539101,\n",
       " 0.67367864,\n",
       " 0.64634854,\n",
       " 0.7716515,\n",
       " 0.7222256,\n",
       " 0.79032683,\n",
       " 0.6930585,\n",
       " 0.75352013,\n",
       " 0.5311367,\n",
       " 0.58830816,\n",
       " 0.7977616,\n",
       " 0.5187808,\n",
       " 0.89408475,\n",
       " 0.8787469,\n",
       " 0.64811325,\n",
       " 0.57996297,\n",
       " 0.91602314,\n",
       " 0.49215797,\n",
       " 0.49351135,\n",
       " 0.83856404,\n",
       " 0.9047819,\n",
       " 0.62776387,\n",
       " 0.73647296,\n",
       " 0.9060264,\n",
       " 0.7481336,\n",
       " 0.9240806,\n",
       " 0.5220475,\n",
       " 0.87970984,\n",
       " 0.6302507,\n",
       " 0.8800891,\n",
       " 0.52808785,\n",
       " 0.7984051,\n",
       " 0.56029147,\n",
       " 0.7697986,\n",
       " 0.93143296,\n",
       " 0.58823174,\n",
       " 0.3599108,\n",
       " 0.922542,\n",
       " 0.4674543,\n",
       " 0.9290686,\n",
       " 0.6633902,\n",
       " 0.7819984,\n",
       " 0.7001267,\n",
       " 0.6131458,\n",
       " 0.53286505,\n",
       " 0.8111394,\n",
       " 0.8189132,\n",
       " 0.8185588,\n",
       " 0.85823786,\n",
       " 0.52411973,\n",
       " 0.9189317,\n",
       " 0.9107703,\n",
       " 0.8946811,\n",
       " 0.88458014,\n",
       " 0.48887208,\n",
       " 0.4996643,\n",
       " 0.852852,\n",
       " 0.8171456,\n",
       " 0.87485194,\n",
       " 0.43757415,\n",
       " 0.49876162,\n",
       " 0.9139184,\n",
       " 0.73515975,\n",
       " 0.86188877,\n",
       " 0.5098822,\n",
       " 0.60104936,\n",
       " 0.5503343,\n",
       " 0.787743,\n",
       " 0.87062967,\n",
       " 0.71437097,\n",
       " 0.4819329,\n",
       " 0.41803744,\n",
       " 0.5412476,\n",
       " 0.89712626,\n",
       " 0.8609203,\n",
       " 0.91671103,\n",
       " 0.93499243,\n",
       " 0.58574885,\n",
       " 0.58138037,\n",
       " 0.6984213,\n",
       " 0.674011,\n",
       " 0.891084,\n",
       " 0.7769362,\n",
       " 0.8929578,\n",
       " 0.9285049,\n",
       " 0.931943,\n",
       " 0.77958304,\n",
       " 0.62392163,\n",
       " 0.5205154,\n",
       " 0.6804603,\n",
       " 0.9319059,\n",
       " 0.9108056,\n",
       " 0.6731476,\n",
       " 0.9227149,\n",
       " 0.6282412,\n",
       " 0.6378793,\n",
       " 0.8842757,\n",
       " 0.5737824,\n",
       " 0.8518037,\n",
       " 0.8463518,\n",
       " 0.916435,\n",
       " 0.9253341,\n",
       " 0.69313055,\n",
       " 0.61618364,\n",
       " 0.7038112,\n",
       " 0.891084,\n",
       " 0.4506349,\n",
       " 0.41312912,\n",
       " 0.873125,\n",
       " 0.6094152,\n",
       " 0.90924567,\n",
       " 0.88911885,\n",
       " 0.8833196,\n",
       " 0.7639921,\n",
       " 0.6478347,\n",
       " 0.60947895,\n",
       " 0.49414456,\n",
       " 0.91469413,\n",
       " 0.89248884,\n",
       " 0.5281424,\n",
       " 0.6844889,\n",
       " 0.8678099,\n",
       " 0.7743848,\n",
       " 0.48719802,\n",
       " 0.7958379,\n",
       " 0.5629201,\n",
       " 0.5162228,\n",
       " 0.6321068,\n",
       " 0.49096498,\n",
       " 0.86668277,\n",
       " 0.79869026,\n",
       " 0.79611963,\n",
       " 0.59410536,\n",
       " 0.7317066,\n",
       " 0.54196185,\n",
       " 0.90998495,\n",
       " 0.8039951,\n",
       " 0.7647289,\n",
       " 0.46135917,\n",
       " 0.5185095,\n",
       " 0.74342865,\n",
       " 0.90926313,\n",
       " 0.6749347,\n",
       " 0.79412055,\n",
       " 0.61231476,\n",
       " 0.81548864,\n",
       " 0.67589307,\n",
       " 0.69380295,\n",
       " 0.61231476,\n",
       " 0.8496947,\n",
       " 0.44602466,\n",
       " 0.93041533,\n",
       " 0.922542,\n",
       " 0.92486054,\n",
       " 0.588112,\n",
       " 0.924357,\n",
       " 0.87307703,\n",
       " 0.71467954,\n",
       " 0.9055554,\n",
       " 0.4501882,\n",
       " 0.77376676,\n",
       " 0.5028152,\n",
       " 0.7025508,\n",
       " 0.632796,\n",
       " 0.49734,\n",
       " 0.74375784,\n",
       " 0.64558005,\n",
       " 0.91613644,\n",
       " 0.55899894,\n",
       " 0.8364165,\n",
       " 0.845946,\n",
       " 0.9201296,\n",
       " 0.7345692,\n",
       " 0.6889122,\n",
       " 0.72699994,\n",
       " 0.62109095,\n",
       " 0.817985,\n",
       " 0.53487295,\n",
       " 0.6622852,\n",
       " 0.79611963,\n",
       " 0.4501882,\n",
       " 0.47531903,\n",
       " 0.6107069,\n",
       " 0.6333719,\n",
       " 0.6419632,\n",
       " 0.81548864,\n",
       " 0.91798514,\n",
       " 0.63887066,\n",
       " 0.7766973,\n",
       " 0.8474953,\n",
       " 0.5466093,\n",
       " 0.9107424,\n",
       " 0.88740975,\n",
       " 0.8990019,\n",
       " 0.53100306,\n",
       " 0.46043003,\n",
       " 0.4595806,\n",
       " 0.9241367,\n",
       " 0.79435176,\n",
       " 0.9361454,\n",
       " 0.9032089,\n",
       " 0.9225837,\n",
       " 0.92177,\n",
       " 0.58467346,\n",
       " 0.728121,\n",
       " 0.6555663,\n",
       " 0.91525555,\n",
       " 0.5320208,\n",
       " 0.9136639,\n",
       " 0.6591903,\n",
       " 0.5061911,\n",
       " 0.92712617,\n",
       " 0.78522766,\n",
       " 0.90926313,\n",
       " 0.85295236,\n",
       " 0.9425233,\n",
       " 0.8307167,\n",
       " 0.7440086,\n",
       " 0.46301946,\n",
       " 0.89644384,\n",
       " 0.73559153,\n",
       " 0.9116407,\n",
       " 0.85820323,\n",
       " 0.8787469,\n",
       " 0.62633944,\n",
       " 0.8456818,\n",
       " 0.9301807,\n",
       " 0.91988724,\n",
       " 0.7517839,\n",
       " 0.89493597,\n",
       " 0.6840153,\n",
       " 0.85836965,\n",
       " 0.49262202,\n",
       " 0.90375805,\n",
       " 0.85820323,\n",
       " 0.72670126,\n",
       " 0.9265353,\n",
       " 0.94047153,\n",
       " 0.9227149,\n",
       " 0.4868763,\n",
       " 0.8672245,\n",
       " 0.56845933,\n",
       " 0.89248884,\n",
       " 0.5087398,\n",
       " 0.8906653,\n",
       " 0.93400353,\n",
       " 0.51914513,\n",
       " 0.769249,\n",
       " 0.4974984,\n",
       " 0.5653273,\n",
       " 0.80066454,\n",
       " 0.55957025,\n",
       " 0.8741717,\n",
       " 0.8400217,\n",
       " 0.8300044,\n",
       " 0.54434216,\n",
       " 0.8806447,\n",
       " 0.5833977,\n",
       " 0.6984213,\n",
       " 0.90017176,\n",
       " 0.73880845,\n",
       " 0.535565,\n",
       " 0.87162983,\n",
       " 0.9284565,\n",
       " 0.5391186,\n",
       " 0.9289212,\n",
       " 0.8367132,\n",
       " 0.4660281,\n",
       " 0.91285443,\n",
       " 0.6525966,\n",
       " 0.8842757,\n",
       " 0.93639445,\n",
       " 0.7339577,\n",
       " 0.83572924,\n",
       " 0.5567653,\n",
       " 0.9099423,\n",
       " 0.68148446,\n",
       " 0.7635852,\n",
       " 0.8686547,\n",
       " 0.53233653,\n",
       " 0.8536008,\n",
       " 0.573195,\n",
       " 0.7224074,\n",
       " 0.8161417,\n",
       " 0.5561505,\n",
       " 0.8872664,\n",
       " 0.67953616,\n",
       " 0.8479811,\n",
       " 0.7349515,\n",
       " 0.8342916,\n",
       " 0.446963,\n",
       " 0.59732413,\n",
       " 0.7311943,\n",
       " 0.93080705,\n",
       " 0.91623414,\n",
       " 0.8814177,\n",
       " 0.9288055,\n",
       " 0.71910936,\n",
       " 0.8855586,\n",
       " 0.8856051,\n",
       " 0.92127925,\n",
       " 0.5391538,\n",
       " 0.91292214,\n",
       " 0.8130293,\n",
       " 0.7927674,\n",
       " 0.78542423,\n",
       " 0.58281106,\n",
       " 0.8206823,\n",
       " 0.69009775,\n",
       " 0.7472283,\n",
       " 0.6236387,\n",
       " 0.90344095,\n",
       " 0.84029496,\n",
       " 0.7309083,\n",
       " 0.8029804,\n",
       " 0.93056905,\n",
       " 0.874998,\n",
       " 0.73611504,\n",
       " 0.70078814,\n",
       " 0.85210764,\n",
       " 0.86454266,\n",
       " 0.62052083,\n",
       " 0.506943,\n",
       " 0.53882277,\n",
       " 0.92893016,\n",
       " 0.88459975,\n",
       " 0.5419982,\n",
       " 0.6812181,\n",
       " 0.6912316,\n",
       " 0.85521644,\n",
       " 0.77400225,\n",
       " 0.9287381,\n",
       " 0.5930573,\n",
       " 0.56845933,\n",
       " 0.92688423,\n",
       " 0.47361594,\n",
       " 0.55899894,\n",
       " 0.6185489,\n",
       " 0.43938833,\n",
       " 0.64312154,\n",
       " 0.5806976,\n",
       " 0.59959567,\n",
       " 0.8164355,\n",
       " 0.602768,\n",
       " 0.8471798,\n",
       " 0.541114,\n",
       " 0.83856404,\n",
       " 0.92886424,\n",
       " 0.74358517,\n",
       " 0.9246994,\n",
       " 0.81734467,\n",
       " 0.9091695,\n",
       " 0.6082609,\n",
       " 0.8733208,\n",
       " 0.7335921,\n",
       " 0.9298543,\n",
       " 0.9210267,\n",
       " 0.8061483,\n",
       " 0.53423893,\n",
       " 0.7617353,\n",
       " 0.9322988,\n",
       " 0.8452444,\n",
       " 0.874988,\n",
       " 0.49120095,\n",
       " 0.823092,\n",
       " 0.5585335,\n",
       " 0.6895297,\n",
       " 0.9139989,\n",
       " 0.9294577,\n",
       " 0.502893,\n",
       " 0.5059617,\n",
       " 0.54771966,\n",
       " 0.7755858,\n",
       " 0.5496634,\n",
       " 0.85744184,\n",
       " 0.5225486,\n",
       " 0.54784423,\n",
       " 0.881179,\n",
       " 0.9369822,\n",
       " 0.4127839,\n",
       " 0.48264265,\n",
       " 0.9243408,\n",
       " 0.8536008,\n",
       " 0.77114,\n",
       " 0.68016297,\n",
       " 0.4023927,\n",
       " 0.93400353,\n",
       " 0.3503529,\n",
       " 0.74902016,\n",
       " 0.5520066,\n",
       " 0.54663634,\n",
       " 0.5485019,\n",
       " 0.58964497,\n",
       " 0.43867356,\n",
       " 0.5461252,\n",
       " 0.3976082,\n",
       " 0.57377374,\n",
       " 0.5611657,\n",
       " 0.7562415,\n",
       " 0.66654253,\n",
       " 0.59511334,\n",
       " 0.71155876,\n",
       " 0.82775825,\n",
       " 0.82397115,\n",
       " 0.83631057,\n",
       " 0.79435176,\n",
       " 0.84453285,\n",
       " 0.5051521,\n",
       " 0.8820944,\n",
       " 0.7752839,\n",
       " 0.7378389,\n",
       " 0.5127984,\n",
       " 0.87053406,\n",
       " 0.6950188,\n",
       " 0.50068223,\n",
       " 0.64165694,\n",
       " 0.409404,\n",
       " 0.8496749,\n",
       " 0.54196185,\n",
       " 0.63758326,\n",
       " 0.7473831,\n",
       " 0.6659099,\n",
       " 0.71883345,\n",
       " 0.78106695,\n",
       " 0.8903467,\n",
       " 0.485684,\n",
       " 0.9253341,\n",
       " 0.68515146,\n",
       " 0.6104427,\n",
       " 0.8714385,\n",
       " 0.49107867,\n",
       " 0.43513468,\n",
       " 0.87485194,\n",
       " 0.8444493,\n",
       " 0.55388266,\n",
       " 0.8928514,\n",
       " 0.9317438,\n",
       " 0.91469413,\n",
       " 0.6805458,\n",
       " 0.5587476,\n",
       " 0.7179661,\n",
       " 0.5092831,\n",
       " 0.9243408,\n",
       " 0.5281377,\n",
       " 0.9072217,\n",
       " 0.7517407,\n",
       " 0.90322125,\n",
       " 0.8340103,\n",
       " 0.4717159,\n",
       " 0.39244223,\n",
       " 0.7217087,\n",
       " 0.92702013,\n",
       " 0.5812765,\n",
       " 0.3635639,\n",
       " 0.8205394,\n",
       " 0.53058654,\n",
       " 0.5684733,\n",
       " 0.8105753,\n",
       " 0.57890373,\n",
       " 0.8209376,\n",
       " 0.7788016,\n",
       " 0.873125,\n",
       " 0.80134594,\n",
       " 0.92843676,\n",
       " 0.8785475,\n",
       " 0.8522588,\n",
       " 0.91623414,\n",
       " 0.86753494,\n",
       " 0.63224643,\n",
       " 0.9241367,\n",
       " 0.618073,\n",
       " 0.46974728,\n",
       " 0.9212779,\n",
       " 0.91570514,\n",
       " 0.59652233,\n",
       " 0.4274195,\n",
       " 0.56093305,\n",
       " 0.65733695,\n",
       " 0.47801092,\n",
       " 0.91798514,\n",
       " 0.71302474,\n",
       " 0.9297515,\n",
       " 0.5474617,\n",
       " 0.8479774,\n",
       " 0.549776,\n",
       " 0.7619744,\n",
       " 0.78105855,\n",
       " 0.90540224,\n",
       " 0.84635204]"
      ]
     },
     "metadata": {},
     "execution_count": 40
    }
   ]
  },
  {
   "cell_type": "code",
   "source": [
    "plt.hist(hist_norm_softmax, bins='auto')\n",
    "plt.hist(hist_outside_softmax, bins='auto', alpha=0.7)"
   ],
   "metadata": {
    "colab": {
     "base_uri": "https://localhost:8080/",
     "height": 352
    },
    "id": "-ggVV0mFFLDl",
    "outputId": "c09509b0-8323-4542-bf93-f3b6c45e2f6c",
    "pycharm": {
     "name": "#%%\n"
    }
   },
   "execution_count": 41,
   "outputs": [
    {
     "output_type": "execute_result",
     "data": {
      "text/plain": [
       "(array([ 11.,  25.,  64.,  79.,  61.,  49.,  71.,  75.,  71., 111., 170.]),\n",
       " array([0.3503529 , 0.40418658, 0.45802027, 0.51185393, 0.5656876 ,\n",
       "        0.61952126, 0.6733549 , 0.7271886 , 0.7810223 , 0.834856  ,\n",
       "        0.88868964, 0.9425233 ], dtype=float32),\n",
       " <a list of 11 Patch objects>)"
      ]
     },
     "metadata": {},
     "execution_count": 41
    },
    {
     "output_type": "display_data",
     "data": {
      "text/plain": [
       "<Figure size 432x288 with 1 Axes>"
      ],
      "image/png": "[encoded data removed]"
     },
     "metadata": {
      "needs_background": "light"
     }
    }
   ]
  },
  {
   "cell_type": "markdown",
   "source": [
    "#Histogram - max(logits)"
   ],
   "metadata": {
    "id": "jlf8Q6U1X25P",
    "pycharm": {
     "name": "#%% md\n"
    }
   }
  },
  {
   "cell_type": "code",
   "source": [
    "def get_hist_data_logit(logits_list):\n",
    "  hist_prob = []\n",
    "  for i in range(len(logits_list)):\n",
    "    logits_list[i] = logits_list[i].numpy(force=True)\n",
    "    for j in range(len(logits_list[i])):\n",
    "      hist_prob.append(logits_list[i][j].max())\n",
    "  return hist_prob"
   ],
   "metadata": {
    "id": "DrYh2WAkFPYb",
    "pycharm": {
     "name": "#%%\n"
    }
   },
   "execution_count": 42,
   "outputs": []
  },
  {
   "cell_type": "code",
   "source": [
    "hist_norm_logit = get_hist_data_logit(logits_list)\n",
    "hist_outside_logit = get_hist_data_logit(logits_list_outside)\n",
    "print(f\"Seen elements histograms length: {len(hist_norm_logit)}\")\n",
    "print(f\"Unseen elements histograms length: {len(hist_outside_logit)}\")"
   ],
   "metadata": {
    "id": "X69pxuRnXLa4",
    "colab": {
     "base_uri": "https://localhost:8080/"
    },
    "outputId": "47ccdb5d-b2cf-49e2-d42f-0e1f7989f4b8",
    "pycharm": {
     "name": "#%%\n"
    }
   },
   "execution_count": 43,
   "outputs": [
    {
     "output_type": "stream",
     "name": "stdout",
     "text": [
      "Seen elements histograms length: 144\n",
      "Unseen elements histograms length: 787\n"
     ]
    }
   ]
  },
  {
   "cell_type": "code",
   "source": [
    "plt.hist(hist_norm_logit, bins='auto')\n",
    "plt.hist(hist_outside_logit, bins='auto', alpha=0.7)"
   ],
   "metadata": {
    "colab": {
     "base_uri": "https://localhost:8080/",
     "height": 355
    },
    "id": "uWK-L-HMXbSi",
    "outputId": "57d629e5-40d9-4da5-90d9-640b0d9be320",
    "pycharm": {
     "name": "#%%\n"
    }
   },
   "execution_count": 44,
   "outputs": [
    {
     "output_type": "execute_result",
     "data": {
      "text/plain": [
       "(array([ 17.,  57., 115.,  83.,  86.,  76.,  71.,  47.,  79.,  74.,  82.]),\n",
       " array([-0.00299795,  0.21532434,  0.43364662,  0.6519689 ,  0.8702912 ,\n",
       "         1.0886135 ,  1.3069358 ,  1.5252581 ,  1.7435803 ,  1.9619026 ,\n",
       "         2.180225  ,  2.3985472 ], dtype=float32),\n",
       " <a list of 11 Patch objects>)"
      ]
     },
     "metadata": {},
     "execution_count": 44
    },
    {
     "output_type": "display_data",
     "data": {
      "text/plain": [
       "<Figure size 432x288 with 1 Axes>"
      ],
      "image/png": "[encoded data removed]"
     },
     "metadata": {
      "needs_background": "light"
     }
    }
   ]
  },
  {
   "cell_type": "markdown",
   "source": [
    "#Gaussian Discrete Analysis + Mahalanobis/Eucledian distance"
   ],
   "metadata": {
    "id": "GplD8R3_d5pK",
    "pycharm": {
     "name": "#%% md\n"
    }
   }
  },
  {
   "cell_type": "code",
   "source": [
    "def confidence(features: np.ndarray,\n",
    "               means: np.ndarray,\n",
    "               distance_type: str,\n",
    "               cov: np.ndarray = None) -> np.ndarray:\n",
    "    \"\"\"\n",
    "    Calculate mahalanobis or euclidean based confidence score for each class.\n",
    "    Params:\n",
    "        - features: shape (num_samples, num_features)\n",
    "        - means: shape (num_classes, num_features)\n",
    "        - cov: shape (num_features, num_features) or None (if use euclidean distance)\n",
    "    \n",
    "    Returns:\n",
    "        - confidence: shape (num_samples, num_classes)\n",
    "    \"\"\"\n",
    "    assert distance_type in (\"euclidean\", \"mahalanobis\")\n",
    "\n",
    "    num_samples = features.shape[0]\n",
    "    num_features = features.shape[1]\n",
    "    num_classes = means.shape[0]\n",
    "    if distance_type == \"euclidean\":\n",
    "        cov = np.identity(num_features)\n",
    "    \n",
    "    features = features.reshape(num_samples, 1, num_features).repeat(num_classes, axis=1)  # (num_samples, num_classes, num_features)\n",
    "    means = means.reshape(1, num_classes, num_features).repeat(num_samples, axis=0)  # (num_samples, num_classes, num_features)\n",
    "    vectors = features - means  # (num_samples, num_classes, num_features)\n",
    "    cov_inv = np.linalg.inv(cov)\n",
    "    bef_sqrt = np.matmul(np.matmul(vectors.reshape(num_samples, num_classes, 1, num_features), cov_inv),\n",
    "                         vectors.reshape(num_samples, num_classes, num_features, 1)).squeeze()\n",
    "    result = np.sqrt(bef_sqrt)\n",
    "    result[np.isnan(result)] = 1e12  # solve nan\n",
    "    return result"
   ],
   "metadata": {
    "id": "WJ6KZP7Ce8Sd",
    "pycharm": {
     "name": "#%%\n"
    }
   },
   "execution_count": 45,
   "outputs": []
  },
  {
   "cell_type": "code",
   "source": [
    "def tensor_to_list(logits_list):\n",
    "    for i in range(len(logits_list)):\n",
    "      logits_list[i] = logits_list[i].numpy(force=True)\n",
    "  \n",
    "    return logits_list"
   ],
   "metadata": {
    "id": "rn9B_NfpuEbW",
    "pycharm": {
     "name": "#%%\n"
    }
   },
   "execution_count": 46,
   "outputs": []
  },
  {
   "cell_type": "code",
   "source": [
    "feature_train_list = logits_list.copy()\n",
    "feature_test_list = logits_list_outside.copy()\n",
    "y_train_seen_list = tensor_to_list(test_label_list)"
   ],
   "metadata": {
    "id": "5cYinKorjthR",
    "pycharm": {
     "name": "#%%\n"
    }
   },
   "execution_count": 47,
   "outputs": []
  },
  {
   "cell_type": "code",
   "source": [
    "y_train_seen_list"
   ],
   "metadata": {
    "colab": {
     "base_uri": "https://localhost:8080/"
    },
    "id": "8U69YDrZaIK0",
    "outputId": "204394fb-09a5-42ac-8c23-676b94af1d9d",
    "pycharm": {
     "name": "#%%\n"
    }
   },
   "execution_count": 48,
   "outputs": [
    {
     "output_type": "execute_result",
     "data": {
      "text/plain": [
       "[array([2, 1, 0, 2, 0, 1, 0, 0, 1, 2, 1, 2]),\n",
       " array([2, 0, 1, 0, 1, 1, 0, 0, 0, 1, 1, 0]),\n",
       " array([1, 2, 2, 0, 2, 1, 0, 1, 0, 2, 2, 0]),\n",
       " array([0, 0, 1, 2, 1, 2, 1, 2, 1, 0, 0, 0]),\n",
       " array([0, 1, 0, 1, 1, 2, 1, 0, 2, 1, 0, 1]),\n",
       " array([2, 2, 2, 2, 0, 1, 1, 1, 1, 2, 0, 2]),\n",
       " array([2, 2, 0, 0, 2, 2, 0, 0, 2, 1, 1, 0]),\n",
       " array([1, 2, 1, 0, 1, 0, 1, 2, 2, 0, 2, 1]),\n",
       " array([1, 0, 2, 1, 0, 0, 0, 1, 2, 2, 1, 1]),\n",
       " array([1, 1, 2, 1, 2, 0, 2, 2, 0, 0, 0, 1]),\n",
       " array([0, 0, 1, 2, 1, 1, 1, 1, 2, 2, 0, 2]),\n",
       " array([2, 0, 0, 0, 2, 2, 0, 2, 1, 2, 1, 1])]"
      ]
     },
     "metadata": {},
     "execution_count": 48
    }
   ]
  },
  {
   "cell_type": "code",
   "source": [
    "from sklearn.discriminant_analysis import LinearDiscriminantAnalysis\n",
    "\n",
    "solver = \"lsqr\"\n",
    "distance_type = \"mahalanobis\" # \"euclidean\"\n",
    "assert solver in (\"lsqr\")\n",
    "assert distance_type in (\"mahalanobis\", \"euclidean\")\n",
    "\n",
    "threshold = 1.8\n",
    "false_seen = 0\n",
    "\n",
    "for feature_train, feature_test, y_train in zip(feature_train_list, feature_test_list, y_train_seen_list):\n",
    "    gda = LinearDiscriminantAnalysis(solver=solver, shrinkage=None, store_covariance=True)\n",
    "    gda.fit(feature_train, y_train)\n",
    "\n",
    "    y_pred = gda.predict(feature_test)\n",
    "    gda_result_test = confidence(feature_test, gda.means_, distance_type, gda.covariance_)\n",
    "    y_pred_score = pd.Series(gda_result_test.min(axis=1))\n",
    "\n",
    "    y_pred_score[y_pred_score[y_pred_score > threshold].index] = 'unseen'\n",
    "    \n",
    "    false_seen += y_pred_score.value_counts()['unseen'] / y_pred.size #\n",
    "  \n",
    "false_seen /= len(feature_train) #\n"
   ],
   "metadata": {
    "id": "fUivo6RnjgQ-",
    "colab": {
     "base_uri": "https://localhost:8080/"
    },
    "outputId": "9b65ce23-3cec-4439-8dfd-80fdc3a93846",
    "pycharm": {
     "name": "#%%\n"
    }
   },
   "execution_count": 59,
   "outputs": [
    {
     "output_type": "stream",
     "name": "stderr",
     "text": [
      "/usr/local/lib/python3.8/dist-packages/sklearn/covariance/_empirical_covariance.py:86: UserWarning: Only one sample available. You may want to reshape your data array\n",
      "  warnings.warn(\n"
     ]
    }
   ]
  },
  {
   "cell_type": "code",
   "source": [
    "print(f'false seen: {1-false_seen}')"
   ],
   "metadata": {
    "colab": {
     "base_uri": "https://localhost:8080/"
    },
    "id": "FADiRT-XS7_J",
    "outputId": "bb46d457-adc4-4413-c3e4-cb35d80eb1b5",
    "pycharm": {
     "name": "#%%\n"
    }
   },
   "execution_count": 61,
   "outputs": [
    {
     "output_type": "stream",
     "name": "stdout",
     "text": [
      "false seen: 0.09722222222222232\n"
     ]
    }
   ]
  },
  {
   "cell_type": "code",
   "source": [
    "y_pred_score"
   ],
   "metadata": {
    "colab": {
     "base_uri": "https://localhost:8080/"
    },
    "id": "Gwid7PItHKNF",
    "outputId": "d92fb3ac-af82-4862-c996-ca1eac3d7168",
    "pycharm": {
     "name": "#%%\n"
    }
   },
   "execution_count": 58,
   "outputs": [
    {
     "output_type": "execute_result",
     "data": {
      "text/plain": [
       "0       unseen\n",
       "1       unseen\n",
       "2       unseen\n",
       "3       unseen\n",
       "4       unseen\n",
       "5       unseen\n",
       "6     0.497471\n",
       "7       unseen\n",
       "8       unseen\n",
       "9       unseen\n",
       "10      unseen\n",
       "11      unseen\n",
       "dtype: object"
      ]
     },
     "metadata": {},
     "execution_count": 58
    }
   ]
  },
  {
   "cell_type": "markdown",
   "source": [
    "#LOF"
   ],
   "metadata": {
    "id": "77Z5KqU0men_",
    "pycharm": {
     "name": "#%% md\n"
    }
   }
  },
  {
   "cell_type": "code",
   "source": [
    "from sklearn.neighbors import LocalOutlierFactor\n",
    "\n",
    "false_seen = 0\n",
    "\n",
    "for feature_train, feature_test, y_train in zip(feature_train_list, feature_test_list, y_train_seen_list):\n",
    "    \n",
    "    lof = LocalOutlierFactor(n_neighbors=1, contamination=0.1, novelty=True, n_jobs=-1)\n",
    "    lof.fit(feature_train)\n",
    "  \n",
    "    y_pred_lof = lof.predict(feature_test)\n",
    "    \n",
    "    y_pred_score = pd.Series(y_pred_lof)\n",
    "\n",
    "    y_pred_score[y_pred_score[y_pred_lof==-1].index]='unseen'\n",
    "    \n",
    "    false_seen += y_pred_score.value_counts()['unseen'] / y_pred_lof.size #\n",
    "  \n",
    "false_seen /= len(feature_train) #\n",
    "    "
   ],
   "metadata": {
    "id": "fezWogcfmfdA",
    "pycharm": {
     "name": "#%%\n"
    }
   },
   "execution_count": 63,
   "outputs": []
  },
  {
   "cell_type": "code",
   "source": [
    "print(f'false seen: {1-false_seen}')"
   ],
   "metadata": {
    "colab": {
     "base_uri": "https://localhost:8080/"
    },
    "id": "MDi5puZ6xfJo",
    "outputId": "563d80d1-2aa4-40ee-a84c-27e52e88753d",
    "pycharm": {
     "name": "#%%\n"
    }
   },
   "execution_count": 65,
   "outputs": [
    {
     "output_type": "stream",
     "name": "stdout",
     "text": [
      "false seen: 0.5\n"
     ]
    }
   ]
  },
  {
   "cell_type": "code",
   "source": [],
   "metadata": {
    "id": "RhROkQQ_1tQY",
    "pycharm": {
     "name": "#%%\n"
    }
   },
   "execution_count": 53,
   "outputs": []
  }
 ],
 "metadata": {
  "accelerator": "GPU",
  "colab": {
   "provenance": [],
   "collapsed_sections": [
    "iJ9MwIZEn_KP"
   ]
  },
  "gpuClass": "standard",
  "kernelspec": {
   "display_name": "Python 3",
   "name": "python3"
  },
  "language_info": {
   "name": "python"
  },
  "widgets": {
   "application/vnd.jupyter.widget-state+json": {
    "857d50228ab64702a3d524dab8b5febf": {
     "model_module": "@jupyter-widgets/controls",
     "model_name": "HBoxModel",
     "model_module_version": "1.5.0",
     "state": {
      "_dom_classes": [],
      "_model_module": "@jupyter-widgets/controls",
      "_model_module_version": "1.5.0",
      "_model_name": "HBoxModel",
      "_view_count": null,
      "_view_module": "@jupyter-widgets/controls",
      "_view_module_version": "1.5.0",
      "_view_name": "HBoxView",
      "box_style": "",
      "children": [
       "IPY_MODEL_4a6271acafce4a849bded10a220c2a65",
       "IPY_MODEL_1017fe38604a4850bceb5fee1b6e7273",
       "IPY_MODEL_62ea93e691f84180be93f88301631650"
      ],
      "layout": "IPY_MODEL_cdb732ce8ea24c3d83920f873ad2b090"
     }
    },
    "4a6271acafce4a849bded10a220c2a65": {
     "model_module": "@jupyter-widgets/controls",
     "model_name": "HTMLModel",
     "model_module_version": "1.5.0",
     "state": {
      "_dom_classes": [],
      "_model_module": "@jupyter-widgets/controls",
      "_model_module_version": "1.5.0",
      "_model_name": "HTMLModel",
      "_view_count": null,
      "_view_module": "@jupyter-widgets/controls",
      "_view_module_version": "1.5.0",
      "_view_name": "HTMLView",
      "description": "",
      "description_tooltip": null,
      "layout": "IPY_MODEL_890ba5f82b4347f6bf3868b1b22b79c9",
      "placeholder": "​",
      "style": "IPY_MODEL_09c8cd560b784d889b90bf2dba0d0c8e",
      "value": "Downloading (…)solve/main/vocab.txt: 100%"
     }
    },
    "1017fe38604a4850bceb5fee1b6e7273": {
     "model_module": "@jupyter-widgets/controls",
     "model_name": "FloatProgressModel",
     "model_module_version": "1.5.0",
     "state": {
      "_dom_classes": [],
      "_model_module": "@jupyter-widgets/controls",
      "_model_module_version": "1.5.0",
      "_model_name": "FloatProgressModel",
      "_view_count": null,
      "_view_module": "@jupyter-widgets/controls",
      "_view_module_version": "1.5.0",
      "_view_name": "ProgressView",
      "bar_style": "success",
      "description": "",
      "description_tooltip": null,
      "layout": "IPY_MODEL_369caddf36d246c68ac79c1d549c0fa3",
      "max": 213450,
      "min": 0,
      "orientation": "horizontal",
      "style": "IPY_MODEL_c6716814ff0c408299a15e02a7857609",
      "value": 213450
     }
    },
    "62ea93e691f84180be93f88301631650": {
     "model_module": "@jupyter-widgets/controls",
     "model_name": "HTMLModel",
     "model_module_version": "1.5.0",
     "state": {
      "_dom_classes": [],
      "_model_module": "@jupyter-widgets/controls",
      "_model_module_version": "1.5.0",
      "_model_name": "HTMLModel",
      "_view_count": null,
      "_view_module": "@jupyter-widgets/controls",
      "_view_module_version": "1.5.0",
      "_view_name": "HTMLView",
      "description": "",
      "description_tooltip": null,
      "layout": "IPY_MODEL_11dd59cc19a3426da62e070d49104235",
      "placeholder": "​",
      "style": "IPY_MODEL_869e11a6bddc474e8dbdf20654cae7d1",
      "value": " 213k/213k [00:00&lt;00:00, 760kB/s]"
     }
    },
    "cdb732ce8ea24c3d83920f873ad2b090": {
     "model_module": "@jupyter-widgets/base",
     "model_name": "LayoutModel",
     "model_module_version": "1.2.0",
     "state": {
      "_model_module": "@jupyter-widgets/base",
      "_model_module_version": "1.2.0",
      "_model_name": "LayoutModel",
      "_view_count": null,
      "_view_module": "@jupyter-widgets/base",
      "_view_module_version": "1.2.0",
      "_view_name": "LayoutView",
      "align_content": null,
      "align_items": null,
      "align_self": null,
      "border": null,
      "bottom": null,
      "display": null,
      "flex": null,
      "flex_flow": null,
      "grid_area": null,
      "grid_auto_columns": null,
      "grid_auto_flow": null,
      "grid_auto_rows": null,
      "grid_column": null,
      "grid_gap": null,
      "grid_row": null,
      "grid_template_areas": null,
      "grid_template_columns": null,
      "grid_template_rows": null,
      "height": null,
      "justify_content": null,
      "justify_items": null,
      "left": null,
      "margin": null,
      "max_height": null,
      "max_width": null,
      "min_height": null,
      "min_width": null,
      "object_fit": null,
      "object_position": null,
      "order": null,
      "overflow": null,
      "overflow_x": null,
      "overflow_y": null,
      "padding": null,
      "right": null,
      "top": null,
      "visibility": null,
      "width": null
     }
    },
    "890ba5f82b4347f6bf3868b1b22b79c9": {
     "model_module": "@jupyter-widgets/base",
     "model_name": "LayoutModel",
     "model_module_version": "1.2.0",
     "state": {
      "_model_module": "@jupyter-widgets/base",
      "_model_module_version": "1.2.0",
      "_model_name": "LayoutModel",
      "_view_count": null,
      "_view_module": "@jupyter-widgets/base",
      "_view_module_version": "1.2.0",
      "_view_name": "LayoutView",
      "align_content": null,
      "align_items": null,
      "align_self": null,
      "border": null,
      "bottom": null,
      "display": null,
      "flex": null,
      "flex_flow": null,
      "grid_area": null,
      "grid_auto_columns": null,
      "grid_auto_flow": null,
      "grid_auto_rows": null,
      "grid_column": null,
      "grid_gap": null,
      "grid_row": null,
      "grid_template_areas": null,
      "grid_template_columns": null,
      "grid_template_rows": null,
      "height": null,
      "justify_content": null,
      "justify_items": null,
      "left": null,
      "margin": null,
      "max_height": null,
      "max_width": null,
      "min_height": null,
      "min_width": null,
      "object_fit": null,
      "object_position": null,
      "order": null,
      "overflow": null,
      "overflow_x": null,
      "overflow_y": null,
      "padding": null,
      "right": null,
      "top": null,
      "visibility": null,
      "width": null
     }
    },
    "09c8cd560b784d889b90bf2dba0d0c8e": {
     "model_module": "@jupyter-widgets/controls",
     "model_name": "DescriptionStyleModel",
     "model_module_version": "1.5.0",
     "state": {
      "_model_module": "@jupyter-widgets/controls",
      "_model_module_version": "1.5.0",
      "_model_name": "DescriptionStyleModel",
      "_view_count": null,
      "_view_module": "@jupyter-widgets/base",
      "_view_module_version": "1.2.0",
      "_view_name": "StyleView",
      "description_width": ""
     }
    },
    "369caddf36d246c68ac79c1d549c0fa3": {
     "model_module": "@jupyter-widgets/base",
     "model_name": "LayoutModel",
     "model_module_version": "1.2.0",
     "state": {
      "_model_module": "@jupyter-widgets/base",
      "_model_module_version": "1.2.0",
      "_model_name": "LayoutModel",
      "_view_count": null,
      "_view_module": "@jupyter-widgets/base",
      "_view_module_version": "1.2.0",
      "_view_name": "LayoutView",
      "align_content": null,
      "align_items": null,
      "align_self": null,
      "border": null,
      "bottom": null,
      "display": null,
      "flex": null,
      "flex_flow": null,
      "grid_area": null,
      "grid_auto_columns": null,
      "grid_auto_flow": null,
      "grid_auto_rows": null,
      "grid_column": null,
      "grid_gap": null,
      "grid_row": null,
      "grid_template_areas": null,
      "grid_template_columns": null,
      "grid_template_rows": null,
      "height": null,
      "justify_content": null,
      "justify_items": null,
      "left": null,
      "margin": null,
      "max_height": null,
      "max_width": null,
      "min_height": null,
      "min_width": null,
      "object_fit": null,
      "object_position": null,
      "order": null,
      "overflow": null,
      "overflow_x": null,
      "overflow_y": null,
      "padding": null,
      "right": null,
      "top": null,
      "visibility": null,
      "width": null
     }
    },
    "c6716814ff0c408299a15e02a7857609": {
     "model_module": "@jupyter-widgets/controls",
     "model_name": "ProgressStyleModel",
     "model_module_version": "1.5.0",
     "state": {
      "_model_module": "@jupyter-widgets/controls",
      "_model_module_version": "1.5.0",
      "_model_name": "ProgressStyleModel",
      "_view_count": null,
      "_view_module": "@jupyter-widgets/base",
      "_view_module_version": "1.2.0",
      "_view_name": "StyleView",
      "bar_color": null,
      "description_width": ""
     }
    },
    "11dd59cc19a3426da62e070d49104235": {
     "model_module": "@jupyter-widgets/base",
     "model_name": "LayoutModel",
     "model_module_version": "1.2.0",
     "state": {
      "_model_module": "@jupyter-widgets/base",
      "_model_module_version": "1.2.0",
      "_model_name": "LayoutModel",
      "_view_count": null,
      "_view_module": "@jupyter-widgets/base",
      "_view_module_version": "1.2.0",
      "_view_name": "LayoutView",
      "align_content": null,
      "align_items": null,
      "align_self": null,
      "border": null,
      "bottom": null,
      "display": null,
      "flex": null,
      "flex_flow": null,
      "grid_area": null,
      "grid_auto_columns": null,
      "grid_auto_flow": null,
      "grid_auto_rows": null,
      "grid_column": null,
      "grid_gap": null,
      "grid_row": null,
      "grid_template_areas": null,
      "grid_template_columns": null,
      "grid_template_rows": null,
      "height": null,
      "justify_content": null,
      "justify_items": null,
      "left": null,
      "margin": null,
      "max_height": null,
      "max_width": null,
      "min_height": null,
      "min_width": null,
      "object_fit": null,
      "object_position": null,
      "order": null,
      "overflow": null,
      "overflow_x": null,
      "overflow_y": null,
      "padding": null,
      "right": null,
      "top": null,
      "visibility": null,
      "width": null
     }
    },
    "869e11a6bddc474e8dbdf20654cae7d1": {
     "model_module": "@jupyter-widgets/controls",
     "model_name": "DescriptionStyleModel",
     "model_module_version": "1.5.0",
     "state": {
      "_model_module": "@jupyter-widgets/controls",
      "_model_module_version": "1.5.0",
      "_model_name": "DescriptionStyleModel",
      "_view_count": null,
      "_view_module": "@jupyter-widgets/base",
      "_view_module_version": "1.2.0",
      "_view_name": "StyleView",
      "description_width": ""
     }
    },
    "415c6551dfa1493c9ee60201f2932666": {
     "model_module": "@jupyter-widgets/controls",
     "model_name": "HBoxModel",
     "model_module_version": "1.5.0",
     "state": {
      "_dom_classes": [],
      "_model_module": "@jupyter-widgets/controls",
      "_model_module_version": "1.5.0",
      "_model_name": "HBoxModel",
      "_view_count": null,
      "_view_module": "@jupyter-widgets/controls",
      "_view_module_version": "1.5.0",
      "_view_name": "HBoxView",
      "box_style": "",
      "children": [
       "IPY_MODEL_f5490ee4ef9847f3962a1d33312fae60",
       "IPY_MODEL_75d1fa1c126d48438576ec8daaaf66ec",
       "IPY_MODEL_1c596187803c4074b6f57523feff8d00"
      ],
      "layout": "IPY_MODEL_6f9b38525967474fa2803af454a35b10"
     }
    },
    "f5490ee4ef9847f3962a1d33312fae60": {
     "model_module": "@jupyter-widgets/controls",
     "model_name": "HTMLModel",
     "model_module_version": "1.5.0",
     "state": {
      "_dom_classes": [],
      "_model_module": "@jupyter-widgets/controls",
      "_model_module_version": "1.5.0",
      "_model_name": "HTMLModel",
      "_view_count": null,
      "_view_module": "@jupyter-widgets/controls",
      "_view_module_version": "1.5.0",
      "_view_name": "HTMLView",
      "description": "",
      "description_tooltip": null,
      "layout": "IPY_MODEL_05e199bcbe9d4714a3f54380bdce75dc",
      "placeholder": "​",
      "style": "IPY_MODEL_28b6c7e3afcf4d4a9634f69c996f158a",
      "value": "Downloading (…)okenizer_config.json: 100%"
     }
    },
    "75d1fa1c126d48438576ec8daaaf66ec": {
     "model_module": "@jupyter-widgets/controls",
     "model_name": "FloatProgressModel",
     "model_module_version": "1.5.0",
     "state": {
      "_dom_classes": [],
      "_model_module": "@jupyter-widgets/controls",
      "_model_module_version": "1.5.0",
      "_model_name": "FloatProgressModel",
      "_view_count": null,
      "_view_module": "@jupyter-widgets/controls",
      "_view_module_version": "1.5.0",
      "_view_name": "ProgressView",
      "bar_style": "success",
      "description": "",
      "description_tooltip": null,
      "layout": "IPY_MODEL_fe9835cd6008420cabbf863d4b8c9123",
      "max": 29,
      "min": 0,
      "orientation": "horizontal",
      "style": "IPY_MODEL_7a4d1a7e82b24ab99f5f750f2896b1c2",
      "value": 29
     }
    },
    "1c596187803c4074b6f57523feff8d00": {
     "model_module": "@jupyter-widgets/controls",
     "model_name": "HTMLModel",
     "model_module_version": "1.5.0",
     "state": {
      "_dom_classes": [],
      "_model_module": "@jupyter-widgets/controls",
      "_model_module_version": "1.5.0",
      "_model_name": "HTMLModel",
      "_view_count": null,
      "_view_module": "@jupyter-widgets/controls",
      "_view_module_version": "1.5.0",
      "_view_name": "HTMLView",
      "description": "",
      "description_tooltip": null,
      "layout": "IPY_MODEL_f35b8e3a71d64082875651f29b9b43e1",
      "placeholder": "​",
      "style": "IPY_MODEL_2d6230232e594708ae8895f668e4316e",
      "value": " 29.0/29.0 [00:00&lt;00:00, 1.40kB/s]"
     }
    },
    "6f9b38525967474fa2803af454a35b10": {
     "model_module": "@jupyter-widgets/base",
     "model_name": "LayoutModel",
     "model_module_version": "1.2.0",
     "state": {
      "_model_module": "@jupyter-widgets/base",
      "_model_module_version": "1.2.0",
      "_model_name": "LayoutModel",
      "_view_count": null,
      "_view_module": "@jupyter-widgets/base",
      "_view_module_version": "1.2.0",
      "_view_name": "LayoutView",
      "align_content": null,
      "align_items": null,
      "align_self": null,
      "border": null,
      "bottom": null,
      "display": null,
      "flex": null,
      "flex_flow": null,
      "grid_area": null,
      "grid_auto_columns": null,
      "grid_auto_flow": null,
      "grid_auto_rows": null,
      "grid_column": null,
      "grid_gap": null,
      "grid_row": null,
      "grid_template_areas": null,
      "grid_template_columns": null,
      "grid_template_rows": null,
      "height": null,
      "justify_content": null,
      "justify_items": null,
      "left": null,
      "margin": null,
      "max_height": null,
      "max_width": null,
      "min_height": null,
      "min_width": null,
      "object_fit": null,
      "object_position": null,
      "order": null,
      "overflow": null,
      "overflow_x": null,
      "overflow_y": null,
      "padding": null,
      "right": null,
      "top": null,
      "visibility": null,
      "width": null
     }
    },
    "05e199bcbe9d4714a3f54380bdce75dc": {
     "model_module": "@jupyter-widgets/base",
     "model_name": "LayoutModel",
     "model_module_version": "1.2.0",
     "state": {
      "_model_module": "@jupyter-widgets/base",
      "_model_module_version": "1.2.0",
      "_model_name": "LayoutModel",
      "_view_count": null,
      "_view_module": "@jupyter-widgets/base",
      "_view_module_version": "1.2.0",
      "_view_name": "LayoutView",
      "align_content": null,
      "align_items": null,
      "align_self": null,
      "border": null,
      "bottom": null,
      "display": null,
      "flex": null,
      "flex_flow": null,
      "grid_area": null,
      "grid_auto_columns": null,
      "grid_auto_flow": null,
      "grid_auto_rows": null,
      "grid_column": null,
      "grid_gap": null,
      "grid_row": null,
      "grid_template_areas": null,
      "grid_template_columns": null,
      "grid_template_rows": null,
      "height": null,
      "justify_content": null,
      "justify_items": null,
      "left": null,
      "margin": null,
      "max_height": null,
      "max_width": null,
      "min_height": null,
      "min_width": null,
      "object_fit": null,
      "object_position": null,
      "order": null,
      "overflow": null,
      "overflow_x": null,
      "overflow_y": null,
      "padding": null,
      "right": null,
      "top": null,
      "visibility": null,
      "width": null
     }
    },
    "28b6c7e3afcf4d4a9634f69c996f158a": {
     "model_module": "@jupyter-widgets/controls",
     "model_name": "DescriptionStyleModel",
     "model_module_version": "1.5.0",
     "state": {
      "_model_module": "@jupyter-widgets/controls",
      "_model_module_version": "1.5.0",
      "_model_name": "DescriptionStyleModel",
      "_view_count": null,
      "_view_module": "@jupyter-widgets/base",
      "_view_module_version": "1.2.0",
      "_view_name": "StyleView",
      "description_width": ""
     }
    },
    "fe9835cd6008420cabbf863d4b8c9123": {
     "model_module": "@jupyter-widgets/base",
     "model_name": "LayoutModel",
     "model_module_version": "1.2.0",
     "state": {
      "_model_module": "@jupyter-widgets/base",
      "_model_module_version": "1.2.0",
      "_model_name": "LayoutModel",
      "_view_count": null,
      "_view_module": "@jupyter-widgets/base",
      "_view_module_version": "1.2.0",
      "_view_name": "LayoutView",
      "align_content": null,
      "align_items": null,
      "align_self": null,
      "border": null,
      "bottom": null,
      "display": null,
      "flex": null,
      "flex_flow": null,
      "grid_area": null,
      "grid_auto_columns": null,
      "grid_auto_flow": null,
      "grid_auto_rows": null,
      "grid_column": null,
      "grid_gap": null,
      "grid_row": null,
      "grid_template_areas": null,
      "grid_template_columns": null,
      "grid_template_rows": null,
      "height": null,
      "justify_content": null,
      "justify_items": null,
      "left": null,
      "margin": null,
      "max_height": null,
      "max_width": null,
      "min_height": null,
      "min_width": null,
      "object_fit": null,
      "object_position": null,
      "order": null,
      "overflow": null,
      "overflow_x": null,
      "overflow_y": null,
      "padding": null,
      "right": null,
      "top": null,
      "visibility": null,
      "width": null
     }
    },
    "7a4d1a7e82b24ab99f5f750f2896b1c2": {
     "model_module": "@jupyter-widgets/controls",
     "model_name": "ProgressStyleModel",
     "model_module_version": "1.5.0",
     "state": {
      "_model_module": "@jupyter-widgets/controls",
      "_model_module_version": "1.5.0",
      "_model_name": "ProgressStyleModel",
      "_view_count": null,
      "_view_module": "@jupyter-widgets/base",
      "_view_module_version": "1.2.0",
      "_view_name": "StyleView",
      "bar_color": null,
      "description_width": ""
     }
    },
    "f35b8e3a71d64082875651f29b9b43e1": {
     "model_module": "@jupyter-widgets/base",
     "model_name": "LayoutModel",
     "model_module_version": "1.2.0",
     "state": {
      "_model_module": "@jupyter-widgets/base",
      "_model_module_version": "1.2.0",
      "_model_name": "LayoutModel",
      "_view_count": null,
      "_view_module": "@jupyter-widgets/base",
      "_view_module_version": "1.2.0",
      "_view_name": "LayoutView",
      "align_content": null,
      "align_items": null,
      "align_self": null,
      "border": null,
      "bottom": null,
      "display": null,
      "flex": null,
      "flex_flow": null,
      "grid_area": null,
      "grid_auto_columns": null,
      "grid_auto_flow": null,
      "grid_auto_rows": null,
      "grid_column": null,
      "grid_gap": null,
      "grid_row": null,
      "grid_template_areas": null,
      "grid_template_columns": null,
      "grid_template_rows": null,
      "height": null,
      "justify_content": null,
      "justify_items": null,
      "left": null,
      "margin": null,
      "max_height": null,
      "max_width": null,
      "min_height": null,
      "min_width": null,
      "object_fit": null,
      "object_position": null,
      "order": null,
      "overflow": null,
      "overflow_x": null,
      "overflow_y": null,
      "padding": null,
      "right": null,
      "top": null,
      "visibility": null,
      "width": null
     }
    },
    "2d6230232e594708ae8895f668e4316e": {
     "model_module": "@jupyter-widgets/controls",
     "model_name": "DescriptionStyleModel",
     "model_module_version": "1.5.0",
     "state": {
      "_model_module": "@jupyter-widgets/controls",
      "_model_module_version": "1.5.0",
      "_model_name": "DescriptionStyleModel",
      "_view_count": null,
      "_view_module": "@jupyter-widgets/base",
      "_view_module_version": "1.2.0",
      "_view_name": "StyleView",
      "description_width": ""
     }
    },
    "a904c8ef5e114839892301f17e235ba4": {
     "model_module": "@jupyter-widgets/controls",
     "model_name": "HBoxModel",
     "model_module_version": "1.5.0",
     "state": {
      "_dom_classes": [],
      "_model_module": "@jupyter-widgets/controls",
      "_model_module_version": "1.5.0",
      "_model_name": "HBoxModel",
      "_view_count": null,
      "_view_module": "@jupyter-widgets/controls",
      "_view_module_version": "1.5.0",
      "_view_name": "HBoxView",
      "box_style": "",
      "children": [
       "IPY_MODEL_3e48fffeec6f45c5839e6d2974ecfdcc",
       "IPY_MODEL_2f62f526f510495c982a20d4a4053b69",
       "IPY_MODEL_b9b80d4f95ed44d38ea5dd64e4c5f529"
      ],
      "layout": "IPY_MODEL_0035c79cacf04ec2b7f70e119fce1b73"
     }
    },
    "3e48fffeec6f45c5839e6d2974ecfdcc": {
     "model_module": "@jupyter-widgets/controls",
     "model_name": "HTMLModel",
     "model_module_version": "1.5.0",
     "state": {
      "_dom_classes": [],
      "_model_module": "@jupyter-widgets/controls",
      "_model_module_version": "1.5.0",
      "_model_name": "HTMLModel",
      "_view_count": null,
      "_view_module": "@jupyter-widgets/controls",
      "_view_module_version": "1.5.0",
      "_view_name": "HTMLView",
      "description": "",
      "description_tooltip": null,
      "layout": "IPY_MODEL_3fbadbdfa9fc4c4f9cee674d9a058bc6",
      "placeholder": "​",
      "style": "IPY_MODEL_de33d290adc4451db421159331d151ea",
      "value": "Downloading (…)lve/main/config.json: 100%"
     }
    },
    "2f62f526f510495c982a20d4a4053b69": {
     "model_module": "@jupyter-widgets/controls",
     "model_name": "FloatProgressModel",
     "model_module_version": "1.5.0",
     "state": {
      "_dom_classes": [],
      "_model_module": "@jupyter-widgets/controls",
      "_model_module_version": "1.5.0",
      "_model_name": "FloatProgressModel",
      "_view_count": null,
      "_view_module": "@jupyter-widgets/controls",
      "_view_module_version": "1.5.0",
      "_view_name": "ProgressView",
      "bar_style": "success",
      "description": "",
      "description_tooltip": null,
      "layout": "IPY_MODEL_6bf442cda848455c95b5b75ee6d4c01c",
      "max": 570,
      "min": 0,
      "orientation": "horizontal",
      "style": "IPY_MODEL_c1abc0f1eaef454dbfe74e127b324c85",
      "value": 570
     }
    },
    "b9b80d4f95ed44d38ea5dd64e4c5f529": {
     "model_module": "@jupyter-widgets/controls",
     "model_name": "HTMLModel",
     "model_module_version": "1.5.0",
     "state": {
      "_dom_classes": [],
      "_model_module": "@jupyter-widgets/controls",
      "_model_module_version": "1.5.0",
      "_model_name": "HTMLModel",
      "_view_count": null,
      "_view_module": "@jupyter-widgets/controls",
      "_view_module_version": "1.5.0",
      "_view_name": "HTMLView",
      "description": "",
      "description_tooltip": null,
      "layout": "IPY_MODEL_f449c3bde4c8461eb4e297b916d7d080",
      "placeholder": "​",
      "style": "IPY_MODEL_bd724ac4693645e79610b1b2bf110708",
      "value": " 570/570 [00:00&lt;00:00, 30.4kB/s]"
     }
    },
    "0035c79cacf04ec2b7f70e119fce1b73": {
     "model_module": "@jupyter-widgets/base",
     "model_name": "LayoutModel",
     "model_module_version": "1.2.0",
     "state": {
      "_model_module": "@jupyter-widgets/base",
      "_model_module_version": "1.2.0",
      "_model_name": "LayoutModel",
      "_view_count": null,
      "_view_module": "@jupyter-widgets/base",
      "_view_module_version": "1.2.0",
      "_view_name": "LayoutView",
      "align_content": null,
      "align_items": null,
      "align_self": null,
      "border": null,
      "bottom": null,
      "display": null,
      "flex": null,
      "flex_flow": null,
      "grid_area": null,
      "grid_auto_columns": null,
      "grid_auto_flow": null,
      "grid_auto_rows": null,
      "grid_column": null,
      "grid_gap": null,
      "grid_row": null,
      "grid_template_areas": null,
      "grid_template_columns": null,
      "grid_template_rows": null,
      "height": null,
      "justify_content": null,
      "justify_items": null,
      "left": null,
      "margin": null,
      "max_height": null,
      "max_width": null,
      "min_height": null,
      "min_width": null,
      "object_fit": null,
      "object_position": null,
      "order": null,
      "overflow": null,
      "overflow_x": null,
      "overflow_y": null,
      "padding": null,
      "right": null,
      "top": null,
      "visibility": null,
      "width": null
     }
    },
    "3fbadbdfa9fc4c4f9cee674d9a058bc6": {
     "model_module": "@jupyter-widgets/base",
     "model_name": "LayoutModel",
     "model_module_version": "1.2.0",
     "state": {
      "_model_module": "@jupyter-widgets/base",
      "_model_module_version": "1.2.0",
      "_model_name": "LayoutModel",
      "_view_count": null,
      "_view_module": "@jupyter-widgets/base",
      "_view_module_version": "1.2.0",
      "_view_name": "LayoutView",
      "align_content": null,
      "align_items": null,
      "align_self": null,
      "border": null,
      "bottom": null,
      "display": null,
      "flex": null,
      "flex_flow": null,
      "grid_area": null,
      "grid_auto_columns": null,
      "grid_auto_flow": null,
      "grid_auto_rows": null,
      "grid_column": null,
      "grid_gap": null,
      "grid_row": null,
      "grid_template_areas": null,
      "grid_template_columns": null,
      "grid_template_rows": null,
      "height": null,
      "justify_content": null,
      "justify_items": null,
      "left": null,
      "margin": null,
      "max_height": null,
      "max_width": null,
      "min_height": null,
      "min_width": null,
      "object_fit": null,
      "object_position": null,
      "order": null,
      "overflow": null,
      "overflow_x": null,
      "overflow_y": null,
      "padding": null,
      "right": null,
      "top": null,
      "visibility": null,
      "width": null
     }
    },
    "de33d290adc4451db421159331d151ea": {
     "model_module": "@jupyter-widgets/controls",
     "model_name": "DescriptionStyleModel",
     "model_module_version": "1.5.0",
     "state": {
      "_model_module": "@jupyter-widgets/controls",
      "_model_module_version": "1.5.0",
      "_model_name": "DescriptionStyleModel",
      "_view_count": null,
      "_view_module": "@jupyter-widgets/base",
      "_view_module_version": "1.2.0",
      "_view_name": "StyleView",
      "description_width": ""
     }
    },
    "6bf442cda848455c95b5b75ee6d4c01c": {
     "model_module": "@jupyter-widgets/base",
     "model_name": "LayoutModel",
     "model_module_version": "1.2.0",
     "state": {
      "_model_module": "@jupyter-widgets/base",
      "_model_module_version": "1.2.0",
      "_model_name": "LayoutModel",
      "_view_count": null,
      "_view_module": "@jupyter-widgets/base",
      "_view_module_version": "1.2.0",
      "_view_name": "LayoutView",
      "align_content": null,
      "align_items": null,
      "align_self": null,
      "border": null,
      "bottom": null,
      "display": null,
      "flex": null,
      "flex_flow": null,
      "grid_area": null,
      "grid_auto_columns": null,
      "grid_auto_flow": null,
      "grid_auto_rows": null,
      "grid_column": null,
      "grid_gap": null,
      "grid_row": null,
      "grid_template_areas": null,
      "grid_template_columns": null,
      "grid_template_rows": null,
      "height": null,
      "justify_content": null,
      "justify_items": null,
      "left": null,
      "margin": null,
      "max_height": null,
      "max_width": null,
      "min_height": null,
      "min_width": null,
      "object_fit": null,
      "object_position": null,
      "order": null,
      "overflow": null,
      "overflow_x": null,
      "overflow_y": null,
      "padding": null,
      "right": null,
      "top": null,
      "visibility": null,
      "width": null
     }
    },
    "c1abc0f1eaef454dbfe74e127b324c85": {
     "model_module": "@jupyter-widgets/controls",
     "model_name": "ProgressStyleModel",
     "model_module_version": "1.5.0",
     "state": {
      "_model_module": "@jupyter-widgets/controls",
      "_model_module_version": "1.5.0",
      "_model_name": "ProgressStyleModel",
      "_view_count": null,
      "_view_module": "@jupyter-widgets/base",
      "_view_module_version": "1.2.0",
      "_view_name": "StyleView",
      "bar_color": null,
      "description_width": ""
     }
    },
    "f449c3bde4c8461eb4e297b916d7d080": {
     "model_module": "@jupyter-widgets/base",
     "model_name": "LayoutModel",
     "model_module_version": "1.2.0",
     "state": {
      "_model_module": "@jupyter-widgets/base",
      "_model_module_version": "1.2.0",
      "_model_name": "LayoutModel",
      "_view_count": null,
      "_view_module": "@jupyter-widgets/base",
      "_view_module_version": "1.2.0",
      "_view_name": "LayoutView",
      "align_content": null,
      "align_items": null,
      "align_self": null,
      "border": null,
      "bottom": null,
      "display": null,
      "flex": null,
      "flex_flow": null,
      "grid_area": null,
      "grid_auto_columns": null,
      "grid_auto_flow": null,
      "grid_auto_rows": null,
      "grid_column": null,
      "grid_gap": null,
      "grid_row": null,
      "grid_template_areas": null,
      "grid_template_columns": null,
      "grid_template_rows": null,
      "height": null,
      "justify_content": null,
      "justify_items": null,
      "left": null,
      "margin": null,
      "max_height": null,
      "max_width": null,
      "min_height": null,
      "min_width": null,
      "object_fit": null,
      "object_position": null,
      "order": null,
      "overflow": null,
      "overflow_x": null,
      "overflow_y": null,
      "padding": null,
      "right": null,
      "top": null,
      "visibility": null,
      "width": null
     }
    },
    "bd724ac4693645e79610b1b2bf110708": {
     "model_module": "@jupyter-widgets/controls",
     "model_name": "DescriptionStyleModel",
     "model_module_version": "1.5.0",
     "state": {
      "_model_module": "@jupyter-widgets/controls",
      "_model_module_version": "1.5.0",
      "_model_name": "DescriptionStyleModel",
      "_view_count": null,
      "_view_module": "@jupyter-widgets/base",
      "_view_module_version": "1.2.0",
      "_view_name": "StyleView",
      "description_width": ""
     }
    },
    "a2474d7d0ba3442092b2816a39dd90d2": {
     "model_module": "@jupyter-widgets/controls",
     "model_name": "HBoxModel",
     "model_module_version": "1.5.0",
     "state": {
      "_dom_classes": [],
      "_model_module": "@jupyter-widgets/controls",
      "_model_module_version": "1.5.0",
      "_model_name": "HBoxModel",
      "_view_count": null,
      "_view_module": "@jupyter-widgets/controls",
      "_view_module_version": "1.5.0",
      "_view_name": "HBoxView",
      "box_style": "",
      "children": [
       "IPY_MODEL_2f93b2adbb4d4bf8ab8741213766ed61",
       "IPY_MODEL_e7ded29bf170412ea067a9946ddb5ee5",
       "IPY_MODEL_f2f3bcc0c0874b01b531446845dc7940"
      ],
      "layout": "IPY_MODEL_a736506b423a404db7a0592f38eee625"
     }
    },
    "2f93b2adbb4d4bf8ab8741213766ed61": {
     "model_module": "@jupyter-widgets/controls",
     "model_name": "HTMLModel",
     "model_module_version": "1.5.0",
     "state": {
      "_dom_classes": [],
      "_model_module": "@jupyter-widgets/controls",
      "_model_module_version": "1.5.0",
      "_model_name": "HTMLModel",
      "_view_count": null,
      "_view_module": "@jupyter-widgets/controls",
      "_view_module_version": "1.5.0",
      "_view_name": "HTMLView",
      "description": "",
      "description_tooltip": null,
      "layout": "IPY_MODEL_76b4f248c45745a29a1a676fb4f50675",
      "placeholder": "​",
      "style": "IPY_MODEL_533080fadf384679acc5ddc0b3f8a9d7",
      "value": "Downloading (…)&quot;pytorch_model.bin&quot;;: 100%"
     }
    },
    "e7ded29bf170412ea067a9946ddb5ee5": {
     "model_module": "@jupyter-widgets/controls",
     "model_name": "FloatProgressModel",
     "model_module_version": "1.5.0",
     "state": {
      "_dom_classes": [],
      "_model_module": "@jupyter-widgets/controls",
      "_model_module_version": "1.5.0",
      "_model_name": "FloatProgressModel",
      "_view_count": null,
      "_view_module": "@jupyter-widgets/controls",
      "_view_module_version": "1.5.0",
      "_view_name": "ProgressView",
      "bar_style": "success",
      "description": "",
      "description_tooltip": null,
      "layout": "IPY_MODEL_9c4414d4609a4c4fbfe4ea23e2c28253",
      "max": 435779157,
      "min": 0,
      "orientation": "horizontal",
      "style": "IPY_MODEL_bd3ac4b04e124e66a9375a2c110f9a2f",
      "value": 435779157
     }
    },
    "f2f3bcc0c0874b01b531446845dc7940": {
     "model_module": "@jupyter-widgets/controls",
     "model_name": "HTMLModel",
     "model_module_version": "1.5.0",
     "state": {
      "_dom_classes": [],
      "_model_module": "@jupyter-widgets/controls",
      "_model_module_version": "1.5.0",
      "_model_name": "HTMLModel",
      "_view_count": null,
      "_view_module": "@jupyter-widgets/controls",
      "_view_module_version": "1.5.0",
      "_view_name": "HTMLView",
      "description": "",
      "description_tooltip": null,
      "layout": "IPY_MODEL_0e90c8ff8c5b453793326ef913b6a867",
      "placeholder": "​",
      "style": "IPY_MODEL_a4357c4ec41c4504a38e97a8b94945f8",
      "value": " 436M/436M [00:01&lt;00:00, 278MB/s]"
     }
    },
    "a736506b423a404db7a0592f38eee625": {
     "model_module": "@jupyter-widgets/base",
     "model_name": "LayoutModel",
     "model_module_version": "1.2.0",
     "state": {
      "_model_module": "@jupyter-widgets/base",
      "_model_module_version": "1.2.0",
      "_model_name": "LayoutModel",
      "_view_count": null,
      "_view_module": "@jupyter-widgets/base",
      "_view_module_version": "1.2.0",
      "_view_name": "LayoutView",
      "align_content": null,
      "align_items": null,
      "align_self": null,
      "border": null,
      "bottom": null,
      "display": null,
      "flex": null,
      "flex_flow": null,
      "grid_area": null,
      "grid_auto_columns": null,
      "grid_auto_flow": null,
      "grid_auto_rows": null,
      "grid_column": null,
      "grid_gap": null,
      "grid_row": null,
      "grid_template_areas": null,
      "grid_template_columns": null,
      "grid_template_rows": null,
      "height": null,
      "justify_content": null,
      "justify_items": null,
      "left": null,
      "margin": null,
      "max_height": null,
      "max_width": null,
      "min_height": null,
      "min_width": null,
      "object_fit": null,
      "object_position": null,
      "order": null,
      "overflow": null,
      "overflow_x": null,
      "overflow_y": null,
      "padding": null,
      "right": null,
      "top": null,
      "visibility": null,
      "width": null
     }
    },
    "76b4f248c45745a29a1a676fb4f50675": {
     "model_module": "@jupyter-widgets/base",
     "model_name": "LayoutModel",
     "model_module_version": "1.2.0",
     "state": {
      "_model_module": "@jupyter-widgets/base",
      "_model_module_version": "1.2.0",
      "_model_name": "LayoutModel",
      "_view_count": null,
      "_view_module": "@jupyter-widgets/base",
      "_view_module_version": "1.2.0",
      "_view_name": "LayoutView",
      "align_content": null,
      "align_items": null,
      "align_self": null,
      "border": null,
      "bottom": null,
      "display": null,
      "flex": null,
      "flex_flow": null,
      "grid_area": null,
      "grid_auto_columns": null,
      "grid_auto_flow": null,
      "grid_auto_rows": null,
      "grid_column": null,
      "grid_gap": null,
      "grid_row": null,
      "grid_template_areas": null,
      "grid_template_columns": null,
      "grid_template_rows": null,
      "height": null,
      "justify_content": null,
      "justify_items": null,
      "left": null,
      "margin": null,
      "max_height": null,
      "max_width": null,
      "min_height": null,
      "min_width": null,
      "object_fit": null,
      "object_position": null,
      "order": null,
      "overflow": null,
      "overflow_x": null,
      "overflow_y": null,
      "padding": null,
      "right": null,
      "top": null,
      "visibility": null,
      "width": null
     }
    },
    "533080fadf384679acc5ddc0b3f8a9d7": {
     "model_module": "@jupyter-widgets/controls",
     "model_name": "DescriptionStyleModel",
     "model_module_version": "1.5.0",
     "state": {
      "_model_module": "@jupyter-widgets/controls",
      "_model_module_version": "1.5.0",
      "_model_name": "DescriptionStyleModel",
      "_view_count": null,
      "_view_module": "@jupyter-widgets/base",
      "_view_module_version": "1.2.0",
      "_view_name": "StyleView",
      "description_width": ""
     }
    },
    "9c4414d4609a4c4fbfe4ea23e2c28253": {
     "model_module": "@jupyter-widgets/base",
     "model_name": "LayoutModel",
     "model_module_version": "1.2.0",
     "state": {
      "_model_module": "@jupyter-widgets/base",
      "_model_module_version": "1.2.0",
      "_model_name": "LayoutModel",
      "_view_count": null,
      "_view_module": "@jupyter-widgets/base",
      "_view_module_version": "1.2.0",
      "_view_name": "LayoutView",
      "align_content": null,
      "align_items": null,
      "align_self": null,
      "border": null,
      "bottom": null,
      "display": null,
      "flex": null,
      "flex_flow": null,
      "grid_area": null,
      "grid_auto_columns": null,
      "grid_auto_flow": null,
      "grid_auto_rows": null,
      "grid_column": null,
      "grid_gap": null,
      "grid_row": null,
      "grid_template_areas": null,
      "grid_template_columns": null,
      "grid_template_rows": null,
      "height": null,
      "justify_content": null,
      "justify_items": null,
      "left": null,
      "margin": null,
      "max_height": null,
      "max_width": null,
      "min_height": null,
      "min_width": null,
      "object_fit": null,
      "object_position": null,
      "order": null,
      "overflow": null,
      "overflow_x": null,
      "overflow_y": null,
      "padding": null,
      "right": null,
      "top": null,
      "visibility": null,
      "width": null
     }
    },
    "bd3ac4b04e124e66a9375a2c110f9a2f": {
     "model_module": "@jupyter-widgets/controls",
     "model_name": "ProgressStyleModel",
     "model_module_version": "1.5.0",
     "state": {
      "_model_module": "@jupyter-widgets/controls",
      "_model_module_version": "1.5.0",
      "_model_name": "ProgressStyleModel",
      "_view_count": null,
      "_view_module": "@jupyter-widgets/base",
      "_view_module_version": "1.2.0",
      "_view_name": "StyleView",
      "bar_color": null,
      "description_width": ""
     }
    },
    "0e90c8ff8c5b453793326ef913b6a867": {
     "model_module": "@jupyter-widgets/base",
     "model_name": "LayoutModel",
     "model_module_version": "1.2.0",
     "state": {
      "_model_module": "@jupyter-widgets/base",
      "_model_module_version": "1.2.0",
      "_model_name": "LayoutModel",
      "_view_count": null,
      "_view_module": "@jupyter-widgets/base",
      "_view_module_version": "1.2.0",
      "_view_name": "LayoutView",
      "align_content": null,
      "align_items": null,
      "align_self": null,
      "border": null,
      "bottom": null,
      "display": null,
      "flex": null,
      "flex_flow": null,
      "grid_area": null,
      "grid_auto_columns": null,
      "grid_auto_flow": null,
      "grid_auto_rows": null,
      "grid_column": null,
      "grid_gap": null,
      "grid_row": null,
      "grid_template_areas": null,
      "grid_template_columns": null,
      "grid_template_rows": null,
      "height": null,
      "justify_content": null,
      "justify_items": null,
      "left": null,
      "margin": null,
      "max_height": null,
      "max_width": null,
      "min_height": null,
      "min_width": null,
      "object_fit": null,
      "object_position": null,
      "order": null,
      "overflow": null,
      "overflow_x": null,
      "overflow_y": null,
      "padding": null,
      "right": null,
      "top": null,
      "visibility": null,
      "width": null
     }
    },
    "a4357c4ec41c4504a38e97a8b94945f8": {
     "model_module": "@jupyter-widgets/controls",
     "model_name": "DescriptionStyleModel",
     "model_module_version": "1.5.0",
     "state": {
      "_model_module": "@jupyter-widgets/controls",
      "_model_module_version": "1.5.0",
      "_model_name": "DescriptionStyleModel",
      "_view_count": null,
      "_view_module": "@jupyter-widgets/base",
      "_view_module_version": "1.2.0",
      "_view_name": "StyleView",
      "description_width": ""
     }
    }
   }
  }
 },
 "nbformat": 4,
 "nbformat_minor": 0
}