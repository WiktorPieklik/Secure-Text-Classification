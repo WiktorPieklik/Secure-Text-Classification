{
 "cells": [
  {
   "cell_type": "markdown",
   "metadata": {
    "id": "37Q65edino34",
    "pycharm": {
     "name": "#%% md\n"
    }
   },
   "source": [
    "#Loading dataset"
   ]
  },
  {
   "cell_type": "code",
   "execution_count": 1,
   "metadata": {
    "colab": {
     "base_uri": "https://localhost:8080/",
     "height": 712
    },
    "id": "B0iqx_LwbDA3",
    "outputId": "039083d2-21d2-40a2-c511-55c20c8632fe",
    "pycharm": {
     "name": "#%%\n"
    }
   },
   "outputs": [
    {
     "output_type": "stream",
     "name": "stdout",
     "text": [
      "Looking in indexes: https://pypi.org/simple, https://us-python.pkg.dev/colab-wheels/public/simple/\n",
      "Requirement already satisfied: transformers in /usr/local/lib/python3.8/dist-packages (4.25.1)\n",
      "Requirement already satisfied: huggingface-hub<1.0,>=0.10.0 in /usr/local/lib/python3.8/dist-packages (from transformers) (0.11.1)\n",
      "Requirement already satisfied: pyyaml>=5.1 in /usr/local/lib/python3.8/dist-packages (from transformers) (6.0)\n",
      "Requirement already satisfied: tokenizers!=0.11.3,<0.14,>=0.11.1 in /usr/local/lib/python3.8/dist-packages (from transformers) (0.13.2)\n",
      "Requirement already satisfied: numpy>=1.17 in /usr/local/lib/python3.8/dist-packages (from transformers) (1.21.6)\n",
      "Requirement already satisfied: requests in /usr/local/lib/python3.8/dist-packages (from transformers) (2.25.1)\n",
      "Requirement already satisfied: tqdm>=4.27 in /usr/local/lib/python3.8/dist-packages (from transformers) (4.64.1)\n",
      "Requirement already satisfied: packaging>=20.0 in /usr/local/lib/python3.8/dist-packages (from transformers) (21.3)\n",
      "Requirement already satisfied: regex!=2019.12.17 in /usr/local/lib/python3.8/dist-packages (from transformers) (2022.6.2)\n",
      "Requirement already satisfied: filelock in /usr/local/lib/python3.8/dist-packages (from transformers) (3.9.0)\n",
      "Requirement already satisfied: typing-extensions>=3.7.4.3 in /usr/local/lib/python3.8/dist-packages (from huggingface-hub<1.0,>=0.10.0->transformers) (4.4.0)\n",
      "Requirement already satisfied: pyparsing!=3.0.5,>=2.0.2 in /usr/local/lib/python3.8/dist-packages (from packaging>=20.0->transformers) (3.0.9)\n",
      "Requirement already satisfied: chardet<5,>=3.0.2 in /usr/local/lib/python3.8/dist-packages (from requests->transformers) (4.0.0)\n",
      "Requirement already satisfied: idna<3,>=2.5 in /usr/local/lib/python3.8/dist-packages (from requests->transformers) (2.10)\n",
      "Requirement already satisfied: certifi>=2017.4.17 in /usr/local/lib/python3.8/dist-packages (from requests->transformers) (2022.12.7)\n",
      "Requirement already satisfied: urllib3<1.27,>=1.21.1 in /usr/local/lib/python3.8/dist-packages (from requests->transformers) (1.24.3)\n",
      "Looking in indexes: https://pypi.org/simple, https://us-python.pkg.dev/colab-wheels/public/simple/\n",
      "Requirement already satisfied: jax in /usr/local/lib/python3.8/dist-packages (0.3.25)\n",
      "Requirement already satisfied: opt-einsum in /usr/local/lib/python3.8/dist-packages (from jax) (3.3.0)\n",
      "Requirement already satisfied: scipy>=1.5 in /usr/local/lib/python3.8/dist-packages (from jax) (1.7.3)\n",
      "Requirement already satisfied: numpy>=1.20 in /usr/local/lib/python3.8/dist-packages (from jax) (1.21.6)\n",
      "Requirement already satisfied: typing-extensions in /usr/local/lib/python3.8/dist-packages (from jax) (4.4.0)\n"
     ]
    },
    {
     "output_type": "display_data",
     "data": {
      "text/plain": [
       "<Figure size 432x288 with 1 Axes>"
      ],
      "image/png": "[encoded data removed]"
     },
     "metadata": {
      "needs_background": "light"
     }
    }
   ],
   "source": [
    "!pip install transformers\n",
    "!pip install jax\n",
    "import pandas as pd\n",
    "import torch\n",
    "import numpy as np\n",
    "from transformers import BertTokenizer, BertModel\n",
    "from torch import nn\n",
    "from torch.optim import Adam\n",
    "from tqdm import tqdm\n",
    "\n",
    "bert_checkpoint = 'bert-base-cased'\n",
    "roberta_checkpoint = 'roberta-base'\n",
    "\n",
    "checkpoint = bert_checkpoint\n",
    "\n",
    "datapath = \"/content/gdrive/MyDrive/Colab Notebooks/bbc_train.csv\"\n",
    "df = pd.read_csv(datapath)\n",
    "df.groupby(['category']).size().plot.bar()\n",
    "tokenizer = BertTokenizer.from_pretrained(checkpoint)\n",
    "\n",
    "labels = {'business':0,\n",
    "          'sport':1,\n",
    "          'politics':2\n",
    "          # 'entertainment':3,\n",
    "          # 'tech':4,\n",
    "          }"
   ]
  },
  {
   "cell_type": "code",
   "execution_count": 2,
   "metadata": {
    "colab": {
     "base_uri": "https://localhost:8080/",
     "height": 206
    },
    "id": "UZKJQkKA87rt",
    "outputId": "713c9bc8-cd53-4f9b-b660-99e0bfcdc3b7",
    "pycharm": {
     "name": "#%%\n"
    }
   },
   "outputs": [
    {
     "output_type": "execute_result",
     "data": {
      "text/plain": [
       "   id                                title  \\\n",
       "0   0  Ad sales boost Time Warner profit\\n   \n",
       "1   1   Dollar gains on Greenspan speech\\n   \n",
       "2   2  Yukos unit buyer faces loan claim\\n   \n",
       "3   3  High fuel prices hit BA's profits\\n   \n",
       "4   4  Pernod takeover talk lifts Domecq\\n   \n",
       "\n",
       "                                                text  category  \n",
       "0  Quarterly profits at US media giant TimeWarner...  business  \n",
       "1  The dollar has hit its highest level against t...  business  \n",
       "2  The owners of embattled Russian oil giant Yuko...  business  \n",
       "3  British Airways has blamed high fuel prices fo...  business  \n",
       "4  Shares in UK drinks and food firm Allied Domec...  business  "
      ],
      "text/html": [
       "\n",
       "  <div id=\"df-89c6c976-2920-4489-9f48-e930d81160d9\">\n",
       "    <div class=\"colab-df-container\">\n",
       "      <div>\n",
       "<style scoped>\n",
       "    .dataframe tbody tr th:only-of-type {\n",
       "        vertical-align: middle;\n",
       "    }\n",
       "\n",
       "    .dataframe tbody tr th {\n",
       "        vertical-align: top;\n",
       "    }\n",
       "\n",
       "    .dataframe thead th {\n",
       "        text-align: right;\n",
       "    }\n",
       "</style>\n",
       "<table border=\"1\" class=\"dataframe\">\n",
       "  <thead>\n",
       "    <tr style=\"text-align: right;\">\n",
       "      <th></th>\n",
       "      <th>id</th>\n",
       "      <th>title</th>\n",
       "      <th>text</th>\n",
       "      <th>category</th>\n",
       "    </tr>\n",
       "  </thead>\n",
       "  <tbody>\n",
       "    <tr>\n",
       "      <th>0</th>\n",
       "      <td>0</td>\n",
       "      <td>Ad sales boost Time Warner profit\\n</td>\n",
       "      <td>Quarterly profits at US media giant TimeWarner...</td>\n",
       "      <td>business</td>\n",
       "    </tr>\n",
       "    <tr>\n",
       "      <th>1</th>\n",
       "      <td>1</td>\n",
       "      <td>Dollar gains on Greenspan speech\\n</td>\n",
       "      <td>The dollar has hit its highest level against t...</td>\n",
       "      <td>business</td>\n",
       "    </tr>\n",
       "    <tr>\n",
       "      <th>2</th>\n",
       "      <td>2</td>\n",
       "      <td>Yukos unit buyer faces loan claim\\n</td>\n",
       "      <td>The owners of embattled Russian oil giant Yuko...</td>\n",
       "      <td>business</td>\n",
       "    </tr>\n",
       "    <tr>\n",
       "      <th>3</th>\n",
       "      <td>3</td>\n",
       "      <td>High fuel prices hit BA's profits\\n</td>\n",
       "      <td>British Airways has blamed high fuel prices fo...</td>\n",
       "      <td>business</td>\n",
       "    </tr>\n",
       "    <tr>\n",
       "      <th>4</th>\n",
       "      <td>4</td>\n",
       "      <td>Pernod takeover talk lifts Domecq\\n</td>\n",
       "      <td>Shares in UK drinks and food firm Allied Domec...</td>\n",
       "      <td>business</td>\n",
       "    </tr>\n",
       "  </tbody>\n",
       "</table>\n",
       "</div>\n",
       "      <button class=\"colab-df-convert\" onclick=\"convertToInteractive('df-89c6c976-2920-4489-9f48-e930d81160d9')\"\n",
       "              title=\"Convert this dataframe to an interactive table.\"\n",
       "              style=\"display:none;\">\n",
       "        \n",
       "  <svg xmlns=\"http://www.w3.org/2000/svg\" height=\"24px\"viewBox=\"0 0 24 24\"\n",
       "       width=\"24px\">\n",
       "    <path d=\"M0 0h24v24H0V0z\" fill=\"none\"/>\n",
       "    <path d=\"M18.56 5.44l.94 2.06.94-2.06 2.06-.94-2.06-.94-.94-2.06-.94 2.06-2.06.94zm-11 1L8.5 8.5l.94-2.06 2.06-.94-2.06-.94L8.5 2.5l-.94 2.06-2.06.94zm10 10l.94 2.06.94-2.06 2.06-.94-2.06-.94-.94-2.06-.94 2.06-2.06.94z\"/><path d=\"M17.41 7.96l-1.37-1.37c-.4-.4-.92-.59-1.43-.59-.52 0-1.04.2-1.43.59L10.3 9.45l-7.72 7.72c-.78.78-.78 2.05 0 2.83L4 21.41c.39.39.9.59 1.41.59.51 0 1.02-.2 1.41-.59l7.78-7.78 2.81-2.81c.8-.78.8-2.07 0-2.86zM5.41 20L4 18.59l7.72-7.72 1.47 1.35L5.41 20z\"/>\n",
       "  </svg>\n",
       "      </button>\n",
       "      \n",
       "  <style>\n",
       "    .colab-df-container {\n",
       "      display:flex;\n",
       "      flex-wrap:wrap;\n",
       "      gap: 12px;\n",
       "    }\n",
       "\n",
       "    .colab-df-convert {\n",
       "      background-color: #E8F0FE;\n",
       "      border: none;\n",
       "      border-radius: 50%;\n",
       "      cursor: pointer;\n",
       "      display: none;\n",
       "      fill: #1967D2;\n",
       "      height: 32px;\n",
       "      padding: 0 0 0 0;\n",
       "      width: 32px;\n",
       "    }\n",
       "\n",
       "    .colab-df-convert:hover {\n",
       "      background-color: #E2EBFA;\n",
       "      box-shadow: 0px 1px 2px rgba(60, 64, 67, 0.3), 0px 1px 3px 1px rgba(60, 64, 67, 0.15);\n",
       "      fill: #174EA6;\n",
       "    }\n",
       "\n",
       "    [theme=dark] .colab-df-convert {\n",
       "      background-color: #3B4455;\n",
       "      fill: #D2E3FC;\n",
       "    }\n",
       "\n",
       "    [theme=dark] .colab-df-convert:hover {\n",
       "      background-color: #434B5C;\n",
       "      box-shadow: 0px 1px 3px 1px rgba(0, 0, 0, 0.15);\n",
       "      filter: drop-shadow(0px 1px 2px rgba(0, 0, 0, 0.3));\n",
       "      fill: #FFFFFF;\n",
       "    }\n",
       "  </style>\n",
       "\n",
       "      <script>\n",
       "        const buttonEl =\n",
       "          document.querySelector('#df-89c6c976-2920-4489-9f48-e930d81160d9 button.colab-df-convert');\n",
       "        buttonEl.style.display =\n",
       "          google.colab.kernel.accessAllowed ? 'block' : 'none';\n",
       "\n",
       "        async function convertToInteractive(key) {\n",
       "          const element = document.querySelector('#df-89c6c976-2920-4489-9f48-e930d81160d9');\n",
       "          const dataTable =\n",
       "            await google.colab.kernel.invokeFunction('convertToInteractive',\n",
       "                                                     [key], {});\n",
       "          if (!dataTable) return;\n",
       "\n",
       "          const docLinkHtml = 'Like what you see? Visit the ' +\n",
       "            '<a target=\"_blank\" href=https://colab.research.google.com/notebooks/data_table.ipynb>data table notebook</a>'\n",
       "            + ' to learn more about interactive tables.';\n",
       "          element.innerHTML = '';\n",
       "          dataTable['output_type'] = 'display_data';\n",
       "          await google.colab.output.renderOutput(dataTable, element);\n",
       "          const docLink = document.createElement('div');\n",
       "          docLink.innerHTML = docLinkHtml;\n",
       "          element.appendChild(docLink);\n",
       "        }\n",
       "      </script>\n",
       "    </div>\n",
       "  </div>\n",
       "  "
      ]
     },
     "metadata": {},
     "execution_count": 2
    }
   ],
   "source": [
    "df.head()"
   ]
  },
  {
   "cell_type": "markdown",
   "metadata": {
    "id": "MxyiogPVnmDk",
    "pycharm": {
     "name": "#%% md\n"
    }
   },
   "source": [
    "#Dataset class"
   ]
  },
  {
   "cell_type": "code",
   "execution_count": 3,
   "metadata": {
    "id": "_jQmrfsmqgfl",
    "pycharm": {
     "name": "#%%\n"
    }
   },
   "outputs": [],
   "source": [
    "class Dataset(torch.utils.data.Dataset):\n",
    "\n",
    "    def __init__(self, df):\n",
    "\n",
    "        self.labels = [labels[label] for label in df['category']]\n",
    "        self.texts = [tokenizer(text, \n",
    "                               padding='max_length', max_length = 256, truncation=True,\n",
    "                                return_tensors=\"pt\") for text in df['text']]\n",
    "\n",
    "    def classes(self):\n",
    "        return self.labels\n",
    "\n",
    "    def __len__(self):\n",
    "        return len(self.labels)\n",
    "\n",
    "    def get_batch_labels(self, idx):\n",
    "        # Fetch a batch of labels\n",
    "        return np.array(self.labels[idx])\n",
    "\n",
    "    def get_batch_texts(self, idx):\n",
    "        # Fetch a batch of inputs\n",
    "        return self.texts[idx]\n",
    "\n",
    "    def __getitem__(self, idx):\n",
    "\n",
    "        batch_texts = self.get_batch_texts(idx)\n",
    "        batch_y = self.get_batch_labels(idx)\n",
    "\n",
    "        return batch_texts, batch_y\n"
   ]
  },
  {
   "cell_type": "code",
   "execution_count": 4,
   "metadata": {
    "colab": {
     "base_uri": "https://localhost:8080/"
    },
    "id": "aFT7hscwN3_3",
    "outputId": "34d8f602-a8f5-4749-8e14-b958b5178b6e",
    "pycharm": {
     "name": "#%%\n"
    }
   },
   "outputs": [
    {
     "output_type": "stream",
     "name": "stdout",
     "text": [
      "Looking in indexes: https://pypi.org/simple, https://us-python.pkg.dev/colab-wheels/public/simple/\n",
      "Requirement already satisfied: torchmetrics in /usr/local/lib/python3.8/dist-packages (0.11.0)\n",
      "Requirement already satisfied: numpy>=1.17.2 in /usr/local/lib/python3.8/dist-packages (from torchmetrics) (1.21.6)\n",
      "Requirement already satisfied: torch>=1.8.1 in /usr/local/lib/python3.8/dist-packages (from torchmetrics) (1.13.0+cu116)\n",
      "Requirement already satisfied: packaging in /usr/local/lib/python3.8/dist-packages (from torchmetrics) (21.3)\n",
      "Requirement already satisfied: typing-extensions in /usr/local/lib/python3.8/dist-packages (from torchmetrics) (4.4.0)\n",
      "Requirement already satisfied: pyparsing!=3.0.5,>=2.0.2 in /usr/local/lib/python3.8/dist-packages (from packaging->torchmetrics) (3.0.9)\n"
     ]
    }
   ],
   "source": [
    "!pip install torchmetrics"
   ]
  },
  {
   "cell_type": "markdown",
   "metadata": {
    "id": "WtX6AlPAnP50",
    "pycharm": {
     "name": "#%% md\n"
    }
   },
   "source": [
    "#Model definition + train and eval functions definition"
   ]
  },
  {
   "cell_type": "code",
   "execution_count": 5,
   "metadata": {
    "id": "7pecW3opo6k3",
    "pycharm": {
     "name": "#%%\n"
    }
   },
   "outputs": [],
   "source": [
    "from transformers import BertTokenizer, BertModel, AutoModelForSequenceClassification\n",
    "from torch import nn\n",
    "import torch.nn.functional as F\n",
    "from torchmetrics.classification import MulticlassF1Score, MulticlassAUROC, MulticlassRecall, MulticlassPrecision\n",
    "class TextClassifier(nn.Module): \n",
    "\n",
    "    def __init__(self, checkpoint, num_of_classes, dropout=0.5):\n",
    "\n",
    "        super(TextClassifier, self).__init__()\n",
    "\n",
    "        self.bert = AutoModelForSequenceClassification.from_pretrained(checkpoint,\n",
    "                                                                     num_labels=num_of_classes)\n",
    "        self.num_of_labels = num_of_classes\n",
    "\n",
    "    def forward(self, input_id, mask, labels):\n",
    "\n",
    "        pooled_output = self.bert(input_ids=input_id, attention_mask=mask,\n",
    "                                  labels=labels, return_dict=True)\n",
    "\n",
    "        return pooled_output"
   ]
  },
  {
   "cell_type": "code",
   "source": [
    "def train(model, train_data, val_data, learning_rate, epochs, train_batch_size, val_batch_size):\n",
    "\n",
    "    train, val = Dataset(train_data), Dataset(val_data)\n",
    "\n",
    "    train_dataloader = torch.utils.data.DataLoader(train, batch_size=train_batch_size, shuffle=True)\n",
    "\n",
    "    val_dataloader = torch.utils.data.DataLoader(val, batch_size=val_batch_size, shuffle=True)\n",
    "\n",
    "    use_cuda = torch.cuda.is_available()\n",
    "    device = torch.device(\"cuda\" if use_cuda else \"cpu\")\n",
    "\n",
    "    criterion = nn.CrossEntropyLoss()\n",
    "    optimizer = Adam(model.parameters(), lr= learning_rate)\n",
    "\n",
    "    if use_cuda:\n",
    "\n",
    "            model = model.cuda()\n",
    "            criterion = criterion.cuda()\n",
    "\n",
    "    for epoch_num in range(epochs):\n",
    "\n",
    "            total_acc_train = 0\n",
    "            total_loss_train = 0\n",
    "            total_auc_train = 0\n",
    "            total_recall_train = 0\n",
    "            total_precision_train = 0\n",
    "            total_f1_train = 0\n",
    "            probabilities_list = []\n",
    "            logits_list = []\n",
    "            train_label_list=[]\n",
    "\n",
    "            for train_input, train_label in tqdm(train_dataloader):\n",
    "\n",
    "                train_label = train_label.to(device)\n",
    "                train_label_list.append(train_label)\n",
    "\n",
    "                mask = train_input['attention_mask'].to(device)\n",
    "                input_id = train_input['input_ids'].squeeze(1).to(device)\n",
    "\n",
    "                output = model(input_id, mask, train_label)\n",
    "             \n",
    "                logits_list.append(output.logits)\n",
    "                probabilities = F.softmax(output.logits, dim=1)\n",
    "                probabilities_list.append(probabilities)\n",
    "\n",
    "                loss = criterion(probabilities, train_label.long())\n",
    "                \n",
    "                (predictions, predictions_indicies) = torch.max(probabilities,dim=1)\n",
    "\n",
    "                metric_aucroc = MulticlassAUROC(num_classes=model.num_of_labels).to(device)\n",
    "                auroc = metric_aucroc(preds=probabilities, target=train_label,)\n",
    "\n",
    "                metric_recall = MulticlassRecall(num_classes=model.num_of_labels).to(device)\n",
    "                recall = metric_recall(preds=probabilities, target=train_label)\n",
    "                \n",
    "                metric_precision = MulticlassPrecision(num_classes=model.num_of_labels).to(device)\n",
    "                precision = metric_precision(preds=probabilities, target=train_label)\n",
    "               \n",
    "                total_loss_train += loss\n",
    "              \n",
    "                acc = (predictions_indicies == train_label).sum().item()\n",
    "                total_acc_train += acc/train_label.size(dim=0)\n",
    "\n",
    "                total_auc_train += auroc\n",
    "                total_recall_train += recall\n",
    "                total_precision_train += precision\n",
    "          \n",
    "\n",
    "                model.zero_grad()\n",
    "                loss.backward()\n",
    "                optimizer.step()\n",
    "            \n",
    "            total_acc_val = 0\n",
    "            total_loss_val = 0\n",
    "            total_recall_val = 0\n",
    "            total_precision_val = 0\n",
    "            total_auc_val = 0\n",
    "\n",
    "\n",
    "            with torch.no_grad():\n",
    "\n",
    "                for val_input, val_label in val_dataloader:\n",
    "\n",
    "                    val_label = val_label.to(device)\n",
    "                    mask = val_input['attention_mask'].to(device)\n",
    "                    input_id = val_input['input_ids'].squeeze(1).to(device)\n",
    "\n",
    "                    output = model(input_id, mask, val_label)\n",
    "                   \n",
    "                    \n",
    "                    probabilities = F.softmax(output.logits, dim=1)\n",
    "\n",
    "                    loss = criterion(probabilities, val_label.long())\n",
    "                   \n",
    "                    (predictions, predictions_indicies) = torch.max(probabilities, dim=1)\n",
    "\n",
    "                    metric_aucroc = MulticlassAUROC(num_classes=model.num_of_labels).to(device)\n",
    "                    auroc = metric_aucroc(preds=probabilities, target=val_label)\n",
    "\n",
    "                    metric_recall = MulticlassRecall(num_classes=model.num_of_labels).to(device)\n",
    "                    recall = metric_recall(preds=probabilities, target=val_label)\n",
    "                  \n",
    "                    metric_precision = MulticlassPrecision(num_classes=model.num_of_labels).to(device)\n",
    "                    precision = metric_precision(preds=probabilities, target=val_label)\n",
    "\n",
    "                    total_loss_val += loss\n",
    "                  \n",
    "                    acc = (predictions_indicies == val_label).sum().item()\n",
    "                    total_acc_val += acc/val_label.size(dim=0)\n",
    "\n",
    "                    total_auc_val += auroc\n",
    "                    total_recall_val += recall\n",
    "                    total_precision_val += precision\n",
    "              \n",
    "\n",
    "            print(f\"Epochs: {epoch_num + 1} | Train Accuracy: {total_acc_train / len(train_dataloader): .3f} | Train Loss: {total_loss_train / len(train_dataloader): .3f} | Train Recall: {total_recall_train / len(train_dataloader): .3f} | Train Precision: {total_precision_train / len(train_dataloader): .3f} | Train AUC: {total_auc_train/ len(train_dataloader): .3f} | Val Accuracy: {total_acc_val / len(val_dataloader): .3f} | Val Loss: {total_loss_val / len(val_dataloader): .3f} | Val Recall: {total_recall_val / len(val_dataloader): .3f} | Val Precision: {total_precision_val / len(val_dataloader): .3f} | Val AUC: {total_auc_val/ len(val_dataloader): .3f} \")\n",
    "          \n",
    "    return probabilities_list, logits_list, train_label_list"
   ],
   "metadata": {
    "id": "l31MqedSAloM",
    "pycharm": {
     "name": "#%%\n"
    }
   },
   "execution_count": 6,
   "outputs": []
  },
  {
   "cell_type": "code",
   "source": [
    "def evaluate(model, test_data, test_batch_size):\n",
    "\n",
    "    test = Dataset(test_data)\n",
    "\n",
    "    test_dataloader = torch.utils.data.DataLoader(test, batch_size=test_batch_size, shuffle=True)\n",
    "    use_cuda = torch.cuda.is_available()\n",
    "    device = torch.device(\"cuda\" if use_cuda else \"cpu\")\n",
    "\n",
    "    if use_cuda:\n",
    "\n",
    "        model = model.cuda()\n",
    "\n",
    "    total_acc_test = 0\n",
    "    total_auc_test = 0\n",
    "    total_recall_test = 0\n",
    "    total_precision_test = 0\n",
    "\n",
    "    probabilities_list = []\n",
    "    logits_list = []\n",
    "    test_label_list=[]\n",
    "    with torch.no_grad():\n",
    "\n",
    "        for test_input, test_label in test_dataloader:\n",
    "\n",
    "              test_label = test_label.to(device)\n",
    "              test_label_list.append(test_label)\n",
    "              mask = test_input['attention_mask'].to(device)\n",
    "              input_id = test_input['input_ids'].squeeze(1).to(device)\n",
    "\n",
    "              output = model(input_id, mask, test_label)\n",
    "              \n",
    "              logits_list.append(output.logits)\n",
    "              probabilities = F.softmax(output.logits, dim=1)\n",
    "              probabilities_list.append(probabilities)\n",
    "           \n",
    "              (predictions, predictions_indicies) = torch.max(probabilities,dim=1)\n",
    "\n",
    "              metric_aucroc = MulticlassAUROC(num_classes=model.num_of_labels).to(device)\n",
    "              auroc = metric_aucroc(preds=probabilities, target=test_label)\n",
    "\n",
    "              metric_recall = MulticlassRecall(num_classes=model.num_of_labels).to(device)\n",
    "              recall = metric_recall(preds=probabilities, target=test_label)\n",
    "            \n",
    "              metric_precision = MulticlassPrecision(num_classes=model.num_of_labels).to(device)\n",
    "              precision = metric_precision(preds=probabilities, target=test_label)\n",
    "\n",
    "              acc = (predictions_indicies == test_label).sum().item()\n",
    "              total_acc_test += acc/test_label.size(dim=0)\n",
    "\n",
    "              total_auc_test += auroc\n",
    "              total_recall_test += recall\n",
    "              total_precision_test += precision\n",
    "  \n",
    "        print(f\"Test Accuracy: {total_acc_test / len(test_label_list): .3f} | Test Recall: {total_recall_test / len(test_dataloader): .3f} | Test Precision: {total_precision_test / len(test_dataloader): .3f} |Test AUC: {total_auc_test/ len(test_dataloader): .3f}\")\n",
    "  \n",
    "    return probabilities_list, logits_list, test_label_list"
   ],
   "metadata": {
    "id": "73PUVP9wAjCu",
    "pycharm": {
     "name": "#%%\n"
    }
   },
   "execution_count": 7,
   "outputs": []
  },
  {
   "cell_type": "code",
   "execution_count": 8,
   "metadata": {
    "colab": {
     "base_uri": "https://localhost:8080/"
    },
    "id": "jVJrQ_uJKfVc",
    "outputId": "d0c461c3-85d9-4f13-a47d-34a3656f164f",
    "pycharm": {
     "name": "#%%\n"
    }
   },
   "outputs": [
    {
     "output_type": "stream",
     "name": "stdout",
     "text": [
      "1150 144 144\n"
     ]
    }
   ],
   "source": [
    "np.random.seed(42)\n",
    "df_train, df_val, df_test = np.split(df.sample(frac=1, random_state=420), \n",
    "                                     [int(.8*len(df)), int(.9*len(df))])\n",
    "\n",
    "print(len(df_train), len(df_val), len(df_test))"
   ]
  },
  {
   "cell_type": "code",
   "source": [
    "df_train.groupby(['category']).size().plot.bar()"
   ],
   "metadata": {
    "colab": {
     "base_uri": "https://localhost:8080/",
     "height": 330
    },
    "id": "oFFA_nsLOgFC",
    "outputId": "32e4c8f0-7d16-4d68-92e4-f653b76d1cab",
    "pycharm": {
     "name": "#%%\n"
    }
   },
   "execution_count": 9,
   "outputs": [
    {
     "output_type": "execute_result",
     "data": {
      "text/plain": [
       "<matplotlib.axes._subplots.AxesSubplot at 0x7fea43977430>"
      ]
     },
     "metadata": {},
     "execution_count": 9
    },
    {
     "output_type": "display_data",
     "data": {
      "text/plain": [
       "<Figure size 432x288 with 1 Axes>"
      ],
      "image/png": "[encoded data removed]"
     },
     "metadata": {
      "needs_background": "light"
     }
    }
   ]
  },
  {
   "cell_type": "code",
   "source": [
    "df_val.groupby(['category']).size().plot.bar()"
   ],
   "metadata": {
    "colab": {
     "base_uri": "https://localhost:8080/",
     "height": 330
    },
    "id": "mzUjY0jBOlRj",
    "outputId": "c4e8e244-7faa-4cfa-d147-012e1ebc98a6",
    "pycharm": {
     "name": "#%%\n"
    }
   },
   "execution_count": 10,
   "outputs": [
    {
     "output_type": "execute_result",
     "data": {
      "text/plain": [
       "<matplotlib.axes._subplots.AxesSubplot at 0x7fea43886700>"
      ]
     },
     "metadata": {},
     "execution_count": 10
    },
    {
     "output_type": "display_data",
     "data": {
      "text/plain": [
       "<Figure size 432x288 with 1 Axes>"
      ],
      "image/png": "[encoded data removed]"
     },
     "metadata": {
      "needs_background": "light"
     }
    }
   ]
  },
  {
   "cell_type": "code",
   "source": [
    "df_test.groupby(['category']).size().plot.bar()"
   ],
   "metadata": {
    "colab": {
     "base_uri": "https://localhost:8080/",
     "height": 330
    },
    "id": "EQ_XVyo8OlVe",
    "outputId": "fc0771ec-a1ee-444c-d553-65e0dda81fb4",
    "pycharm": {
     "name": "#%%\n"
    }
   },
   "execution_count": 11,
   "outputs": [
    {
     "output_type": "execute_result",
     "data": {
      "text/plain": [
       "<matplotlib.axes._subplots.AxesSubplot at 0x7fea43861790>"
      ]
     },
     "metadata": {},
     "execution_count": 11
    },
    {
     "output_type": "display_data",
     "data": {
      "text/plain": [
       "<Figure size 432x288 with 1 Axes>"
      ],
      "image/png": "[encoded data removed]"
     },
     "metadata": {
      "needs_background": "light"
     }
    }
   ]
  },
  {
   "cell_type": "markdown",
   "metadata": {
    "id": "BZrtc9kjmwJ1",
    "pycharm": {
     "name": "#%% md\n"
    }
   },
   "source": [
    "#Build model"
   ]
  },
  {
   "cell_type": "code",
   "execution_count": 12,
   "metadata": {
    "colab": {
     "base_uri": "https://localhost:8080/"
    },
    "id": "quVJK_YPKheS",
    "outputId": "5b788149-3af7-42a9-be42-dcd27b292d60",
    "pycharm": {
     "name": "#%%\n"
    }
   },
   "outputs": [
    {
     "output_type": "stream",
     "name": "stderr",
     "text": [
      "Some weights of the model checkpoint at bert-base-cased were not used when initializing BertForSequenceClassification: ['cls.predictions.decoder.weight', 'cls.seq_relationship.bias', 'cls.predictions.transform.LayerNorm.bias', 'cls.predictions.bias', 'cls.predictions.transform.dense.bias', 'cls.seq_relationship.weight', 'cls.predictions.transform.dense.weight', 'cls.predictions.transform.LayerNorm.weight']\n",
      "- This IS expected if you are initializing BertForSequenceClassification from the checkpoint of a model trained on another task or with another architecture (e.g. initializing a BertForSequenceClassification model from a BertForPreTraining model).\n",
      "- This IS NOT expected if you are initializing BertForSequenceClassification from the checkpoint of a model that you expect to be exactly identical (initializing a BertForSequenceClassification model from a BertForSequenceClassification model).\n",
      "Some weights of BertForSequenceClassification were not initialized from the model checkpoint at bert-base-cased and are newly initialized: ['classifier.weight', 'classifier.bias']\n",
      "You should probably TRAIN this model on a down-stream task to be able to use it for predictions and inference.\n"
     ]
    }
   ],
   "source": [
    "num_of_classes=3\n",
    "model = TextClassifier(checkpoint, num_of_classes=num_of_classes)"
   ]
  },
  {
   "cell_type": "markdown",
   "metadata": {
    "id": "Fp8b7CPumeb3",
    "pycharm": {
     "name": "#%% md\n"
    }
   },
   "source": [
    "# Parameters"
   ]
  },
  {
   "cell_type": "code",
   "execution_count": 13,
   "metadata": {
    "id": "3fE2LX_IGhVb",
    "pycharm": {
     "name": "#%%\n"
    }
   },
   "outputs": [],
   "source": [
    "EPOCHS = 12\n",
    "LR = 1e-6\n",
    "train_batch_size = 32\n",
    "val_batch_size = 32"
   ]
  },
  {
   "cell_type": "markdown",
   "metadata": {
    "id": "0gWfgmiimqWW",
    "pycharm": {
     "name": "#%% md\n"
    }
   },
   "source": [
    "# Train model"
   ]
  },
  {
   "cell_type": "code",
   "execution_count": 14,
   "metadata": {
    "colab": {
     "base_uri": "https://localhost:8080/"
    },
    "id": "_XvHb-REmpeu",
    "outputId": "3d58c527-554c-479f-b01c-7c33ac9d2e53",
    "pycharm": {
     "name": "#%%\n"
    }
   },
   "outputs": [
    {
     "output_type": "stream",
     "name": "stderr",
     "text": [
      "100%|██████████| 36/36 [00:48<00:00,  1.35s/it]\n"
     ]
    },
    {
     "output_type": "stream",
     "name": "stdout",
     "text": [
      "Epochs: 1 | Train Accuracy:  0.359 | Train Loss:  1.097 | Train Recall:  0.345 | Train Precision:  0.221 | Train AUC:  0.676 | Val Accuracy:  0.481 | Val Loss:  1.074 | Val Recall:  0.396 | Val Precision:  0.394 | Val AUC:  0.855 \n"
     ]
    },
    {
     "output_type": "stream",
     "name": "stderr",
     "text": [
      "100%|██████████| 36/36 [00:49<00:00,  1.37s/it]\n"
     ]
    },
    {
     "output_type": "stream",
     "name": "stdout",
     "text": [
      "Epochs: 2 | Train Accuracy:  0.530 | Train Loss:  1.072 | Train Recall:  0.555 | Train Precision:  0.439 | Train AUC:  0.885 | Val Accuracy:  0.662 | Val Loss:  1.049 | Val Recall:  0.630 | Val Precision:  0.514 | Val AUC:  0.976 \n"
     ]
    },
    {
     "output_type": "stream",
     "name": "stderr",
     "text": [
      "100%|██████████| 36/36 [00:48<00:00,  1.35s/it]\n"
     ]
    },
    {
     "output_type": "stream",
     "name": "stdout",
     "text": [
      "Epochs: 3 | Train Accuracy:  0.716 | Train Loss:  1.028 | Train Recall:  0.734 | Train Precision:  0.703 | Train AUC:  0.965 | Val Accuracy:  0.944 | Val Loss:  0.979 | Val Recall:  0.939 | Val Precision:  0.954 | Val AUC:  0.991 \n"
     ]
    },
    {
     "output_type": "stream",
     "name": "stderr",
     "text": [
      "100%|██████████| 36/36 [00:48<00:00,  1.35s/it]\n"
     ]
    },
    {
     "output_type": "stream",
     "name": "stdout",
     "text": [
      "Epochs: 4 | Train Accuracy:  0.945 | Train Loss:  0.923 | Train Recall:  0.949 | Train Precision:  0.942 | Train AUC:  0.990 | Val Accuracy:  0.969 | Val Loss:  0.852 | Val Recall:  0.968 | Val Precision:  0.974 | Val AUC:  0.999 \n"
     ]
    },
    {
     "output_type": "stream",
     "name": "stderr",
     "text": [
      "100%|██████████| 36/36 [00:48<00:00,  1.35s/it]\n"
     ]
    },
    {
     "output_type": "stream",
     "name": "stdout",
     "text": [
      "Epochs: 5 | Train Accuracy:  0.979 | Train Loss:  0.778 | Train Recall:  0.980 | Train Precision:  0.979 | Train AUC:  0.998 | Val Accuracy:  0.988 | Val Loss:  0.728 | Val Recall:  0.987 | Val Precision:  0.989 | Val AUC:  0.999 \n"
     ]
    },
    {
     "output_type": "stream",
     "name": "stderr",
     "text": [
      "100%|██████████| 36/36 [00:48<00:00,  1.35s/it]\n"
     ]
    },
    {
     "output_type": "stream",
     "name": "stdout",
     "text": [
      "Epochs: 6 | Train Accuracy:  0.986 | Train Loss:  0.693 | Train Recall:  0.985 | Train Precision:  0.986 | Train AUC:  0.999 | Val Accuracy:  0.981 | Val Loss:  0.675 | Val Recall:  0.983 | Val Precision:  0.982 | Val AUC:  0.999 \n"
     ]
    },
    {
     "output_type": "stream",
     "name": "stderr",
     "text": [
      "100%|██████████| 36/36 [00:48<00:00,  1.35s/it]\n"
     ]
    },
    {
     "output_type": "stream",
     "name": "stdout",
     "text": [
      "Epochs: 7 | Train Accuracy:  0.990 | Train Loss:  0.653 | Train Recall:  0.990 | Train Precision:  0.989 | Train AUC:  0.999 | Val Accuracy:  0.975 | Val Loss:  0.652 | Val Recall:  0.977 | Val Precision:  0.980 | Val AUC:  1.000 \n"
     ]
    },
    {
     "output_type": "stream",
     "name": "stderr",
     "text": [
      "100%|██████████| 36/36 [00:48<00:00,  1.35s/it]\n"
     ]
    },
    {
     "output_type": "stream",
     "name": "stdout",
     "text": [
      "Epochs: 8 | Train Accuracy:  0.991 | Train Loss:  0.630 | Train Recall:  0.991 | Train Precision:  0.991 | Train AUC:  0.999 | Val Accuracy:  0.988 | Val Loss:  0.630 | Val Recall:  0.989 | Val Precision:  0.989 | Val AUC:  0.998 \n"
     ]
    },
    {
     "output_type": "stream",
     "name": "stderr",
     "text": [
      "100%|██████████| 36/36 [00:48<00:00,  1.36s/it]\n"
     ]
    },
    {
     "output_type": "stream",
     "name": "stdout",
     "text": [
      "Epochs: 9 | Train Accuracy:  0.992 | Train Loss:  0.615 | Train Recall:  0.993 | Train Precision:  0.993 | Train AUC:  0.999 | Val Accuracy:  0.988 | Val Loss:  0.619 | Val Recall:  0.991 | Val Precision:  0.991 | Val AUC:  0.999 \n"
     ]
    },
    {
     "output_type": "stream",
     "name": "stderr",
     "text": [
      "100%|██████████| 36/36 [00:48<00:00,  1.36s/it]\n"
     ]
    },
    {
     "output_type": "stream",
     "name": "stdout",
     "text": [
      "Epochs: 10 | Train Accuracy:  0.993 | Train Loss:  0.604 | Train Recall:  0.992 | Train Precision:  0.994 | Train AUC:  0.999 | Val Accuracy:  0.988 | Val Loss:  0.611 | Val Recall:  0.986 | Val Precision:  0.990 | Val AUC:  0.999 \n"
     ]
    },
    {
     "output_type": "stream",
     "name": "stderr",
     "text": [
      "100%|██████████| 36/36 [00:48<00:00,  1.35s/it]\n"
     ]
    },
    {
     "output_type": "stream",
     "name": "stdout",
     "text": [
      "Epochs: 11 | Train Accuracy:  0.994 | Train Loss:  0.597 | Train Recall:  0.995 | Train Precision:  0.993 | Train AUC:  1.000 | Val Accuracy:  0.975 | Val Loss:  0.612 | Val Recall:  0.969 | Val Precision:  0.983 | Val AUC:  0.998 \n"
     ]
    },
    {
     "output_type": "stream",
     "name": "stderr",
     "text": [
      "100%|██████████| 36/36 [00:48<00:00,  1.35s/it]\n"
     ]
    },
    {
     "output_type": "stream",
     "name": "stdout",
     "text": [
      "Epochs: 12 | Train Accuracy:  0.993 | Train Loss:  0.591 | Train Recall:  0.992 | Train Precision:  0.993 | Train AUC:  1.000 | Val Accuracy:  0.988 | Val Loss:  0.600 | Val Recall:  0.987 | Val Precision:  0.989 | Val AUC:  0.999 \n"
     ]
    }
   ],
   "source": [
    "probabilities_list_train, logits_list_train, train_label_list = train(model, df_train, df_val, LR, EPOCHS, train_batch_size, val_batch_size)"
   ]
  },
  {
   "cell_type": "markdown",
   "metadata": {
    "id": "4hHyonplmzlg",
    "pycharm": {
     "name": "#%% md\n"
    }
   },
   "source": [
    "#Test model"
   ]
  },
  {
   "cell_type": "code",
   "execution_count": 15,
   "metadata": {
    "id": "EKIL-imZFrff",
    "colab": {
     "base_uri": "https://localhost:8080/"
    },
    "outputId": "5ba2fd5f-d385-4153-feba-7dbceabe957c",
    "pycharm": {
     "name": "#%%\n"
    }
   },
   "outputs": [
    {
     "output_type": "stream",
     "name": "stdout",
     "text": [
      "Test Accuracy:  0.986 | Test Recall:  0.992 | Test Precision:  0.986 |Test AUC:  1.000\n"
     ]
    }
   ],
   "source": [
    "test_batch_size = 12\n",
    "probabilities_list, logits_list, test_label_list = evaluate(model, df_test, test_batch_size)"
   ]
  },
  {
   "cell_type": "markdown",
   "source": [
    "#ROC"
   ],
   "metadata": {
    "id": "7Zl3_D2GFwi7",
    "pycharm": {
     "name": "#%% md\n"
    }
   }
  },
  {
   "cell_type": "code",
   "source": [
    "from torchmetrics.classification import MulticlassROC\n",
    "\n",
    "use_cuda = torch.cuda.is_available()\n",
    "device = torch.device(\"cuda\" if use_cuda else \"cpu\")\n",
    "\n",
    "metric_roc = MulticlassROC(num_classes=3, thresholds=5).to(device)\n",
    "fpr, tpr, thresholds = metric_roc(probabilities_list[0], test_label_list[0])\n",
    "\n",
    "metric_aucroc = MulticlassAUROC(num_classes=model.num_of_labels).to(device)\n",
    "auroc = metric_aucroc(preds=probabilities_list[0], target=test_label_list[0])\n",
    "\n",
    "print(f\"AUC: {auroc}\\n, FPR: {fpr}\\n, TPR: {tpr}\\n, thresholds: {thresholds}\")"
   ],
   "metadata": {
    "colab": {
     "base_uri": "https://localhost:8080/"
    },
    "id": "5XQLjJmxFwKL",
    "outputId": "8a3102a6-9e1a-447f-e0d6-c0bed08ec100",
    "pycharm": {
     "name": "#%%\n"
    }
   },
   "execution_count": 16,
   "outputs": [
    {
     "output_type": "stream",
     "name": "stdout",
     "text": [
      "AUC: 1.0\n",
      ", FPR: tensor([[0., 0., 0., 0., 1.],\n",
      "        [0., 0., 0., 0., 1.],\n",
      "        [0., 0., 0., 0., 1.]], device='cuda:0')\n",
      ", TPR: tensor([[0., 1., 1., 1., 1.],\n",
      "        [0., 1., 1., 1., 1.],\n",
      "        [0., 1., 1., 1., 1.]], device='cuda:0')\n",
      ", thresholds: tensor([1.0000, 0.7500, 0.5000, 0.2500, 0.0000], device='cuda:0')\n"
     ]
    }
   ]
  },
  {
   "cell_type": "markdown",
   "metadata": {
    "id": "d2LWjUQ4m3E9",
    "pycharm": {
     "name": "#%% md\n"
    }
   },
   "source": [
    "#Save model"
   ]
  },
  {
   "cell_type": "code",
   "execution_count": 17,
   "metadata": {
    "id": "acTGl1gqfKtx",
    "pycharm": {
     "name": "#%%\n"
    }
   },
   "outputs": [],
   "source": [
    "PATH_TO_SAVE_MODEL = \"/content/gdrive/MyDrive/Colab Notebooks/model_save\"\n",
    "torch.save(model.state_dict(), PATH_TO_SAVE_MODEL)"
   ]
  },
  {
   "cell_type": "markdown",
   "metadata": {
    "id": "0qJr4JKcm7xm",
    "pycharm": {
     "name": "#%% md\n"
    }
   },
   "source": [
    "#Save softmax result"
   ]
  },
  {
   "cell_type": "code",
   "source": [
    "torch.save(probabilities_list, '/content/gdrive/MyDrive/Colab Notebooks/probabilities_list.pt')"
   ],
   "metadata": {
    "id": "dEpw9wNodIuv",
    "pycharm": {
     "name": "#%%\n"
    }
   },
   "execution_count": 18,
   "outputs": []
  },
  {
   "cell_type": "markdown",
   "metadata": {
    "id": "6WVM7knnm-0t",
    "pycharm": {
     "name": "#%% md\n"
    }
   },
   "source": [
    "#Save logits result"
   ]
  },
  {
   "cell_type": "code",
   "source": [
    "torch.save(logits_list, '/content/gdrive/MyDrive/Colab Notebooks/logits_list.pt')"
   ],
   "metadata": {
    "id": "h2N--flHdRNS",
    "pycharm": {
     "name": "#%%\n"
    }
   },
   "execution_count": 19,
   "outputs": []
  },
  {
   "cell_type": "markdown",
   "source": [
    "#Save test labels\n"
   ],
   "metadata": {
    "id": "TG7Yu_zBYLjV",
    "pycharm": {
     "name": "#%% md\n"
    }
   }
  },
  {
   "cell_type": "code",
   "source": [
    "torch.save(test_label_list, '/content/gdrive/MyDrive/Colab Notebooks/test_label_list.pt')"
   ],
   "metadata": {
    "id": "at4qDm1RdTbg",
    "pycharm": {
     "name": "#%%\n"
    }
   },
   "execution_count": 20,
   "outputs": []
  },
  {
   "cell_type": "markdown",
   "source": [
    "# Out-Of-Distribution data"
   ],
   "metadata": {
    "id": "4issJbXIWayh",
    "pycharm": {
     "name": "#%% md\n"
    }
   }
  },
  {
   "cell_type": "code",
   "source": [
    "datapath = \"/content/gdrive/MyDrive/Colab Notebooks/bbc_test.csv\"\n",
    "df_outside = pd.read_csv(datapath)\n",
    "df_outside.groupby(['category']).size().plot.bar()\n",
    "labels = {\n",
    "          'entertainment':0,\n",
    "          'tech':1,\n",
    "          }"
   ],
   "metadata": {
    "colab": {
     "base_uri": "https://localhost:8080/",
     "height": 341
    },
    "id": "3r9tBp9TNGpe",
    "outputId": "62888dc3-0b29-4340-ce3d-75555343956c",
    "pycharm": {
     "name": "#%%\n"
    }
   },
   "execution_count": 21,
   "outputs": [
    {
     "output_type": "display_data",
     "data": {
      "text/plain": [
       "<Figure size 432x288 with 1 Axes>"
      ],
      "image/png": "[encoded data removed]"
     },
     "metadata": {
      "needs_background": "light"
     }
    }
   ]
  },
  {
   "cell_type": "markdown",
   "source": [
    "#Out-Of-Distribution data evaluation"
   ],
   "metadata": {
    "id": "dtwCifsvYGMv",
    "pycharm": {
     "name": "#%% md\n"
    }
   }
  },
  {
   "cell_type": "code",
   "source": [
    "test_batch_size = 12\n",
    "probabilities_list_outside, logits_list_outside, test_label_list_outside = evaluate(model, df_outside, test_batch_size)"
   ],
   "metadata": {
    "colab": {
     "base_uri": "https://localhost:8080/"
    },
    "id": "FrAEFj99NP4V",
    "outputId": "e30f7dda-be00-403f-e69b-6d51f0432039",
    "pycharm": {
     "name": "#%%\n"
    }
   },
   "execution_count": 22,
   "outputs": [
    {
     "output_type": "stream",
     "name": "stderr",
     "text": [
      "/usr/local/lib/python3.8/dist-packages/torchmetrics/utilities/prints.py:36: UserWarning: No positive samples in targets, true positive value should be meaningless. Returning zero tensor in true positive score\n",
      "  warnings.warn(*args, **kwargs)\n"
     ]
    },
    {
     "output_type": "stream",
     "name": "stdout",
     "text": [
      "Test Accuracy:  0.216 | Test Recall:  0.147 | Test Precision:  0.116 |Test AUC:  0.083\n"
     ]
    }
   ]
  },
  {
   "cell_type": "markdown",
   "source": [
    "#Save Out-Of-Distribution softmax result"
   ],
   "metadata": {
    "id": "c6n8AMialnfq",
    "pycharm": {
     "name": "#%% md\n"
    }
   }
  },
  {
   "cell_type": "code",
   "source": [
    "torch.save(probabilities_list_outside, '/content/gdrive/MyDrive/Colab Notebooks/probabilities_list_outside.pt')"
   ],
   "metadata": {
    "id": "pZ5PpwNQlmxE",
    "pycharm": {
     "name": "#%%\n"
    }
   },
   "execution_count": 23,
   "outputs": []
  },
  {
   "cell_type": "markdown",
   "source": [
    "#Save Out-Of-Distribution logits result"
   ],
   "metadata": {
    "id": "-AMHz6KcloPg",
    "pycharm": {
     "name": "#%% md\n"
    }
   }
  },
  {
   "cell_type": "code",
   "source": [
    "torch.save(logits_list_outside, '/content/gdrive/MyDrive/Colab Notebooks/logits_list_outside.pt')"
   ],
   "metadata": {
    "id": "vqVCRM_oloZz",
    "pycharm": {
     "name": "#%%\n"
    }
   },
   "execution_count": 24,
   "outputs": []
  },
  {
   "cell_type": "markdown",
   "source": [
    "#Save Out-Of-Distribution test labels result"
   ],
   "metadata": {
    "id": "N9udWJL8lom4",
    "pycharm": {
     "name": "#%% md\n"
    }
   }
  },
  {
   "cell_type": "code",
   "source": [
    "torch.save(test_label_list_outside, '/content/gdrive/MyDrive/Colab Notebooks/test_label_list_outside.pt')"
   ],
   "metadata": {
    "id": "vYwsGMOKloxs",
    "pycharm": {
     "name": "#%%\n"
    }
   },
   "execution_count": 25,
   "outputs": []
  },
  {
   "cell_type": "markdown",
   "source": [
    "#Histogram - max(softmax)"
   ],
   "metadata": {
    "id": "EAUp8DUfX8Ra",
    "pycharm": {
     "name": "#%% md\n"
    }
   }
  },
  {
   "cell_type": "code",
   "source": [
    "import matplotlib.pyplot as plt"
   ],
   "metadata": {
    "id": "R6RjuzTrDt4J",
    "pycharm": {
     "name": "#%%\n"
    }
   },
   "execution_count": 26,
   "outputs": []
  },
  {
   "cell_type": "code",
   "source": [
    "def get_hist_data_softmax(probabilities_list):\n",
    "  hist_prob = []\n",
    "  for i in range(len(probabilities_list)):\n",
    "    probabilities_list[i] = probabilities_list[i].numpy(force=True)\n",
    "    for j in range(len(probabilities_list[i])):\n",
    "      hist_prob.append(probabilities_list[i][j].max())\n",
    "  return hist_prob"
   ],
   "metadata": {
    "id": "1DHkhmRAH6q4",
    "pycharm": {
     "name": "#%%\n"
    }
   },
   "execution_count": 27,
   "outputs": []
  },
  {
   "cell_type": "code",
   "source": [
    "hist_norm_softmax = get_hist_data_softmax(probabilities_list)\n",
    "hist_outside_softmax = get_hist_data_softmax(probabilities_list_outside)\n",
    "print(f\"Seen elements histograms length: {len(hist_norm_softmax)}\")\n",
    "print(f\"Unseen elements histograms length: {len(hist_outside_softmax)}\")"
   ],
   "metadata": {
    "id": "dg94FSerOfly",
    "colab": {
     "base_uri": "https://localhost:8080/"
    },
    "outputId": "84a69e3a-c6db-4992-9cf6-a5c50b339e82",
    "pycharm": {
     "name": "#%%\n"
    }
   },
   "execution_count": 28,
   "outputs": [
    {
     "output_type": "stream",
     "name": "stdout",
     "text": [
      "Seen elements histograms length: 144\n",
      "Unseen elements histograms length: 787\n"
     ]
    }
   ]
  },
  {
   "cell_type": "code",
   "source": [
    "plt.hist(hist_norm_softmax, bins='auto')\n",
    "plt.hist(hist_outside_softmax, bins='auto')"
   ],
   "metadata": {
    "colab": {
     "base_uri": "https://localhost:8080/",
     "height": 369
    },
    "id": "-ggVV0mFFLDl",
    "outputId": "c773bc11-e65e-4c16-df17-30850cb27b54",
    "pycharm": {
     "name": "#%%\n"
    }
   },
   "execution_count": 29,
   "outputs": [
    {
     "output_type": "execute_result",
     "data": {
      "text/plain": [
       "(array([  5.,  19.,  30.,  41.,  35.,  43.,  43.,  39.,  64.,  64., 105.,\n",
       "        299.]),\n",
       " array([0.3458524 , 0.39701638, 0.44818035, 0.49934432, 0.55050826,\n",
       "        0.60167223, 0.6528362 , 0.7040002 , 0.75516415, 0.8063281 ,\n",
       "        0.8574921 , 0.90865606, 0.95982003], dtype=float32),\n",
       " <a list of 12 Patch objects>)"
      ]
     },
     "metadata": {},
     "execution_count": 29
    },
    {
     "output_type": "display_data",
     "data": {
      "text/plain": [
       "<Figure size 432x288 with 1 Axes>"
      ],
      "image/png": "[encoded data removed]"
     },
     "metadata": {
      "needs_background": "light"
     }
    }
   ]
  },
  {
   "cell_type": "markdown",
   "source": [
    "#Histogram - max(logits)"
   ],
   "metadata": {
    "id": "jlf8Q6U1X25P",
    "pycharm": {
     "name": "#%% md\n"
    }
   }
  },
  {
   "cell_type": "code",
   "source": [
    "def get_hist_data_logit(logits_list):\n",
    "  hist_prob = []\n",
    "  for i in range(len(logits_list)):\n",
    "    logits_list[i] = logits_list[i].numpy(force=True)\n",
    "    for j in range(len(logits_list[i])):\n",
    "      hist_prob.append(logits_list[i][j].max())\n",
    "  return hist_prob"
   ],
   "metadata": {
    "id": "DrYh2WAkFPYb",
    "pycharm": {
     "name": "#%%\n"
    }
   },
   "execution_count": 30,
   "outputs": []
  },
  {
   "cell_type": "code",
   "source": [
    "hist_norm_logit = get_hist_data_logit(logits_list)\n",
    "hist_outside_logit = get_hist_data_logit(logits_list_outside)\n",
    "print(f\"Seen elements histograms length: {len(hist_norm_logit)}\")\n",
    "print(f\"Unseen elements histograms length: {len(hist_outside_logit)}\")"
   ],
   "metadata": {
    "id": "X69pxuRnXLa4",
    "colab": {
     "base_uri": "https://localhost:8080/"
    },
    "outputId": "c771b12a-9093-4c4d-da17-1dc7cbac4d5e",
    "pycharm": {
     "name": "#%%\n"
    }
   },
   "execution_count": 31,
   "outputs": [
    {
     "output_type": "stream",
     "name": "stdout",
     "text": [
      "Seen elements histograms length: 144\n",
      "Unseen elements histograms length: 787\n"
     ]
    }
   ]
  },
  {
   "cell_type": "code",
   "source": [
    "plt.hist(hist_norm_logit, bins='auto')\n",
    "plt.hist(hist_outside_logit, bins='auto')"
   ],
   "metadata": {
    "colab": {
     "base_uri": "https://localhost:8080/",
     "height": 352
    },
    "id": "uWK-L-HMXbSi",
    "outputId": "9344d12d-36c4-4b97-b29a-fe51803c47ba",
    "pycharm": {
     "name": "#%%\n"
    }
   },
   "execution_count": 32,
   "outputs": [
    {
     "output_type": "execute_result",
     "data": {
      "text/plain": [
       "(array([ 14.,  40.,  67.,  64.,  92.,  72.,  73.,  71.,  74., 138.,  82.]),\n",
       " array([-0.169977  ,  0.09220956,  0.3543961 ,  0.6165827 ,  0.8787692 ,\n",
       "         1.1409558 ,  1.4031423 ,  1.6653289 ,  1.9275154 ,  2.189702  ,\n",
       "         2.4518886 ,  2.714075  ], dtype=float32),\n",
       " <a list of 11 Patch objects>)"
      ]
     },
     "metadata": {},
     "execution_count": 32
    },
    {
     "output_type": "display_data",
     "data": {
      "text/plain": [
       "<Figure size 432x288 with 1 Axes>"
      ],
      "image/png": "[encoded data removed]"
     },
     "metadata": {
      "needs_background": "light"
     }
    }
   ]
  },
  {
   "cell_type": "markdown",
   "source": [
    "#Gaussian Discrete Analysis + Mahalanobis/Eucledian distance"
   ],
   "metadata": {
    "id": "GplD8R3_d5pK",
    "pycharm": {
     "name": "#%% md\n"
    }
   }
  },
  {
   "cell_type": "code",
   "source": [
    "def confidence(features: np.ndarray,\n",
    "               means: np.ndarray,\n",
    "               distance_type: str,\n",
    "               cov: np.ndarray = None) -> np.ndarray:\n",
    "    \"\"\"\n",
    "    Calculate mahalanobis or euclidean based confidence score for each class.\n",
    "    Params:\n",
    "        - features: shape (num_samples, num_features)\n",
    "        - means: shape (num_classes, num_features)\n",
    "        - cov: shape (num_features, num_features) or None (if use euclidean distance)\n",
    "    \n",
    "    Returns:\n",
    "        - confidence: shape (num_samples, num_classes)\n",
    "    \"\"\"\n",
    "    assert distance_type in (\"euclidean\", \"mahalanobis\")\n",
    "\n",
    "    num_samples = features.shape[0]\n",
    "    num_features = features.shape[1]\n",
    "    num_classes = means.shape[0]\n",
    "    if distance_type == \"euclidean\":\n",
    "        cov = np.identity(num_features)\n",
    "    \n",
    "    features = features.reshape(num_samples, 1, num_features).repeat(num_classes, axis=1)  # (num_samples, num_classes, num_features)\n",
    "    means = means.reshape(1, num_classes, num_features).repeat(num_samples, axis=0)  # (num_samples, num_classes, num_features)\n",
    "    vectors = features - means  # (num_samples, num_classes, num_features)\n",
    "    cov_inv = np.linalg.inv(cov)\n",
    "    bef_sqrt = np.matmul(np.matmul(vectors.reshape(num_samples, num_classes, 1, num_features), cov_inv),\n",
    "                         vectors.reshape(num_samples, num_classes, num_features, 1)).squeeze()\n",
    "    result = np.sqrt(bef_sqrt)\n",
    "    result[np.isnan(result)] = 1e12  # solve nan\n",
    "    return result"
   ],
   "metadata": {
    "id": "WJ6KZP7Ce8Sd",
    "pycharm": {
     "name": "#%%\n"
    }
   },
   "execution_count": 33,
   "outputs": []
  },
  {
   "cell_type": "code",
   "source": [
    "feature_train = logits_list[0].copy()\n",
    "feature_test = logits_list_outside[0].copy()\n",
    "y_train_seen = test_label_list[0].numpy(force=True).copy()"
   ],
   "metadata": {
    "id": "hbIRjTHVqksc",
    "pycharm": {
     "name": "#%%\n"
    }
   },
   "execution_count": 34,
   "outputs": []
  },
  {
   "cell_type": "code",
   "source": [
    "feature_train"
   ],
   "metadata": {
    "colab": {
     "base_uri": "https://localhost:8080/"
    },
    "id": "6MNL49MN6Z17",
    "outputId": "94294fbe-c4b9-4ef6-bf85-f332706860ef",
    "pycharm": {
     "name": "#%%\n"
    }
   },
   "execution_count": 35,
   "outputs": [
    {
     "output_type": "execute_result",
     "data": {
      "text/plain": [
       "array([[-1.4145838 ,  2.6957393 , -1.2993461 ],\n",
       "       [-1.5708884 ,  2.5394304 , -1.2662697 ],\n",
       "       [ 2.4298723 , -1.6211356 , -0.9977237 ],\n",
       "       [-1.1424605 , -1.7533209 ,  1.9707327 ],\n",
       "       [-1.5708666 ,  2.4001558 , -1.2886676 ],\n",
       "       [-1.6107861 ,  2.6833632 , -1.1704907 ],\n",
       "       [ 2.6324    , -1.338116  , -1.0930086 ],\n",
       "       [-1.4386296 , -1.6394459 ,  1.9738065 ],\n",
       "       [ 2.104524  , -1.2256024 , -1.1204535 ],\n",
       "       [ 2.5088449 , -1.2834251 , -0.91278833],\n",
       "       [-1.4515046 , -1.5854211 ,  1.9693402 ],\n",
       "       [ 2.5922208 , -1.3809282 , -1.1528244 ]], dtype=float32)"
      ]
     },
     "metadata": {},
     "execution_count": 35
    }
   ]
  },
  {
   "cell_type": "code",
   "source": [
    "feature_test"
   ],
   "metadata": {
    "colab": {
     "base_uri": "https://localhost:8080/"
    },
    "id": "luQFPw5MPIPR",
    "outputId": "9dad8c60-2ac9-4013-f30c-da3b1f518349",
    "pycharm": {
     "name": "#%%\n"
    }
   },
   "execution_count": 36,
   "outputs": [
    {
     "output_type": "execute_result",
     "data": {
      "text/plain": [
       "array([[ 1.557283  , -1.4079994 , -0.74512714],\n",
       "       [-0.9139955 , -1.2857493 ,  1.186756  ],\n",
       "       [-1.3892535 , -1.300934  ,  1.710266  ],\n",
       "       [ 0.24553593, -1.6553401 ,  0.7028428 ],\n",
       "       [ 2.5182347 , -1.2676266 , -1.0703173 ],\n",
       "       [-0.5700985 , -0.7926932 ,  0.5403333 ],\n",
       "       [ 2.5182347 , -1.2676266 , -1.0703173 ],\n",
       "       [ 1.2419082 , -0.7853922 , -0.90924907],\n",
       "       [ 2.5996494 , -1.3789781 , -1.1156573 ],\n",
       "       [ 0.37697667, -1.702316  ,  0.6843248 ],\n",
       "       [-0.45363015, -0.7097584 ,  0.36875457],\n",
       "       [-1.4707719 , -0.8185944 ,  1.3230923 ]], dtype=float32)"
      ]
     },
     "metadata": {},
     "execution_count": 36
    }
   ]
  },
  {
   "cell_type": "code",
   "source": [
    "y_train_seen"
   ],
   "metadata": {
    "colab": {
     "base_uri": "https://localhost:8080/"
    },
    "id": "8h-z287W6pRY",
    "outputId": "9818f44f-1ca4-4c5e-df71-6e420b771bfe",
    "pycharm": {
     "name": "#%%\n"
    }
   },
   "execution_count": 37,
   "outputs": [
    {
     "output_type": "execute_result",
     "data": {
      "text/plain": [
       "array([1, 1, 0, 2, 1, 1, 0, 2, 0, 0, 2, 0])"
      ]
     },
     "metadata": {},
     "execution_count": 37
    }
   ]
  },
  {
   "cell_type": "code",
   "source": [
    "from sklearn.discriminant_analysis import LinearDiscriminantAnalysis\n",
    "\n",
    "solver = \"lsqr\"\n",
    "distance_type = \"mahalanobis\" # \"euclidean\"\n",
    "assert solver in (\"lsqr\")\n",
    "assert distance_type in (\"mahalanobis\", \"euclidean\")\n",
    "\n",
    "gda = LinearDiscriminantAnalysis(solver=solver, shrinkage=None, store_covariance=True)\n",
    "gda.fit(feature_train, y_train_seen)\n",
    "\n",
    "\n",
    "y_pred = gda.predict(feature_test)\n",
    "gda_result_test = confidence(feature_test, gda.means_, distance_type, gda.covariance_)\n",
    "y_pred_score = pd.Series(gda_result_test.min(axis=1))\n",
    "\n",
    "threshold = 2.2\n",
    "y_pred_score[y_pred_score[y_pred_score > threshold].index] = 'unseen'"
   ],
   "metadata": {
    "id": "E91mFtKSeJxj",
    "pycharm": {
     "name": "#%%\n"
    }
   },
   "execution_count": 38,
   "outputs": []
  },
  {
   "cell_type": "code",
   "source": [
    "gda_result_test"
   ],
   "metadata": {
    "colab": {
     "base_uri": "https://localhost:8080/"
    },
    "id": "XHLnd4CHZXKP",
    "outputId": "675c9e9e-8b5f-4a72-f878-61502523c89b",
    "pycharm": {
     "name": "#%%\n"
    }
   },
   "execution_count": 41,
   "outputs": [
    {
     "output_type": "execute_result",
     "data": {
      "text/plain": [
       "array([[ 7.93086309, 37.23403906, 46.99188716],\n",
       "       [41.81874416, 50.07554537, 13.11460875],\n",
       "       [50.4582202 , 56.82175489,  5.06621963],\n",
       "       [31.65004197, 47.07433825, 22.57257825],\n",
       "       [ 1.11803293, 38.60733285, 54.74643214],\n",
       "       [32.11034038, 39.81350046, 24.41463241],\n",
       "       [ 1.11803293, 38.60733285, 54.74643214],\n",
       "       [ 9.06677913, 31.621803  , 49.37980624],\n",
       "       [ 1.36777101, 39.54602483, 55.48500671],\n",
       "       [31.03041683, 47.2707926 , 23.23292328],\n",
       "       [29.59804379, 37.49807735, 27.32582243],\n",
       "       [45.47957828, 49.57944501, 12.32368029]])"
      ]
     },
     "metadata": {},
     "execution_count": 41
    }
   ]
  },
  {
   "cell_type": "code",
   "source": [
    "y_pred_score"
   ],
   "metadata": {
    "colab": {
     "base_uri": "https://localhost:8080/"
    },
    "id": "m2AEUE_AQ9T2",
    "outputId": "0a648d45-ac10-4320-eda2-c6c00e17a436",
    "pycharm": {
     "name": "#%%\n"
    }
   },
   "execution_count": 42,
   "outputs": [
    {
     "output_type": "execute_result",
     "data": {
      "text/plain": [
       "0      7.930863\n",
       "1     13.114609\n",
       "2      5.066220\n",
       "3     22.572578\n",
       "4      1.118033\n",
       "5     24.414632\n",
       "6      1.118033\n",
       "7      9.066779\n",
       "8      1.367771\n",
       "9     23.232923\n",
       "10    27.325822\n",
       "11    12.323680\n",
       "dtype: float64"
      ]
     },
     "metadata": {},
     "execution_count": 42
    }
   ]
  },
  {
   "cell_type": "code",
   "source": [
    "y_pred_score[y_pred_score[y_pred_score > threshold].index] = 'unseen'"
   ],
   "metadata": {
    "id": "KVVfZudFUxT7",
    "pycharm": {
     "name": "#%%\n"
    }
   },
   "execution_count": 45,
   "outputs": []
  },
  {
   "cell_type": "code",
   "source": [
    "y_pred_score"
   ],
   "metadata": {
    "colab": {
     "base_uri": "https://localhost:8080/"
    },
    "id": "CUmVSR46U1_4",
    "outputId": "a8d6a304-c763-457b-d2c1-322316f078ad",
    "pycharm": {
     "name": "#%%\n"
    }
   },
   "execution_count": 46,
   "outputs": [
    {
     "output_type": "execute_result",
     "data": {
      "text/plain": [
       "0       unseen\n",
       "1       unseen\n",
       "2       unseen\n",
       "3       unseen\n",
       "4     1.118033\n",
       "5       unseen\n",
       "6     1.118033\n",
       "7       unseen\n",
       "8     1.367771\n",
       "9       unseen\n",
       "10      unseen\n",
       "11      unseen\n",
       "dtype: object"
      ]
     },
     "metadata": {},
     "execution_count": 46
    }
   ]
  },
  {
   "cell_type": "code",
   "source": [
    "y_pred"
   ],
   "metadata": {
    "colab": {
     "base_uri": "https://localhost:8080/"
    },
    "id": "KqMKU70ykxMU",
    "outputId": "f6b42339-0fca-4c3d-cdc9-d1c0c6c7a0d5",
    "pycharm": {
     "name": "#%%\n"
    }
   },
   "execution_count": 47,
   "outputs": [
    {
     "output_type": "execute_result",
     "data": {
      "text/plain": [
       "array([0, 2, 2, 2, 0, 2, 0, 0, 0, 2, 2, 2])"
      ]
     },
     "metadata": {},
     "execution_count": 47
    }
   ]
  },
  {
   "cell_type": "code",
   "source": [
    "y_train_seen"
   ],
   "metadata": {
    "colab": {
     "base_uri": "https://localhost:8080/"
    },
    "id": "7No7YtqGNmkd",
    "outputId": "6102c9cd-980d-47d6-c42c-d191a29d0d21",
    "pycharm": {
     "name": "#%%\n"
    }
   },
   "execution_count": 48,
   "outputs": [
    {
     "output_type": "execute_result",
     "data": {
      "text/plain": [
       "array([1, 1, 0, 2, 1, 1, 0, 2, 0, 0, 2, 0])"
      ]
     },
     "metadata": {},
     "execution_count": 48
    }
   ]
  },
  {
   "cell_type": "code",
   "source": [],
   "metadata": {
    "id": "jlARwZlsNm_7",
    "pycharm": {
     "name": "#%%\n"
    }
   },
   "execution_count": null,
   "outputs": []
  }
 ],
 "metadata": {
  "accelerator": "GPU",
  "colab": {
   "provenance": [],
   "collapsed_sections": [
    "d2LWjUQ4m3E9",
    "0qJr4JKcm7xm",
    "6WVM7knnm-0t",
    "TG7Yu_zBYLjV"
   ]
  },
  "gpuClass": "standard",
  "kernelspec": {
   "display_name": "Python 3",
   "name": "python3"
  },
  "language_info": {
   "name": "python"
  }
 },
 "nbformat": 4,
 "nbformat_minor": 0
}