{
 "cells": [
  {
   "cell_type": "markdown",
   "source": [
    "# Load the model from file"
   ],
   "metadata": {
    "collapsed": false
   }
  },
  {
   "cell_type": "code",
   "execution_count": 1,
   "metadata": {
    "collapsed": true
   },
   "outputs": [
    {
     "name": "stdout",
     "output_type": "stream",
     "text": [
      "Metal device set to: Apple M1 Max\n"
     ]
    },
    {
     "name": "stderr",
     "output_type": "stream",
     "text": [
      "2023-01-10 23:00:57.271409: W tensorflow/core/platform/profile_utils/cpu_utils.cc:128] Failed to get CPU frequency: 0 Hz\n"
     ]
    },
    {
     "name": "stdout",
     "output_type": "stream",
     "text": [
      "Model: \"sequential\"\n",
      "_________________________________________________________________\n",
      " Layer (type)                Output Shape              Param #   \n",
      "=================================================================\n",
      " text_vectorization (TextVec  (None, 250)              0         \n",
      " torization)                                                     \n",
      "                                                                 \n",
      " embedding (Embedding)       (None, 250, 75)           7500000   \n",
      "                                                                 \n",
      " bidirectional (Bidirectiona  (None, 250, 2056)        9079296   \n",
      " l)                                                              \n",
      "                                                                 \n",
      " bidirectional_1 (Bidirectio  (None, 256)              2237440   \n",
      " nal)                                                            \n",
      "                                                                 \n",
      " dense (Dense)               (None, 3)                 771       \n",
      "                                                                 \n",
      "=================================================================\n",
      "Total params: 18,817,507\n",
      "Trainable params: 18,817,507\n",
      "Non-trainable params: 0\n",
      "_________________________________________________________________\n"
     ]
    }
   ],
   "source": [
    "import tensorflow as tf\n",
    "from pathlib import Path\n",
    "from os.path import abspath\n",
    "\n",
    "ROOT_DIR = Path(abspath('')).parent.parent\n",
    "MODEL_PATH = ROOT_DIR / \"raw\" / \"checkpoints\" / \"lstm7_best1\"\n",
    "\n",
    "\n",
    "model = tf.keras.models.load_model(MODEL_PATH)\n",
    "model.summary()"
   ]
  },
  {
   "cell_type": "markdown",
   "source": [
    "# Load the \"outer\" dataset"
   ],
   "metadata": {
    "collapsed": false
   }
  },
  {
   "cell_type": "code",
   "execution_count": 157,
   "outputs": [
    {
     "name": "stdout",
     "output_type": "stream",
     "text": [
      "Found 787 files belonging to 2 classes.\n"
     ]
    },
    {
     "data": {
      "text/plain": "['entertainment', 'tech']"
     },
     "execution_count": 157,
     "metadata": {},
     "output_type": "execute_result"
    }
   ],
   "source": [
    "OUTER_DS_DIR = ROOT_DIR / \"raw\" / \"outer_dataset\"\n",
    "DATASET_DIR = ROOT_DIR / \"raw\" / \"dataset\"\n",
    "BATCH_SIZE = 256\n",
    "SEED = 7312\n",
    "\n",
    "outer_ds = tf.keras.utils.text_dataset_from_directory(\n",
    "    directory=OUTER_DS_DIR,\n",
    "    label_mode='categorical',\n",
    "    batch_size=BATCH_SIZE,\n",
    "    # shuffle=True,\n",
    "    # seed=SEED\n",
    ")\n",
    "outer_ds.class_names"
   ],
   "metadata": {
    "collapsed": false
   }
  },
  {
   "cell_type": "markdown",
   "source": [
    "# Predicting on outer dataset"
   ],
   "metadata": {
    "collapsed": false
   }
  },
  {
   "cell_type": "code",
   "execution_count": 158,
   "outputs": [
    {
     "name": "stdout",
     "output_type": "stream",
     "text": [
      "4/4 [==============================] - 2s 371ms/step\n"
     ]
    }
   ],
   "source": [
    "result = model.predict(outer_ds)"
   ],
   "metadata": {
    "collapsed": false
   }
  },
  {
   "cell_type": "code",
   "execution_count": 59,
   "outputs": [
    {
     "name": "stdout",
     "output_type": "stream",
     "text": [
      "Found 1438 files belonging to 3 classes.\n",
      "6/6 [==============================] - 3s 442ms/step\n"
     ]
    }
   ],
   "source": [
    "import pandas as pd\n",
    "import numpy as np\n",
    "\n",
    "original_dataset_labels = ['business', 'politics', 'sport']\n",
    "original_ds = tf.keras.utils.text_dataset_from_directory(\n",
    "    directory=DATASET_DIR,\n",
    "    label_mode='categorical',\n",
    "    batch_size=BATCH_SIZE,\n",
    "    # shuffle=True,\n",
    "    # seed=SEED,\n",
    ")\n",
    "\n",
    "outer_dataset_labels = outer_ds.class_names\n",
    "actual_outer_labels = np.concatenate([[outer_dataset_labels[0] if y[0] else outer_dataset_labels[1] for y in y_batch] for x_batch, y_batch in outer_ds], axis=0)\n",
    "result_df = pd.DataFrame(result, columns=original_dataset_labels)\n",
    "result_df[\"Outer label\"] = actual_outer_labels\n",
    "# result_df\n",
    "\n",
    "predict_original = model.predict(original_ds)"
   ],
   "metadata": {
    "collapsed": false
   }
  },
  {
   "cell_type": "code",
   "execution_count": 60,
   "outputs": [
    {
     "name": "stdout",
     "output_type": "stream",
     "text": [
      "6/6 [==============================] - 3s 447ms/step - loss: 0.1243 - accuracy: 0.9722 - recall: 0.9722 - precision: 0.9729 - auc: 0.9927\n"
     ]
    },
    {
     "data": {
      "text/plain": "[0.12428556382656097,\n 0.9721835851669312,\n 0.9721835851669312,\n 0.9728601574897766,\n 0.9926711320877075]"
     },
     "execution_count": 60,
     "metadata": {},
     "output_type": "execute_result"
    }
   ],
   "source": [
    "model.evaluate(original_ds)"
   ],
   "metadata": {
    "collapsed": false
   }
  },
  {
   "cell_type": "code",
   "execution_count": 61,
   "outputs": [],
   "source": [
    "def get_max_softmax(softmax: np.ndarray) -> float:\n",
    "    return np.max(softmax)\n",
    "    # return original_dataset_labels[np.argmax(softmax)]\n",
    "\n",
    "histogram_data = np.apply_along_axis(get_max_softmax, 1, result)\n",
    "original_hist_data = np.apply_along_axis(get_max_softmax, 1, predict_original)"
   ],
   "metadata": {
    "collapsed": false
   }
  },
  {
   "cell_type": "markdown",
   "source": [
    "# Plot the max(softmax) histogram"
   ],
   "metadata": {
    "collapsed": false
   }
  },
  {
   "cell_type": "code",
   "execution_count": 62,
   "outputs": [
    {
     "data": {
      "text/plain": "(array([  1.,   0.,   0.,   0.,   0.,   0.,   0.,   0.,   0.,   0.,   0.,\n          0.,   0.,   0.,   0.,   0.,   0.,   0.,   0.,   0.,   0.,   0.,\n          0.,   0.,   0.,   0.,   0.,   0.,   0.,   0.,   0.,   0.,   0.,\n          0.,   0.,   0.,   0.,   0.,   0.,   0.,   0.,   0.,   0.,   0.,\n          0.,   0.,   0.,   0.,   0.,   0.,   0.,   0.,   0.,   0.,   0.,\n          0.,   0.,   0.,   0.,   0.,   0.,   0.,   0.,   0.,   0.,   0.,\n          0.,   0.,   0.,   0.,   0.,   0.,   0.,   0.,   0.,   0.,   0.,\n          0.,   0.,   0.,   0.,   0.,   0.,   0.,   0.,   0.,   0.,   0.,\n          0.,   0.,   0.,   0.,   0.,   0.,   0.,   0.,   0.,   0.,   0.,\n          0.,   0.,   0.,   0.,   0.,   0.,   0.,   0.,   0.,   0.,   0.,\n          0.,   0.,   0.,   0.,   0.,   0.,   0.,   0.,   0.,   0.,   0.,\n          0.,   0.,   0.,   0.,   0.,   0.,   0.,   0.,   0.,   0.,   0.,\n          0.,   0.,   0.,   0.,   0.,   0.,   0.,   0.,   0.,   0.,   0.,\n          0.,   0.,   0.,   0.,   1.,   0.,   0.,   0.,   0.,   0.,   0.,\n          0.,   0.,   0.,   0.,   0.,   0.,   0.,   0.,   0.,   0.,   0.,\n          1.,   0.,   1.,   0.,   0.,   0.,   0.,   0.,   0.,   0.,   1.,\n          0.,   0.,   0.,   0.,   0.,   0.,   0.,   0.,   0.,   0.,   1.,\n          0.,   0.,   0.,   0.,   0.,   0.,   0.,   0.,   0.,   0.,   0.,\n          0.,   0.,   0.,   0.,   0.,   0.,   0.,   0.,   0.,   0.,   0.,\n          0.,   0.,   0.,   0.,   1.,   0.,   0.,   0.,   0.,   0.,   0.,\n          0.,   0.,   0.,   0.,   0.,   0.,   0.,   0.,   0.,   0.,   0.,\n          0.,   0.,   0.,   0.,   0.,   0.,   0.,   0.,   1.,   0.,   0.,\n          0.,   0.,   0.,   0.,   0.,   0.,   0.,   1.,   0.,   0.,   0.,\n          0.,   0.,   0.,   0.,   0.,   0.,   0.,   1.,   0.,   0.,   0.,\n          0.,   0.,   0.,   0.,   0.,   0.,   0.,   0.,   1.,   1.,   0.,\n          0.,   0.,   0.,   0.,   1.,   0.,   0.,   0.,   0.,   0.,   0.,\n          0.,   0.,   1.,   0.,   0.,   0.,   1.,   0.,   0.,   1.,   0.,\n          0.,   0.,   0.,   0.,   0.,   0.,   0.,   0.,   0.,   0.,   0.,\n          0.,   0.,   0.,   0.,   1.,   0.,   0.,   0.,   0.,   0.,   0.,\n          0.,   0.,   0.,   0.,   0.,   0.,   0.,   0.,   1.,   0.,   0.,\n          0.,   0.,   0.,   0.,   0.,   0.,   0.,   0.,   0.,   0.,   0.,\n          0.,   0.,   0.,   0.,   0.,   1.,   0.,   0.,   0.,   0.,   0.,\n          0.,   0.,   0.,   0.,   0.,   0.,   0.,   0.,   0.,   0.,   0.,\n          1.,   0.,   0.,   1.,   0.,   0.,   0.,   0.,   0.,   0.,   0.,\n          0.,   0.,   0.,   0.,   0.,   0.,   0.,   0.,   0.,   0.,   0.,\n          0.,   0.,   0.,   0.,   0.,   0.,   0.,   0.,   0.,   0.,   0.,\n          0.,   0.,   0.,   0.,   0.,   0.,   0.,   0.,   0.,   1.,   0.,\n          0.,   0.,   0.,   0.,   0.,   0.,   0.,   0.,   0.,   0.,   0.,\n          0.,   0.,   0.,   0.,   0.,   0.,   0.,   0.,   0.,   0.,   0.,\n          1.,   0.,   0.,   0.,   0.,   0.,   0.,   0.,   0.,   0.,   0.,\n          0.,   0.,   0.,   0.,   0.,   0.,   0.,   0.,   2.,   0.,   1.,\n          0.,   0.,   0.,   0.,   0.,   0.,   0.,   0.,   0.,   0.,   0.,\n          0.,   0.,   0.,   1.,   0.,   0.,   0.,   0.,   0.,   0.,   1.,\n          1.,   0.,   0.,   0.,   0.,   0.,   0.,   0.,   1.,   0.,   0.,\n          0.,   0.,   0.,   0.,   0.,   0.,   0.,   0.,   0.,   0.,   0.,\n          0.,   1.,   0.,   0.,   0.,   0.,   0.,   0.,   0.,   0.,   0.,\n          1.,   0.,   1.,   0.,   1.,   0.,   0.,   0.,   0.,   0.,   0.,\n          0.,   0.,   0.,   1.,   0.,   1.,   1.,   0.,   0.,   1.,   0.,\n          0.,   0.,   0.,   0.,   0.,   0.,   0.,   0.,   0.,   0.,   0.,\n          0.,   1.,   0.,   0.,   0.,   0.,   0.,   0.,   0.,   0.,   1.,\n          0.,   0.,   0.,   0.,   0.,   0.,   0.,   0.,   1.,   0.,   0.,\n          0.,   0.,   0.,   0.,   0.,   0.,   0.,   0.,   0.,   0.,   0.,\n          0.,   0.,   0.,   0.,   0.,   0.,   0.,   0.,   0.,   1.,   0.,\n          1.,   0.,   0.,   0.,   0.,   0.,   0.,   1.,   1.,   0.,   0.,\n          0.,   1.,   2.,   0.,   1.,   0.,   1.,   0.,   0.,   0.,   0.,\n          0.,   0.,   0.,   0.,   0.,   0.,   1.,   0.,   0.,   0.,   1.,\n          0.,   0.,   0.,   0.,   2.,   0.,   0.,   0.,   0.,   0.,   0.,\n          0.,   0.,   0.,   1.,   0.,   0.,   0.,   0.,   0.,   0.,   0.,\n          0.,   0.,   0.,   0.,   0.,   0.,   0.,   0.,   0.,   0.,   0.,\n          0.,   0.,   2.,   0.,   1.,   0.,   0.,   1.,   0.,   1.,   1.,\n          0.,   0.,   0.,   0.,   0.,   2.,   0.,   0.,   0.,   1.,   0.,\n          0.,   0.,   0.,   0.,   0.,   1.,   0.,   3.,   0.,   0.,   1.,\n          2.,   1.,   0.,   1.,   0.,   2.,   2.,   1.,   0.,   0.,   0.,\n          1.,   0.,   1.,   0.,   0.,   1.,   0.,   0.,   0.,   0.,   0.,\n          1.,   0.,   0.,   1.,   1.,   0.,   1.,   0.,   0.,   2.,   0.,\n          3.,   0.,   0.,   0.,   3.,   2.,   1.,   0.,   1.,   0.,   0.,\n          0.,   2.,   1.,   0.,   0.,   0.,   1.,   2.,   1.,   1.,   1.,\n          0.,   1.,   1.,   0.,   0.,   1.,   0.,   0.,   0.,   1.,   1.,\n          2.,   0.,   0.,   1.,   0.,   0.,   2.,   0.,   1.,   0.,   0.,\n          0.,   0.,   0.,   0.,   2.,   0.,   0.,   0.,   2.,   3.,   1.,\n          0.,   0.,   2.,   1.,   0.,   0.,   0.,   0.,   0.,   1.,   0.,\n          0.,   1.,   0.,   0.,   0.,   0.,   1.,   0.,   1.,   0.,   1.,\n          1.,   1.,   0.,   1.,   2.,   1.,   1.,   1.,   1.,   2.,   0.,\n          1.,   0.,   0.,   1.,   2.,   1.,   1.,   0.,   0.,   1.,   1.,\n          0.,   2.,   1.,   1.,   2.,   3.,   1.,   0.,   0.,   2.,   0.,\n          2.,   2.,   3.,   4.,   2.,   1.,   3.,   0.,   5.,   4.,   2.,\n          3.,   1.,   3.,   2.,   8.,   6.,   3.,   9.,   5.,   4.,   6.,\n          4.,   6.,  10.,   8.,  13.,  20.,  16.,  30.,  52.,  93., 145.,\n        150., 153., 138.,  78.,  42., 103., 135.]),\n array([0.39955899, 0.4002527 , 0.40094644, 0.40164015, 0.40233389,\n        0.40302759, 0.40372133, 0.40441504, 0.40510878, 0.40580249,\n        0.40649623, 0.40718994, 0.40788367, 0.40857738, 0.40927112,\n        0.40996483, 0.41065854, 0.41135228, 0.41204599, 0.41273972,\n        0.41343343, 0.41412717, 0.41482088, 0.41551462, 0.41620833,\n        0.41690207, 0.41759577, 0.41828951, 0.41898322, 0.41967696,\n        0.42037067, 0.42106438, 0.42175812, 0.42245182, 0.42314556,\n        0.42383927, 0.42453301, 0.42522672, 0.42592046, 0.42661417,\n        0.4273079 , 0.42800161, 0.42869535, 0.42938906, 0.4300828 ,\n        0.43077651, 0.43147022, 0.43216395, 0.43285766, 0.4335514 ,\n        0.43424511, 0.43493885, 0.43563256, 0.4363263 , 0.43702   ,\n        0.43771374, 0.43840745, 0.43910119, 0.4397949 , 0.44048864,\n        0.44118235, 0.44187605, 0.44256979, 0.4432635 , 0.44395724,\n        0.44465095, 0.44534469, 0.4460384 , 0.44673213, 0.44742584,\n        0.44811958, 0.44881329, 0.44950703, 0.45020074, 0.45089447,\n        0.45158818, 0.45228189, 0.45297563, 0.45366934, 0.45436308,\n        0.45505679, 0.45575052, 0.45644423, 0.45713797, 0.45783168,\n        0.45852542, 0.45921913, 0.45991287, 0.46060658, 0.46130031,\n        0.46199402, 0.46268776, 0.46338147, 0.46407518, 0.46476892,\n        0.46546263, 0.46615636, 0.46685007, 0.46754381, 0.46823752,\n        0.46893126, 0.46962497, 0.4703187 , 0.47101241, 0.47170615,\n        0.47239986, 0.4730936 , 0.47378731, 0.47448102, 0.47517475,\n        0.47586846, 0.4765622 , 0.47725591, 0.47794965, 0.47864336,\n        0.4793371 , 0.4800308 , 0.48072454, 0.48141825, 0.48211199,\n        0.4828057 , 0.48349944, 0.48419315, 0.48488685, 0.48558059,\n        0.4862743 , 0.48696804, 0.48766175, 0.48835549, 0.4890492 ,\n        0.48974293, 0.49043664, 0.49113038, 0.49182409, 0.49251783,\n        0.49321154, 0.49390528, 0.49459898, 0.49529269, 0.49598643,\n        0.49668014, 0.49737388, 0.49806759, 0.49876133, 0.49945503,\n        0.50014877, 0.50084251, 0.50153619, 0.50222993, 0.50292367,\n        0.50361741, 0.50431108, 0.50500482, 0.50569856, 0.50639224,\n        0.50708598, 0.50777972, 0.50847346, 0.50916713, 0.50986087,\n        0.51055461, 0.51124835, 0.51194203, 0.51263577, 0.51332951,\n        0.51402324, 0.51471692, 0.51541066, 0.5161044 , 0.51679808,\n        0.51749182, 0.51818556, 0.51887929, 0.51957297, 0.52026671,\n        0.52096045, 0.52165419, 0.52234787, 0.52304161, 0.52373534,\n        0.52442908, 0.52512276, 0.5258165 , 0.52651024, 0.52720392,\n        0.52789766, 0.52859139, 0.52928513, 0.52997881, 0.53067255,\n        0.53136629, 0.53206003, 0.53275371, 0.53344744, 0.53414118,\n        0.53483492, 0.5355286 , 0.53622234, 0.53691608, 0.53760976,\n        0.53830349, 0.53899723, 0.53969097, 0.54038465, 0.54107839,\n        0.54177213, 0.54246587, 0.54315954, 0.54385328, 0.54454702,\n        0.54524076, 0.54593444, 0.54662818, 0.54732192, 0.54801559,\n        0.54870933, 0.54940307, 0.55009681, 0.55079049, 0.55148423,\n        0.55217797, 0.5528717 , 0.55356538, 0.55425912, 0.55495286,\n        0.5556466 , 0.55634028, 0.55703402, 0.55772775, 0.55842143,\n        0.55911517, 0.55980891, 0.56050265, 0.56119633, 0.56189007,\n        0.5625838 , 0.56327754, 0.56397122, 0.56466496, 0.5653587 ,\n        0.56605244, 0.56674612, 0.56743985, 0.56813359, 0.56882727,\n        0.56952101, 0.57021475, 0.57090849, 0.57160217, 0.5722959 ,\n        0.57298964, 0.57368338, 0.57437706, 0.5750708 , 0.57576454,\n        0.57645828, 0.57715195, 0.57784569, 0.57853943, 0.57923311,\n        0.57992685, 0.58062059, 0.58131433, 0.582008  , 0.58270174,\n        0.58339548, 0.58408922, 0.5847829 , 0.58547664, 0.58617038,\n        0.58686411, 0.58755779, 0.58825153, 0.58894527, 0.58963895,\n        0.59033269, 0.59102643, 0.59172016, 0.59241384, 0.59310758,\n        0.59380132, 0.59449506, 0.59518874, 0.59588248, 0.59657621,\n        0.59726995, 0.59796363, 0.59865737, 0.59935111, 0.60004479,\n        0.60073853, 0.60143226, 0.602126  , 0.60281968, 0.60351342,\n        0.60420716, 0.6049009 , 0.60559458, 0.60628831, 0.60698205,\n        0.60767579, 0.60836947, 0.60906321, 0.60975695, 0.61045063,\n        0.61114436, 0.6118381 , 0.61253184, 0.61322552, 0.61391926,\n        0.614613  , 0.61530674, 0.61600041, 0.61669415, 0.61738789,\n        0.61808163, 0.61877531, 0.61946905, 0.62016279, 0.62085646,\n        0.6215502 , 0.62224394, 0.62293768, 0.62363136, 0.6243251 ,\n        0.62501884, 0.62571257, 0.62640625, 0.62709999, 0.62779373,\n        0.62848747, 0.62918115, 0.62987489, 0.63056862, 0.6312623 ,\n        0.63195604, 0.63264978, 0.63334352, 0.6340372 , 0.63473094,\n        0.63542467, 0.63611841, 0.63681209, 0.63750583, 0.63819957,\n        0.63889331, 0.63958699, 0.64028072, 0.64097446, 0.6416682 ,\n        0.64236188, 0.64305562, 0.64374936, 0.64444304, 0.64513677,\n        0.64583051, 0.64652425, 0.64721793, 0.64791167, 0.64860541,\n        0.64929914, 0.64999282, 0.65068656, 0.6513803 , 0.65207404,\n        0.65276772, 0.65346146, 0.65415519, 0.65484887, 0.65554261,\n        0.65623635, 0.65693009, 0.65762377, 0.65831751, 0.65901124,\n        0.65970498, 0.66039866, 0.6610924 , 0.66178614, 0.66247988,\n        0.66317356, 0.66386729, 0.66456103, 0.66525471, 0.66594845,\n        0.66664219, 0.66733593, 0.66802961, 0.66872334, 0.66941708,\n        0.67011082, 0.6708045 , 0.67149824, 0.67219198, 0.67288572,\n        0.67357939, 0.67427313, 0.67496687, 0.67566055, 0.67635429,\n        0.67704803, 0.67774177, 0.67843544, 0.67912918, 0.67982292,\n        0.68051666, 0.68121034, 0.68190408, 0.68259782, 0.68329155,\n        0.68398523, 0.68467897, 0.68537271, 0.68606639, 0.68676013,\n        0.68745387, 0.6881476 , 0.68884128, 0.68953502, 0.69022876,\n        0.6909225 , 0.69161618, 0.69230992, 0.69300365, 0.69369739,\n        0.69439107, 0.69508481, 0.69577855, 0.69647223, 0.69716597,\n        0.6978597 , 0.69855344, 0.69924712, 0.69994086, 0.7006346 ,\n        0.70132834, 0.70202202, 0.70271575, 0.70340949, 0.70410323,\n        0.70479691, 0.70549065, 0.70618439, 0.70687807, 0.7075718 ,\n        0.70826554, 0.70895928, 0.70965296, 0.7103467 , 0.71104044,\n        0.71173418, 0.71242785, 0.71312159, 0.71381533, 0.71450907,\n        0.71520275, 0.71589649, 0.71659023, 0.7172839 , 0.71797764,\n        0.71867138, 0.71936512, 0.7200588 , 0.72075254, 0.72144628,\n        0.72214001, 0.72283369, 0.72352743, 0.72422117, 0.72491491,\n        0.72560859, 0.72630233, 0.72699606, 0.72768974, 0.72838348,\n        0.72907722, 0.72977096, 0.73046464, 0.73115838, 0.73185211,\n        0.73254585, 0.73323953, 0.73393327, 0.73462701, 0.73532075,\n        0.73601443, 0.73670816, 0.7374019 , 0.73809558, 0.73878932,\n        0.73948306, 0.7401768 , 0.74087048, 0.74156421, 0.74225795,\n        0.74295169, 0.74364537, 0.74433911, 0.74503285, 0.74572659,\n        0.74642026, 0.747114  , 0.74780774, 0.74850142, 0.74919516,\n        0.7498889 , 0.75058264, 0.75127631, 0.75197005, 0.75266379,\n        0.75335753, 0.75405121, 0.75474495, 0.75543869, 0.75613242,\n        0.7568261 , 0.75751984, 0.75821358, 0.75890726, 0.759601  ,\n        0.76029474, 0.76098847, 0.76168215, 0.76237589, 0.76306963,\n        0.76376337, 0.76445705, 0.76515079, 0.76584452, 0.76653826,\n        0.76723194, 0.76792568, 0.76861942, 0.7693131 , 0.77000684,\n        0.77070057, 0.77139431, 0.77208799, 0.77278173, 0.77347547,\n        0.77416921, 0.77486289, 0.77555662, 0.77625036, 0.7769441 ,\n        0.77763778, 0.77833152, 0.77902526, 0.77971894, 0.78041267,\n        0.78110641, 0.78180015, 0.78249383, 0.78318757, 0.78388131,\n        0.78457505, 0.78526872, 0.78596246, 0.7866562 , 0.78734994,\n        0.78804362, 0.78873736, 0.7894311 , 0.79012477, 0.79081851,\n        0.79151225, 0.79220599, 0.79289967, 0.79359341, 0.79428715,\n        0.79498088, 0.79567456, 0.7963683 , 0.79706204, 0.79775578,\n        0.79844946, 0.7991432 , 0.79983693, 0.80053061, 0.80122435,\n        0.80191809, 0.80261183, 0.80330551, 0.80399925, 0.80469298,\n        0.80538672, 0.8060804 , 0.80677414, 0.80746788, 0.80816162,\n        0.8088553 , 0.80954903, 0.81024277, 0.81093645, 0.81163019,\n        0.81232393, 0.81301767, 0.81371135, 0.81440508, 0.81509882,\n        0.81579256, 0.81648624, 0.81717998, 0.81787372, 0.81856745,\n        0.81926113, 0.81995487, 0.82064861, 0.82134229, 0.82203603,\n        0.82272977, 0.8234235 , 0.82411718, 0.82481092, 0.82550466,\n        0.8261984 , 0.82689208, 0.82758582, 0.82827955, 0.82897329,\n        0.82966697, 0.83036071, 0.83105445, 0.83174813, 0.83244187,\n        0.8331356 , 0.83382934, 0.83452302, 0.83521676, 0.8359105 ,\n        0.83660424, 0.83729792, 0.83799165, 0.83868539, 0.83937913,\n        0.84007281, 0.84076655, 0.84146029, 0.84215397, 0.8428477 ,\n        0.84354144, 0.84423518, 0.84492886, 0.8456226 , 0.84631634,\n        0.84701008, 0.84770375, 0.84839749, 0.84909123, 0.84978497,\n        0.85047865, 0.85117239, 0.85186613, 0.8525598 , 0.85325354,\n        0.85394728, 0.85464102, 0.8553347 , 0.85602844, 0.85672218,\n        0.85741591, 0.85810959, 0.85880333, 0.85949707, 0.86019081,\n        0.86088449, 0.86157823, 0.86227196, 0.86296564, 0.86365938,\n        0.86435312, 0.86504686, 0.86574054, 0.86643428, 0.86712801,\n        0.86782175, 0.86851543, 0.86920917, 0.86990291, 0.87059665,\n        0.87129033, 0.87198406, 0.8726778 , 0.87337148, 0.87406522,\n        0.87475896, 0.8754527 , 0.87614638, 0.87684011, 0.87753385,\n        0.87822759, 0.87892127, 0.87961501, 0.88030875, 0.88100249,\n        0.88169616, 0.8823899 , 0.88308364, 0.88377738, 0.88447106,\n        0.8851648 , 0.88585854, 0.88655221, 0.88724595, 0.88793969,\n        0.88863343, 0.88932711, 0.89002085, 0.89071459, 0.89140832,\n        0.892102  , 0.89279574, 0.89348948, 0.89418322, 0.8948769 ,\n        0.89557064, 0.89626437, 0.89695805, 0.89765179, 0.89834553,\n        0.89903927, 0.89973295, 0.90042669, 0.90112042, 0.90181416,\n        0.90250784, 0.90320158, 0.90389532, 0.90458906, 0.90528274,\n        0.90597647, 0.90667021, 0.90736389, 0.90805763, 0.90875137,\n        0.90944511, 0.91013879, 0.91083252, 0.91152626, 0.91222   ,\n        0.91291368, 0.91360742, 0.91430116, 0.9149949 , 0.91568857,\n        0.91638231, 0.91707605, 0.91776973, 0.91846347, 0.91915721,\n        0.91985095, 0.92054462, 0.92123836, 0.9219321 , 0.92262584,\n        0.92331952, 0.92401326, 0.924707  , 0.92540073, 0.92609441,\n        0.92678815, 0.92748189, 0.92817557, 0.92886931, 0.92956305,\n        0.93025678, 0.93095046, 0.9316442 , 0.93233794, 0.93303168,\n        0.93372536, 0.9344191 , 0.93511283, 0.93580657, 0.93650025,\n        0.93719399, 0.93788773, 0.93858141, 0.93927515, 0.93996888,\n        0.94066262, 0.9413563 , 0.94205004, 0.94274378, 0.94343752,\n        0.9441312 , 0.94482493, 0.94551867, 0.94621241, 0.94690609,\n        0.94759983, 0.94829357, 0.94898725, 0.94968098, 0.95037472,\n        0.95106846, 0.95176214, 0.95245588, 0.95314962, 0.95384336,\n        0.95453703, 0.95523077, 0.95592451, 0.95661825, 0.95731193,\n        0.95800567, 0.95869941, 0.95939308, 0.96008682, 0.96078056,\n        0.9614743 , 0.96216798, 0.96286172, 0.96355546, 0.96424919,\n        0.96494287, 0.96563661, 0.96633035, 0.96702409, 0.96771777,\n        0.96841151, 0.96910524, 0.96979892, 0.97049266, 0.9711864 ,\n        0.97188014, 0.97257382, 0.97326756, 0.97396129, 0.97465503,\n        0.97534871, 0.97604245, 0.97673619, 0.97742993, 0.97812361,\n        0.97881734, 0.97951108, 0.98020476, 0.9808985 , 0.98159224,\n        0.98228598, 0.98297966, 0.98367339, 0.98436713, 0.98506087,\n        0.98575455, 0.98644829, 0.98714203, 0.98783576, 0.98852944,\n        0.98922318, 0.98991692, 0.9906106 , 0.99130434, 0.99199808,\n        0.99269181, 0.99338549, 0.99407923, 0.99477297, 0.99546671,\n        0.99616039, 0.99685413, 0.99754786, 0.9982416 , 0.99893528,\n        0.99962902]),\n <BarContainer object of 865 artists>)"
     },
     "execution_count": 62,
     "metadata": {},
     "output_type": "execute_result"
    },
    {
     "data": {
      "text/plain": "<Figure size 640x480 with 1 Axes>",
      "image/png": "[encoded data removed]"
     },
     "metadata": {},
     "output_type": "display_data"
    }
   ],
   "source": [
    "import matplotlib.pyplot as plt\n",
    "\n",
    "plt.hist(histogram_data, bins='auto')\n",
    "plt.hist(original_hist_data, bins='auto')\n",
    "# plt.xlim(0.95, 1)"
   ],
   "metadata": {
    "collapsed": false
   }
  },
  {
   "cell_type": "markdown",
   "source": [
    "# Plot the max(logits) histogram"
   ],
   "metadata": {
    "collapsed": false
   }
  },
  {
   "cell_type": "code",
   "execution_count": 176,
   "outputs": [
    {
     "name": "stdout",
     "output_type": "stream",
     "text": [
      "4/4 [==============================] - 4s 692ms/step\n",
      "6/6 [==============================] - 5s 633ms/step\n"
     ]
    }
   ],
   "source": [
    "input_layer = model.input\n",
    "output = model.layers[-2].output\n",
    "logits_model = tf.keras.Model(input_layer, output)\n",
    "\n",
    "outer_logits = logits_model.predict(outer_ds)\n",
    "original_logits = logits_model.predict(original_ds)"
   ],
   "metadata": {
    "collapsed": false
   }
  },
  {
   "cell_type": "code",
   "execution_count": 178,
   "outputs": [
    {
     "data": {
      "text/plain": "(array([  2.,   8.,  14.,   5.,   9.,  17.,  55.,  81.,  88., 158.,  47.,\n          7., 296.]),\n array([0.20823379, 0.26869813, 0.32916245, 0.3896268 , 0.45009112,\n        0.51055545, 0.57101983, 0.63148415, 0.69194847, 0.7524128 ,\n        0.81287712, 0.8733415 , 0.93380582, 0.99427015]),\n <BarContainer object of 13 artists>)"
     },
     "execution_count": 178,
     "metadata": {},
     "output_type": "execute_result"
    },
    {
     "data": {
      "text/plain": "<Figure size 640x480 with 1 Axes>",
      "image/png": "[encoded data removed]"
     },
     "metadata": {},
     "output_type": "display_data"
    }
   ],
   "source": [
    "outer_hist_data = np.apply_along_axis(get_max_softmax, 1, outer_logits)\n",
    "idd_hist_data = np.apply_along_axis(get_max_softmax, 1, original_logits)\n",
    "\n",
    "plt.hist(idd_hist_data, bins='auto')\n",
    "plt.hist(outer_hist_data, bins='auto')"
   ],
   "metadata": {
    "collapsed": false
   }
  },
  {
   "cell_type": "markdown",
   "source": [
    "# Out of distribution techniques"
   ],
   "metadata": {
    "collapsed": false
   }
  },
  {
   "cell_type": "code",
   "execution_count": 173,
   "outputs": [],
   "source": [
    "from sklearn.metrics import auc, roc_curve, precision_recall_curve\n",
    "\n",
    "\n",
    "def auroc(predictions, labels) -> tuple:\n",
    "    fpr, tpr, thresholds = roc_curve(labels, predictions, pos_label=1)\n",
    "    return thresholds, auc(fpr, tpr)\n",
    "\n",
    "def aupr(predictions, labels) -> tuple:\n",
    "    precision, recall, thresholds = precision_recall_curve(labels, predictions, pos_label=1)\n",
    "    return thresholds, auc(recall, precision)\n",
    "\n",
    "def fpr_at_95_tpr(predictions, labels):\n",
    "    fpr, tpr, _ = roc_curve(labels, predictions, pos_label=1)\n",
    "\n",
    "    if all(tpr < 0.95):\n",
    "        # No threshold allows TPR >= 0.95\n",
    "        return 0\n",
    "    elif all(tpr >= 0.95):\n",
    "        # All thresholds allow TPR >= 0.95, so find the lowest possible FPR\n",
    "        idxs = [i for i, x in enumerate(tpr) if x >= 0.95]\n",
    "        return min(map(lambda idx: fpr[idx], idxs))\n",
    "    else:\n",
    "        # Linear interp between values to get FPR at TPR == 0.95\n",
    "        return np.interp(0.95, tpr, fpr)\n",
    "\n",
    "def detection_error(predictions, labels):\n",
    "    fpr, tpr, _ = roc_curve(labels, predictions, pos_label=1)\n",
    "\n",
    "    # Get ratios of positives to negatives\n",
    "    pos_ratio = sum(np.array(labels) == 1) / len(labels)\n",
    "    neg_ratio = 1 - pos_ratio\n",
    "\n",
    "    # Get indexes of all TPR >= 95%\n",
    "    idxs = [i for i, x in enumerate(tpr) if x >= 0.95]\n",
    "\n",
    "    # Calc error for a given threshold (i.e. idx)\n",
    "    # Calc is the (# of negatives * FNR) + (# of positives * FPR)\n",
    "    _detection_error = lambda idx: neg_ratio * (1 - tpr[idx]) + pos_ratio * fpr[idx]\n",
    "\n",
    "    # Return the minimum detection error such that TPR >= 0.95\n",
    "    return min(map(_detection_error, idxs))\n"
   ],
   "metadata": {
    "collapsed": false
   }
  },
  {
   "cell_type": "code",
   "execution_count": 165,
   "outputs": [],
   "source": [
    "labels = np.empty((0, 2))\n",
    "for x, y in outer_ds:\n",
    "    labels = np.append(labels, y.numpy(), axis=0)\n",
    "\n",
    "predictions = result[:, 1]\n",
    "labels = labels[:, 1]"
   ],
   "metadata": {
    "collapsed": false
   }
  },
  {
   "cell_type": "markdown",
   "source": [
    "## ROC"
   ],
   "metadata": {
    "collapsed": false
   }
  },
  {
   "cell_type": "code",
   "execution_count": 172,
   "outputs": [
    {
     "data": {
      "text/plain": "(0.9210742573617768,\n array([1.99906754e+00, 9.99067605e-01, 9.98491287e-01, 9.97734249e-01,\n        9.97441292e-01, 9.97017741e-01, 9.96294677e-01, 9.96221602e-01,\n        9.96179700e-01, 9.95837808e-01, 9.95775402e-01, 9.95560169e-01,\n        9.94917035e-01, 9.94834185e-01, 9.94284689e-01, 9.94202077e-01,\n        9.93794918e-01, 9.93573844e-01, 9.93464231e-01, 9.92965341e-01,\n        9.92810011e-01, 9.92554486e-01, 9.91216660e-01, 9.90701556e-01,\n        9.90615726e-01, 9.90522802e-01, 9.90420818e-01, 9.90093172e-01,\n        9.90083575e-01, 9.89137053e-01, 9.88832712e-01, 9.88775373e-01,\n        9.88318264e-01, 9.87839222e-01, 9.87545073e-01, 9.87322986e-01,\n        9.86592472e-01, 9.86519933e-01, 9.86478746e-01, 9.85805809e-01,\n        9.85704303e-01, 9.85616982e-01, 9.84522223e-01, 9.84409332e-01,\n        9.84179974e-01, 9.83775318e-01, 9.83635545e-01, 9.83435094e-01,\n        9.82963204e-01, 9.79107916e-01, 9.78536725e-01, 9.78304386e-01,\n        9.78281915e-01, 9.78071690e-01, 9.76339459e-01, 9.75673079e-01,\n        9.74748552e-01, 9.74698603e-01, 9.73597884e-01, 9.71305966e-01,\n        9.70806301e-01, 9.70632613e-01, 9.64038074e-01, 9.64037180e-01,\n        9.63868678e-01, 9.63462174e-01, 9.61739480e-01, 9.57635880e-01,\n        9.52433884e-01, 9.51582074e-01, 9.46372747e-01, 9.46313560e-01,\n        9.45524275e-01, 9.44149733e-01, 9.42143559e-01, 9.40388441e-01,\n        9.33680236e-01, 9.30745602e-01, 9.29044962e-01, 9.28025603e-01,\n        9.26228821e-01, 9.23859179e-01, 9.23692048e-01, 9.23125982e-01,\n        9.18926299e-01, 9.18814301e-01, 9.18534398e-01, 9.16275084e-01,\n        9.14059162e-01, 9.13162172e-01, 9.09914494e-01, 9.08958614e-01,\n        9.08864558e-01, 9.08110321e-01, 9.06593680e-01, 9.03288901e-01,\n        9.00982261e-01, 8.97295058e-01, 8.90148282e-01, 8.87406647e-01,\n        8.81591916e-01, 8.77250433e-01, 8.74729455e-01, 8.73689950e-01,\n        8.71276081e-01, 8.62769783e-01, 8.62534821e-01, 8.60194147e-01,\n        8.57611597e-01, 8.49831343e-01, 8.49745274e-01, 8.34359705e-01,\n        8.29020321e-01, 8.27663541e-01, 8.21022272e-01, 8.20746303e-01,\n        8.20321202e-01, 8.16629708e-01, 8.14774454e-01, 8.08301985e-01,\n        8.06301653e-01, 8.01051915e-01, 8.00178647e-01, 7.99342871e-01,\n        7.98701167e-01, 7.90535331e-01, 7.85686731e-01, 7.84849942e-01,\n        7.82104313e-01, 7.80362904e-01, 7.75830925e-01, 7.65205801e-01,\n        7.63158977e-01, 7.62153268e-01, 7.60084450e-01, 7.54306495e-01,\n        7.51361787e-01, 7.47184575e-01, 7.43870735e-01, 7.38851488e-01,\n        7.28744209e-01, 7.25245237e-01, 7.22090662e-01, 7.20487297e-01,\n        7.16308653e-01, 7.10536718e-01, 7.06302881e-01, 6.98494792e-01,\n        6.94021404e-01, 6.93909526e-01, 6.90310657e-01, 6.87344313e-01,\n        6.83787763e-01, 6.68660641e-01, 6.62380636e-01, 6.54387236e-01,\n        6.54277086e-01, 6.50176883e-01, 6.37839735e-01, 6.35946274e-01,\n        6.35677278e-01, 6.35608792e-01, 6.35354757e-01, 6.33657753e-01,\n        6.30647480e-01, 6.29702032e-01, 6.24920368e-01, 6.16419196e-01,\n        6.12300992e-01, 6.11726820e-01, 6.09653831e-01, 6.09317720e-01,\n        6.08211458e-01, 6.08132303e-01, 6.00006700e-01, 5.95053792e-01,\n        5.93130887e-01, 5.90634882e-01, 5.90224981e-01, 5.85739732e-01,\n        5.84568799e-01, 5.84539235e-01, 5.83733857e-01, 5.75182796e-01,\n        5.71560085e-01, 5.69865704e-01, 5.68970561e-01, 5.64090669e-01,\n        5.57212114e-01, 5.55656135e-01, 5.47477365e-01, 5.23847938e-01,\n        5.21313846e-01, 5.03215849e-01, 5.00416338e-01, 4.98350203e-01,\n        4.92844909e-01, 4.88411337e-01, 4.85385746e-01, 4.79885995e-01,\n        4.73083615e-01, 4.68690842e-01, 4.59327400e-01, 4.58058357e-01,\n        4.54012245e-01, 4.51720178e-01, 4.49626535e-01, 4.45027888e-01,\n        4.41366881e-01, 4.40188915e-01, 4.39700395e-01, 4.37850773e-01,\n        4.29536372e-01, 4.19711739e-01, 4.16842252e-01, 4.14948046e-01,\n        4.11221176e-01, 4.01973248e-01, 3.84945482e-01, 3.66156042e-01,\n        3.58832568e-01, 3.56451184e-01, 3.48673135e-01, 3.47520202e-01,\n        3.44868451e-01, 3.41919780e-01, 3.37629020e-01, 3.37057143e-01,\n        3.32318544e-01, 3.29435438e-01, 3.28103572e-01, 3.20546240e-01,\n        3.13863277e-01, 3.12965482e-01, 3.12543482e-01, 3.09349269e-01,\n        3.09229642e-01, 3.05773228e-01, 3.03271145e-01, 2.95926511e-01,\n        2.88820744e-01, 2.85418481e-01, 2.83484697e-01, 2.82411814e-01,\n        2.77394891e-01, 2.70939082e-01, 2.68295199e-01, 2.65526265e-01,\n        2.63073862e-01, 2.52201796e-01, 2.51552075e-01, 2.42281213e-01,\n        2.37832457e-01, 2.31137857e-01, 2.29509264e-01, 2.23043010e-01,\n        2.20150888e-01, 2.14366347e-01, 2.13546142e-01, 2.10392982e-01,\n        2.00682044e-01, 1.99863493e-01, 1.98275417e-01, 1.92551360e-01,\n        1.82292879e-01, 1.74197719e-01, 1.70209378e-01, 1.70148447e-01,\n        1.67849958e-01, 1.67638227e-01, 1.67257369e-01, 1.66109636e-01,\n        1.63269997e-01, 1.61783621e-01, 1.53851256e-01, 1.51798293e-01,\n        1.50167868e-01, 1.48540601e-01, 1.36776328e-01, 1.32836103e-01,\n        1.26470327e-01, 1.25285715e-01, 1.21701322e-01, 1.18669771e-01,\n        1.12648480e-01, 1.10027082e-01, 1.09830461e-01, 1.08895011e-01,\n        1.08779952e-01, 1.07372262e-01, 1.04695372e-01, 1.04566865e-01,\n        1.04183957e-01, 1.04183838e-01, 1.03383623e-01, 1.03031598e-01,\n        1.00205950e-01, 9.87598151e-02, 9.75504220e-02, 9.01206732e-02,\n        8.72760192e-02, 8.38781297e-02, 8.19628015e-02, 8.19480047e-02,\n        8.09587389e-02, 8.01644847e-02, 7.35377893e-02, 7.26675019e-02,\n        7.21190572e-02, 6.96061701e-02, 6.93089887e-02, 6.85180575e-02,\n        6.82832599e-02, 6.77014813e-02, 6.65206760e-02, 6.55466467e-02,\n        6.36028871e-02, 6.29972965e-02, 6.18774965e-02, 6.10156730e-02,\n        5.57253659e-02, 5.56446537e-02, 5.44856042e-02, 5.37018739e-02,\n        5.25455140e-02, 5.24884835e-02, 5.11199459e-02, 4.96081486e-02,\n        4.87732589e-02, 4.87451255e-02, 4.67337519e-02, 4.34749052e-02,\n        3.97170447e-02, 3.82953621e-02, 3.74065973e-02, 3.69722359e-02,\n        3.60496864e-02, 3.48360278e-02, 3.21529321e-02, 3.17367986e-02,\n        3.13696899e-02, 3.01834177e-02, 2.99368557e-02, 2.91850716e-02,\n        2.91569550e-02, 2.72426065e-02, 2.59906370e-02, 2.59580836e-02,\n        2.53052637e-02, 2.44592186e-02, 2.38497686e-02, 2.38161627e-02,\n        2.35067699e-02, 2.25665551e-02, 2.19332371e-02, 2.18150709e-02,\n        2.13772729e-02, 2.13200077e-02, 2.07867716e-02, 2.05696560e-02,\n        2.04316899e-02, 1.88682657e-02, 1.81814861e-02, 1.78387482e-02,\n        1.78363360e-02, 1.76593345e-02, 1.66920535e-02, 1.64851584e-02,\n        1.60384625e-02, 1.59532484e-02, 1.56359542e-02, 1.55550074e-02,\n        1.45181576e-02, 1.43418554e-02, 1.42071526e-02, 1.39319887e-02,\n        1.35863936e-02, 1.28058707e-02, 1.25803920e-02, 1.25455698e-02,\n        1.22204227e-02, 1.19629540e-02, 1.17234485e-02, 1.14870016e-02,\n        1.14446320e-02, 1.13768568e-02, 1.10992389e-02, 1.09061683e-02,\n        9.82719846e-03, 9.63574462e-03, 9.13401786e-03, 8.79234076e-03,\n        8.34684726e-03, 8.17937031e-03, 8.10933951e-03, 7.94300158e-03,\n        7.36477319e-03, 6.84297318e-03, 6.47175871e-03, 6.31524576e-03,\n        6.08800305e-03, 5.97745506e-03, 5.45121031e-03, 5.36827231e-03,\n        5.24321198e-03, 5.22653246e-03, 5.02629019e-03, 4.82602743e-03,\n        4.76824027e-03, 4.57472866e-03, 4.55516856e-03, 4.16743290e-03,\n        4.06510895e-03, 4.01320960e-03, 3.94492876e-03, 3.92801361e-03,\n        3.75744677e-03, 3.66404909e-03, 3.64217139e-03, 3.48904752e-03,\n        3.46457725e-03, 3.44533147e-03, 3.44433193e-03, 3.28099448e-03,\n        3.27134505e-03, 2.66517513e-03, 1.33444997e-03, 1.27070211e-03,\n        1.18455384e-03, 5.43514499e-04], dtype=float32))"
     },
     "execution_count": 172,
     "metadata": {},
     "output_type": "execute_result"
    }
   ],
   "source": [
    "thresholds, auc = auroc(predictions, labels)\n",
    "auc, thresholds\n"
   ],
   "metadata": {
    "collapsed": false
   }
  },
  {
   "cell_type": "markdown",
   "source": [
    "## AuPR\n",
    "Area under the Precision & Recall curve"
   ],
   "metadata": {
    "collapsed": false
   }
  },
  {
   "cell_type": "code",
   "execution_count": 174,
   "outputs": [
    {
     "data": {
      "text/plain": "(0.9170110471826799,\n array([5.43514499e-04, 9.51515161e-04, 1.18455384e-03, 1.27070211e-03,\n        1.33444997e-03, 1.89796579e-03, 1.91215356e-03, 2.66517513e-03,\n        3.27134505e-03, 3.28099448e-03, 3.44433193e-03, 3.44533147e-03,\n        3.46457725e-03, 3.48904752e-03, 3.55776004e-03, 3.64217139e-03,\n        3.66404909e-03, 3.75744677e-03, 3.87182389e-03, 3.92801361e-03,\n        3.94492876e-03, 4.01320960e-03, 4.06510895e-03, 4.10914281e-03,\n        4.16743290e-03, 4.19946294e-03, 4.35304642e-03, 4.39821091e-03,\n        4.46354039e-03, 4.55516856e-03, 4.57472866e-03, 4.76824027e-03,\n        4.78259102e-03, 4.80405986e-03, 4.82602743e-03, 4.86799283e-03,\n        4.90219845e-03, 5.02629019e-03, 5.22653246e-03, 5.24321198e-03,\n        5.36827231e-03, 5.41559048e-03, 5.43213682e-03, 5.45121031e-03,\n        5.97745506e-03, 6.08800305e-03, 6.31524576e-03, 6.47175871e-03,\n        6.84297318e-03, 6.89560082e-03, 7.01706763e-03, 7.20757758e-03,\n        7.28121912e-03, 7.36477319e-03, 7.38638360e-03, 7.41546135e-03,\n        7.42807938e-03, 7.57268304e-03, 7.94300158e-03, 8.10933951e-03,\n        8.17937031e-03, 8.34684726e-03, 8.79234076e-03, 9.13401786e-03,\n        9.63574462e-03, 9.82719846e-03, 1.03023024e-02, 1.07655497e-02,\n        1.09061683e-02, 1.10992389e-02, 1.11214602e-02, 1.11218132e-02,\n        1.11934701e-02, 1.13768568e-02, 1.14446320e-02, 1.14870016e-02,\n        1.17234485e-02, 1.18416082e-02, 1.19629540e-02, 1.22204227e-02,\n        1.25455698e-02, 1.25803920e-02, 1.28058707e-02, 1.29918726e-02,\n        1.35863936e-02, 1.38590019e-02, 1.39319887e-02, 1.41919563e-02,\n        1.42071526e-02, 1.43418554e-02, 1.45181576e-02, 1.55550074e-02,\n        1.56359542e-02, 1.59532484e-02, 1.60384625e-02, 1.64851584e-02,\n        1.66920535e-02, 1.70867760e-02, 1.73865948e-02, 1.75056346e-02,\n        1.76593345e-02, 1.78363360e-02, 1.78387482e-02, 1.81814861e-02,\n        1.83677617e-02, 1.88682657e-02, 1.88758802e-02, 1.89977940e-02,\n        1.94885265e-02, 1.96834318e-02, 2.00137701e-02, 2.02670041e-02,\n        2.02816091e-02, 2.03423332e-02, 2.04316899e-02, 2.05696560e-02,\n        2.07201615e-02, 2.07867716e-02, 2.13200077e-02, 2.13772729e-02,\n        2.17799898e-02, 2.18150709e-02, 2.19332371e-02, 2.23491509e-02,\n        2.25665551e-02, 2.35067699e-02, 2.38161627e-02, 2.38497686e-02,\n        2.44592186e-02, 2.53052637e-02, 2.53348704e-02, 2.55772956e-02,\n        2.59580836e-02, 2.59906370e-02, 2.62409188e-02, 2.69901212e-02,\n        2.72426065e-02, 2.85825804e-02, 2.91155372e-02, 2.91569550e-02,\n        2.91850716e-02, 2.93223560e-02, 2.99368557e-02, 3.01834177e-02,\n        3.13696899e-02, 3.17367986e-02, 3.21529321e-02, 3.29380035e-02,\n        3.30399275e-02, 3.34705226e-02, 3.45774516e-02, 3.48360278e-02,\n        3.52476388e-02, 3.60496864e-02, 3.69722359e-02, 3.71663421e-02,\n        3.74065973e-02, 3.74954231e-02, 3.76193896e-02, 3.82953621e-02,\n        3.93350087e-02, 3.95812057e-02, 3.97170447e-02, 3.99494991e-02,\n        4.10792679e-02, 4.34749052e-02, 4.40930240e-02, 4.43530902e-02,\n        4.52928916e-02, 4.67337519e-02, 4.87451255e-02, 4.87732589e-02,\n        4.88792248e-02, 4.96081486e-02, 5.11199459e-02, 5.24884835e-02,\n        5.25455140e-02, 5.37018739e-02, 5.38379513e-02, 5.39970621e-02,\n        5.41246720e-02, 5.44856042e-02, 5.56446537e-02, 5.57253659e-02,\n        5.79792336e-02, 5.89141771e-02, 5.89217320e-02, 5.94472736e-02,\n        6.00532927e-02, 6.05308525e-02, 6.10156730e-02, 6.18774965e-02,\n        6.29972965e-02, 6.36028871e-02, 6.55466467e-02, 6.58983141e-02,\n        6.65206760e-02, 6.77014813e-02, 6.82832599e-02, 6.85180575e-02,\n        6.93089887e-02, 6.96061701e-02, 7.21190572e-02, 7.26675019e-02,\n        7.30895549e-02, 7.35377893e-02, 7.69072250e-02, 7.73051903e-02,\n        7.95816258e-02, 8.01483989e-02, 8.01644847e-02, 8.09380710e-02,\n        8.09587389e-02, 8.19480047e-02, 8.19628015e-02, 8.32265019e-02,\n        8.38781297e-02, 8.72066468e-02, 8.72760192e-02, 8.80467296e-02,\n        9.01206732e-02, 9.27748531e-02, 9.37483013e-02, 9.75504220e-02,\n        9.87598151e-02, 9.99246910e-02, 1.00205950e-01, 1.00469477e-01,\n        1.01631753e-01, 1.03031598e-01, 1.03383623e-01, 1.04183838e-01,\n        1.04183957e-01, 1.04566865e-01, 1.04695372e-01, 1.07372262e-01,\n        1.08779952e-01, 1.08895011e-01, 1.09830461e-01, 1.10027082e-01,\n        1.11088850e-01, 1.12648480e-01, 1.17880248e-01, 1.18669771e-01,\n        1.21638767e-01, 1.21701322e-01, 1.25143975e-01, 1.25285715e-01,\n        1.26470327e-01, 1.27371788e-01, 1.28441304e-01, 1.32253543e-01,\n        1.32836103e-01, 1.36776328e-01, 1.37922525e-01, 1.44028947e-01,\n        1.45955980e-01, 1.48540601e-01, 1.50167868e-01, 1.51798293e-01,\n        1.53184518e-01, 1.53851256e-01, 1.61783621e-01, 1.63269997e-01,\n        1.66109636e-01, 1.67257369e-01, 1.67638227e-01, 1.67849958e-01,\n        1.70148447e-01, 1.70209378e-01, 1.71901152e-01, 1.73006177e-01,\n        1.74197719e-01, 1.82292879e-01, 1.82875410e-01, 1.92551360e-01,\n        1.96648687e-01, 1.98275417e-01, 1.99863493e-01, 2.00202048e-01,\n        2.00682044e-01, 2.10392982e-01, 2.11473122e-01, 2.13546142e-01,\n        2.14366347e-01, 2.16599599e-01, 2.16734797e-01, 2.20150888e-01,\n        2.23043010e-01, 2.27189988e-01, 2.28867695e-01, 2.29509264e-01,\n        2.30111241e-01, 2.31137857e-01, 2.34767437e-01, 2.37832457e-01,\n        2.40212739e-01, 2.42281213e-01, 2.50585377e-01, 2.51552075e-01,\n        2.52201796e-01, 2.52723247e-01, 2.53357828e-01, 2.53367007e-01,\n        2.63073862e-01, 2.65526265e-01, 2.68295199e-01, 2.70939082e-01,\n        2.74200171e-01, 2.77394891e-01, 2.81418622e-01, 2.82411814e-01,\n        2.83484697e-01, 2.85418481e-01, 2.88820744e-01, 2.92345703e-01,\n        2.95926511e-01, 2.97987461e-01, 3.02601010e-01, 3.03271145e-01,\n        3.05773228e-01, 3.07962686e-01, 3.09229642e-01, 3.09349269e-01,\n        3.10295820e-01, 3.12543482e-01, 3.12965482e-01, 3.13218564e-01,\n        3.13863277e-01, 3.20546240e-01, 3.22172463e-01, 3.24090213e-01,\n        3.28103572e-01, 3.29046309e-01, 3.29435438e-01, 3.32318544e-01,\n        3.37057143e-01, 3.37629020e-01, 3.41919780e-01, 3.44868451e-01,\n        3.47520202e-01, 3.48673135e-01, 3.50149155e-01, 3.52276444e-01,\n        3.56364936e-01, 3.56451184e-01, 3.58832568e-01, 3.66156042e-01,\n        3.77785712e-01, 3.79931927e-01, 3.84945482e-01, 3.85406464e-01,\n        3.90266120e-01, 3.99390817e-01, 4.01973248e-01, 4.02718931e-01,\n        4.04209971e-01, 4.04544085e-01, 4.07932401e-01, 4.11221176e-01,\n        4.11759555e-01, 4.14948046e-01, 4.15751547e-01, 4.16842252e-01,\n        4.19711739e-01, 4.21572447e-01, 4.22048032e-01, 4.24036056e-01,\n        4.28086013e-01, 4.29536372e-01, 4.32647556e-01, 4.35009718e-01,\n        4.37850773e-01, 4.39700395e-01, 4.40188915e-01, 4.41366881e-01,\n        4.45027888e-01, 4.49626535e-01, 4.51720178e-01, 4.53824908e-01,\n        4.54012245e-01, 4.58058357e-01, 4.59327400e-01, 4.67886209e-01,\n        4.68690842e-01, 4.73083615e-01, 4.79885995e-01, 4.81565624e-01,\n        4.85385746e-01, 4.88411337e-01, 4.92844909e-01, 4.98350203e-01,\n        4.99129862e-01, 5.00416338e-01, 5.03215849e-01, 5.05007446e-01,\n        5.05552471e-01, 5.17973125e-01, 5.19280791e-01, 5.21313846e-01,\n        5.23847938e-01, 5.28057575e-01, 5.28652787e-01, 5.30971706e-01,\n        5.37095249e-01, 5.39874017e-01, 5.40492058e-01, 5.45713127e-01,\n        5.47477365e-01, 5.50414383e-01, 5.55635095e-01, 5.55656135e-01,\n        5.57212114e-01, 5.64090669e-01, 5.68970561e-01, 5.69329917e-01,\n        5.69865704e-01, 5.71560085e-01, 5.71781158e-01, 5.75182796e-01,\n        5.76490462e-01, 5.76554954e-01, 5.83733857e-01, 5.84539235e-01,\n        5.84568799e-01, 5.85739732e-01, 5.90224981e-01, 5.90634882e-01,\n        5.93130887e-01, 5.95053792e-01, 5.99754870e-01, 6.00006700e-01,\n        6.04523838e-01, 6.08132303e-01, 6.08211458e-01, 6.09317720e-01,\n        6.09653831e-01, 6.11222804e-01, 6.11726820e-01, 6.12300992e-01,\n        6.16419196e-01, 6.24920368e-01, 6.25501931e-01, 6.29702032e-01,\n        6.30647480e-01, 6.33657753e-01, 6.35354757e-01, 6.35608792e-01,\n        6.35677278e-01, 6.35946274e-01, 6.37839735e-01, 6.39539599e-01,\n        6.42188311e-01, 6.43994808e-01, 6.49824560e-01, 6.50176883e-01,\n        6.50366843e-01, 6.54277086e-01, 6.54387236e-01, 6.62380636e-01,\n        6.62423253e-01, 6.67082250e-01, 6.68660641e-01, 6.69421732e-01,\n        6.72180951e-01, 6.83787763e-01, 6.87344313e-01, 6.90310657e-01,\n        6.93909526e-01, 6.94021404e-01, 6.98494792e-01, 7.01543748e-01,\n        7.01940119e-01, 7.03739226e-01, 7.06302881e-01, 7.08672166e-01,\n        7.09062636e-01, 7.10536718e-01, 7.16308653e-01, 7.20487297e-01,\n        7.22090662e-01, 7.25245237e-01, 7.28744209e-01, 7.30202198e-01,\n        7.30843842e-01, 7.33328223e-01, 7.36116767e-01, 7.38851488e-01,\n        7.43870735e-01, 7.46944845e-01, 7.47184575e-01, 7.51361787e-01,\n        7.54306495e-01, 7.60084450e-01, 7.62153268e-01, 7.63158977e-01,\n        7.65205801e-01, 7.68498600e-01, 7.71067619e-01, 7.75830925e-01,\n        7.80362904e-01, 7.82104313e-01, 7.84849942e-01, 7.85686731e-01,\n        7.87294030e-01, 7.88006365e-01, 7.90535331e-01, 7.93609381e-01,\n        7.98701167e-01, 7.99342871e-01, 8.00178647e-01, 8.01051915e-01,\n        8.01275134e-01, 8.01488161e-01, 8.05756688e-01, 8.06301653e-01,\n        8.08301985e-01, 8.11666667e-01, 8.14257205e-01, 8.14774454e-01,\n        8.16629708e-01, 8.19779754e-01, 8.20321202e-01, 8.20746303e-01,\n        8.21022272e-01, 8.24035168e-01, 8.27526093e-01, 8.27663541e-01,\n        8.29020321e-01, 8.34359705e-01, 8.49731505e-01, 8.49745274e-01,\n        8.49831343e-01, 8.56222451e-01, 8.57611597e-01, 8.58475089e-01,\n        8.59919667e-01, 8.60194147e-01, 8.62534821e-01, 8.62769783e-01,\n        8.62810552e-01, 8.71276081e-01, 8.73689950e-01, 8.74729455e-01,\n        8.77250433e-01, 8.78540158e-01, 8.81591916e-01, 8.83776009e-01,\n        8.84702563e-01, 8.84711623e-01, 8.87406647e-01, 8.89004171e-01,\n        8.90148282e-01, 8.95511210e-01, 8.97295058e-01, 8.98162723e-01,\n        9.00982261e-01, 9.03288901e-01, 9.03843939e-01, 9.03977156e-01,\n        9.06593680e-01, 9.08110321e-01, 9.08864558e-01, 9.08958614e-01,\n        9.09914494e-01, 9.11579609e-01, 9.13162172e-01, 9.14059162e-01,\n        9.15177882e-01, 9.16275084e-01, 9.17478263e-01, 9.18534398e-01,\n        9.18814301e-01, 9.18926299e-01, 9.19732034e-01, 9.22451913e-01,\n        9.23125982e-01, 9.23692048e-01, 9.23733950e-01, 9.23859179e-01,\n        9.25817788e-01, 9.26228821e-01, 9.28025603e-01, 9.29044962e-01,\n        9.30745602e-01, 9.33275104e-01, 9.33680236e-01, 9.39633071e-01,\n        9.40388441e-01, 9.42143559e-01, 9.44073975e-01, 9.44149733e-01,\n        9.45524275e-01, 9.46313560e-01, 9.46372747e-01, 9.48258460e-01,\n        9.49601114e-01, 9.51582074e-01, 9.52433884e-01, 9.53844786e-01,\n        9.54337776e-01, 9.56456304e-01, 9.57624316e-01, 9.57635880e-01,\n        9.58311796e-01, 9.59181368e-01, 9.60582137e-01, 9.61739480e-01,\n        9.62122202e-01, 9.63462174e-01, 9.63868678e-01, 9.64037180e-01,\n        9.64038074e-01, 9.68773901e-01, 9.70632613e-01, 9.70806301e-01,\n        9.71305966e-01, 9.71726418e-01, 9.71958458e-01, 9.72083807e-01,\n        9.72560346e-01, 9.72731531e-01, 9.73597884e-01, 9.74698603e-01,\n        9.74748552e-01, 9.75507200e-01, 9.75673079e-01, 9.76339459e-01,\n        9.78071690e-01, 9.78281915e-01, 9.78304386e-01, 9.78536725e-01,\n        9.79107916e-01, 9.80277956e-01, 9.82303739e-01, 9.82344389e-01,\n        9.82963204e-01, 9.83435094e-01, 9.83635545e-01, 9.83775318e-01,\n        9.84179974e-01, 9.84409332e-01, 9.84522223e-01, 9.85616982e-01,\n        9.85704303e-01, 9.85805809e-01, 9.85870421e-01, 9.86283183e-01,\n        9.86478746e-01, 9.86519933e-01, 9.86592472e-01, 9.86849189e-01,\n        9.87322986e-01, 9.87545073e-01, 9.87839222e-01, 9.88106489e-01,\n        9.88318264e-01, 9.88775373e-01, 9.88832712e-01, 9.89137053e-01,\n        9.89621162e-01, 9.89741087e-01, 9.89745557e-01, 9.89970148e-01,\n        9.90002751e-01, 9.90083575e-01, 9.90093172e-01, 9.90420818e-01,\n        9.90519643e-01, 9.90522802e-01, 9.90615726e-01, 9.90701556e-01,\n        9.91026700e-01, 9.91216660e-01, 9.92554486e-01, 9.92781103e-01,\n        9.92810011e-01, 9.92965341e-01, 9.93381619e-01, 9.93464231e-01,\n        9.93573844e-01, 9.93794918e-01, 9.93913591e-01, 9.93980646e-01,\n        9.94202077e-01, 9.94284689e-01, 9.94509280e-01, 9.94834185e-01,\n        9.94917035e-01, 9.95121539e-01, 9.95518506e-01, 9.95560169e-01,\n        9.95775402e-01, 9.95783448e-01, 9.95837808e-01, 9.95903313e-01,\n        9.96179700e-01, 9.96221602e-01, 9.96294677e-01, 9.96390700e-01,\n        9.96634543e-01, 9.97017741e-01, 9.97430146e-01, 9.97441292e-01,\n        9.97734249e-01, 9.97909307e-01, 9.97954905e-01, 9.98491287e-01,\n        9.99067605e-01], dtype=float32))"
     },
     "execution_count": 174,
     "metadata": {},
     "output_type": "execute_result"
    }
   ],
   "source": [
    "thresholds, aupr = aupr(predictions, labels)\n",
    "aupr, thresholds"
   ],
   "metadata": {
    "collapsed": false
   }
  },
  {
   "cell_type": "markdown",
   "source": [
    "## FPR at 95% TPR\n",
    "Return the False Positive Ratio when True Positive Ratio is at least 95%"
   ],
   "metadata": {
    "collapsed": false
   }
  },
  {
   "cell_type": "code",
   "execution_count": 152,
   "outputs": [
    {
     "data": {
      "text/plain": "0.9579741379310345"
     },
     "execution_count": 152,
     "metadata": {},
     "output_type": "execute_result"
    }
   ],
   "source": [
    "fpr_tpr_95 = fpr_at_95_tpr(predictions, labels)\n",
    "fpr_tpr_95"
   ],
   "metadata": {
    "collapsed": false
   }
  },
  {
   "cell_type": "markdown",
   "source": [
    "## Detection error\n",
    "Returns missclasification probability when TPR is 95%"
   ],
   "metadata": {
    "collapsed": false
   }
  },
  {
   "cell_type": "code",
   "execution_count": 146,
   "outputs": [
    {
     "data": {
      "text/plain": "0.35465924895688455"
     },
     "execution_count": 146,
     "metadata": {},
     "output_type": "execute_result"
    }
   ],
   "source": [
    "error = detection_error(predictions, labels)\n",
    "error"
   ],
   "metadata": {
    "collapsed": false
   }
  }
 ],
 "metadata": {
  "kernelspec": {
   "display_name": "Python 3",
   "language": "python",
   "name": "python3"
  },
  "language_info": {
   "codemirror_mode": {
    "name": "ipython",
    "version": 2
   },
   "file_extension": ".py",
   "mimetype": "text/x-python",
   "name": "python",
   "nbconvert_exporter": "python",
   "pygments_lexer": "ipython2",
   "version": "2.7.6"
  }
 },
 "nbformat": 4,
 "nbformat_minor": 0
}
