{
 "cells": [
  {
   "cell_type": "markdown",
   "source": [
    "# Load the model from file"
   ],
   "metadata": {
    "collapsed": false
   }
  },
  {
   "cell_type": "code",
   "execution_count": 1,
   "metadata": {
    "collapsed": true
   },
   "outputs": [
    {
     "name": "stdout",
     "output_type": "stream",
     "text": [
      "Metal device set to: Apple M1 Max\n"
     ]
    },
    {
     "name": "stderr",
     "output_type": "stream",
     "text": [
      "2022-12-12 19:25:37.465791: I tensorflow/core/common_runtime/pluggable_device/pluggable_device_factory.cc:306] Could not identify NUMA node of platform GPU ID 0, defaulting to 0. Your kernel may not have been built with NUMA support.\n",
      "2022-12-12 19:25:37.465929: I tensorflow/core/common_runtime/pluggable_device/pluggable_device_factory.cc:272] Created TensorFlow device (/job:localhost/replica:0/task:0/device:GPU:0 with 0 MB memory) -> physical PluggableDevice (device: 0, name: METAL, pci bus id: <undefined>)\n",
      "2022-12-12 19:25:42.018554: W tensorflow/core/platform/profile_utils/cpu_utils.cc:128] Failed to get CPU frequency: 0 Hz\n",
      "2022-12-12 19:25:42.018727: I tensorflow/core/grappler/optimizers/custom_graph_optimizer_registry.cc:114] Plugin optimizer for device_type GPU is enabled.\n",
      "2022-12-12 19:25:42.112996: I tensorflow/core/grappler/optimizers/custom_graph_optimizer_registry.cc:114] Plugin optimizer for device_type GPU is enabled.\n"
     ]
    },
    {
     "name": "stdout",
     "output_type": "stream",
     "text": [
      "Model: \"sequential\"\n",
      "_________________________________________________________________\n",
      " Layer (type)                Output Shape              Param #   \n",
      "=================================================================\n",
      " text_vectorization (TextVec  (None, 250)              0         \n",
      " torization)                                                     \n",
      "                                                                 \n",
      " embedding (Embedding)       (None, 250, 75)           7500000   \n",
      "                                                                 \n",
      " bidirectional (Bidirectiona  (None, 250, 2056)        9079296   \n",
      " l)                                                              \n",
      "                                                                 \n",
      " bidirectional_1 (Bidirectio  (None, 256)              2237440   \n",
      " nal)                                                            \n",
      "                                                                 \n",
      " dense (Dense)               (None, 3)                 771       \n",
      "                                                                 \n",
      "=================================================================\n",
      "Total params: 18,817,507\n",
      "Trainable params: 18,817,507\n",
      "Non-trainable params: 0\n",
      "_________________________________________________________________\n"
     ]
    }
   ],
   "source": [
    "import tensorflow as tf\n",
    "import tensorflow_addons as tfa\n",
    "from pathlib import Path\n",
    "from os.path import abspath\n",
    "\n",
    "ROOT_DIR = Path(abspath('')).parent.parent\n",
    "MODEL_PATH = ROOT_DIR / \"raw\" / \"checkpoints\" / \"lstm7_best1\"\n",
    "\n",
    "\n",
    "model = tf.keras.models.load_model(MODEL_PATH)\n",
    "model.summary()"
   ]
  },
  {
   "cell_type": "markdown",
   "source": [
    "# Load the \"outer\" dataset"
   ],
   "metadata": {
    "collapsed": false
   }
  },
  {
   "cell_type": "code",
   "execution_count": 2,
   "outputs": [
    {
     "name": "stdout",
     "output_type": "stream",
     "text": [
      "Found 787 files belonging to 2 classes.\n"
     ]
    },
    {
     "data": {
      "text/plain": "['entertainment', 'tech']"
     },
     "execution_count": 2,
     "metadata": {},
     "output_type": "execute_result"
    }
   ],
   "source": [
    "OUTER_DS_DIR = ROOT_DIR / \"raw\" / \"outer_dataset\"\n",
    "DATASET_DIR = ROOT_DIR / \"raw\" / \"dataset\"\n",
    "BATCH_SIZE = 256\n",
    "SEED = 7312\n",
    "\n",
    "outer_ds = tf.keras.utils.text_dataset_from_directory(\n",
    "    directory=OUTER_DS_DIR,\n",
    "    label_mode='categorical',\n",
    "    batch_size=BATCH_SIZE,\n",
    "    shuffle=True,\n",
    "    seed=SEED\n",
    ")\n",
    "outer_ds.class_names"
   ],
   "metadata": {
    "collapsed": false
   }
  },
  {
   "cell_type": "markdown",
   "source": [
    "# Predicting on outer dataset"
   ],
   "metadata": {
    "collapsed": false
   }
  },
  {
   "cell_type": "code",
   "execution_count": 3,
   "outputs": [
    {
     "name": "stderr",
     "output_type": "stream",
     "text": [
      "2022-12-12 19:25:42.831084: I tensorflow/core/grappler/optimizers/custom_graph_optimizer_registry.cc:114] Plugin optimizer for device_type GPU is enabled.\n",
      "2022-12-12 19:25:42.953909: I tensorflow/core/grappler/optimizers/custom_graph_optimizer_registry.cc:114] Plugin optimizer for device_type GPU is enabled.\n",
      "2022-12-12 19:25:42.964632: I tensorflow/core/grappler/optimizers/custom_graph_optimizer_registry.cc:114] Plugin optimizer for device_type GPU is enabled.\n",
      "2022-12-12 19:25:44.213828: I tensorflow/core/grappler/optimizers/custom_graph_optimizer_registry.cc:114] Plugin optimizer for device_type GPU is enabled.\n",
      "2022-12-12 19:25:44.238498: I tensorflow/core/grappler/optimizers/custom_graph_optimizer_registry.cc:114] Plugin optimizer for device_type GPU is enabled.\n"
     ]
    },
    {
     "name": "stdout",
     "output_type": "stream",
     "text": [
      "4/4 [==============================] - 5s 770ms/step\n"
     ]
    }
   ],
   "source": [
    "result = model.predict(outer_ds)"
   ],
   "metadata": {
    "collapsed": false
   }
  },
  {
   "cell_type": "code",
   "execution_count": 4,
   "outputs": [
    {
     "name": "stdout",
     "output_type": "stream",
     "text": [
      "Found 1438 files belonging to 3 classes.\n"
     ]
    },
    {
     "name": "stderr",
     "output_type": "stream",
     "text": [
      "2022-12-12 19:25:49.171852: I tensorflow/core/grappler/optimizers/custom_graph_optimizer_registry.cc:114] Plugin optimizer for device_type GPU is enabled.\n",
      "2022-12-12 19:25:49.294758: I tensorflow/core/grappler/optimizers/custom_graph_optimizer_registry.cc:114] Plugin optimizer for device_type GPU is enabled.\n",
      "2022-12-12 19:25:49.306223: I tensorflow/core/grappler/optimizers/custom_graph_optimizer_registry.cc:114] Plugin optimizer for device_type GPU is enabled.\n",
      "2022-12-12 19:25:50.325124: I tensorflow/core/grappler/optimizers/custom_graph_optimizer_registry.cc:114] Plugin optimizer for device_type GPU is enabled.\n",
      "2022-12-12 19:25:50.340805: I tensorflow/core/grappler/optimizers/custom_graph_optimizer_registry.cc:114] Plugin optimizer for device_type GPU is enabled.\n"
     ]
    },
    {
     "name": "stdout",
     "output_type": "stream",
     "text": [
      "6/6 [==============================] - 5s 671ms/step\n"
     ]
    }
   ],
   "source": [
    "import pandas as pd\n",
    "import numpy as np\n",
    "\n",
    "original_dataset_labels = ['business', 'politics', 'sport']\n",
    "original_ds = train_ds = tf.keras.utils.text_dataset_from_directory(\n",
    "    directory=DATASET_DIR,\n",
    "    label_mode='categorical',\n",
    "    batch_size=BATCH_SIZE,\n",
    "    shuffle=True,\n",
    "    seed=SEED,\n",
    ")\n",
    "\n",
    "outer_dataset_labels = outer_ds.class_names\n",
    "actual_outer_labels = np.concatenate([[outer_dataset_labels[0] if y[0] else outer_dataset_labels[1] for y in y_batch] for x_batch, y_batch in outer_ds], axis=0)\n",
    "result_df = pd.DataFrame(result, columns=original_dataset_labels)\n",
    "result_df[\"Outer label\"] = actual_outer_labels\n",
    "# result_df\n",
    "\n",
    "predict_original = model.predict(original_ds)"
   ],
   "metadata": {
    "collapsed": false
   }
  },
  {
   "cell_type": "code",
   "execution_count": 5,
   "outputs": [
    {
     "name": "stderr",
     "output_type": "stream",
     "text": [
      "2022-12-12 19:25:54.699437: I tensorflow/core/grappler/optimizers/custom_graph_optimizer_registry.cc:114] Plugin optimizer for device_type GPU is enabled.\n",
      "2022-12-12 19:25:54.844447: I tensorflow/core/grappler/optimizers/custom_graph_optimizer_registry.cc:114] Plugin optimizer for device_type GPU is enabled.\n",
      "2022-12-12 19:25:54.858681: I tensorflow/core/grappler/optimizers/custom_graph_optimizer_registry.cc:114] Plugin optimizer for device_type GPU is enabled.\n",
      "2022-12-12 19:25:55.855764: I tensorflow/core/grappler/optimizers/custom_graph_optimizer_registry.cc:114] Plugin optimizer for device_type GPU is enabled.\n",
      "2022-12-12 19:25:55.870699: I tensorflow/core/grappler/optimizers/custom_graph_optimizer_registry.cc:114] Plugin optimizer for device_type GPU is enabled.\n"
     ]
    },
    {
     "name": "stdout",
     "output_type": "stream",
     "text": [
      "6/6 [==============================] - 6s 694ms/step - loss: 0.1243 - accuracy: 0.9722 - recall: 0.9722 - precision: 0.9729 - auc: 0.9927\n"
     ]
    },
    {
     "data": {
      "text/plain": "[0.12428556382656097,\n 0.9721835851669312,\n 0.9721835851669312,\n 0.9728601574897766,\n 0.9926711320877075]"
     },
     "execution_count": 5,
     "metadata": {},
     "output_type": "execute_result"
    }
   ],
   "source": [
    "model.evaluate(original_ds)"
   ],
   "metadata": {
    "collapsed": false
   }
  },
  {
   "cell_type": "code",
   "execution_count": 6,
   "outputs": [],
   "source": [
    "def get_max_softmax(softmax: np.ndarray) -> float:\n",
    "    return np.max(softmax)\n",
    "    # return original_dataset_labels[np.argmax(softmax)]\n",
    "\n",
    "histogram_data = np.apply_along_axis(get_max_softmax, 1, result)\n",
    "original_hist_data = np.apply_along_axis(get_max_softmax, 1, predict_original)"
   ],
   "metadata": {
    "collapsed": false
   }
  },
  {
   "cell_type": "markdown",
   "source": [
    "# Plot the histogram"
   ],
   "metadata": {
    "collapsed": false
   }
  },
  {
   "cell_type": "code",
   "execution_count": 10,
   "outputs": [
    {
     "data": {
      "text/plain": "(array([  1.,   0.,   0.,   0.,   0.,   0.,   0.,   0.,   0.,   0.,   0.,\n          0.,   0.,   0.,   0.,   0.,   0.,   0.,   0.,   0.,   0.,   0.,\n          0.,   0.,   0.,   0.,   0.,   0.,   0.,   0.,   0.,   0.,   0.,\n          0.,   0.,   0.,   0.,   0.,   0.,   0.,   0.,   0.,   0.,   0.,\n          0.,   0.,   0.,   0.,   0.,   0.,   0.,   0.,   0.,   0.,   0.,\n          0.,   0.,   0.,   0.,   0.,   0.,   0.,   0.,   0.,   0.,   0.,\n          0.,   0.,   0.,   0.,   0.,   0.,   0.,   0.,   0.,   0.,   0.,\n          0.,   0.,   0.,   0.,   0.,   0.,   0.,   0.,   0.,   0.,   0.,\n          0.,   0.,   0.,   0.,   0.,   0.,   0.,   0.,   0.,   0.,   0.,\n          0.,   0.,   0.,   0.,   0.,   0.,   0.,   0.,   0.,   0.,   0.,\n          0.,   0.,   0.,   0.,   0.,   0.,   0.,   0.,   0.,   0.,   0.,\n          0.,   0.,   0.,   0.,   0.,   0.,   0.,   0.,   0.,   0.,   0.,\n          0.,   0.,   0.,   0.,   0.,   0.,   0.,   0.,   0.,   0.,   0.,\n          0.,   0.,   0.,   0.,   1.,   0.,   0.,   0.,   0.,   0.,   0.,\n          0.,   0.,   0.,   0.,   0.,   0.,   0.,   0.,   0.,   0.,   0.,\n          1.,   0.,   1.,   0.,   0.,   0.,   0.,   0.,   0.,   0.,   1.,\n          0.,   0.,   0.,   0.,   0.,   0.,   0.,   0.,   0.,   0.,   1.,\n          0.,   0.,   0.,   0.,   0.,   0.,   0.,   0.,   0.,   0.,   0.,\n          0.,   0.,   0.,   0.,   0.,   0.,   0.,   0.,   0.,   0.,   0.,\n          0.,   0.,   0.,   0.,   1.,   0.,   0.,   0.,   0.,   0.,   0.,\n          0.,   0.,   0.,   0.,   0.,   0.,   0.,   0.,   0.,   0.,   0.,\n          0.,   0.,   0.,   0.,   0.,   0.,   0.,   0.,   1.,   0.,   0.,\n          0.,   0.,   0.,   0.,   0.,   0.,   0.,   1.,   0.,   0.,   0.,\n          0.,   0.,   0.,   0.,   0.,   0.,   0.,   1.,   0.,   0.,   0.,\n          0.,   0.,   0.,   0.,   0.,   0.,   0.,   0.,   1.,   1.,   0.,\n          0.,   0.,   0.,   0.,   1.,   0.,   0.,   0.,   0.,   0.,   0.,\n          0.,   0.,   1.,   0.,   0.,   0.,   1.,   0.,   0.,   1.,   0.,\n          0.,   0.,   0.,   0.,   0.,   0.,   0.,   0.,   0.,   0.,   0.,\n          0.,   0.,   0.,   0.,   1.,   0.,   0.,   0.,   0.,   0.,   0.,\n          0.,   0.,   0.,   0.,   0.,   0.,   0.,   0.,   1.,   0.,   0.,\n          0.,   0.,   0.,   0.,   0.,   0.,   0.,   0.,   0.,   0.,   0.,\n          0.,   0.,   0.,   0.,   0.,   1.,   0.,   0.,   0.,   0.,   0.,\n          0.,   0.,   0.,   0.,   0.,   0.,   0.,   0.,   0.,   0.,   0.,\n          1.,   0.,   0.,   1.,   0.,   0.,   0.,   0.,   0.,   0.,   0.,\n          0.,   0.,   0.,   0.,   0.,   0.,   0.,   0.,   0.,   0.,   0.,\n          0.,   0.,   0.,   0.,   0.,   0.,   0.,   0.,   0.,   0.,   0.,\n          0.,   0.,   0.,   0.,   0.,   0.,   0.,   0.,   0.,   1.,   0.,\n          0.,   0.,   0.,   0.,   0.,   0.,   0.,   0.,   0.,   0.,   0.,\n          0.,   0.,   0.,   0.,   0.,   0.,   0.,   0.,   0.,   0.,   0.,\n          1.,   0.,   0.,   0.,   0.,   0.,   0.,   0.,   0.,   0.,   0.,\n          0.,   0.,   0.,   0.,   0.,   0.,   0.,   0.,   2.,   0.,   1.,\n          0.,   0.,   0.,   0.,   0.,   0.,   0.,   0.,   0.,   0.,   0.,\n          0.,   0.,   0.,   1.,   0.,   0.,   0.,   0.,   0.,   0.,   1.,\n          1.,   0.,   0.,   0.,   0.,   0.,   0.,   0.,   1.,   0.,   0.,\n          0.,   0.,   0.,   0.,   0.,   0.,   0.,   0.,   0.,   0.,   0.,\n          0.,   1.,   0.,   0.,   0.,   0.,   0.,   0.,   0.,   0.,   0.,\n          1.,   0.,   1.,   0.,   1.,   0.,   0.,   0.,   0.,   0.,   0.,\n          0.,   0.,   0.,   1.,   0.,   1.,   1.,   0.,   0.,   1.,   0.,\n          0.,   0.,   0.,   0.,   0.,   0.,   0.,   0.,   0.,   0.,   0.,\n          0.,   1.,   0.,   0.,   0.,   0.,   0.,   0.,   0.,   0.,   1.,\n          0.,   0.,   0.,   0.,   0.,   0.,   0.,   0.,   1.,   0.,   0.,\n          0.,   0.,   0.,   0.,   0.,   0.,   0.,   0.,   0.,   0.,   0.,\n          0.,   0.,   0.,   0.,   0.,   0.,   0.,   0.,   0.,   1.,   0.,\n          1.,   0.,   0.,   0.,   0.,   0.,   0.,   1.,   1.,   0.,   0.,\n          0.,   1.,   2.,   0.,   1.,   0.,   1.,   0.,   0.,   0.,   0.,\n          0.,   0.,   0.,   0.,   0.,   0.,   1.,   0.,   0.,   0.,   1.,\n          0.,   0.,   0.,   0.,   2.,   0.,   0.,   0.,   0.,   0.,   0.,\n          0.,   0.,   0.,   1.,   0.,   0.,   0.,   0.,   0.,   0.,   0.,\n          0.,   0.,   0.,   0.,   0.,   0.,   0.,   0.,   0.,   0.,   0.,\n          0.,   0.,   2.,   0.,   1.,   0.,   0.,   1.,   0.,   1.,   1.,\n          0.,   0.,   0.,   0.,   0.,   2.,   0.,   0.,   0.,   1.,   0.,\n          0.,   0.,   0.,   0.,   0.,   1.,   0.,   3.,   0.,   0.,   1.,\n          2.,   1.,   0.,   1.,   0.,   2.,   2.,   1.,   0.,   0.,   0.,\n          1.,   0.,   1.,   0.,   0.,   1.,   0.,   0.,   0.,   0.,   0.,\n          1.,   0.,   0.,   1.,   1.,   0.,   1.,   0.,   0.,   2.,   0.,\n          3.,   0.,   0.,   0.,   3.,   2.,   1.,   0.,   1.,   0.,   0.,\n          0.,   2.,   1.,   0.,   0.,   0.,   1.,   2.,   1.,   1.,   1.,\n          0.,   1.,   1.,   0.,   0.,   1.,   0.,   0.,   0.,   1.,   1.,\n          2.,   0.,   0.,   1.,   0.,   0.,   2.,   0.,   1.,   0.,   0.,\n          0.,   0.,   0.,   0.,   2.,   0.,   0.,   0.,   2.,   3.,   1.,\n          0.,   0.,   2.,   1.,   0.,   0.,   0.,   0.,   0.,   1.,   0.,\n          0.,   1.,   0.,   0.,   0.,   0.,   1.,   0.,   1.,   0.,   1.,\n          1.,   1.,   0.,   1.,   2.,   1.,   1.,   1.,   1.,   2.,   0.,\n          1.,   0.,   0.,   1.,   2.,   1.,   1.,   0.,   0.,   1.,   1.,\n          0.,   2.,   1.,   1.,   2.,   3.,   1.,   0.,   0.,   2.,   0.,\n          2.,   2.,   3.,   4.,   2.,   1.,   3.,   0.,   5.,   4.,   2.,\n          3.,   1.,   3.,   2.,   8.,   6.,   3.,   9.,   5.,   4.,   6.,\n          4.,   6.,  10.,   8.,  13.,  20.,  16.,  30.,  52.,  93., 145.,\n        150., 153., 138.,  78.,  42., 103., 135.]),\n array([0.39955899, 0.4002527 , 0.40094644, 0.40164015, 0.40233389,\n        0.40302759, 0.40372133, 0.40441504, 0.40510878, 0.40580249,\n        0.40649623, 0.40718994, 0.40788367, 0.40857738, 0.40927112,\n        0.40996483, 0.41065854, 0.41135228, 0.41204599, 0.41273972,\n        0.41343343, 0.41412717, 0.41482088, 0.41551462, 0.41620833,\n        0.41690207, 0.41759577, 0.41828951, 0.41898322, 0.41967696,\n        0.42037067, 0.42106438, 0.42175812, 0.42245182, 0.42314556,\n        0.42383927, 0.42453301, 0.42522672, 0.42592046, 0.42661417,\n        0.4273079 , 0.42800161, 0.42869535, 0.42938906, 0.4300828 ,\n        0.43077651, 0.43147022, 0.43216395, 0.43285766, 0.4335514 ,\n        0.43424511, 0.43493885, 0.43563256, 0.4363263 , 0.43702   ,\n        0.43771374, 0.43840745, 0.43910119, 0.4397949 , 0.44048864,\n        0.44118235, 0.44187605, 0.44256979, 0.4432635 , 0.44395724,\n        0.44465095, 0.44534469, 0.4460384 , 0.44673213, 0.44742584,\n        0.44811958, 0.44881329, 0.44950703, 0.45020074, 0.45089447,\n        0.45158818, 0.45228189, 0.45297563, 0.45366934, 0.45436308,\n        0.45505679, 0.45575052, 0.45644423, 0.45713797, 0.45783168,\n        0.45852542, 0.45921913, 0.45991287, 0.46060658, 0.46130031,\n        0.46199402, 0.46268776, 0.46338147, 0.46407518, 0.46476892,\n        0.46546263, 0.46615636, 0.46685007, 0.46754381, 0.46823752,\n        0.46893126, 0.46962497, 0.4703187 , 0.47101241, 0.47170615,\n        0.47239986, 0.4730936 , 0.47378731, 0.47448102, 0.47517475,\n        0.47586846, 0.4765622 , 0.47725591, 0.47794965, 0.47864336,\n        0.4793371 , 0.4800308 , 0.48072454, 0.48141825, 0.48211199,\n        0.4828057 , 0.48349944, 0.48419315, 0.48488685, 0.48558059,\n        0.4862743 , 0.48696804, 0.48766175, 0.48835549, 0.4890492 ,\n        0.48974293, 0.49043664, 0.49113038, 0.49182409, 0.49251783,\n        0.49321154, 0.49390528, 0.49459898, 0.49529269, 0.49598643,\n        0.49668014, 0.49737388, 0.49806759, 0.49876133, 0.49945503,\n        0.50014877, 0.50084251, 0.50153619, 0.50222993, 0.50292367,\n        0.50361741, 0.50431108, 0.50500482, 0.50569856, 0.50639224,\n        0.50708598, 0.50777972, 0.50847346, 0.50916713, 0.50986087,\n        0.51055461, 0.51124835, 0.51194203, 0.51263577, 0.51332951,\n        0.51402324, 0.51471692, 0.51541066, 0.5161044 , 0.51679808,\n        0.51749182, 0.51818556, 0.51887929, 0.51957297, 0.52026671,\n        0.52096045, 0.52165419, 0.52234787, 0.52304161, 0.52373534,\n        0.52442908, 0.52512276, 0.5258165 , 0.52651024, 0.52720392,\n        0.52789766, 0.52859139, 0.52928513, 0.52997881, 0.53067255,\n        0.53136629, 0.53206003, 0.53275371, 0.53344744, 0.53414118,\n        0.53483492, 0.5355286 , 0.53622234, 0.53691608, 0.53760976,\n        0.53830349, 0.53899723, 0.53969097, 0.54038465, 0.54107839,\n        0.54177213, 0.54246587, 0.54315954, 0.54385328, 0.54454702,\n        0.54524076, 0.54593444, 0.54662818, 0.54732192, 0.54801559,\n        0.54870933, 0.54940307, 0.55009681, 0.55079049, 0.55148423,\n        0.55217797, 0.5528717 , 0.55356538, 0.55425912, 0.55495286,\n        0.5556466 , 0.55634028, 0.55703402, 0.55772775, 0.55842143,\n        0.55911517, 0.55980891, 0.56050265, 0.56119633, 0.56189007,\n        0.5625838 , 0.56327754, 0.56397122, 0.56466496, 0.5653587 ,\n        0.56605244, 0.56674612, 0.56743985, 0.56813359, 0.56882727,\n        0.56952101, 0.57021475, 0.57090849, 0.57160217, 0.5722959 ,\n        0.57298964, 0.57368338, 0.57437706, 0.5750708 , 0.57576454,\n        0.57645828, 0.57715195, 0.57784569, 0.57853943, 0.57923311,\n        0.57992685, 0.58062059, 0.58131433, 0.582008  , 0.58270174,\n        0.58339548, 0.58408922, 0.5847829 , 0.58547664, 0.58617038,\n        0.58686411, 0.58755779, 0.58825153, 0.58894527, 0.58963895,\n        0.59033269, 0.59102643, 0.59172016, 0.59241384, 0.59310758,\n        0.59380132, 0.59449506, 0.59518874, 0.59588248, 0.59657621,\n        0.59726995, 0.59796363, 0.59865737, 0.59935111, 0.60004479,\n        0.60073853, 0.60143226, 0.602126  , 0.60281968, 0.60351342,\n        0.60420716, 0.6049009 , 0.60559458, 0.60628831, 0.60698205,\n        0.60767579, 0.60836947, 0.60906321, 0.60975695, 0.61045063,\n        0.61114436, 0.6118381 , 0.61253184, 0.61322552, 0.61391926,\n        0.614613  , 0.61530674, 0.61600041, 0.61669415, 0.61738789,\n        0.61808163, 0.61877531, 0.61946905, 0.62016279, 0.62085646,\n        0.6215502 , 0.62224394, 0.62293768, 0.62363136, 0.6243251 ,\n        0.62501884, 0.62571257, 0.62640625, 0.62709999, 0.62779373,\n        0.62848747, 0.62918115, 0.62987489, 0.63056862, 0.6312623 ,\n        0.63195604, 0.63264978, 0.63334352, 0.6340372 , 0.63473094,\n        0.63542467, 0.63611841, 0.63681209, 0.63750583, 0.63819957,\n        0.63889331, 0.63958699, 0.64028072, 0.64097446, 0.6416682 ,\n        0.64236188, 0.64305562, 0.64374936, 0.64444304, 0.64513677,\n        0.64583051, 0.64652425, 0.64721793, 0.64791167, 0.64860541,\n        0.64929914, 0.64999282, 0.65068656, 0.6513803 , 0.65207404,\n        0.65276772, 0.65346146, 0.65415519, 0.65484887, 0.65554261,\n        0.65623635, 0.65693009, 0.65762377, 0.65831751, 0.65901124,\n        0.65970498, 0.66039866, 0.6610924 , 0.66178614, 0.66247988,\n        0.66317356, 0.66386729, 0.66456103, 0.66525471, 0.66594845,\n        0.66664219, 0.66733593, 0.66802961, 0.66872334, 0.66941708,\n        0.67011082, 0.6708045 , 0.67149824, 0.67219198, 0.67288572,\n        0.67357939, 0.67427313, 0.67496687, 0.67566055, 0.67635429,\n        0.67704803, 0.67774177, 0.67843544, 0.67912918, 0.67982292,\n        0.68051666, 0.68121034, 0.68190408, 0.68259782, 0.68329155,\n        0.68398523, 0.68467897, 0.68537271, 0.68606639, 0.68676013,\n        0.68745387, 0.6881476 , 0.68884128, 0.68953502, 0.69022876,\n        0.6909225 , 0.69161618, 0.69230992, 0.69300365, 0.69369739,\n        0.69439107, 0.69508481, 0.69577855, 0.69647223, 0.69716597,\n        0.6978597 , 0.69855344, 0.69924712, 0.69994086, 0.7006346 ,\n        0.70132834, 0.70202202, 0.70271575, 0.70340949, 0.70410323,\n        0.70479691, 0.70549065, 0.70618439, 0.70687807, 0.7075718 ,\n        0.70826554, 0.70895928, 0.70965296, 0.7103467 , 0.71104044,\n        0.71173418, 0.71242785, 0.71312159, 0.71381533, 0.71450907,\n        0.71520275, 0.71589649, 0.71659023, 0.7172839 , 0.71797764,\n        0.71867138, 0.71936512, 0.7200588 , 0.72075254, 0.72144628,\n        0.72214001, 0.72283369, 0.72352743, 0.72422117, 0.72491491,\n        0.72560859, 0.72630233, 0.72699606, 0.72768974, 0.72838348,\n        0.72907722, 0.72977096, 0.73046464, 0.73115838, 0.73185211,\n        0.73254585, 0.73323953, 0.73393327, 0.73462701, 0.73532075,\n        0.73601443, 0.73670816, 0.7374019 , 0.73809558, 0.73878932,\n        0.73948306, 0.7401768 , 0.74087048, 0.74156421, 0.74225795,\n        0.74295169, 0.74364537, 0.74433911, 0.74503285, 0.74572659,\n        0.74642026, 0.747114  , 0.74780774, 0.74850142, 0.74919516,\n        0.7498889 , 0.75058264, 0.75127631, 0.75197005, 0.75266379,\n        0.75335753, 0.75405121, 0.75474495, 0.75543869, 0.75613242,\n        0.7568261 , 0.75751984, 0.75821358, 0.75890726, 0.759601  ,\n        0.76029474, 0.76098847, 0.76168215, 0.76237589, 0.76306963,\n        0.76376337, 0.76445705, 0.76515079, 0.76584452, 0.76653826,\n        0.76723194, 0.76792568, 0.76861942, 0.7693131 , 0.77000684,\n        0.77070057, 0.77139431, 0.77208799, 0.77278173, 0.77347547,\n        0.77416921, 0.77486289, 0.77555662, 0.77625036, 0.7769441 ,\n        0.77763778, 0.77833152, 0.77902526, 0.77971894, 0.78041267,\n        0.78110641, 0.78180015, 0.78249383, 0.78318757, 0.78388131,\n        0.78457505, 0.78526872, 0.78596246, 0.7866562 , 0.78734994,\n        0.78804362, 0.78873736, 0.7894311 , 0.79012477, 0.79081851,\n        0.79151225, 0.79220599, 0.79289967, 0.79359341, 0.79428715,\n        0.79498088, 0.79567456, 0.7963683 , 0.79706204, 0.79775578,\n        0.79844946, 0.7991432 , 0.79983693, 0.80053061, 0.80122435,\n        0.80191809, 0.80261183, 0.80330551, 0.80399925, 0.80469298,\n        0.80538672, 0.8060804 , 0.80677414, 0.80746788, 0.80816162,\n        0.8088553 , 0.80954903, 0.81024277, 0.81093645, 0.81163019,\n        0.81232393, 0.81301767, 0.81371135, 0.81440508, 0.81509882,\n        0.81579256, 0.81648624, 0.81717998, 0.81787372, 0.81856745,\n        0.81926113, 0.81995487, 0.82064861, 0.82134229, 0.82203603,\n        0.82272977, 0.8234235 , 0.82411718, 0.82481092, 0.82550466,\n        0.8261984 , 0.82689208, 0.82758582, 0.82827955, 0.82897329,\n        0.82966697, 0.83036071, 0.83105445, 0.83174813, 0.83244187,\n        0.8331356 , 0.83382934, 0.83452302, 0.83521676, 0.8359105 ,\n        0.83660424, 0.83729792, 0.83799165, 0.83868539, 0.83937913,\n        0.84007281, 0.84076655, 0.84146029, 0.84215397, 0.8428477 ,\n        0.84354144, 0.84423518, 0.84492886, 0.8456226 , 0.84631634,\n        0.84701008, 0.84770375, 0.84839749, 0.84909123, 0.84978497,\n        0.85047865, 0.85117239, 0.85186613, 0.8525598 , 0.85325354,\n        0.85394728, 0.85464102, 0.8553347 , 0.85602844, 0.85672218,\n        0.85741591, 0.85810959, 0.85880333, 0.85949707, 0.86019081,\n        0.86088449, 0.86157823, 0.86227196, 0.86296564, 0.86365938,\n        0.86435312, 0.86504686, 0.86574054, 0.86643428, 0.86712801,\n        0.86782175, 0.86851543, 0.86920917, 0.86990291, 0.87059665,\n        0.87129033, 0.87198406, 0.8726778 , 0.87337148, 0.87406522,\n        0.87475896, 0.8754527 , 0.87614638, 0.87684011, 0.87753385,\n        0.87822759, 0.87892127, 0.87961501, 0.88030875, 0.88100249,\n        0.88169616, 0.8823899 , 0.88308364, 0.88377738, 0.88447106,\n        0.8851648 , 0.88585854, 0.88655221, 0.88724595, 0.88793969,\n        0.88863343, 0.88932711, 0.89002085, 0.89071459, 0.89140832,\n        0.892102  , 0.89279574, 0.89348948, 0.89418322, 0.8948769 ,\n        0.89557064, 0.89626437, 0.89695805, 0.89765179, 0.89834553,\n        0.89903927, 0.89973295, 0.90042669, 0.90112042, 0.90181416,\n        0.90250784, 0.90320158, 0.90389532, 0.90458906, 0.90528274,\n        0.90597647, 0.90667021, 0.90736389, 0.90805763, 0.90875137,\n        0.90944511, 0.91013879, 0.91083252, 0.91152626, 0.91222   ,\n        0.91291368, 0.91360742, 0.91430116, 0.9149949 , 0.91568857,\n        0.91638231, 0.91707605, 0.91776973, 0.91846347, 0.91915721,\n        0.91985095, 0.92054462, 0.92123836, 0.9219321 , 0.92262584,\n        0.92331952, 0.92401326, 0.924707  , 0.92540073, 0.92609441,\n        0.92678815, 0.92748189, 0.92817557, 0.92886931, 0.92956305,\n        0.93025678, 0.93095046, 0.9316442 , 0.93233794, 0.93303168,\n        0.93372536, 0.9344191 , 0.93511283, 0.93580657, 0.93650025,\n        0.93719399, 0.93788773, 0.93858141, 0.93927515, 0.93996888,\n        0.94066262, 0.9413563 , 0.94205004, 0.94274378, 0.94343752,\n        0.9441312 , 0.94482493, 0.94551867, 0.94621241, 0.94690609,\n        0.94759983, 0.94829357, 0.94898725, 0.94968098, 0.95037472,\n        0.95106846, 0.95176214, 0.95245588, 0.95314962, 0.95384336,\n        0.95453703, 0.95523077, 0.95592451, 0.95661825, 0.95731193,\n        0.95800567, 0.95869941, 0.95939308, 0.96008682, 0.96078056,\n        0.9614743 , 0.96216798, 0.96286172, 0.96355546, 0.96424919,\n        0.96494287, 0.96563661, 0.96633035, 0.96702409, 0.96771777,\n        0.96841151, 0.96910524, 0.96979892, 0.97049266, 0.9711864 ,\n        0.97188014, 0.97257382, 0.97326756, 0.97396129, 0.97465503,\n        0.97534871, 0.97604245, 0.97673619, 0.97742993, 0.97812361,\n        0.97881734, 0.97951108, 0.98020476, 0.9808985 , 0.98159224,\n        0.98228598, 0.98297966, 0.98367339, 0.98436713, 0.98506087,\n        0.98575455, 0.98644829, 0.98714203, 0.98783576, 0.98852944,\n        0.98922318, 0.98991692, 0.9906106 , 0.99130434, 0.99199808,\n        0.99269181, 0.99338549, 0.99407923, 0.99477297, 0.99546671,\n        0.99616039, 0.99685413, 0.99754786, 0.9982416 , 0.99893528,\n        0.99962902]),\n <BarContainer object of 865 artists>)"
     },
     "execution_count": 10,
     "metadata": {},
     "output_type": "execute_result"
    },
    {
     "data": {
      "text/plain": "<Figure size 640x480 with 1 Axes>",
      "image/png": "[encoded data removed]"
     },
     "metadata": {},
     "output_type": "display_data"
    }
   ],
   "source": [
    "import matplotlib.pyplot as plt\n",
    "\n",
    "plt.hist(histogram_data, bins='auto')\n",
    "plt.hist(original_hist_data, bins='auto')\n",
    "# plt.xlim(0.95, 1)"
   ],
   "metadata": {
    "collapsed": false
   }
  }
 ],
 "metadata": {
  "kernelspec": {
   "display_name": "Python 3",
   "language": "python",
   "name": "python3"
  },
  "language_info": {
   "codemirror_mode": {
    "name": "ipython",
    "version": 2
   },
   "file_extension": ".py",
   "mimetype": "text/x-python",
   "name": "python",
   "nbconvert_exporter": "python",
   "pygments_lexer": "ipython2",
   "version": "2.7.6"
  }
 },
 "nbformat": 4,
 "nbformat_minor": 0
}
