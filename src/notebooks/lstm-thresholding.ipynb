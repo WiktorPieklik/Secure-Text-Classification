{
 "cells": [
  {
   "cell_type": "markdown",
   "source": [
    "# Load the model from file"
   ],
   "metadata": {
    "collapsed": false
   }
  },
  {
   "cell_type": "code",
   "execution_count": 1,
   "metadata": {
    "collapsed": true
   },
   "outputs": [
    {
     "name": "stdout",
     "output_type": "stream",
     "text": [
      "Metal device set to: Apple M1 Max\n"
     ]
    },
    {
     "name": "stderr",
     "output_type": "stream",
     "text": [
      "2023-02-01 03:17:19.561762: W tensorflow/core/platform/profile_utils/cpu_utils.cc:128] Failed to get CPU frequency: 0 Hz\n"
     ]
    },
    {
     "name": "stdout",
     "output_type": "stream",
     "text": [
      "Model: \"sequential\"\n",
      "_________________________________________________________________\n",
      " Layer (type)                Output Shape              Param #   \n",
      "=================================================================\n",
      " text_vectorization (TextVec  (None, 250)              0         \n",
      " torization)                                                     \n",
      "                                                                 \n",
      " embedding (Embedding)       (None, 250, 75)           7500000   \n",
      "                                                                 \n",
      " bidirectional (Bidirectiona  (None, 250, 2056)        9079296   \n",
      " l)                                                              \n",
      "                                                                 \n",
      " bidirectional_1 (Bidirectio  (None, 256)              2237440   \n",
      " nal)                                                            \n",
      "                                                                 \n",
      " dense (Dense)               (None, 3)                 771       \n",
      "                                                                 \n",
      "=================================================================\n",
      "Total params: 18,817,507\n",
      "Trainable params: 18,817,507\n",
      "Non-trainable params: 0\n",
      "_________________________________________________________________\n"
     ]
    }
   ],
   "source": [
    "import tensorflow as tf\n",
    "from pathlib import Path\n",
    "from os.path import abspath\n",
    "\n",
    "ROOT_DIR = Path(abspath('')).parent.parent\n",
    "MODEL_PATH = ROOT_DIR / \"raw\" / \"checkpoints\" / \"lstm7_best1\"\n",
    "\n",
    "\n",
    "model = tf.keras.models.load_model(MODEL_PATH)\n",
    "model.summary()"
   ]
  },
  {
   "cell_type": "markdown",
   "source": [
    "# Load the \"outer\" dataset"
   ],
   "metadata": {
    "collapsed": false
   }
  },
  {
   "cell_type": "code",
   "execution_count": 2,
   "outputs": [
    {
     "name": "stdout",
     "output_type": "stream",
     "text": [
      "Found 787 files belonging to 2 classes.\n"
     ]
    },
    {
     "data": {
      "text/plain": "['entertainment', 'tech']"
     },
     "execution_count": 2,
     "metadata": {},
     "output_type": "execute_result"
    }
   ],
   "source": [
    "OUTER_DS_DIR = ROOT_DIR / \"raw\" / \"outer_dataset\"\n",
    "DATASET_DIR = ROOT_DIR / \"raw\" / \"dataset\"\n",
    "BATCH_SIZE = 256\n",
    "SEED = 7312\n",
    "\n",
    "outer_ds = tf.keras.utils.text_dataset_from_directory(\n",
    "    directory=OUTER_DS_DIR,\n",
    "    label_mode='categorical',\n",
    "    batch_size=BATCH_SIZE,\n",
    "    seed=SEED\n",
    ")\n",
    "outer_ds.class_names"
   ],
   "metadata": {
    "collapsed": false
   }
  },
  {
   "cell_type": "markdown",
   "source": [
    "# Predicting on outer dataset"
   ],
   "metadata": {
    "collapsed": false
   }
  },
  {
   "cell_type": "code",
   "execution_count": 3,
   "outputs": [
    {
     "name": "stdout",
     "output_type": "stream",
     "text": [
      "4/4 [==============================] - 5s 719ms/step\n"
     ]
    }
   ],
   "source": [
    "result = model.predict(outer_ds)"
   ],
   "metadata": {
    "collapsed": false
   }
  },
  {
   "cell_type": "code",
   "execution_count": 4,
   "outputs": [
    {
     "name": "stdout",
     "output_type": "stream",
     "text": [
      "Found 1438 files belonging to 3 classes.\n",
      "6/6 [==============================] - 5s 645ms/step\n"
     ]
    },
    {
     "data": {
      "text/plain": "     business  politics     sport    Outer label\n0    0.136583  0.862770  0.000647           tech\n1    0.991835  0.007281  0.000884           tech\n2    0.969169  0.028583  0.002248  entertainment\n3    0.219124  0.780363  0.000513  entertainment\n4    0.618157  0.322172  0.059671  entertainment\n..        ...       ...       ...            ...\n782  0.993850  0.005191  0.000959           tech\n783  0.001241  0.488546  0.510214           tech\n784  0.993040  0.005927  0.001034  entertainment\n785  0.000256  0.000923  0.998820  entertainment\n786  0.234012  0.269175  0.496813           tech\n\n[787 rows x 4 columns]",
      "text/html": "<div>\n<style scoped>\n    .dataframe tbody tr th:only-of-type {\n        vertical-align: middle;\n    }\n\n    .dataframe tbody tr th {\n        vertical-align: top;\n    }\n\n    .dataframe thead th {\n        text-align: right;\n    }\n</style>\n<table border=\"1\" class=\"dataframe\">\n  <thead>\n    <tr style=\"text-align: right;\">\n      <th></th>\n      <th>business</th>\n      <th>politics</th>\n      <th>sport</th>\n      <th>Outer label</th>\n    </tr>\n  </thead>\n  <tbody>\n    <tr>\n      <th>0</th>\n      <td>0.136583</td>\n      <td>0.862770</td>\n      <td>0.000647</td>\n      <td>tech</td>\n    </tr>\n    <tr>\n      <th>1</th>\n      <td>0.991835</td>\n      <td>0.007281</td>\n      <td>0.000884</td>\n      <td>tech</td>\n    </tr>\n    <tr>\n      <th>2</th>\n      <td>0.969169</td>\n      <td>0.028583</td>\n      <td>0.002248</td>\n      <td>entertainment</td>\n    </tr>\n    <tr>\n      <th>3</th>\n      <td>0.219124</td>\n      <td>0.780363</td>\n      <td>0.000513</td>\n      <td>entertainment</td>\n    </tr>\n    <tr>\n      <th>4</th>\n      <td>0.618157</td>\n      <td>0.322172</td>\n      <td>0.059671</td>\n      <td>entertainment</td>\n    </tr>\n    <tr>\n      <th>...</th>\n      <td>...</td>\n      <td>...</td>\n      <td>...</td>\n      <td>...</td>\n    </tr>\n    <tr>\n      <th>782</th>\n      <td>0.993850</td>\n      <td>0.005191</td>\n      <td>0.000959</td>\n      <td>tech</td>\n    </tr>\n    <tr>\n      <th>783</th>\n      <td>0.001241</td>\n      <td>0.488546</td>\n      <td>0.510214</td>\n      <td>tech</td>\n    </tr>\n    <tr>\n      <th>784</th>\n      <td>0.993040</td>\n      <td>0.005927</td>\n      <td>0.001034</td>\n      <td>entertainment</td>\n    </tr>\n    <tr>\n      <th>785</th>\n      <td>0.000256</td>\n      <td>0.000923</td>\n      <td>0.998820</td>\n      <td>entertainment</td>\n    </tr>\n    <tr>\n      <th>786</th>\n      <td>0.234012</td>\n      <td>0.269175</td>\n      <td>0.496813</td>\n      <td>tech</td>\n    </tr>\n  </tbody>\n</table>\n<p>787 rows × 4 columns</p>\n</div>"
     },
     "execution_count": 4,
     "metadata": {},
     "output_type": "execute_result"
    }
   ],
   "source": [
    "import pandas as pd\n",
    "import numpy as np\n",
    "\n",
    "original_dataset_labels = ['business', 'politics', 'sport']\n",
    "original_ds = tf.keras.utils.text_dataset_from_directory(\n",
    "    directory=DATASET_DIR,\n",
    "    label_mode='categorical',\n",
    "    batch_size=BATCH_SIZE,\n",
    "    seed=SEED,\n",
    ")\n",
    "\n",
    "outer_dataset_labels = outer_ds.class_names\n",
    "actual_outer_labels = np.concatenate([[outer_dataset_labels[0] if y[0] else outer_dataset_labels[1] for y in y_batch] for x_batch, y_batch in outer_ds], axis=0)\n",
    "result_df = pd.DataFrame(result, columns=original_dataset_labels)\n",
    "result_df[\"Outer label\"] = actual_outer_labels\n",
    "predict_original = model.predict(original_ds)\n",
    "\n",
    "result_df"
   ],
   "metadata": {
    "collapsed": false
   }
  },
  {
   "cell_type": "code",
   "execution_count": 5,
   "outputs": [
    {
     "name": "stdout",
     "output_type": "stream",
     "text": [
      "6/6 [==============================] - 5s 663ms/step - loss: 0.1243 - accuracy: 0.9722 - recall: 0.9722 - precision: 0.9729 - auc: 0.9927\n"
     ]
    },
    {
     "data": {
      "text/plain": "[0.12428556382656097,\n 0.9721835851669312,\n 0.9721835851669312,\n 0.9728601574897766,\n 0.9926711320877075]"
     },
     "execution_count": 5,
     "metadata": {},
     "output_type": "execute_result"
    }
   ],
   "source": [
    "model.evaluate(original_ds)"
   ],
   "metadata": {
    "collapsed": false
   }
  },
  {
   "cell_type": "code",
   "execution_count": 6,
   "outputs": [],
   "source": [
    "def get_max(softmax: np.ndarray) -> float:\n",
    "    return np.max(softmax)\n",
    "\n",
    "def get_predicted_label(softmax: np.ndarray) -> float:\n",
    "    return original_dataset_labels[np.argmax(softmax)]"
   ],
   "metadata": {
    "collapsed": false
   }
  },
  {
   "cell_type": "markdown",
   "source": [
    "# Plot the max(softmax) histogram"
   ],
   "metadata": {
    "collapsed": false
   }
  },
  {
   "cell_type": "code",
   "execution_count": 7,
   "outputs": [
    {
     "data": {
      "text/plain": "(array([  1.,   0.,   0.,   0.,   0.,   0.,   0.,   0.,   0.,   0.,   0.,\n          0.,   0.,   0.,   0.,   0.,   0.,   0.,   0.,   0.,   0.,   0.,\n          0.,   0.,   0.,   0.,   0.,   0.,   0.,   0.,   0.,   0.,   0.,\n          0.,   0.,   0.,   0.,   0.,   0.,   0.,   0.,   0.,   0.,   0.,\n          0.,   0.,   0.,   0.,   0.,   0.,   0.,   0.,   0.,   0.,   0.,\n          0.,   0.,   0.,   0.,   0.,   0.,   0.,   0.,   0.,   0.,   0.,\n          0.,   0.,   0.,   0.,   0.,   0.,   0.,   0.,   0.,   0.,   0.,\n          0.,   0.,   0.,   0.,   0.,   0.,   0.,   0.,   0.,   0.,   0.,\n          0.,   0.,   0.,   0.,   0.,   0.,   0.,   0.,   0.,   0.,   0.,\n          0.,   0.,   0.,   0.,   0.,   0.,   0.,   0.,   0.,   0.,   0.,\n          0.,   0.,   0.,   0.,   0.,   0.,   0.,   0.,   0.,   0.,   0.,\n          0.,   0.,   0.,   0.,   0.,   0.,   0.,   0.,   0.,   0.,   0.,\n          0.,   0.,   0.,   0.,   0.,   0.,   0.,   0.,   0.,   0.,   0.,\n          0.,   0.,   0.,   0.,   1.,   0.,   0.,   0.,   0.,   0.,   0.,\n          0.,   0.,   0.,   0.,   0.,   0.,   0.,   0.,   0.,   0.,   0.,\n          1.,   0.,   1.,   0.,   0.,   0.,   0.,   0.,   0.,   0.,   1.,\n          0.,   0.,   0.,   0.,   0.,   0.,   0.,   0.,   0.,   0.,   1.,\n          0.,   0.,   0.,   0.,   0.,   0.,   0.,   0.,   0.,   0.,   0.,\n          0.,   0.,   0.,   0.,   0.,   0.,   0.,   0.,   0.,   0.,   0.,\n          0.,   0.,   0.,   0.,   1.,   0.,   0.,   0.,   0.,   0.,   0.,\n          0.,   0.,   0.,   0.,   0.,   0.,   0.,   0.,   0.,   0.,   0.,\n          0.,   0.,   0.,   0.,   0.,   0.,   0.,   0.,   1.,   0.,   0.,\n          0.,   0.,   0.,   0.,   0.,   0.,   0.,   1.,   0.,   0.,   0.,\n          0.,   0.,   0.,   0.,   0.,   0.,   0.,   1.,   0.,   0.,   0.,\n          0.,   0.,   0.,   0.,   0.,   0.,   0.,   0.,   1.,   1.,   0.,\n          0.,   0.,   0.,   0.,   1.,   0.,   0.,   0.,   0.,   0.,   0.,\n          0.,   0.,   1.,   0.,   0.,   0.,   1.,   0.,   0.,   1.,   0.,\n          0.,   0.,   0.,   0.,   0.,   0.,   0.,   0.,   0.,   0.,   0.,\n          0.,   0.,   0.,   0.,   1.,   0.,   0.,   0.,   0.,   0.,   0.,\n          0.,   0.,   0.,   0.,   0.,   0.,   0.,   0.,   1.,   0.,   0.,\n          0.,   0.,   0.,   0.,   0.,   0.,   0.,   0.,   0.,   0.,   0.,\n          0.,   0.,   0.,   0.,   0.,   1.,   0.,   0.,   0.,   0.,   0.,\n          0.,   0.,   0.,   0.,   0.,   0.,   0.,   0.,   0.,   0.,   0.,\n          1.,   0.,   0.,   1.,   0.,   0.,   0.,   0.,   0.,   0.,   0.,\n          0.,   0.,   0.,   0.,   0.,   0.,   0.,   0.,   0.,   0.,   0.,\n          0.,   0.,   0.,   0.,   0.,   0.,   0.,   0.,   0.,   0.,   0.,\n          0.,   0.,   0.,   0.,   0.,   0.,   0.,   0.,   0.,   1.,   0.,\n          0.,   0.,   0.,   0.,   0.,   0.,   0.,   0.,   0.,   0.,   0.,\n          0.,   0.,   0.,   0.,   0.,   0.,   0.,   0.,   0.,   0.,   0.,\n          1.,   0.,   0.,   0.,   0.,   0.,   0.,   0.,   0.,   0.,   0.,\n          0.,   0.,   0.,   0.,   0.,   0.,   0.,   0.,   2.,   0.,   1.,\n          0.,   0.,   0.,   0.,   0.,   0.,   0.,   0.,   0.,   0.,   0.,\n          0.,   0.,   0.,   1.,   0.,   0.,   0.,   0.,   0.,   0.,   1.,\n          1.,   0.,   0.,   0.,   0.,   0.,   0.,   0.,   1.,   0.,   0.,\n          0.,   0.,   0.,   0.,   0.,   0.,   0.,   0.,   0.,   0.,   0.,\n          0.,   1.,   0.,   0.,   0.,   0.,   0.,   0.,   0.,   0.,   0.,\n          1.,   0.,   1.,   0.,   1.,   0.,   0.,   0.,   0.,   0.,   0.,\n          0.,   0.,   0.,   1.,   0.,   1.,   1.,   0.,   0.,   1.,   0.,\n          0.,   0.,   0.,   0.,   0.,   0.,   0.,   0.,   0.,   0.,   0.,\n          0.,   1.,   0.,   0.,   0.,   0.,   0.,   0.,   0.,   0.,   1.,\n          0.,   0.,   0.,   0.,   0.,   0.,   0.,   0.,   1.,   0.,   0.,\n          0.,   0.,   0.,   0.,   0.,   0.,   0.,   0.,   0.,   0.,   0.,\n          0.,   0.,   0.,   0.,   0.,   0.,   0.,   0.,   0.,   1.,   0.,\n          1.,   0.,   0.,   0.,   0.,   0.,   0.,   1.,   1.,   0.,   0.,\n          0.,   1.,   2.,   0.,   1.,   0.,   1.,   0.,   0.,   0.,   0.,\n          0.,   0.,   0.,   0.,   0.,   0.,   1.,   0.,   0.,   0.,   1.,\n          0.,   0.,   0.,   0.,   2.,   0.,   0.,   0.,   0.,   0.,   0.,\n          0.,   0.,   0.,   1.,   0.,   0.,   0.,   0.,   0.,   0.,   0.,\n          0.,   0.,   0.,   0.,   0.,   0.,   0.,   0.,   0.,   0.,   0.,\n          0.,   0.,   2.,   0.,   1.,   0.,   0.,   1.,   0.,   1.,   1.,\n          0.,   0.,   0.,   0.,   0.,   2.,   0.,   0.,   0.,   1.,   0.,\n          0.,   0.,   0.,   0.,   0.,   1.,   0.,   3.,   0.,   0.,   1.,\n          2.,   1.,   0.,   1.,   0.,   2.,   2.,   1.,   0.,   0.,   0.,\n          1.,   0.,   1.,   0.,   0.,   1.,   0.,   0.,   0.,   0.,   0.,\n          1.,   0.,   0.,   1.,   1.,   0.,   1.,   0.,   0.,   2.,   0.,\n          3.,   0.,   0.,   0.,   3.,   2.,   1.,   0.,   1.,   0.,   0.,\n          0.,   2.,   1.,   0.,   0.,   0.,   1.,   2.,   1.,   1.,   1.,\n          0.,   1.,   1.,   0.,   0.,   1.,   0.,   0.,   0.,   1.,   1.,\n          2.,   0.,   0.,   1.,   0.,   0.,   2.,   0.,   1.,   0.,   0.,\n          0.,   0.,   0.,   0.,   2.,   0.,   0.,   0.,   2.,   3.,   1.,\n          0.,   0.,   2.,   1.,   0.,   0.,   0.,   0.,   0.,   1.,   0.,\n          0.,   1.,   0.,   0.,   0.,   0.,   1.,   0.,   1.,   0.,   1.,\n          1.,   1.,   0.,   1.,   2.,   1.,   1.,   1.,   1.,   2.,   0.,\n          1.,   0.,   0.,   1.,   2.,   1.,   1.,   0.,   0.,   1.,   1.,\n          0.,   2.,   1.,   1.,   2.,   3.,   1.,   0.,   0.,   2.,   0.,\n          2.,   2.,   3.,   4.,   2.,   1.,   3.,   0.,   5.,   4.,   2.,\n          3.,   1.,   3.,   2.,   8.,   6.,   3.,   9.,   5.,   4.,   6.,\n          4.,   6.,  10.,   8.,  13.,  20.,  16.,  30.,  52.,  93., 145.,\n        150., 153., 138.,  78.,  42., 103., 135.]),\n array([0.39955899, 0.4002527 , 0.40094644, 0.40164015, 0.40233389,\n        0.40302759, 0.40372133, 0.40441504, 0.40510878, 0.40580249,\n        0.40649623, 0.40718994, 0.40788367, 0.40857738, 0.40927112,\n        0.40996483, 0.41065854, 0.41135228, 0.41204599, 0.41273972,\n        0.41343343, 0.41412717, 0.41482088, 0.41551462, 0.41620833,\n        0.41690207, 0.41759577, 0.41828951, 0.41898322, 0.41967696,\n        0.42037067, 0.42106438, 0.42175812, 0.42245182, 0.42314556,\n        0.42383927, 0.42453301, 0.42522672, 0.42592046, 0.42661417,\n        0.4273079 , 0.42800161, 0.42869535, 0.42938906, 0.4300828 ,\n        0.43077651, 0.43147022, 0.43216395, 0.43285766, 0.4335514 ,\n        0.43424511, 0.43493885, 0.43563256, 0.4363263 , 0.43702   ,\n        0.43771374, 0.43840745, 0.43910119, 0.4397949 , 0.44048864,\n        0.44118235, 0.44187605, 0.44256979, 0.4432635 , 0.44395724,\n        0.44465095, 0.44534469, 0.4460384 , 0.44673213, 0.44742584,\n        0.44811958, 0.44881329, 0.44950703, 0.45020074, 0.45089447,\n        0.45158818, 0.45228189, 0.45297563, 0.45366934, 0.45436308,\n        0.45505679, 0.45575052, 0.45644423, 0.45713797, 0.45783168,\n        0.45852542, 0.45921913, 0.45991287, 0.46060658, 0.46130031,\n        0.46199402, 0.46268776, 0.46338147, 0.46407518, 0.46476892,\n        0.46546263, 0.46615636, 0.46685007, 0.46754381, 0.46823752,\n        0.46893126, 0.46962497, 0.4703187 , 0.47101241, 0.47170615,\n        0.47239986, 0.4730936 , 0.47378731, 0.47448102, 0.47517475,\n        0.47586846, 0.4765622 , 0.47725591, 0.47794965, 0.47864336,\n        0.4793371 , 0.4800308 , 0.48072454, 0.48141825, 0.48211199,\n        0.4828057 , 0.48349944, 0.48419315, 0.48488685, 0.48558059,\n        0.4862743 , 0.48696804, 0.48766175, 0.48835549, 0.4890492 ,\n        0.48974293, 0.49043664, 0.49113038, 0.49182409, 0.49251783,\n        0.49321154, 0.49390528, 0.49459898, 0.49529269, 0.49598643,\n        0.49668014, 0.49737388, 0.49806759, 0.49876133, 0.49945503,\n        0.50014877, 0.50084251, 0.50153619, 0.50222993, 0.50292367,\n        0.50361741, 0.50431108, 0.50500482, 0.50569856, 0.50639224,\n        0.50708598, 0.50777972, 0.50847346, 0.50916713, 0.50986087,\n        0.51055461, 0.51124835, 0.51194203, 0.51263577, 0.51332951,\n        0.51402324, 0.51471692, 0.51541066, 0.5161044 , 0.51679808,\n        0.51749182, 0.51818556, 0.51887929, 0.51957297, 0.52026671,\n        0.52096045, 0.52165419, 0.52234787, 0.52304161, 0.52373534,\n        0.52442908, 0.52512276, 0.5258165 , 0.52651024, 0.52720392,\n        0.52789766, 0.52859139, 0.52928513, 0.52997881, 0.53067255,\n        0.53136629, 0.53206003, 0.53275371, 0.53344744, 0.53414118,\n        0.53483492, 0.5355286 , 0.53622234, 0.53691608, 0.53760976,\n        0.53830349, 0.53899723, 0.53969097, 0.54038465, 0.54107839,\n        0.54177213, 0.54246587, 0.54315954, 0.54385328, 0.54454702,\n        0.54524076, 0.54593444, 0.54662818, 0.54732192, 0.54801559,\n        0.54870933, 0.54940307, 0.55009681, 0.55079049, 0.55148423,\n        0.55217797, 0.5528717 , 0.55356538, 0.55425912, 0.55495286,\n        0.5556466 , 0.55634028, 0.55703402, 0.55772775, 0.55842143,\n        0.55911517, 0.55980891, 0.56050265, 0.56119633, 0.56189007,\n        0.5625838 , 0.56327754, 0.56397122, 0.56466496, 0.5653587 ,\n        0.56605244, 0.56674612, 0.56743985, 0.56813359, 0.56882727,\n        0.56952101, 0.57021475, 0.57090849, 0.57160217, 0.5722959 ,\n        0.57298964, 0.57368338, 0.57437706, 0.5750708 , 0.57576454,\n        0.57645828, 0.57715195, 0.57784569, 0.57853943, 0.57923311,\n        0.57992685, 0.58062059, 0.58131433, 0.582008  , 0.58270174,\n        0.58339548, 0.58408922, 0.5847829 , 0.58547664, 0.58617038,\n        0.58686411, 0.58755779, 0.58825153, 0.58894527, 0.58963895,\n        0.59033269, 0.59102643, 0.59172016, 0.59241384, 0.59310758,\n        0.59380132, 0.59449506, 0.59518874, 0.59588248, 0.59657621,\n        0.59726995, 0.59796363, 0.59865737, 0.59935111, 0.60004479,\n        0.60073853, 0.60143226, 0.602126  , 0.60281968, 0.60351342,\n        0.60420716, 0.6049009 , 0.60559458, 0.60628831, 0.60698205,\n        0.60767579, 0.60836947, 0.60906321, 0.60975695, 0.61045063,\n        0.61114436, 0.6118381 , 0.61253184, 0.61322552, 0.61391926,\n        0.614613  , 0.61530674, 0.61600041, 0.61669415, 0.61738789,\n        0.61808163, 0.61877531, 0.61946905, 0.62016279, 0.62085646,\n        0.6215502 , 0.62224394, 0.62293768, 0.62363136, 0.6243251 ,\n        0.62501884, 0.62571257, 0.62640625, 0.62709999, 0.62779373,\n        0.62848747, 0.62918115, 0.62987489, 0.63056862, 0.6312623 ,\n        0.63195604, 0.63264978, 0.63334352, 0.6340372 , 0.63473094,\n        0.63542467, 0.63611841, 0.63681209, 0.63750583, 0.63819957,\n        0.63889331, 0.63958699, 0.64028072, 0.64097446, 0.6416682 ,\n        0.64236188, 0.64305562, 0.64374936, 0.64444304, 0.64513677,\n        0.64583051, 0.64652425, 0.64721793, 0.64791167, 0.64860541,\n        0.64929914, 0.64999282, 0.65068656, 0.6513803 , 0.65207404,\n        0.65276772, 0.65346146, 0.65415519, 0.65484887, 0.65554261,\n        0.65623635, 0.65693009, 0.65762377, 0.65831751, 0.65901124,\n        0.65970498, 0.66039866, 0.6610924 , 0.66178614, 0.66247988,\n        0.66317356, 0.66386729, 0.66456103, 0.66525471, 0.66594845,\n        0.66664219, 0.66733593, 0.66802961, 0.66872334, 0.66941708,\n        0.67011082, 0.6708045 , 0.67149824, 0.67219198, 0.67288572,\n        0.67357939, 0.67427313, 0.67496687, 0.67566055, 0.67635429,\n        0.67704803, 0.67774177, 0.67843544, 0.67912918, 0.67982292,\n        0.68051666, 0.68121034, 0.68190408, 0.68259782, 0.68329155,\n        0.68398523, 0.68467897, 0.68537271, 0.68606639, 0.68676013,\n        0.68745387, 0.6881476 , 0.68884128, 0.68953502, 0.69022876,\n        0.6909225 , 0.69161618, 0.69230992, 0.69300365, 0.69369739,\n        0.69439107, 0.69508481, 0.69577855, 0.69647223, 0.69716597,\n        0.6978597 , 0.69855344, 0.69924712, 0.69994086, 0.7006346 ,\n        0.70132834, 0.70202202, 0.70271575, 0.70340949, 0.70410323,\n        0.70479691, 0.70549065, 0.70618439, 0.70687807, 0.7075718 ,\n        0.70826554, 0.70895928, 0.70965296, 0.7103467 , 0.71104044,\n        0.71173418, 0.71242785, 0.71312159, 0.71381533, 0.71450907,\n        0.71520275, 0.71589649, 0.71659023, 0.7172839 , 0.71797764,\n        0.71867138, 0.71936512, 0.7200588 , 0.72075254, 0.72144628,\n        0.72214001, 0.72283369, 0.72352743, 0.72422117, 0.72491491,\n        0.72560859, 0.72630233, 0.72699606, 0.72768974, 0.72838348,\n        0.72907722, 0.72977096, 0.73046464, 0.73115838, 0.73185211,\n        0.73254585, 0.73323953, 0.73393327, 0.73462701, 0.73532075,\n        0.73601443, 0.73670816, 0.7374019 , 0.73809558, 0.73878932,\n        0.73948306, 0.7401768 , 0.74087048, 0.74156421, 0.74225795,\n        0.74295169, 0.74364537, 0.74433911, 0.74503285, 0.74572659,\n        0.74642026, 0.747114  , 0.74780774, 0.74850142, 0.74919516,\n        0.7498889 , 0.75058264, 0.75127631, 0.75197005, 0.75266379,\n        0.75335753, 0.75405121, 0.75474495, 0.75543869, 0.75613242,\n        0.7568261 , 0.75751984, 0.75821358, 0.75890726, 0.759601  ,\n        0.76029474, 0.76098847, 0.76168215, 0.76237589, 0.76306963,\n        0.76376337, 0.76445705, 0.76515079, 0.76584452, 0.76653826,\n        0.76723194, 0.76792568, 0.76861942, 0.7693131 , 0.77000684,\n        0.77070057, 0.77139431, 0.77208799, 0.77278173, 0.77347547,\n        0.77416921, 0.77486289, 0.77555662, 0.77625036, 0.7769441 ,\n        0.77763778, 0.77833152, 0.77902526, 0.77971894, 0.78041267,\n        0.78110641, 0.78180015, 0.78249383, 0.78318757, 0.78388131,\n        0.78457505, 0.78526872, 0.78596246, 0.7866562 , 0.78734994,\n        0.78804362, 0.78873736, 0.7894311 , 0.79012477, 0.79081851,\n        0.79151225, 0.79220599, 0.79289967, 0.79359341, 0.79428715,\n        0.79498088, 0.79567456, 0.7963683 , 0.79706204, 0.79775578,\n        0.79844946, 0.7991432 , 0.79983693, 0.80053061, 0.80122435,\n        0.80191809, 0.80261183, 0.80330551, 0.80399925, 0.80469298,\n        0.80538672, 0.8060804 , 0.80677414, 0.80746788, 0.80816162,\n        0.8088553 , 0.80954903, 0.81024277, 0.81093645, 0.81163019,\n        0.81232393, 0.81301767, 0.81371135, 0.81440508, 0.81509882,\n        0.81579256, 0.81648624, 0.81717998, 0.81787372, 0.81856745,\n        0.81926113, 0.81995487, 0.82064861, 0.82134229, 0.82203603,\n        0.82272977, 0.8234235 , 0.82411718, 0.82481092, 0.82550466,\n        0.8261984 , 0.82689208, 0.82758582, 0.82827955, 0.82897329,\n        0.82966697, 0.83036071, 0.83105445, 0.83174813, 0.83244187,\n        0.8331356 , 0.83382934, 0.83452302, 0.83521676, 0.8359105 ,\n        0.83660424, 0.83729792, 0.83799165, 0.83868539, 0.83937913,\n        0.84007281, 0.84076655, 0.84146029, 0.84215397, 0.8428477 ,\n        0.84354144, 0.84423518, 0.84492886, 0.8456226 , 0.84631634,\n        0.84701008, 0.84770375, 0.84839749, 0.84909123, 0.84978497,\n        0.85047865, 0.85117239, 0.85186613, 0.8525598 , 0.85325354,\n        0.85394728, 0.85464102, 0.8553347 , 0.85602844, 0.85672218,\n        0.85741591, 0.85810959, 0.85880333, 0.85949707, 0.86019081,\n        0.86088449, 0.86157823, 0.86227196, 0.86296564, 0.86365938,\n        0.86435312, 0.86504686, 0.86574054, 0.86643428, 0.86712801,\n        0.86782175, 0.86851543, 0.86920917, 0.86990291, 0.87059665,\n        0.87129033, 0.87198406, 0.8726778 , 0.87337148, 0.87406522,\n        0.87475896, 0.8754527 , 0.87614638, 0.87684011, 0.87753385,\n        0.87822759, 0.87892127, 0.87961501, 0.88030875, 0.88100249,\n        0.88169616, 0.8823899 , 0.88308364, 0.88377738, 0.88447106,\n        0.8851648 , 0.88585854, 0.88655221, 0.88724595, 0.88793969,\n        0.88863343, 0.88932711, 0.89002085, 0.89071459, 0.89140832,\n        0.892102  , 0.89279574, 0.89348948, 0.89418322, 0.8948769 ,\n        0.89557064, 0.89626437, 0.89695805, 0.89765179, 0.89834553,\n        0.89903927, 0.89973295, 0.90042669, 0.90112042, 0.90181416,\n        0.90250784, 0.90320158, 0.90389532, 0.90458906, 0.90528274,\n        0.90597647, 0.90667021, 0.90736389, 0.90805763, 0.90875137,\n        0.90944511, 0.91013879, 0.91083252, 0.91152626, 0.91222   ,\n        0.91291368, 0.91360742, 0.91430116, 0.9149949 , 0.91568857,\n        0.91638231, 0.91707605, 0.91776973, 0.91846347, 0.91915721,\n        0.91985095, 0.92054462, 0.92123836, 0.9219321 , 0.92262584,\n        0.92331952, 0.92401326, 0.924707  , 0.92540073, 0.92609441,\n        0.92678815, 0.92748189, 0.92817557, 0.92886931, 0.92956305,\n        0.93025678, 0.93095046, 0.9316442 , 0.93233794, 0.93303168,\n        0.93372536, 0.9344191 , 0.93511283, 0.93580657, 0.93650025,\n        0.93719399, 0.93788773, 0.93858141, 0.93927515, 0.93996888,\n        0.94066262, 0.9413563 , 0.94205004, 0.94274378, 0.94343752,\n        0.9441312 , 0.94482493, 0.94551867, 0.94621241, 0.94690609,\n        0.94759983, 0.94829357, 0.94898725, 0.94968098, 0.95037472,\n        0.95106846, 0.95176214, 0.95245588, 0.95314962, 0.95384336,\n        0.95453703, 0.95523077, 0.95592451, 0.95661825, 0.95731193,\n        0.95800567, 0.95869941, 0.95939308, 0.96008682, 0.96078056,\n        0.9614743 , 0.96216798, 0.96286172, 0.96355546, 0.96424919,\n        0.96494287, 0.96563661, 0.96633035, 0.96702409, 0.96771777,\n        0.96841151, 0.96910524, 0.96979892, 0.97049266, 0.9711864 ,\n        0.97188014, 0.97257382, 0.97326756, 0.97396129, 0.97465503,\n        0.97534871, 0.97604245, 0.97673619, 0.97742993, 0.97812361,\n        0.97881734, 0.97951108, 0.98020476, 0.9808985 , 0.98159224,\n        0.98228598, 0.98297966, 0.98367339, 0.98436713, 0.98506087,\n        0.98575455, 0.98644829, 0.98714203, 0.98783576, 0.98852944,\n        0.98922318, 0.98991692, 0.9906106 , 0.99130434, 0.99199808,\n        0.99269181, 0.99338549, 0.99407923, 0.99477297, 0.99546671,\n        0.99616039, 0.99685413, 0.99754786, 0.9982416 , 0.99893528,\n        0.99962902]),\n <BarContainer object of 865 artists>)"
     },
     "execution_count": 7,
     "metadata": {},
     "output_type": "execute_result"
    },
    {
     "data": {
      "text/plain": "<Figure size 640x480 with 1 Axes>",
      "image/png": "[encoded data removed]"
     },
     "metadata": {},
     "output_type": "display_data"
    }
   ],
   "source": [
    "import matplotlib.pyplot as plt\n",
    "\n",
    "histogram_data = np.apply_along_axis(get_max, 1, result)\n",
    "original_hist_data = np.apply_along_axis(get_max, 1, predict_original)\n",
    "\n",
    "plt.title('max(softmax) histogram')\n",
    "plt.hist(histogram_data, bins='auto')\n",
    "plt.hist(original_hist_data, bins='auto')\n",
    "# plt.xlim(0.95, 1)"
   ],
   "metadata": {
    "collapsed": false
   }
  },
  {
   "cell_type": "markdown",
   "source": [
    "# Get logits & features"
   ],
   "metadata": {
    "collapsed": false
   }
  },
  {
   "cell_type": "code",
   "execution_count": 8,
   "outputs": [
    {
     "name": "stdout",
     "output_type": "stream",
     "text": [
      "Model: \"logits\"\n",
      "_________________________________________________________________\n",
      " Layer (type)                Output Shape              Param #   \n",
      "=================================================================\n",
      " input_1 (InputLayer)        [(None, 1)]               0         \n",
      "                                                                 \n",
      " text_vectorization (TextVec  (None, 250)              0         \n",
      " torization)                                                     \n",
      "                                                                 \n",
      " embedding (Embedding)       (None, 250, 75)           7500000   \n",
      "                                                                 \n",
      " bidirectional (Bidirectiona  (None, 250, 2056)        9079296   \n",
      " l)                                                              \n",
      "                                                                 \n",
      " bidirectional_1 (Bidirectio  (None, 256)              2237440   \n",
      " nal)                                                            \n",
      "                                                                 \n",
      " dense (Dense)               (None, 3)                 771       \n",
      "                                                                 \n",
      "=================================================================\n",
      "Total params: 18,817,507\n",
      "Trainable params: 18,817,507\n",
      "Non-trainable params: 0\n",
      "_________________________________________________________________\n",
      "Model: \"features\"\n",
      "_________________________________________________________________\n",
      " Layer (type)                Output Shape              Param #   \n",
      "=================================================================\n",
      " input_1 (InputLayer)        [(None, 1)]               0         \n",
      "                                                                 \n",
      " text_vectorization (TextVec  (None, 250)              0         \n",
      " torization)                                                     \n",
      "                                                                 \n",
      " embedding (Embedding)       (None, 250, 75)           7500000   \n",
      "                                                                 \n",
      " bidirectional (Bidirectiona  (None, 250, 2056)        9079296   \n",
      " l)                                                              \n",
      "                                                                 \n",
      " bidirectional_1 (Bidirectio  (None, 256)              2237440   \n",
      " nal)                                                            \n",
      "                                                                 \n",
      "=================================================================\n",
      "Total params: 18,816,736\n",
      "Trainable params: 18,816,736\n",
      "Non-trainable params: 0\n",
      "_________________________________________________________________\n"
     ]
    }
   ],
   "source": [
    "base_input = model.input\n",
    "base_output = model.layers[-2].output\n",
    "\n",
    "logits_layer = tf.keras.layers.Dense(3)\n",
    "logits_outputs = logits_layer(base_output)\n",
    "logits_model = tf.keras.Model(base_input, logits_outputs, name='logits')\n",
    "\n",
    "features_model = tf.keras.Model(base_input, base_output, name='features')\n",
    "\n",
    "logits_model.summary()\n",
    "features_model.summary()"
   ],
   "metadata": {
    "collapsed": false
   }
  },
  {
   "cell_type": "code",
   "execution_count": 9,
   "outputs": [
    {
     "name": "stdout",
     "output_type": "stream",
     "text": [
      "4/4 [==============================] - 4s 679ms/step\n",
      "6/6 [==============================] - 5s 643ms/step\n",
      "4/4 [==============================] - 4s 664ms/step\n",
      "6/6 [==============================] - 5s 640ms/step\n"
     ]
    }
   ],
   "source": [
    "outer_logits = logits_model.predict(outer_ds)\n",
    "original_logits = logits_model.predict(original_ds)\n",
    "\n",
    "outer_features = features_model.predict(outer_ds)\n",
    "original_features = features_model.predict(original_ds)"
   ],
   "metadata": {
    "collapsed": false
   }
  },
  {
   "cell_type": "markdown",
   "source": [
    "# Plot the max(logits) histogram"
   ],
   "metadata": {
    "collapsed": false
   }
  },
  {
   "cell_type": "code",
   "execution_count": 10,
   "outputs": [
    {
     "data": {
      "text/plain": "(array([  2.,   5.,  20.,  10.,  16.,  24.,  23.,  28.,  39.,  42.,  70.,\n         82.,  89., 103.,  84.,  46.,  28.,  13.,  11.,  13.,   8.,   5.,\n          6.,   4.,   4.,   5.,   3.,   0.,   0.,   1.,   2.,   1.]),\n array([-0.3550263 , -0.31641853, -0.27781078, -0.23920302, -0.20059526,\n        -0.16198748, -0.12337972, -0.08477196, -0.0461642 , -0.00755644,\n         0.03105133,  0.06965909,  0.10826685,  0.14687462,  0.18548238,\n         0.22409014,  0.26269791,  0.30130568,  0.33991343,  0.3785212 ,\n         0.41712895,  0.45573673,  0.49434447,  0.53295225,  0.57156003,\n         0.6101678 ,  0.64877552,  0.68738329,  0.72599107,  0.76459885,\n         0.80320656,  0.84181434,  0.88042212]),\n <BarContainer object of 32 artists>)"
     },
     "execution_count": 10,
     "metadata": {},
     "output_type": "execute_result"
    },
    {
     "data": {
      "text/plain": "<Figure size 640x480 with 1 Axes>",
      "image/png": "[encoded data removed]"
     },
     "metadata": {},
     "output_type": "display_data"
    }
   ],
   "source": [
    "outer_hist_data = np.apply_along_axis(get_max, 1, outer_logits)\n",
    "idd_hist_data = np.apply_along_axis(get_max, 1, original_logits)\n",
    "\n",
    "plt.title('max(logits) histogram')\n",
    "plt.hist(idd_hist_data, bins='auto')\n",
    "plt.hist(outer_hist_data, bins='auto', alpha=.6)"
   ],
   "metadata": {
    "collapsed": false
   }
  },
  {
   "cell_type": "code",
   "execution_count": 11,
   "outputs": [],
   "source": [
    "def get_labels(dataset):\n",
    "    labels = np.empty((0, 1))\n",
    "    for x, y in dataset:\n",
    "        for one_hot in y.numpy():\n",
    "            labels = np.append(labels, np.argmax(one_hot))\n",
    "\n",
    "    return labels"
   ],
   "metadata": {
    "collapsed": false
   }
  },
  {
   "cell_type": "code",
   "execution_count": 12,
   "outputs": [],
   "source": [
    "original_logits = original_logits[:780, :].reshape((12, -1, 3))\n",
    "outer_logits = outer_logits[:780, :].reshape((12, -1, 3))\n",
    "labels = get_labels(original_ds)[:780].reshape((12, -1))"
   ],
   "metadata": {
    "collapsed": false
   }
  },
  {
   "cell_type": "code",
   "execution_count": 13,
   "outputs": [],
   "source": [
    "original_features = original_features[:780, :].reshape((12, -1, 256))\n",
    "outer_features = outer_features[:780, :].reshape((12, -1, 256))"
   ],
   "metadata": {
    "collapsed": false
   }
  },
  {
   "cell_type": "markdown",
   "source": [
    "# Mahalanobis distance"
   ],
   "metadata": {
    "collapsed": false
   }
  },
  {
   "cell_type": "code",
   "execution_count": 14,
   "outputs": [],
   "source": [
    "from sklearn.discriminant_analysis import LinearDiscriminantAnalysis\n",
    "\n",
    "def confidence(features: np.ndarray,\n",
    "               means: np.ndarray,\n",
    "               distance_type: str,\n",
    "               cov: np.ndarray = None) -> np.ndarray:\n",
    "    \"\"\"\n",
    "    Calculate mahalanobis or euclidean based confidence score for each class.\n",
    "    Params:\n",
    "        - features: shape (num_samples, num_features)\n",
    "        - means: shape (num_classes, num_features)\n",
    "        - cov: shape (num_features, num_features) or None (if use euclidean distance)\n",
    "\n",
    "    Returns:\n",
    "        - confidence: shape (num_samples, num_classes)\n",
    "    \"\"\"\n",
    "    assert distance_type in (\"euclidean\", \"mahalanobis\")\n",
    "\n",
    "    num_samples = features.shape[0]\n",
    "    num_features = features.shape[1]\n",
    "    num_classes = means.shape[0]\n",
    "    if distance_type == \"euclidean\":\n",
    "        cov = np.identity(num_features)\n",
    "\n",
    "    features = features.reshape(num_samples, 1, num_features).repeat(num_classes, axis=1)  # (num_samples, num_classes, num_features)\n",
    "    means = means.reshape(1, num_classes, num_features).repeat(num_samples, axis=0)  # (num_samples, num_classes, num_features)\n",
    "    vectors = features - means  # (num_samples, num_classes, num_features)\n",
    "    cov_inv = np.linalg.inv(cov)\n",
    "    bef_sqrt = np.matmul(np.matmul(vectors.reshape(num_samples, num_classes, 1, num_features), cov_inv),\n",
    "                         vectors.reshape(num_samples, num_classes, num_features, 1)).squeeze()\n",
    "    result = np.sqrt(bef_sqrt)\n",
    "    result[np.isnan(result)] = 1e12  # solve nan\n",
    "    return result\n",
    "\n",
    "\n",
    "def mahalanobis(original, outer, labels, threshold = 1.2, solver=\"lsqr\", distance_type=\"mahalanobis\"):\n",
    "    false_seen = 0\n",
    "    for feature_train, feature_test, y_train in zip(original, outer, labels):\n",
    "        gda = LinearDiscriminantAnalysis(solver=solver, shrinkage=None, store_covariance=True)\n",
    "        gda.fit(feature_train, y_train)\n",
    "\n",
    "        y_pred = gda.predict(feature_test)\n",
    "        gda_result_test = confidence(feature_test, gda.means_, distance_type, gda.covariance_)\n",
    "        y_pred_score = pd.Series(gda_result_test.min(axis=1))\n",
    "\n",
    "        y_pred_score[y_pred_score[y_pred_score > threshold].index] = 'unseen'\n",
    "\n",
    "        false_seen += y_pred_score.value_counts()['unseen'] / y_pred.size\n",
    "    false_seen /= len(feature_train)\n",
    "\n",
    "    return false_seen"
   ],
   "metadata": {
    "collapsed": false
   }
  },
  {
   "cell_type": "markdown",
   "source": [
    "# Mahalanobis for logits"
   ],
   "metadata": {
    "collapsed": false
   }
  },
  {
   "cell_type": "code",
   "execution_count": 15,
   "outputs": [
    {
     "data": {
      "text/plain": "0.12236686390532546"
     },
     "execution_count": 15,
     "metadata": {},
     "output_type": "execute_result"
    }
   ],
   "source": [
    "mahalanobis(original_logits, outer_logits, labels)"
   ],
   "metadata": {
    "collapsed": false
   }
  },
  {
   "cell_type": "markdown",
   "source": [
    "# Mahalanobis for features"
   ],
   "metadata": {
    "collapsed": false
   }
  },
  {
   "cell_type": "code",
   "execution_count": 16,
   "outputs": [
    {
     "name": "stderr",
     "output_type": "stream",
     "text": [
      "/var/folders/hd/0dm9twls3jd6k1rv5gyhj0c00000gn/T/ipykernel_80051/2886037422.py:31: RuntimeWarning: invalid value encountered in sqrt\n",
      "  result = np.sqrt(bef_sqrt)\n",
      "/var/folders/hd/0dm9twls3jd6k1rv5gyhj0c00000gn/T/ipykernel_80051/2886037422.py:31: RuntimeWarning: invalid value encountered in sqrt\n",
      "  result = np.sqrt(bef_sqrt)\n",
      "/var/folders/hd/0dm9twls3jd6k1rv5gyhj0c00000gn/T/ipykernel_80051/2886037422.py:31: RuntimeWarning: invalid value encountered in sqrt\n",
      "  result = np.sqrt(bef_sqrt)\n",
      "/var/folders/hd/0dm9twls3jd6k1rv5gyhj0c00000gn/T/ipykernel_80051/2886037422.py:31: RuntimeWarning: invalid value encountered in sqrt\n",
      "  result = np.sqrt(bef_sqrt)\n",
      "/var/folders/hd/0dm9twls3jd6k1rv5gyhj0c00000gn/T/ipykernel_80051/2886037422.py:31: RuntimeWarning: invalid value encountered in sqrt\n",
      "  result = np.sqrt(bef_sqrt)\n",
      "/var/folders/hd/0dm9twls3jd6k1rv5gyhj0c00000gn/T/ipykernel_80051/2886037422.py:31: RuntimeWarning: invalid value encountered in sqrt\n",
      "  result = np.sqrt(bef_sqrt)\n",
      "/var/folders/hd/0dm9twls3jd6k1rv5gyhj0c00000gn/T/ipykernel_80051/2886037422.py:31: RuntimeWarning: invalid value encountered in sqrt\n",
      "  result = np.sqrt(bef_sqrt)\n",
      "/var/folders/hd/0dm9twls3jd6k1rv5gyhj0c00000gn/T/ipykernel_80051/2886037422.py:31: RuntimeWarning: invalid value encountered in sqrt\n",
      "  result = np.sqrt(bef_sqrt)\n",
      "/var/folders/hd/0dm9twls3jd6k1rv5gyhj0c00000gn/T/ipykernel_80051/2886037422.py:31: RuntimeWarning: invalid value encountered in sqrt\n",
      "  result = np.sqrt(bef_sqrt)\n",
      "/var/folders/hd/0dm9twls3jd6k1rv5gyhj0c00000gn/T/ipykernel_80051/2886037422.py:31: RuntimeWarning: invalid value encountered in sqrt\n",
      "  result = np.sqrt(bef_sqrt)\n",
      "/var/folders/hd/0dm9twls3jd6k1rv5gyhj0c00000gn/T/ipykernel_80051/2886037422.py:31: RuntimeWarning: invalid value encountered in sqrt\n",
      "  result = np.sqrt(bef_sqrt)\n",
      "/var/folders/hd/0dm9twls3jd6k1rv5gyhj0c00000gn/T/ipykernel_80051/2886037422.py:31: RuntimeWarning: invalid value encountered in sqrt\n",
      "  result = np.sqrt(bef_sqrt)\n"
     ]
    },
    {
     "data": {
      "text/plain": "0.18461538461538463"
     },
     "execution_count": 16,
     "metadata": {},
     "output_type": "execute_result"
    }
   ],
   "source": [
    "mahalanobis(original_features, outer_features, labels)"
   ],
   "metadata": {
    "collapsed": false
   }
  },
  {
   "cell_type": "markdown",
   "source": [
    "# Local Outlier Factor"
   ],
   "metadata": {
    "collapsed": false
   }
  },
  {
   "cell_type": "code",
   "execution_count": 17,
   "outputs": [],
   "source": [
    "from sklearn.neighbors import LocalOutlierFactor\n",
    "\n",
    "\n",
    "def lof(original, outer, labels):\n",
    "    false_seen = 0\n",
    "    for feature_train, feature_test, y_train in zip(original, outer, labels):\n",
    "\n",
    "        lof = LocalOutlierFactor(n_neighbors=1, contamination=0.1, novelty=True, n_jobs=-1)\n",
    "        lof.fit(feature_train)\n",
    "        y_pred_lof = lof.predict(feature_test)\n",
    "        y_pred_score = pd.Series(y_pred_lof)\n",
    "        y_pred_score[y_pred_score[y_pred_lof==-1].index]='unseen'\n",
    "        false_seen += y_pred_score.value_counts()['unseen'] / y_pred_lof.size #\n",
    "    false_seen /= len(feature_train)\n",
    "\n",
    "    return false_seen"
   ],
   "metadata": {
    "collapsed": false
   }
  },
  {
   "cell_type": "markdown",
   "source": [
    "# LOF logits"
   ],
   "metadata": {
    "collapsed": false
   }
  },
  {
   "cell_type": "code",
   "execution_count": 18,
   "outputs": [
    {
     "data": {
      "text/plain": "0.04118343195266271"
     },
     "execution_count": 18,
     "metadata": {},
     "output_type": "execute_result"
    }
   ],
   "source": [
    "lof(original_logits, outer_logits, labels)"
   ],
   "metadata": {
    "collapsed": false
   }
  },
  {
   "cell_type": "markdown",
   "source": [
    "# LOF features"
   ],
   "metadata": {
    "collapsed": false
   }
  },
  {
   "cell_type": "code",
   "execution_count": 19,
   "outputs": [
    {
     "data": {
      "text/plain": "0.048047337278106506"
     },
     "execution_count": 19,
     "metadata": {},
     "output_type": "execute_result"
    }
   ],
   "source": [
    "lof(original_features, outer_features, labels)"
   ],
   "metadata": {
    "collapsed": false
   }
  },
  {
   "cell_type": "markdown",
   "source": [
    "# Out of distribution techniques"
   ],
   "metadata": {
    "collapsed": false
   }
  },
  {
   "cell_type": "code",
   "execution_count": 42,
   "outputs": [],
   "source": [
    "from sklearn.metrics import auc, roc_curve, precision_recall_curve\n",
    "\n",
    "\n",
    "def auroc(predictions, labels) -> tuple:\n",
    "    fpr, tpr, thresholds = roc_curve(labels, predictions, pos_label=1)\n",
    "    return thresholds, auc(fpr, tpr)\n",
    "\n",
    "def aupr(predictions, labels) -> tuple:\n",
    "    precision, recall, thresholds = precision_recall_curve(labels, predictions, pos_label=1)\n",
    "    return thresholds, auc(recall, precision)\n",
    "\n",
    "def fpr_at_95_tpr(predictions, labels):\n",
    "    fpr, tpr, _ = roc_curve(labels, predictions, pos_label=1)\n",
    "\n",
    "    if all(tpr < 0.95):\n",
    "        # No threshold allows TPR >= 0.95\n",
    "        return 0\n",
    "    elif all(tpr >= 0.95):\n",
    "        # All thresholds allow TPR >= 0.95, so find the lowest possible FPR\n",
    "        idxs = [i for i, x in enumerate(tpr) if x >= 0.95]\n",
    "        return min(map(lambda idx: fpr[idx], idxs))\n",
    "    else:\n",
    "        # Linear interp between values to get FPR at TPR == 0.95\n",
    "        return np.interp(0.95, tpr, fpr)\n",
    "\n",
    "def detection_error(predictions, labels):\n",
    "    fpr, tpr, _ = roc_curve(labels, predictions, pos_label=1)\n",
    "\n",
    "    # Get ratios of positives to negatives\n",
    "    pos_ratio = sum(np.array(labels) == 1) / len(labels)\n",
    "    neg_ratio = 1 - pos_ratio\n",
    "\n",
    "    # Get indexes of all TPR >= 95%\n",
    "    idxs = [i for i, x in enumerate(tpr) if x >= 0.95]\n",
    "\n",
    "    # Calc error for a given threshold (i.e. idx)\n",
    "    # Calc is the (# of negatives * FNR) + (# of positives * FPR)\n",
    "    _detection_error = lambda idx: neg_ratio * (1 - tpr[idx]) + pos_ratio * fpr[idx]\n",
    "\n",
    "    # Return the minimum detection error such that TPR >= 0.95\n",
    "    return min(map(_detection_error, idxs))\n"
   ],
   "metadata": {
    "collapsed": false
   }
  },
  {
   "cell_type": "code",
   "execution_count": 31,
   "outputs": [],
   "source": [
    "labels = np.empty((0, 3))\n",
    "for x, y in original_ds:\n",
    "    labels = np.append(labels, y.numpy(), axis=0)\n",
    "\n",
    "predictions = predict_original[:, 0]\n",
    "labels = labels[:, 0]"
   ],
   "metadata": {
    "collapsed": false
   }
  },
  {
   "cell_type": "markdown",
   "source": [
    "## ROC"
   ],
   "metadata": {
    "collapsed": false
   }
  },
  {
   "cell_type": "code",
   "execution_count": 24,
   "outputs": [
    {
     "data": {
      "text/plain": "(0.889319024701884,\n array([1.99962902e+00, 9.99629021e-01, 9.99601066e-01, 9.99585688e-01,\n        9.99497414e-01, 9.99480426e-01, 9.99450982e-01, 9.99431849e-01,\n        9.99426961e-01, 9.99420285e-01, 9.99420047e-01, 9.99373496e-01,\n        9.99369919e-01, 9.99337971e-01, 9.99335051e-01, 9.99332666e-01,\n        9.99332428e-01, 9.99327779e-01, 9.99325275e-01, 9.99320149e-01,\n        9.99317884e-01, 9.99316931e-01, 9.99312758e-01, 9.99299526e-01,\n        9.99296308e-01, 9.99290764e-01, 9.99286234e-01, 9.99265015e-01,\n        9.99260008e-01, 9.99240518e-01, 9.99232054e-01, 9.99225378e-01,\n        9.99218822e-01, 9.99217391e-01, 9.99211490e-01, 9.99209106e-01,\n        9.99185264e-01, 9.99175072e-01, 9.99172449e-01, 9.99171615e-01,\n        9.99163985e-01, 9.99149799e-01, 9.99148250e-01, 9.99147058e-01,\n        9.99120653e-01, 9.99119937e-01, 9.99083042e-01, 9.99079227e-01,\n        9.99056399e-01, 9.99034047e-01, 9.99028444e-01, 9.99021053e-01,\n        9.99020815e-01, 9.99020576e-01, 9.98992503e-01, 9.98985469e-01,\n        9.98970866e-01, 9.98960018e-01, 9.98938501e-01, 9.98934567e-01,\n        9.98932660e-01, 9.98926520e-01, 9.98899162e-01, 9.98890817e-01,\n        9.98871207e-01, 9.98860598e-01, 9.98845160e-01, 9.98831093e-01,\n        9.98811245e-01, 9.98808384e-01, 9.98783886e-01, 9.98756289e-01,\n        9.98704433e-01, 9.98700678e-01, 9.98698056e-01, 9.98691618e-01,\n        9.98688757e-01, 9.98680174e-01, 9.98679221e-01, 9.98679042e-01,\n        9.98669147e-01, 9.98645604e-01, 9.98597682e-01, 9.98595059e-01,\n        9.98589754e-01, 9.98585224e-01, 9.98575330e-01, 9.98571634e-01,\n        9.98530090e-01, 9.98525679e-01, 9.98514473e-01, 9.98511732e-01,\n        9.98436511e-01, 9.98434484e-01, 9.98389721e-01, 9.98379230e-01,\n        9.98328507e-01, 9.98313069e-01, 9.98281240e-01, 9.98280048e-01,\n        9.98267949e-01, 9.98261273e-01, 9.98251677e-01, 9.98244047e-01,\n        9.98171449e-01, 9.98161852e-01, 9.97959375e-01, 9.97902513e-01,\n        9.97826338e-01, 9.97746706e-01, 9.97700393e-01, 9.97647822e-01,\n        9.97489095e-01, 9.97456610e-01, 9.97297227e-01, 9.97254193e-01,\n        9.97215211e-01, 9.97193635e-01, 9.97179866e-01, 9.96862888e-01,\n        9.96832430e-01, 9.96100545e-01, 9.95993674e-01, 9.95785773e-01,\n        9.95683193e-01, 9.95460033e-01, 9.95052636e-01, 9.94880080e-01,\n        9.94400442e-01, 9.94085133e-01, 9.94035661e-01, 9.93754208e-01,\n        9.93512094e-01, 9.91704226e-01, 9.91648436e-01, 9.90857303e-01,\n        9.90844309e-01, 9.90743935e-01, 9.90174770e-01, 9.88673747e-01,\n        9.87391531e-01, 9.84905183e-01, 9.82937038e-01, 9.76351142e-01,\n        9.74431276e-01, 9.67402697e-01, 9.65417027e-01, 9.60222363e-01,\n        9.59658921e-01, 9.51241076e-01, 9.47512209e-01, 9.35568333e-01,\n        9.33314383e-01, 9.32819188e-01, 9.32778656e-01, 9.31916595e-01,\n        9.18033004e-01, 9.14866865e-01, 9.10222232e-01, 9.08091426e-01,\n        9.05013025e-01, 9.04247701e-01, 8.96157324e-01, 8.96017611e-01,\n        8.95825446e-01, 8.94289196e-01, 8.87945294e-01, 8.75178218e-01,\n        8.72952461e-01, 8.61547530e-01, 8.61150682e-01, 8.56736362e-01,\n        8.56345117e-01, 8.13104033e-01, 8.13095570e-01, 8.04476440e-01,\n        7.80914485e-01, 7.74780691e-01, 7.50714362e-01, 7.10888147e-01,\n        6.51678383e-01, 6.16547465e-01, 6.02135360e-01, 5.99751592e-01,\n        5.93423307e-01, 4.97520626e-01, 4.29141521e-01, 4.12044317e-01,\n        4.09974992e-01, 3.86557281e-01, 3.72608989e-01, 2.91939765e-01,\n        2.63704985e-01, 2.63449371e-01, 2.53209829e-01, 2.24764600e-01,\n        2.20177725e-01, 1.74891323e-01, 1.67148367e-01, 1.55584976e-01,\n        1.38266653e-01, 1.32321864e-01, 1.21811815e-01, 1.16176069e-01,\n        1.13718666e-01, 1.03734165e-01, 1.02617472e-01, 1.02075987e-01,\n        9.22363847e-02, 8.02875459e-02, 7.97623619e-02, 7.97265694e-02,\n        7.15189278e-02, 4.25719805e-02, 4.25167270e-02, 4.20979783e-02,\n        4.04186659e-02, 3.29396650e-02, 2.76599359e-02, 2.44122501e-02,\n        2.35390067e-02, 2.31820680e-02, 2.28493232e-02, 2.23327354e-02,\n        2.19759438e-02, 2.05296911e-02, 2.01623905e-02, 1.69693101e-02,\n        1.66251585e-02, 1.61770973e-02, 1.57234501e-02, 1.56489238e-02,\n        1.54191963e-02, 1.41403414e-02, 1.39476638e-02, 1.38129191e-02,\n        1.37443766e-02, 1.37175974e-02, 1.35322213e-02, 1.28329694e-02,\n        1.28229409e-02, 1.27854189e-02, 1.27486205e-02, 1.22020263e-02,\n        1.20672556e-02, 1.19363619e-02, 1.18016731e-02, 1.05413422e-02,\n        1.05143106e-02, 1.04083605e-02, 1.03287222e-02, 1.00979470e-02,\n        1.00788064e-02, 9.73682478e-03, 9.65855457e-03, 9.35547892e-03,\n        8.73935968e-03, 8.54564179e-03, 8.46146699e-03, 8.28732364e-03,\n        8.28536134e-03, 8.26334022e-03, 7.90478848e-03, 7.85188098e-03,\n        7.80856190e-03, 7.74408877e-03, 7.74306851e-03, 7.68667320e-03,\n        7.25423964e-03, 7.17483647e-03, 7.17347208e-03, 7.14825932e-03,\n        7.10471440e-03, 7.07402360e-03, 6.97388081e-03, 6.97033852e-03,\n        6.92201033e-03, 6.90415921e-03, 6.90115569e-03, 6.87067630e-03,\n        6.83440082e-03, 6.83280593e-03, 6.82263030e-03, 6.81998115e-03,\n        6.72491780e-03, 6.70997333e-03, 6.67177048e-03, 6.63753459e-03,\n        6.62261155e-03, 6.58727624e-03, 6.40537310e-03, 6.38851989e-03,\n        6.24787807e-03, 6.23339461e-03, 6.17383840e-03, 6.15568180e-03,\n        6.13460736e-03, 6.13402249e-03, 5.92334801e-03, 5.87981055e-03,\n        5.87900821e-03, 5.87454531e-03, 5.84461773e-03, 5.82176354e-03,\n        5.80696855e-03, 5.80265932e-03, 5.75560099e-03, 5.74474549e-03,\n        5.72306197e-03, 5.71467308e-03, 5.67082083e-03, 5.66813443e-03,\n        5.66180469e-03, 5.65797603e-03, 5.65786613e-03, 5.65278344e-03,\n        5.62048331e-03, 5.61596546e-03, 5.60440542e-03, 5.60294837e-03,\n        5.59950713e-03, 5.59153641e-03, 5.58325602e-03, 5.57267712e-03,\n        5.56980306e-03, 5.52736735e-03, 5.44257089e-03, 5.44183888e-03,\n        5.41464286e-03, 5.41178510e-03, 5.40848356e-03, 5.40824700e-03,\n        5.37628913e-03, 5.36560407e-03, 5.35613112e-03, 5.34754014e-03,\n        5.34612965e-03, 5.33762202e-03, 5.32548502e-03, 5.32045169e-03,\n        5.31061320e-03, 5.30278590e-03, 5.28054824e-03, 5.25760744e-03,\n        5.25369449e-03, 5.22595504e-03, 5.22133848e-03, 5.21510746e-03,\n        5.21491980e-03, 5.20166894e-03, 5.19341091e-03, 5.15695289e-03,\n        5.15586231e-03, 5.14167035e-03, 5.12537872e-03, 5.09153958e-03,\n        5.06882835e-03, 5.05646644e-03, 5.05220471e-03, 5.04915649e-03,\n        5.04489988e-03, 5.03822323e-03, 5.03132073e-03, 5.01646381e-03,\n        4.98163374e-03, 4.97767190e-03, 4.97383717e-03, 4.96830232e-03,\n        4.94263181e-03, 4.91285464e-03, 4.90145804e-03, 4.88217920e-03,\n        4.85318666e-03, 4.84934449e-03, 4.84457565e-03, 4.83286334e-03,\n        4.82990872e-03, 4.82663047e-03, 4.81805159e-03, 4.81193606e-03,\n        4.81119938e-03, 4.81076539e-03, 4.78336914e-03, 4.78314469e-03,\n        4.77808667e-03, 4.77618771e-03, 4.72417893e-03, 4.72216681e-03,\n        4.71848622e-03, 4.71191900e-03, 4.70978161e-03, 4.70273709e-03,\n        4.69447253e-03, 4.69275238e-03, 4.67796763e-03, 4.67644306e-03,\n        4.67438949e-03, 4.67143254e-03, 4.65352554e-03, 4.64501372e-03,\n        4.63243667e-03, 4.62097675e-03, 4.61109634e-03, 4.56868298e-03,\n        4.56280122e-03, 4.53784410e-03, 4.53362660e-03, 4.53229761e-03,\n        4.46969038e-03, 4.45728796e-03, 4.45072539e-03, 4.43794206e-03,\n        4.40693367e-03, 4.40503564e-03, 4.38194489e-03, 4.37577907e-03,\n        4.37472388e-03, 4.36858786e-03, 4.34933556e-03, 4.32584202e-03,\n        4.28865198e-03, 4.28775791e-03, 4.25932277e-03, 4.24959324e-03,\n        4.23699757e-03, 4.23335237e-03, 4.16129315e-03, 4.15795203e-03,\n        4.15311987e-03, 4.15073847e-03, 4.14876267e-03, 4.14297637e-03,\n        4.13812418e-03, 4.13175486e-03, 4.11244854e-03, 4.11078893e-03,\n        4.10672696e-03, 4.10628179e-03, 4.10376349e-03, 4.05061897e-03,\n        4.03663656e-03, 4.02517710e-03, 4.02117101e-03, 4.01980709e-03,\n        4.01855074e-03, 4.01584664e-03, 3.99955548e-03, 3.99688492e-03,\n        3.99000430e-03, 3.98703152e-03, 3.98529461e-03, 3.98315396e-03,\n        3.97497509e-03, 3.97463329e-03, 3.96791846e-03, 3.95861873e-03,\n        3.95144150e-03, 3.94726545e-03, 3.94588383e-03, 3.93498316e-03,\n        3.93209327e-03, 3.90731450e-03, 3.90677201e-03, 3.89548601e-03,\n        3.88891879e-03, 3.87623464e-03, 3.87514289e-03, 3.85236740e-03,\n        3.84065672e-03, 3.83733376e-03, 3.82238207e-03, 3.82187427e-03,\n        3.81437293e-03, 3.81183880e-03, 3.79084842e-03, 3.78431589e-03,\n        3.74689233e-03, 3.74323479e-03, 3.73906898e-03, 3.73862567e-03,\n        3.73601494e-03, 3.73105076e-03, 3.67399072e-03, 3.67259700e-03,\n        3.66286351e-03, 3.65244877e-03, 3.64624895e-03, 3.63641419e-03,\n        3.62905394e-03, 3.60327587e-03, 3.59008904e-03, 3.58298840e-03,\n        3.58224614e-03, 3.57514247e-03, 3.56965140e-03, 3.55828553e-03,\n        3.55186732e-03, 3.53578222e-03, 3.52590950e-03, 3.52223380e-03,\n        3.51255899e-03, 3.49576422e-03, 3.49515374e-03, 3.49491253e-03,\n        3.49322846e-03, 3.49241402e-03, 3.45381931e-03, 3.45228310e-03,\n        3.44633753e-03, 3.42747429e-03, 3.41157475e-03, 3.40302754e-03,\n        3.40135302e-03, 3.39385029e-03, 3.38070584e-03, 3.37383943e-03,\n        3.35828634e-03, 3.35596269e-03, 3.28975101e-03, 3.28935962e-03,\n        3.26775084e-03, 3.25370231e-03, 3.23971128e-03, 3.23207770e-03,\n        3.21776490e-03, 3.20907077e-03, 3.20135616e-03, 3.19914054e-03,\n        3.11778835e-03, 3.11299949e-03, 3.10369302e-03, 3.10144667e-03,\n        3.08634341e-03, 3.08568357e-03, 3.08026536e-03, 3.07898549e-03,\n        3.05149774e-03, 3.03884735e-03, 3.02930269e-03, 3.02666472e-03,\n        3.01486137e-03, 3.00788740e-03, 3.00245942e-03, 2.99818534e-03,\n        2.97705457e-03, 2.97424244e-03, 2.97251274e-03, 2.96643097e-03,\n        2.95867841e-03, 2.95397686e-03, 2.95207743e-03, 2.94910185e-03,\n        2.94719543e-03, 2.93273828e-03, 2.92265159e-03, 2.91464687e-03,\n        2.89927912e-03, 2.87760026e-03, 2.87660095e-03, 2.86430819e-03,\n        2.86288280e-03, 2.86065717e-03, 2.85917427e-03, 2.85829068e-03,\n        2.85275467e-03, 2.85184314e-03, 2.84792390e-03, 2.84674414e-03,\n        2.84579676e-03, 2.84119695e-03, 2.83819786e-03, 2.83700624e-03,\n        2.83143925e-03, 2.82900291e-03, 2.81824451e-03, 2.78313784e-03,\n        2.78287102e-03, 2.77779368e-03, 2.76744552e-03, 2.76423059e-03,\n        2.75577116e-03, 2.75403424e-03, 2.74799112e-03, 2.72296648e-03,\n        2.71616876e-03, 2.70761130e-03, 2.69493321e-03, 2.65539484e-03,\n        2.65273429e-03, 2.64971447e-03, 2.64876871e-03, 2.61800946e-03,\n        2.59517808e-03, 2.59514549e-03, 2.59166327e-03, 2.57906970e-03,\n        2.55698804e-03, 2.55363318e-03, 2.55152071e-03, 2.54478282e-03,\n        2.53427704e-03, 2.50782911e-03, 2.50296784e-03, 2.45832396e-03,\n        2.45507178e-03, 2.45022657e-03, 2.43461574e-03, 1.95927871e-03,\n        1.89709547e-03, 1.88911764e-03, 1.85424555e-03], dtype=float32))"
     },
     "execution_count": 24,
     "metadata": {},
     "output_type": "execute_result"
    }
   ],
   "source": [
    "thresholds, auc = auroc(predictions, labels)\n",
    "auc, thresholds"
   ],
   "metadata": {
    "collapsed": false
   }
  },
  {
   "cell_type": "markdown",
   "source": [
    "## AuPR\n",
    "Area under the Precision & Recall curve"
   ],
   "metadata": {
    "collapsed": false
   }
  },
  {
   "cell_type": "code",
   "execution_count": 35,
   "outputs": [
    {
     "data": {
      "text/plain": "(0.9313601281549768,\n array([1.12733345e-04, 1.26271436e-04, 1.36646209e-04, ...,\n        9.97769117e-01, 9.97785509e-01, 9.97837007e-01], dtype=float32))"
     },
     "execution_count": 35,
     "metadata": {},
     "output_type": "execute_result"
    }
   ],
   "source": [
    "thresholds, aupr = aupr(predictions, labels)\n",
    "aupr, thresholds"
   ],
   "metadata": {
    "collapsed": false
   }
  },
  {
   "cell_type": "markdown",
   "source": [
    "## FPR at 95% TPR\n",
    "Return the False Positive Ratio when True Positive Ratio is at least 95%"
   ],
   "metadata": {
    "collapsed": false
   }
  },
  {
   "cell_type": "code",
   "execution_count": 41,
   "outputs": [
    {
     "data": {
      "text/plain": "0.9461206896551724"
     },
     "execution_count": 41,
     "metadata": {},
     "output_type": "execute_result"
    }
   ],
   "source": [
    "fpr_tpr_95 = fpr_at_95_tpr(predictions, labels)\n",
    "fpr_tpr_95"
   ],
   "metadata": {
    "collapsed": false
   }
  },
  {
   "cell_type": "markdown",
   "source": [
    "## Detection error\n",
    "Returns missclasification probability when TPR is 95%"
   ],
   "metadata": {
    "collapsed": false
   }
  },
  {
   "cell_type": "code",
   "execution_count": 43,
   "outputs": [
    {
     "data": {
      "text/plain": "0.3527227322994806"
     },
     "execution_count": 43,
     "metadata": {},
     "output_type": "execute_result"
    }
   ],
   "source": [
    "error = detection_error(predictions, labels)\n",
    "error"
   ],
   "metadata": {
    "collapsed": false
   }
  }
 ],
 "metadata": {
  "kernelspec": {
   "display_name": "Python 3",
   "language": "python",
   "name": "python3"
  },
  "language_info": {
   "codemirror_mode": {
    "name": "ipython",
    "version": 2
   },
   "file_extension": ".py",
   "mimetype": "text/x-python",
   "name": "python",
   "nbconvert_exporter": "python",
   "pygments_lexer": "ipython2",
   "version": "2.7.6"
  }
 },
 "nbformat": 4,
 "nbformat_minor": 0
}
