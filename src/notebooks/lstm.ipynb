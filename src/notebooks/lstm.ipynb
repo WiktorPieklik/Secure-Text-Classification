{
 "cells": [
  {
   "cell_type": "code",
   "execution_count": 1,
   "metadata": {
    "collapsed": true
   },
   "outputs": [
    {
     "name": "stdout",
     "output_type": "stream",
     "text": [
      "Number of available GPUs: 1\n"
     ]
    }
   ],
   "source": [
    "import tensorflow as tf\n",
    "from pathlib import Path\n",
    "from os.path import abspath\n",
    "\n",
    "available_gpus = tf.config.list_physical_devices('GPU')\n",
    "print(f\"Number of available GPUs: {len(available_gpus)}\")\n",
    "\n",
    "try:\n",
    "    tf.config.experimental.set_memory_growth(available_gpus[0], True)\n",
    "except:\n",
    "    pass\n"
   ]
  },
  {
   "cell_type": "markdown",
   "source": [
    "# Parameters"
   ],
   "metadata": {
    "collapsed": false
   }
  },
  {
   "cell_type": "code",
   "execution_count": 2,
   "outputs": [],
   "source": [
    "BATCH_SIZE = 256\n",
    "EPOCHS = 50\n",
    "TEST_SPLIT = 0.2\n",
    "VALID_SPLIT = 0.1\n",
    "SEED = 7321\n",
    "VOCABULARY_SIZE = 100_000\n",
    "MAX_SEQUENCE_LEN = 250\n",
    "EMBEDDING_DIM = 75"
   ],
   "metadata": {
    "collapsed": false
   }
  },
  {
   "cell_type": "markdown",
   "source": [
    "# Loading dataset"
   ],
   "metadata": {
    "collapsed": false
   }
  },
  {
   "cell_type": "code",
   "execution_count": 3,
   "outputs": [
    {
     "name": "stdout",
     "output_type": "stream",
     "text": [
      "Found 1438 files belonging to 3 classes.\n",
      "Using 1151 files for training.\n",
      "Using 287 files for validation.\n",
      "Metal device set to: Apple M1 Max\n"
     ]
    },
    {
     "name": "stderr",
     "output_type": "stream",
     "text": [
      "2022-11-21 21:13:03.473396: I tensorflow/core/common_runtime/pluggable_device/pluggable_device_factory.cc:306] Could not identify NUMA node of platform GPU ID 0, defaulting to 0. Your kernel may not have been built with NUMA support.\n",
      "2022-11-21 21:13:03.473564: I tensorflow/core/common_runtime/pluggable_device/pluggable_device_factory.cc:272] Created TensorFlow device (/job:localhost/replica:0/task:0/device:GPU:0 with 0 MB memory) -> physical PluggableDevice (device: 0, name: METAL, pci bus id: <undefined>)\n"
     ]
    }
   ],
   "source": [
    "SRC_DIR = Path(abspath('')).parent.parent\n",
    "RAW_DIR = SRC_DIR / \"raw\"\n",
    "DATASET_DIR = str((RAW_DIR / \"dataset\").resolve())\n",
    "BEST_MODEL_DIR = SRC_DIR / \"models\" / \"checkpoints\"\n",
    "TENSOR_BOARD_DIR = SRC_DIR / \"models\" / \"tensor_board\"\n",
    "\n",
    "train_ds, test_ds = tf.keras.utils.text_dataset_from_directory(\n",
    "    directory=DATASET_DIR,\n",
    "    label_mode='categorical',\n",
    "    validation_split=TEST_SPLIT,\n",
    "    batch_size=BATCH_SIZE,\n",
    "    shuffle=True,\n",
    "    seed=SEED,\n",
    "    subset='both',\n",
    ")\n",
    "val_ds_size = int(test_ds.cardinality().numpy() * VALID_SPLIT)\n",
    "val_ds = test_ds.take(val_ds_size)\n",
    "test_ds = test_ds.skip(val_ds_size)"
   ],
   "metadata": {
    "collapsed": false
   }
  },
  {
   "cell_type": "markdown",
   "source": [
    "# Instantiate words vectorizing layer"
   ],
   "metadata": {
    "collapsed": false
   }
  },
  {
   "cell_type": "code",
   "execution_count": 4,
   "outputs": [
    {
     "name": "stderr",
     "output_type": "stream",
     "text": [
      "2022-11-21 21:13:06.843974: W tensorflow/core/platform/profile_utils/cpu_utils.cc:128] Failed to get CPU frequency: 0 Hz\n",
      "2022-11-21 21:13:06.875174: I tensorflow/core/grappler/optimizers/custom_graph_optimizer_registry.cc:114] Plugin optimizer for device_type GPU is enabled.\n"
     ]
    }
   ],
   "source": [
    "train_text = train_ds.map(lambda x, y: x)\n",
    "\n",
    "vectorize_layer = tf.keras.layers.TextVectorization(\n",
    "    max_tokens=VOCABULARY_SIZE,\n",
    "    output_mode='int',\n",
    "    output_sequence_length=MAX_SEQUENCE_LEN\n",
    ")\n",
    "vectorize_layer.adapt(train_text, batch_size=BATCH_SIZE)"
   ],
   "metadata": {
    "collapsed": false
   }
  },
  {
   "cell_type": "markdown",
   "source": [
    "# Batch, cache, autotune"
   ],
   "metadata": {
    "collapsed": false
   }
  },
  {
   "cell_type": "code",
   "execution_count": 5,
   "outputs": [
    {
     "name": "stdout",
     "output_type": "stream",
     "text": [
      "Dataset cached successfully!\n"
     ]
    }
   ],
   "source": [
    "AUTOTUNE = tf.data.AUTOTUNE\n",
    "\n",
    "train_ds = train_ds.cache().shuffle(1500).prefetch(AUTOTUNE)\n",
    "test_ds = test_ds.cache().shuffle(1500).prefetch(AUTOTUNE)\n",
    "val_ds = val_ds.cache().shuffle(1500).prefetch(AUTOTUNE)\n",
    "\n",
    "list(train_ds.as_numpy_iterator())\n",
    "list(test_ds.as_numpy_iterator())\n",
    "list(val_ds.as_numpy_iterator())\n",
    "print(\"Dataset cached successfully!\")"
   ],
   "metadata": {
    "collapsed": false
   }
  },
  {
   "cell_type": "markdown",
   "source": [
    "# Build model"
   ],
   "metadata": {
    "collapsed": false
   }
  },
  {
   "cell_type": "code",
   "execution_count": 6,
   "outputs": [
    {
     "name": "stdout",
     "output_type": "stream",
     "text": [
      "WARNING:tensorflow:Layer lstm will not use cuDNN kernels since it doesn't meet the criteria. It will use a generic GPU kernel as fallback when running on GPU.\n",
      "Model: \"sequential\"\n",
      "_________________________________________________________________\n",
      " Layer (type)                Output Shape              Param #   \n",
      "=================================================================\n",
      " text_vectorization (TextVec  (None, 250)              0         \n",
      " torization)                                                     \n",
      "                                                                 \n",
      " embedding (Embedding)       (None, 250, 75)           7500000   \n",
      "                                                                 \n",
      " lstm (LSTM)                 (None, 100)               70400     \n",
      "                                                                 \n",
      " dense (Dense)               (None, 3)                 303       \n",
      "                                                                 \n",
      "=================================================================\n",
      "Total params: 7,570,703\n",
      "Trainable params: 7,570,703\n",
      "Non-trainable params: 0\n",
      "_________________________________________________________________\n"
     ]
    }
   ],
   "source": [
    "model = tf.keras.Sequential([\n",
    "    tf.keras.layers.Input(shape=(1,), dtype=tf.string),\n",
    "    vectorize_layer,\n",
    "    tf.keras.layers.Embedding(input_dim=VOCABULARY_SIZE, output_dim=EMBEDDING_DIM),\n",
    "    tf.keras.layers.LSTM(100, dropout=0.2, recurrent_dropout=0.2),\n",
    "    tf.keras.layers.Dense(3, activation='softmax')\n",
    "])\n",
    "model.summary()"
   ],
   "metadata": {
    "collapsed": false
   }
  },
  {
   "cell_type": "markdown",
   "source": [
    "## Compile the model"
   ],
   "metadata": {
    "collapsed": false
   }
  },
  {
   "cell_type": "code",
   "execution_count": 7,
   "outputs": [],
   "source": [
    "import tensorflow_addons as tfa\n",
    "\n",
    "model.compile(\n",
    "    loss=tf.keras.losses.CategoricalCrossentropy(),\n",
    "    optimizer=tf.keras.optimizers.Adam(),\n",
    "    metrics=[\n",
    "        'accuracy',\n",
    "        tf.keras.metrics.Recall(),\n",
    "        tf.keras.metrics.Precision(),\n",
    "        tf.keras.metrics.AUC(),\n",
    "        tfa.metrics.F1Score(num_classes=3)\n",
    "    ]\n",
    ")"
   ],
   "metadata": {
    "collapsed": false
   }
  },
  {
   "cell_type": "markdown",
   "source": [
    "## Model callbacks"
   ],
   "metadata": {
    "collapsed": false
   }
  },
  {
   "cell_type": "code",
   "execution_count": 9,
   "outputs": [],
   "source": [
    "BEST_MODEL_FILE = BEST_MODEL_DIR / \"lstm_best3\"\n",
    "\n",
    "early_stop = tf.keras.callbacks.EarlyStopping(monitor='loss', patience=6, verbose=1, min_delta=0.0001)\n",
    "save_best = tf.keras.callbacks.ModelCheckpoint(filepath=BEST_MODEL_FILE, monitor='loss', save_best_only=True)\n",
    "csv_logger = tf.keras.callbacks.CSVLogger(filename=BEST_MODEL_FILE/\"history_3.csv\")\n",
    "# tensorboard_cb = tf.keras.callbacks.TensorBoard(log_dir=str(TENSOR_BOARD_DIR.resolve()))"
   ],
   "metadata": {
    "collapsed": false
   }
  },
  {
   "cell_type": "markdown",
   "source": [
    "# Fit the model"
   ],
   "metadata": {
    "collapsed": false
   }
  },
  {
   "cell_type": "code",
   "execution_count": 10,
   "outputs": [
    {
     "name": "stdout",
     "output_type": "stream",
     "text": [
      "Epoch 1/50\n"
     ]
    },
    {
     "name": "stderr",
     "output_type": "stream",
     "text": [
      "2022-11-21 21:14:54.288278: I tensorflow/core/grappler/optimizers/custom_graph_optimizer_registry.cc:114] Plugin optimizer for device_type GPU is enabled.\n"
     ]
    },
    {
     "name": "stdout",
     "output_type": "stream",
     "text": [
      "5/5 [==============================] - ETA: 0s - loss: 1.0944 - accuracy: 0.3710 - recall: 0.0000e+00 - precision: 0.0000e+00 - auc: 0.5345 - f1_score: 0.3246  INFO:tensorflow:Assets written to: /Users/wiktorpieklik/studies/2sem/uczenie_glebokie/projekt/models/checkpoints/lstm_best3/assets\n",
      "5/5 [==============================] - 748s 151s/step - loss: 1.0944 - accuracy: 0.3710 - recall: 0.0000e+00 - precision: 0.0000e+00 - auc: 0.5345 - f1_score: 0.3246\n",
      "Epoch 2/50\n",
      "5/5 [==============================] - ETA: 0s - loss: 1.0683 - accuracy: 0.5030 - recall: 0.0000e+00 - precision: 0.0000e+00 - auc: 0.6584 - f1_score: 0.3931  INFO:tensorflow:Assets written to: /Users/wiktorpieklik/studies/2sem/uczenie_glebokie/projekt/models/checkpoints/lstm_best3/assets\n",
      "5/5 [==============================] - 756s 151s/step - loss: 1.0683 - accuracy: 0.5030 - recall: 0.0000e+00 - precision: 0.0000e+00 - auc: 0.6584 - f1_score: 0.3931\n",
      "Epoch 3/50\n",
      "5/5 [==============================] - ETA: 0s - loss: 1.0342 - accuracy: 0.5065 - recall: 0.0938 - precision: 0.5070 - auc: 0.7079 - f1_score: 0.4012  INFO:tensorflow:Assets written to: /Users/wiktorpieklik/studies/2sem/uczenie_glebokie/projekt/models/checkpoints/lstm_best3/assets\n",
      "5/5 [==============================] - 758s 152s/step - loss: 1.0342 - accuracy: 0.5065 - recall: 0.0938 - precision: 0.5070 - auc: 0.7079 - f1_score: 0.4012\n",
      "Epoch 4/50\n",
      "5/5 [==============================] - ETA: 0s - loss: 0.9901 - accuracy: 0.5621 - recall: 0.1234 - precision: 0.5279 - auc: 0.7722 - f1_score: 0.5728  INFO:tensorflow:Assets written to: /Users/wiktorpieklik/studies/2sem/uczenie_glebokie/projekt/models/checkpoints/lstm_best3/assets\n",
      "5/5 [==============================] - 774s 155s/step - loss: 0.9901 - accuracy: 0.5621 - recall: 0.1234 - precision: 0.5279 - auc: 0.7722 - f1_score: 0.5728\n",
      "Epoch 5/50\n",
      "5/5 [==============================] - ETA: 0s - loss: 0.8480 - accuracy: 0.6777 - recall: 0.3501 - precision: 0.6796 - auc: 0.8228 - f1_score: 0.6747  INFO:tensorflow:Assets written to: /Users/wiktorpieklik/studies/2sem/uczenie_glebokie/projekt/models/checkpoints/lstm_best3/assets\n",
      "5/5 [==============================] - 784s 157s/step - loss: 0.8480 - accuracy: 0.6777 - recall: 0.3501 - precision: 0.6796 - auc: 0.8228 - f1_score: 0.6747\n",
      "Epoch 6/50\n",
      "5/5 [==============================] - ETA: 0s - loss: 0.6993 - accuracy: 0.6759 - recall: 0.6568 - precision: 0.6799 - auc: 0.8602 - f1_score: 0.6567  INFO:tensorflow:Assets written to: /Users/wiktorpieklik/studies/2sem/uczenie_glebokie/projekt/models/checkpoints/lstm_best3/assets\n",
      "5/5 [==============================] - 775s 155s/step - loss: 0.6993 - accuracy: 0.6759 - recall: 0.6568 - precision: 0.6799 - auc: 0.8602 - f1_score: 0.6567\n",
      "Epoch 7/50\n",
      "5/5 [==============================] - 789s 158s/step - loss: 0.7032 - accuracy: 0.6751 - recall: 0.6672 - precision: 0.6772 - auc: 0.8595 - f1_score: 0.6560\n",
      "Epoch 8/50\n",
      "5/5 [==============================] - ETA: 0s - loss: 0.6930 - accuracy: 0.6594 - recall: 0.6490 - precision: 0.6616 - auc: 0.8528 - f1_score: 0.6113  INFO:tensorflow:Assets written to: /Users/wiktorpieklik/studies/2sem/uczenie_glebokie/projekt/models/checkpoints/lstm_best3/assets\n",
      "5/5 [==============================] - 782s 156s/step - loss: 0.6930 - accuracy: 0.6594 - recall: 0.6490 - precision: 0.6616 - auc: 0.8528 - f1_score: 0.6113\n",
      "Epoch 9/50\n",
      "5/5 [==============================] - ETA: 0s - loss: 0.6710 - accuracy: 0.6707 - recall: 0.6438 - precision: 0.6817 - auc: 0.8640 - f1_score: 0.6720  INFO:tensorflow:Assets written to: /Users/wiktorpieklik/studies/2sem/uczenie_glebokie/projekt/models/checkpoints/lstm_best3/assets\n",
      "5/5 [==============================] - 769s 153s/step - loss: 0.6710 - accuracy: 0.6707 - recall: 0.6438 - precision: 0.6817 - auc: 0.8640 - f1_score: 0.6720\n",
      "Epoch 10/50\n",
      "5/5 [==============================] - ETA: 0s - loss: 0.6574 - accuracy: 0.7420 - recall: 0.6872 - precision: 0.7562 - auc: 0.8956 - f1_score: 0.7513  INFO:tensorflow:Assets written to: /Users/wiktorpieklik/studies/2sem/uczenie_glebokie/projekt/models/checkpoints/lstm_best3/assets\n",
      "5/5 [==============================] - 781s 156s/step - loss: 0.6574 - accuracy: 0.7420 - recall: 0.6872 - precision: 0.7562 - auc: 0.8956 - f1_score: 0.7513\n",
      "Epoch 11/50\n",
      "5/5 [==============================] - ETA: 0s - loss: 0.6493 - accuracy: 0.7593 - recall: 0.6985 - precision: 0.7798 - auc: 0.9085 - f1_score: 0.7692  INFO:tensorflow:Assets written to: /Users/wiktorpieklik/studies/2sem/uczenie_glebokie/projekt/models/checkpoints/lstm_best3/assets\n",
      "5/5 [==============================] - 789s 159s/step - loss: 0.6493 - accuracy: 0.7593 - recall: 0.6985 - precision: 0.7798 - auc: 0.9085 - f1_score: 0.7692\n",
      "Epoch 12/50\n",
      "5/5 [==============================] - ETA: 0s - loss: 0.5730 - accuracy: 0.8219 - recall: 0.7637 - precision: 0.8517 - auc: 0.9393 - f1_score: 0.8287  INFO:tensorflow:Assets written to: /Users/wiktorpieklik/studies/2sem/uczenie_glebokie/projekt/models/checkpoints/lstm_best3/assets\n",
      "5/5 [==============================] - 781s 156s/step - loss: 0.5730 - accuracy: 0.8219 - recall: 0.7637 - precision: 0.8517 - auc: 0.9393 - f1_score: 0.8287\n",
      "Epoch 13/50\n",
      "5/5 [==============================] - ETA: 0s - loss: 0.4949 - accuracy: 0.8601 - recall: 0.8149 - precision: 0.8874 - auc: 0.9564 - f1_score: 0.8656  INFO:tensorflow:Assets written to: /Users/wiktorpieklik/studies/2sem/uczenie_glebokie/projekt/models/checkpoints/lstm_best3/assets\n",
      "5/5 [==============================] - 768s 154s/step - loss: 0.4949 - accuracy: 0.8601 - recall: 0.8149 - precision: 0.8874 - auc: 0.9564 - f1_score: 0.8656\n",
      "Epoch 14/50\n",
      "5/5 [==============================] - ETA: 0s - loss: 0.4764 - accuracy: 0.8792 - recall: 0.8532 - precision: 0.8960 - auc: 0.9483 - f1_score: 0.8819  INFO:tensorflow:Assets written to: /Users/wiktorpieklik/studies/2sem/uczenie_glebokie/projekt/models/checkpoints/lstm_best3/assets\n",
      "5/5 [==============================] - 760s 153s/step - loss: 0.4764 - accuracy: 0.8792 - recall: 0.8532 - precision: 0.8960 - auc: 0.9483 - f1_score: 0.8819\n",
      "Epoch 15/50\n",
      "5/5 [==============================] - ETA: 0s - loss: 0.3608 - accuracy: 0.9140 - recall: 0.9079 - precision: 0.9199 - auc: 0.9555 - f1_score: 0.9153  INFO:tensorflow:Assets written to: /Users/wiktorpieklik/studies/2sem/uczenie_glebokie/projekt/models/checkpoints/lstm_best3/assets\n",
      "5/5 [==============================] - 755s 151s/step - loss: 0.3608 - accuracy: 0.9140 - recall: 0.9079 - precision: 0.9199 - auc: 0.9555 - f1_score: 0.9153\n",
      "Epoch 16/50\n",
      "5/5 [==============================] - ETA: 0s - loss: 0.2615 - accuracy: 0.9279 - recall: 0.9270 - precision: 0.9335 - auc: 0.9737 - f1_score: 0.9277  INFO:tensorflow:Assets written to: /Users/wiktorpieklik/studies/2sem/uczenie_glebokie/projekt/models/checkpoints/lstm_best3/assets\n",
      "5/5 [==============================] - 746s 149s/step - loss: 0.2615 - accuracy: 0.9279 - recall: 0.9270 - precision: 0.9335 - auc: 0.9737 - f1_score: 0.9277\n",
      "Epoch 17/50\n",
      "5/5 [==============================] - ETA: 0s - loss: 0.2181 - accuracy: 0.9409 - recall: 0.9392 - precision: 0.9416 - auc: 0.9810 - f1_score: 0.9398  INFO:tensorflow:Assets written to: /Users/wiktorpieklik/studies/2sem/uczenie_glebokie/projekt/models/checkpoints/lstm_best3/assets\n",
      "5/5 [==============================] - 747s 150s/step - loss: 0.2181 - accuracy: 0.9409 - recall: 0.9392 - precision: 0.9416 - auc: 0.9810 - f1_score: 0.9398\n",
      "Epoch 18/50\n",
      "5/5 [==============================] - ETA: 0s - loss: 0.2165 - accuracy: 0.9383 - recall: 0.9383 - precision: 0.9416 - auc: 0.9819 - f1_score: 0.9375  INFO:tensorflow:Assets written to: /Users/wiktorpieklik/studies/2sem/uczenie_glebokie/projekt/models/checkpoints/lstm_best3/assets\n",
      "5/5 [==============================] - 748s 150s/step - loss: 0.2165 - accuracy: 0.9383 - recall: 0.9383 - precision: 0.9416 - auc: 0.9819 - f1_score: 0.9375\n",
      "Epoch 19/50\n",
      "5/5 [==============================] - ETA: 0s - loss: 0.1787 - accuracy: 0.9557 - recall: 0.9522 - precision: 0.9572 - auc: 0.9847 - f1_score: 0.9554  INFO:tensorflow:Assets written to: /Users/wiktorpieklik/studies/2sem/uczenie_glebokie/projekt/models/checkpoints/lstm_best3/assets\n",
      "5/5 [==============================] - 747s 150s/step - loss: 0.1787 - accuracy: 0.9557 - recall: 0.9522 - precision: 0.9572 - auc: 0.9847 - f1_score: 0.9554\n",
      "Epoch 20/50\n",
      "5/5 [==============================] - ETA: 0s - loss: 0.1435 - accuracy: 0.9670 - recall: 0.9652 - precision: 0.9703 - auc: 0.9897 - f1_score: 0.9662  INFO:tensorflow:Assets written to: /Users/wiktorpieklik/studies/2sem/uczenie_glebokie/projekt/models/checkpoints/lstm_best3/assets\n",
      "5/5 [==============================] - 748s 150s/step - loss: 0.1435 - accuracy: 0.9670 - recall: 0.9652 - precision: 0.9703 - auc: 0.9897 - f1_score: 0.9662\n",
      "Epoch 21/50\n",
      "5/5 [==============================] - ETA: 0s - loss: 0.1399 - accuracy: 0.9670 - recall: 0.9661 - precision: 0.9703 - auc: 0.9895 - f1_score: 0.9666  INFO:tensorflow:Assets written to: /Users/wiktorpieklik/studies/2sem/uczenie_glebokie/projekt/models/checkpoints/lstm_best3/assets\n",
      "5/5 [==============================] - 747s 149s/step - loss: 0.1399 - accuracy: 0.9670 - recall: 0.9661 - precision: 0.9703 - auc: 0.9895 - f1_score: 0.9666\n",
      "Epoch 22/50\n",
      "5/5 [==============================] - ETA: 0s - loss: 0.1220 - accuracy: 0.9713 - recall: 0.9705 - precision: 0.9738 - auc: 0.9923 - f1_score: 0.9706  INFO:tensorflow:Assets written to: /Users/wiktorpieklik/studies/2sem/uczenie_glebokie/projekt/models/checkpoints/lstm_best3/assets\n",
      "5/5 [==============================] - 746s 149s/step - loss: 0.1220 - accuracy: 0.9713 - recall: 0.9705 - precision: 0.9738 - auc: 0.9923 - f1_score: 0.9706\n",
      "Epoch 23/50\n",
      "5/5 [==============================] - ETA: 0s - loss: 0.1114 - accuracy: 0.9713 - recall: 0.9713 - precision: 0.9722 - auc: 0.9944 - f1_score: 0.9705  INFO:tensorflow:Assets written to: /Users/wiktorpieklik/studies/2sem/uczenie_glebokie/projekt/models/checkpoints/lstm_best3/assets\n",
      "5/5 [==============================] - 742s 148s/step - loss: 0.1114 - accuracy: 0.9713 - recall: 0.9713 - precision: 0.9722 - auc: 0.9944 - f1_score: 0.9705\n",
      "Epoch 24/50\n",
      "5/5 [==============================] - ETA: 0s - loss: 0.1094 - accuracy: 0.9705 - recall: 0.9705 - precision: 0.9713 - auc: 0.9945 - f1_score: 0.9696  INFO:tensorflow:Assets written to: /Users/wiktorpieklik/studies/2sem/uczenie_glebokie/projekt/models/checkpoints/lstm_best3/assets\n",
      "5/5 [==============================] - 740s 149s/step - loss: 0.1094 - accuracy: 0.9705 - recall: 0.9705 - precision: 0.9713 - auc: 0.9945 - f1_score: 0.9696\n",
      "Epoch 25/50\n",
      "5/5 [==============================] - ETA: 0s - loss: 0.1038 - accuracy: 0.9722 - recall: 0.9722 - precision: 0.9722 - auc: 0.9948 - f1_score: 0.9714  INFO:tensorflow:Assets written to: /Users/wiktorpieklik/studies/2sem/uczenie_glebokie/projekt/models/checkpoints/lstm_best3/assets\n",
      "5/5 [==============================] - 745s 149s/step - loss: 0.1038 - accuracy: 0.9722 - recall: 0.9722 - precision: 0.9722 - auc: 0.9948 - f1_score: 0.9714\n",
      "Epoch 26/50\n",
      "5/5 [==============================] - ETA: 0s - loss: 0.1005 - accuracy: 0.9722 - recall: 0.9722 - precision: 0.9722 - auc: 0.9953 - f1_score: 0.9714  INFO:tensorflow:Assets written to: /Users/wiktorpieklik/studies/2sem/uczenie_glebokie/projekt/models/checkpoints/lstm_best3/assets\n",
      "5/5 [==============================] - 734s 147s/step - loss: 0.1005 - accuracy: 0.9722 - recall: 0.9722 - precision: 0.9722 - auc: 0.9953 - f1_score: 0.9714\n",
      "Epoch 27/50\n",
      "5/5 [==============================] - ETA: 0s - loss: 0.0966 - accuracy: 0.9731 - recall: 0.9713 - precision: 0.9730 - auc: 0.9956 - f1_score: 0.9723  INFO:tensorflow:Assets written to: /Users/wiktorpieklik/studies/2sem/uczenie_glebokie/projekt/models/checkpoints/lstm_best3/assets\n",
      "5/5 [==============================] - 731s 146s/step - loss: 0.0966 - accuracy: 0.9731 - recall: 0.9713 - precision: 0.9730 - auc: 0.9956 - f1_score: 0.9723\n",
      "Epoch 28/50\n",
      "5/5 [==============================] - ETA: 0s - loss: 0.0862 - accuracy: 0.9774 - recall: 0.9765 - precision: 0.9791 - auc: 0.9959 - f1_score: 0.9768  INFO:tensorflow:Assets written to: /Users/wiktorpieklik/studies/2sem/uczenie_glebokie/projekt/models/checkpoints/lstm_best3/assets\n",
      "5/5 [==============================] - 732s 147s/step - loss: 0.0862 - accuracy: 0.9774 - recall: 0.9765 - precision: 0.9791 - auc: 0.9959 - f1_score: 0.9768\n",
      "Epoch 29/50\n",
      "5/5 [==============================] - 730s 146s/step - loss: 0.0915 - accuracy: 0.9731 - recall: 0.9722 - precision: 0.9730 - auc: 0.9961 - f1_score: 0.9723\n",
      "Epoch 30/50\n",
      "5/5 [==============================] - 728s 146s/step - loss: 0.0915 - accuracy: 0.9739 - recall: 0.9731 - precision: 0.9748 - auc: 0.9961 - f1_score: 0.9731\n",
      "Epoch 31/50\n",
      "5/5 [==============================] - 731s 146s/step - loss: 0.1078 - accuracy: 0.9791 - recall: 0.9783 - precision: 0.9791 - auc: 0.9915 - f1_score: 0.9785\n",
      "Epoch 32/50\n",
      "5/5 [==============================] - 729s 146s/step - loss: 0.1308 - accuracy: 0.9722 - recall: 0.9722 - precision: 0.9722 - auc: 0.9897 - f1_score: 0.9714\n",
      "Epoch 33/50\n",
      "5/5 [==============================] - 727s 145s/step - loss: 0.1294 - accuracy: 0.9722 - recall: 0.9713 - precision: 0.9722 - auc: 0.9908 - f1_score: 0.9714\n",
      "Epoch 34/50\n",
      "5/5 [==============================] - 728s 145s/step - loss: 0.1222 - accuracy: 0.9713 - recall: 0.9713 - precision: 0.9713 - auc: 0.9920 - f1_score: 0.9701\n",
      "Epoch 34: early stopping\n"
     ]
    }
   ],
   "source": [
    "with tf.device('/GPU:0'):\n",
    "    history = model.fit(\n",
    "        train_ds,\n",
    "        epochs=EPOCHS,\n",
    "        validation_data=val_ds,\n",
    "        callbacks=[save_best, early_stop, csv_logger],\n",
    "    )"
   ],
   "metadata": {
    "collapsed": false
   }
  },
  {
   "cell_type": "markdown",
   "source": [
    "# Evaluate the model"
   ],
   "metadata": {
    "collapsed": false
   }
  },
  {
   "cell_type": "code",
   "execution_count": 12,
   "outputs": [
    {
     "name": "stderr",
     "output_type": "stream",
     "text": [
      "2022-11-22 07:55:40.813678: I tensorflow/core/grappler/optimizers/custom_graph_optimizer_registry.cc:114] Plugin optimizer for device_type GPU is enabled.\n"
     ]
    },
    {
     "name": "stdout",
     "output_type": "stream",
     "text": [
      "2/2 [==============================] - 6s 3s/step - loss: 0.2478 - accuracy: 0.9477 - recall: 0.9477 - precision: 0.9477 - auc: 0.9780 - f1_score: 0.9460\n"
     ]
    },
    {
     "data": {
      "text/plain": "[0.24784789979457855,\n 0.9477351903915405,\n 0.9477351903915405,\n 0.9477351903915405,\n 0.9780378341674805,\n array([0.93548393, 0.93023264, 0.97222227], dtype=float32)]"
     },
     "execution_count": 12,
     "metadata": {},
     "output_type": "execute_result"
    }
   ],
   "source": [
    "model.evaluate(test_ds)"
   ],
   "metadata": {
    "collapsed": false
   }
  }
 ],
 "metadata": {
  "kernelspec": {
   "display_name": "Python 3",
   "language": "python",
   "name": "python3"
  },
  "language_info": {
   "codemirror_mode": {
    "name": "ipython",
    "version": 2
   },
   "file_extension": ".py",
   "mimetype": "text/x-python",
   "name": "python",
   "nbconvert_exporter": "python",
   "pygments_lexer": "ipython2",
   "version": "2.7.6"
  }
 },
 "nbformat": 4,
 "nbformat_minor": 0
}
